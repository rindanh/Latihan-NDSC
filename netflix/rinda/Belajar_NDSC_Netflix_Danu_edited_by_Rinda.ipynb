{
  "nbformat": 4,
  "nbformat_minor": 0,
  "metadata": {
    "kernelspec": {
      "display_name": "Python 3",
      "language": "python",
      "name": "python3"
    },
    "language_info": {
      "codemirror_mode": {
        "name": "ipython",
        "version": 3
      },
      "file_extension": ".py",
      "mimetype": "text/x-python",
      "name": "python",
      "nbconvert_exporter": "python",
      "pygments_lexer": "ipython3",
      "version": "3.7.6"
    },
    "colab": {
      "name": "Belajar NDSC - Netflix - Danu edited by Rinda.ipynb",
      "provenance": [],
      "include_colab_link": true
    }
  },
  "cells": [
    {
      "cell_type": "markdown",
      "metadata": {
        "id": "view-in-github",
        "colab_type": "text"
      },
      "source": [
        "<a href=\"https://colab.research.google.com/github/rindanh/Latihan-NDSC/blob/main/netflix/rinda/Belajar_NDSC_Netflix_Danu_edited_by_Rinda.ipynb\" target=\"_parent\"><img src=\"https://colab.research.google.com/assets/colab-badge.svg\" alt=\"Open In Colab\"/></a>"
      ]
    },
    {
      "cell_type": "markdown",
      "metadata": {
        "id": "rW07HbZElEAT"
      },
      "source": [
        "## Import Libraries"
      ]
    },
    {
      "cell_type": "code",
      "metadata": {
        "id": "WeCtQ-1J7qgQ"
      },
      "source": [
        "import pandas as pd\n",
        "import numpy as np\n",
        "import seaborn as sns\n",
        "import matplotlib.pyplot as plt\n",
        "from collections import Counter"
      ],
      "execution_count": 79,
      "outputs": []
    },
    {
      "cell_type": "markdown",
      "metadata": {
        "id": "6U85O_S-lJrG"
      },
      "source": [
        "## Load data"
      ]
    },
    {
      "cell_type": "markdown",
      "metadata": {
        "id": "0bhBobDsk6aR"
      },
      "source": [
        "### Use this cells if you use Google Colab"
      ]
    },
    {
      "cell_type": "code",
      "metadata": {
        "id": "QjGVPY5E9SUv",
        "outputId": "24c54a67-38f1-4a09-97a6-1d5e9a7a7c6d",
        "colab": {
          "base_uri": "https://localhost:8080/"
        }
      },
      "source": [
        "from google.colab import drive\n",
        "drive.mount('/content/drive')"
      ],
      "execution_count": 2,
      "outputs": [
        {
          "output_type": "stream",
          "text": [
            "Mounted at /content/drive\n"
          ],
          "name": "stdout"
        }
      ]
    },
    {
      "cell_type": "code",
      "metadata": {
        "id": "uJJY9VQm9Vdv",
        "outputId": "5b925141-7b76-4212-9fa9-ca47b1ebaa61",
        "colab": {
          "base_uri": "https://localhost:8080/"
        }
      },
      "source": [
        "import numpy as np # linear algebra\n",
        "import pandas as pd # data processing\n",
        "\n",
        "import os\n",
        "\n",
        "dir_path = '/content/drive/My Drive/LOMBA NDSC Shopee'\n",
        "\n",
        "for dirname, _, filenames in os.walk(dir_path):\n",
        "    for filename in filenames:\n",
        "        print(os.path.join(dirname, filename))"
      ],
      "execution_count": 3,
      "outputs": [
        {
          "output_type": "stream",
          "text": [
            "/content/drive/My Drive/LOMBA NDSC Shopee/netflix/netflix_titles.csv\n",
            "/content/drive/My Drive/LOMBA NDSC Shopee/netflix/Belajar NDSC.ipynb\n",
            "/content/drive/My Drive/LOMBA NDSC Shopee/netflix/netflix_titles.xlsx\n",
            "/content/drive/My Drive/LOMBA NDSC Shopee/netflix/netflix_titles_dirfiltered.xlsx\n",
            "/content/drive/My Drive/LOMBA NDSC Shopee/netflix/Netflix - Latihan NDSC Rinda.ipynb\n",
            "/content/drive/My Drive/LOMBA NDSC Shopee/netflix/Latihan NDSC 7-11.ipynb\n",
            "/content/drive/My Drive/LOMBA NDSC Shopee/netflix/Belajar NDSC - Netflix - Danu edited by Rinda.ipynb\n",
            "/content/drive/My Drive/LOMBA NDSC Shopee/netflix/Task Zeva.ipynb\n"
          ],
          "name": "stdout"
        }
      ]
    },
    {
      "cell_type": "code",
      "metadata": {
        "id": "E3bNlxLa9Y0c"
      },
      "source": [
        "df = pd.read_csv(dir_path + '/netflix/netflix_titles.csv')"
      ],
      "execution_count": null,
      "outputs": []
    },
    {
      "cell_type": "markdown",
      "metadata": {
        "id": "u6zix5cAlcnv"
      },
      "source": [
        "### Use this cell if you don't use Google Colab"
      ]
    },
    {
      "cell_type": "code",
      "metadata": {
        "id": "wJtHFvVl7qgs"
      },
      "source": [
        "df = pd.read_csv(\"netflix_titles.csv\")"
      ],
      "execution_count": null,
      "outputs": []
    },
    {
      "cell_type": "markdown",
      "metadata": {
        "id": "fHzd47pRb-nQ"
      },
      "source": [
        "### Use this cell if the source is from Github"
      ]
    },
    {
      "cell_type": "code",
      "metadata": {
        "id": "Dtil3SUVb-Kx"
      },
      "source": [
        "url = 'https://raw.githubusercontent.com/rindanh/Latihan-NDSC/main/netflix/netflix_titles.csv'\n",
        "df = pd.read_csv(url)"
      ],
      "execution_count": 30,
      "outputs": []
    },
    {
      "cell_type": "markdown",
      "metadata": {
        "id": "Z0HToUTalV3q"
      },
      "source": [
        "## Data Preview"
      ]
    },
    {
      "cell_type": "code",
      "metadata": {
        "scrolled": false,
        "id": "-vHOzWNu7qg_",
        "outputId": "3b94b8b7-516b-428b-8c76-7a4ca2b2004e",
        "colab": {
          "base_uri": "https://localhost:8080/",
          "height": 363
        }
      },
      "source": [
        "df.head()"
      ],
      "execution_count": 5,
      "outputs": [
        {
          "output_type": "execute_result",
          "data": {
            "text/html": [
              "<div>\n",
              "<style scoped>\n",
              "    .dataframe tbody tr th:only-of-type {\n",
              "        vertical-align: middle;\n",
              "    }\n",
              "\n",
              "    .dataframe tbody tr th {\n",
              "        vertical-align: top;\n",
              "    }\n",
              "\n",
              "    .dataframe thead th {\n",
              "        text-align: right;\n",
              "    }\n",
              "</style>\n",
              "<table border=\"1\" class=\"dataframe\">\n",
              "  <thead>\n",
              "    <tr style=\"text-align: right;\">\n",
              "      <th></th>\n",
              "      <th>show_id</th>\n",
              "      <th>type</th>\n",
              "      <th>title</th>\n",
              "      <th>director</th>\n",
              "      <th>cast</th>\n",
              "      <th>country</th>\n",
              "      <th>date_added</th>\n",
              "      <th>release_year</th>\n",
              "      <th>rating</th>\n",
              "      <th>duration</th>\n",
              "      <th>listed_in</th>\n",
              "      <th>description</th>\n",
              "    </tr>\n",
              "  </thead>\n",
              "  <tbody>\n",
              "    <tr>\n",
              "      <th>0</th>\n",
              "      <td>81145628</td>\n",
              "      <td>Movie</td>\n",
              "      <td>Norm of the North: King Sized Adventure</td>\n",
              "      <td>Richard Finn, Tim Maltby</td>\n",
              "      <td>Alan Marriott, Andrew Toth, Brian Dobson, Cole...</td>\n",
              "      <td>United States, India, South Korea, China</td>\n",
              "      <td>September 9, 2019</td>\n",
              "      <td>2019</td>\n",
              "      <td>TV-PG</td>\n",
              "      <td>90 min</td>\n",
              "      <td>Children &amp; Family Movies, Comedies</td>\n",
              "      <td>Before planning an awesome wedding for his gra...</td>\n",
              "    </tr>\n",
              "    <tr>\n",
              "      <th>1</th>\n",
              "      <td>80117401</td>\n",
              "      <td>Movie</td>\n",
              "      <td>Jandino: Whatever it Takes</td>\n",
              "      <td>NaN</td>\n",
              "      <td>Jandino Asporaat</td>\n",
              "      <td>United Kingdom</td>\n",
              "      <td>September 9, 2016</td>\n",
              "      <td>2016</td>\n",
              "      <td>TV-MA</td>\n",
              "      <td>94 min</td>\n",
              "      <td>Stand-Up Comedy</td>\n",
              "      <td>Jandino Asporaat riffs on the challenges of ra...</td>\n",
              "    </tr>\n",
              "    <tr>\n",
              "      <th>2</th>\n",
              "      <td>70234439</td>\n",
              "      <td>TV Show</td>\n",
              "      <td>Transformers Prime</td>\n",
              "      <td>NaN</td>\n",
              "      <td>Peter Cullen, Sumalee Montano, Frank Welker, J...</td>\n",
              "      <td>United States</td>\n",
              "      <td>September 8, 2018</td>\n",
              "      <td>2013</td>\n",
              "      <td>TV-Y7-FV</td>\n",
              "      <td>1 Season</td>\n",
              "      <td>Kids' TV</td>\n",
              "      <td>With the help of three human allies, the Autob...</td>\n",
              "    </tr>\n",
              "    <tr>\n",
              "      <th>3</th>\n",
              "      <td>80058654</td>\n",
              "      <td>TV Show</td>\n",
              "      <td>Transformers: Robots in Disguise</td>\n",
              "      <td>NaN</td>\n",
              "      <td>Will Friedle, Darren Criss, Constance Zimmer, ...</td>\n",
              "      <td>United States</td>\n",
              "      <td>September 8, 2018</td>\n",
              "      <td>2016</td>\n",
              "      <td>TV-Y7</td>\n",
              "      <td>1 Season</td>\n",
              "      <td>Kids' TV</td>\n",
              "      <td>When a prison ship crash unleashes hundreds of...</td>\n",
              "    </tr>\n",
              "    <tr>\n",
              "      <th>4</th>\n",
              "      <td>80125979</td>\n",
              "      <td>Movie</td>\n",
              "      <td>#realityhigh</td>\n",
              "      <td>Fernando Lebrija</td>\n",
              "      <td>Nesta Cooper, Kate Walsh, John Michael Higgins...</td>\n",
              "      <td>United States</td>\n",
              "      <td>September 8, 2017</td>\n",
              "      <td>2017</td>\n",
              "      <td>TV-14</td>\n",
              "      <td>99 min</td>\n",
              "      <td>Comedies</td>\n",
              "      <td>When nerdy high schooler Dani finally attracts...</td>\n",
              "    </tr>\n",
              "  </tbody>\n",
              "</table>\n",
              "</div>"
            ],
            "text/plain": [
              "    show_id  ...                                        description\n",
              "0  81145628  ...  Before planning an awesome wedding for his gra...\n",
              "1  80117401  ...  Jandino Asporaat riffs on the challenges of ra...\n",
              "2  70234439  ...  With the help of three human allies, the Autob...\n",
              "3  80058654  ...  When a prison ship crash unleashes hundreds of...\n",
              "4  80125979  ...  When nerdy high schooler Dani finally attracts...\n",
              "\n",
              "[5 rows x 12 columns]"
            ]
          },
          "metadata": {
            "tags": []
          },
          "execution_count": 5
        }
      ]
    },
    {
      "cell_type": "markdown",
      "metadata": {
        "id": "q2YNMdSjl_4g"
      },
      "source": [
        "This dataset contains 6234 rows with 12 columns. There are some columns that contains null values"
      ]
    },
    {
      "cell_type": "code",
      "metadata": {
        "id": "hzn_v5Fm-hyC",
        "outputId": "a809cd6b-0418-4f1d-9b6c-4951142ef995",
        "colab": {
          "base_uri": "https://localhost:8080/"
        }
      },
      "source": [
        "df.info()"
      ],
      "execution_count": null,
      "outputs": [
        {
          "output_type": "stream",
          "text": [
            "<class 'pandas.core.frame.DataFrame'>\n",
            "RangeIndex: 6234 entries, 0 to 6233\n",
            "Data columns (total 12 columns):\n",
            " #   Column        Non-Null Count  Dtype \n",
            "---  ------        --------------  ----- \n",
            " 0   show_id       6234 non-null   int64 \n",
            " 1   type          6234 non-null   object\n",
            " 2   title         6234 non-null   object\n",
            " 3   director      4265 non-null   object\n",
            " 4   cast          5664 non-null   object\n",
            " 5   country       5758 non-null   object\n",
            " 6   date_added    6223 non-null   object\n",
            " 7   release_year  6234 non-null   int64 \n",
            " 8   rating        6224 non-null   object\n",
            " 9   duration      6234 non-null   object\n",
            " 10  listed_in     6234 non-null   object\n",
            " 11  description   6234 non-null   object\n",
            "dtypes: int64(2), object(10)\n",
            "memory usage: 584.6+ KB\n"
          ],
          "name": "stdout"
        }
      ]
    },
    {
      "cell_type": "markdown",
      "metadata": {
        "id": "qwszcc1NJant"
      },
      "source": [
        "Cell below shows another way to check null values. There are 2460 rows that contains null values. This code shows the number of non-null values that each column has among rows that contains null value"
      ]
    },
    {
      "cell_type": "code",
      "metadata": {
        "id": "Y7SuUJd27qh0",
        "outputId": "7203cbd7-d39c-4a56-9e49-7ff623de9c2d",
        "colab": {
          "base_uri": "https://localhost:8080/"
        }
      },
      "source": [
        "df[df.isnull().any(axis=1)].count()"
      ],
      "execution_count": null,
      "outputs": [
        {
          "output_type": "execute_result",
          "data": {
            "text/plain": [
              "show_id         2460\n",
              "type            2460\n",
              "title           2460\n",
              "director         491\n",
              "cast            1890\n",
              "country         1984\n",
              "date_added      2449\n",
              "release_year    2460\n",
              "rating          2450\n",
              "duration        2460\n",
              "listed_in       2460\n",
              "description     2460\n",
              "dtype: int64"
            ]
          },
          "metadata": {
            "tags": []
          },
          "execution_count": 10
        }
      ]
    },
    {
      "cell_type": "markdown",
      "metadata": {
        "id": "mbzStB5vnS1H"
      },
      "source": [
        "## Data Examination"
      ]
    },
    {
      "cell_type": "code",
      "metadata": {
        "scrolled": true,
        "id": "eX1f8a-i7qhY",
        "outputId": "cb8ae83a-fa67-49e5-f620-51170915fd69"
      },
      "source": [
        "sns.distplot(df.release_year, bins=100)"
      ],
      "execution_count": null,
      "outputs": [
        {
          "output_type": "execute_result",
          "data": {
            "text/plain": [
              "<matplotlib.axes._subplots.AxesSubplot at 0x1e709ba7a48>"
            ]
          },
          "metadata": {
            "tags": []
          },
          "execution_count": 73
        },
        {
          "output_type": "display_data",
          "data": {
            "image/png": "[encoded data removed]",
            "text/plain": [
              "<Figure size 432x288 with 1 Axes>"
            ]
          },
          "metadata": {
            "tags": [],
            "needs_background": "light"
          }
        }
      ]
    },
    {
      "cell_type": "code",
      "metadata": {
        "scrolled": false,
        "id": "iMudr8LB7qhm",
        "outputId": "8c76c5e3-ee5e-413e-994a-55117f8ccd3a"
      },
      "source": [
        "df.director.value_counts()"
      ],
      "execution_count": null,
      "outputs": [
        {
          "output_type": "execute_result",
          "data": {
            "text/plain": [
              "Raúl Campos, Jan Suter             18\n",
              "Marcus Raboy                       14\n",
              "Jay Karas                          13\n",
              "Jay Chapman                        12\n",
              "Steven Spielberg                    9\n",
              "                                   ..\n",
              "Michael James Regan                 1\n",
              "Aaron Hann, Mario Miscione          1\n",
              "Francesco Carrozzini                1\n",
              "Jesse V. Johnson, Jesse Johnson     1\n",
              "Sara Colangelo                      1\n",
              "Name: director, Length: 3301, dtype: int64"
            ]
          },
          "metadata": {
            "tags": []
          },
          "execution_count": 74
        }
      ]
    },
    {
      "cell_type": "code",
      "metadata": {
        "id": "ns4ViC2EYyoP",
        "outputId": "7560890e-8b24-49c9-9f7f-f8cce0f159e8",
        "colab": {
          "base_uri": "https://localhost:8080/",
          "height": 380
        }
      },
      "source": [
        "# ini tuh nampilin tabel yg tiap rownya ada nan value\n",
        "df[df.isnull().any(axis=1)].head()"
      ],
      "execution_count": null,
      "outputs": [
        {
          "output_type": "execute_result",
          "data": {
            "text/html": [
              "<div>\n",
              "<style scoped>\n",
              "    .dataframe tbody tr th:only-of-type {\n",
              "        vertical-align: middle;\n",
              "    }\n",
              "\n",
              "    .dataframe tbody tr th {\n",
              "        vertical-align: top;\n",
              "    }\n",
              "\n",
              "    .dataframe thead th {\n",
              "        text-align: right;\n",
              "    }\n",
              "</style>\n",
              "<table border=\"1\" class=\"dataframe\">\n",
              "  <thead>\n",
              "    <tr style=\"text-align: right;\">\n",
              "      <th></th>\n",
              "      <th>show_id</th>\n",
              "      <th>type</th>\n",
              "      <th>title</th>\n",
              "      <th>director</th>\n",
              "      <th>cast</th>\n",
              "      <th>country</th>\n",
              "      <th>date_added</th>\n",
              "      <th>release_year</th>\n",
              "      <th>rating</th>\n",
              "      <th>duration</th>\n",
              "      <th>listed_in</th>\n",
              "      <th>description</th>\n",
              "    </tr>\n",
              "  </thead>\n",
              "  <tbody>\n",
              "    <tr>\n",
              "      <th>1</th>\n",
              "      <td>80117401</td>\n",
              "      <td>Movie</td>\n",
              "      <td>Jandino: Whatever it Takes</td>\n",
              "      <td>NaN</td>\n",
              "      <td>Jandino Asporaat</td>\n",
              "      <td>United Kingdom</td>\n",
              "      <td>September 9, 2016</td>\n",
              "      <td>2016</td>\n",
              "      <td>TV-MA</td>\n",
              "      <td>94 min</td>\n",
              "      <td>Stand-Up Comedy</td>\n",
              "      <td>Jandino Asporaat riffs on the challenges of ra...</td>\n",
              "    </tr>\n",
              "    <tr>\n",
              "      <th>2</th>\n",
              "      <td>70234439</td>\n",
              "      <td>TV Show</td>\n",
              "      <td>Transformers Prime</td>\n",
              "      <td>NaN</td>\n",
              "      <td>Peter Cullen, Sumalee Montano, Frank Welker, J...</td>\n",
              "      <td>United States</td>\n",
              "      <td>September 8, 2018</td>\n",
              "      <td>2013</td>\n",
              "      <td>TV-Y7-FV</td>\n",
              "      <td>1 Season</td>\n",
              "      <td>Kids' TV</td>\n",
              "      <td>With the help of three human allies, the Autob...</td>\n",
              "    </tr>\n",
              "    <tr>\n",
              "      <th>3</th>\n",
              "      <td>80058654</td>\n",
              "      <td>TV Show</td>\n",
              "      <td>Transformers: Robots in Disguise</td>\n",
              "      <td>NaN</td>\n",
              "      <td>Will Friedle, Darren Criss, Constance Zimmer, ...</td>\n",
              "      <td>United States</td>\n",
              "      <td>September 8, 2018</td>\n",
              "      <td>2016</td>\n",
              "      <td>TV-Y7</td>\n",
              "      <td>1 Season</td>\n",
              "      <td>Kids' TV</td>\n",
              "      <td>When a prison ship crash unleashes hundreds of...</td>\n",
              "    </tr>\n",
              "    <tr>\n",
              "      <th>5</th>\n",
              "      <td>80163890</td>\n",
              "      <td>TV Show</td>\n",
              "      <td>Apaches</td>\n",
              "      <td>NaN</td>\n",
              "      <td>Alberto Ammann, Eloy Azorín, Verónica Echegui,...</td>\n",
              "      <td>Spain</td>\n",
              "      <td>September 8, 2017</td>\n",
              "      <td>2016</td>\n",
              "      <td>TV-MA</td>\n",
              "      <td>1 Season</td>\n",
              "      <td>Crime TV Shows, International TV Shows, Spanis...</td>\n",
              "      <td>A young journalist is forced into a life of cr...</td>\n",
              "    </tr>\n",
              "    <tr>\n",
              "      <th>8</th>\n",
              "      <td>80117902</td>\n",
              "      <td>TV Show</td>\n",
              "      <td>Fire Chasers</td>\n",
              "      <td>NaN</td>\n",
              "      <td>NaN</td>\n",
              "      <td>United States</td>\n",
              "      <td>September 8, 2017</td>\n",
              "      <td>2017</td>\n",
              "      <td>TV-MA</td>\n",
              "      <td>1 Season</td>\n",
              "      <td>Docuseries, Science &amp; Nature TV</td>\n",
              "      <td>As California's 2016 fire season rages, brave ...</td>\n",
              "    </tr>\n",
              "  </tbody>\n",
              "</table>\n",
              "</div>"
            ],
            "text/plain": [
              "    show_id  ...                                        description\n",
              "1  80117401  ...  Jandino Asporaat riffs on the challenges of ra...\n",
              "2  70234439  ...  With the help of three human allies, the Autob...\n",
              "3  80058654  ...  When a prison ship crash unleashes hundreds of...\n",
              "5  80163890  ...  A young journalist is forced into a life of cr...\n",
              "8  80117902  ...  As California's 2016 fire season rages, brave ...\n",
              "\n",
              "[5 rows x 12 columns]"
            ]
          },
          "metadata": {
            "tags": []
          },
          "execution_count": 44
        }
      ]
    },
    {
      "cell_type": "markdown",
      "metadata": {
        "id": "xsV7fcMi7qh-"
      },
      "source": [
        "## Analisa Tahun"
      ]
    },
    {
      "cell_type": "markdown",
      "metadata": {
        "id": "kskWAzGJ7qiB"
      },
      "source": [
        "### a. Tahun >2000 terbilang film baru"
      ]
    },
    {
      "cell_type": "code",
      "metadata": {
        "id": "KraaxDWt7qiE"
      },
      "source": [
        "baru = df[df.release_year >= 2000]"
      ],
      "execution_count": null,
      "outputs": []
    },
    {
      "cell_type": "code",
      "metadata": {
        "scrolled": false,
        "id": "bvbhBXqX7qiO",
        "outputId": "2d23984f-173f-405b-ce58-2c74bbb7bde2",
        "colab": {
          "base_uri": "https://localhost:8080/"
        }
      },
      "source": [
        "baru.rating.value_counts()"
      ],
      "execution_count": null,
      "outputs": [
        {
          "output_type": "execute_result",
          "data": {
            "text/plain": [
              "TV-MA       1987\n",
              "TV-14       1622\n",
              "TV-PG        646\n",
              "R            437\n",
              "PG-13        239\n",
              "NR           194\n",
              "TV-Y7        166\n",
              "PG           156\n",
              "TV-Y         140\n",
              "TV-G         140\n",
              "TV-Y7-FV      87\n",
              "G             23\n",
              "UR             6\n",
              "NC-17          2\n",
              "Name: rating, dtype: int64"
            ]
          },
          "metadata": {
            "tags": []
          },
          "execution_count": 7
        }
      ]
    },
    {
      "cell_type": "code",
      "metadata": {
        "scrolled": true,
        "id": "U8vllH3X7qib",
        "outputId": "bf07d638-5ddc-4e71-bc18-9450d786db4a",
        "colab": {
          "base_uri": "https://localhost:8080/"
        }
      },
      "source": [
        "baru.listed_in.value_counts()"
      ],
      "execution_count": null,
      "outputs": [
        {
          "output_type": "execute_result",
          "data": {
            "text/plain": [
              "Documentaries                                           295\n",
              "Stand-Up Comedy                                         260\n",
              "Dramas, International Movies                            239\n",
              "Dramas, Independent Movies, International Movies        180\n",
              "Comedies, Dramas, International Movies                  167\n",
              "                                                       ... \n",
              "Anime Series, Romantic TV Shows                           1\n",
              "British TV Shows, Kids' TV, TV Dramas                     1\n",
              "Comedies, Faith & Spirituality, Romantic Movies           1\n",
              "Kids' TV, TV Dramas, Teen TV Shows                        1\n",
              "Horror Movies, International Movies, Romantic Movies      1\n",
              "Name: listed_in, Length: 421, dtype: int64"
            ]
          },
          "metadata": {
            "tags": []
          },
          "execution_count": 36
        }
      ]
    },
    {
      "cell_type": "code",
      "metadata": {
        "id": "UbG7BH9tNklD",
        "outputId": "e81670a9-0009-4f57-e77b-75fb7bb78110",
        "colab": {
          "base_uri": "https://localhost:8080/"
        }
      },
      "source": [
        "df.columns"
      ],
      "execution_count": null,
      "outputs": [
        {
          "output_type": "execute_result",
          "data": {
            "text/plain": [
              "Index(['show_id', 'type', 'title', 'director', 'cast', 'country', 'date_added',\n",
              "       'release_year', 'rating', 'duration', 'listed_in', 'description'],\n",
              "      dtype='object')"
            ]
          },
          "metadata": {
            "tags": []
          },
          "execution_count": 37
        }
      ]
    },
    {
      "cell_type": "code",
      "metadata": {
        "id": "qzCbGbE57qin",
        "outputId": "3cb491d8-f14e-441b-c43e-4df8902b9bc5",
        "colab": {
          "base_uri": "https://localhost:8080/",
          "height": 369
        }
      },
      "source": [
        "print(baru.type.value_counts())\n",
        "baru.type.value_counts().plot(kind=\"bar\")"
      ],
      "execution_count": null,
      "outputs": [
        {
          "output_type": "stream",
          "text": [
            "Movie      3928\n",
            "TV Show    1927\n",
            "Name: type, dtype: int64\n"
          ],
          "name": "stdout"
        },
        {
          "output_type": "execute_result",
          "data": {
            "text/plain": [
              "<matplotlib.axes._subplots.AxesSubplot at 0x7fdc2b366b70>"
            ]
          },
          "metadata": {
            "tags": []
          },
          "execution_count": 38
        },
        {
          "output_type": "display_data",
          "data": {
            "image/png": "[encoded data removed]",
            "text/plain": [
              "<Figure size 432x288 with 1 Axes>"
            ]
          },
          "metadata": {
            "tags": [],
            "needs_background": "light"
          }
        }
      ]
    },
    {
      "cell_type": "markdown",
      "metadata": {
        "id": "Y_P3XoEg7qjE"
      },
      "source": [
        "### b. Tahun <2000 terbilang jadul"
      ]
    },
    {
      "cell_type": "code",
      "metadata": {
        "id": "0u4Vr2DU7qjF"
      },
      "source": [
        "jadul = df[df.release_year < 2000]"
      ],
      "execution_count": null,
      "outputs": []
    },
    {
      "cell_type": "code",
      "metadata": {
        "id": "2gCe9jA_7qjO",
        "outputId": "eb06238c-edc0-4cb4-c0f8-0cead91d4656",
        "colab": {
          "base_uri": "https://localhost:8080/"
        }
      },
      "source": [
        "jadul.rating.value_counts()"
      ],
      "execution_count": null,
      "outputs": [
        {
          "output_type": "execute_result",
          "data": {
            "text/plain": [
              "TV-14       76\n",
              "R           71\n",
              "TV-PG       55\n",
              "PG-13       47\n",
              "TV-MA       40\n",
              "PG          28\n",
              "NR          24\n",
              "G           14\n",
              "TV-G         9\n",
              "TV-Y7-FV     8\n",
              "TV-Y         3\n",
              "TV-Y7        3\n",
              "UR           1\n",
              "Name: rating, dtype: int64"
            ]
          },
          "metadata": {
            "tags": []
          },
          "execution_count": 40
        }
      ]
    },
    {
      "cell_type": "code",
      "metadata": {
        "id": "ILvuUEHI7qjY",
        "outputId": "033a89ef-2127-4234-8563-ff99cb01dd0f",
        "colab": {
          "base_uri": "https://localhost:8080/"
        }
      },
      "source": [
        "jadul.listed_in.value_counts()"
      ],
      "execution_count": null,
      "outputs": [
        {
          "output_type": "execute_result",
          "data": {
            "text/plain": [
              "Dramas                                                         17\n",
              "Action & Adventure, International Movies                       14\n",
              "Action & Adventure, Dramas, International Movies               13\n",
              "Stand-Up Comedy                                                13\n",
              "Classic Movies, Documentaries                                  11\n",
              "                                                               ..\n",
              "British TV Shows, Classic & Cult TV, International TV Shows     1\n",
              "Comedies, Documentaries                                         1\n",
              "Action & Adventure, Dramas                                      1\n",
              "British TV Shows, Kids' TV, TV Comedies                         1\n",
              "Classic Movies, Horror Movies, Thrillers                        1\n",
              "Name: listed_in, Length: 121, dtype: int64"
            ]
          },
          "metadata": {
            "tags": []
          },
          "execution_count": 41
        }
      ]
    },
    {
      "cell_type": "code",
      "metadata": {
        "scrolled": true,
        "id": "Mub95nTM7qjg",
        "outputId": "147afef9-f489-4380-ca90-e11df3d3cc26",
        "colab": {
          "base_uri": "https://localhost:8080/",
          "height": 371
        }
      },
      "source": [
        "print(jadul.type.value_counts())\n",
        "jadul.type.value_counts().plot(kind=\"bar\")"
      ],
      "execution_count": null,
      "outputs": [
        {
          "output_type": "stream",
          "text": [
            "Movie      337\n",
            "TV Show     42\n",
            "Name: type, dtype: int64\n"
          ],
          "name": "stdout"
        },
        {
          "output_type": "execute_result",
          "data": {
            "text/plain": [
              "<matplotlib.axes._subplots.AxesSubplot at 0x7fdc2a007dd8>"
            ]
          },
          "metadata": {
            "tags": []
          },
          "execution_count": 42
        },
        {
          "output_type": "display_data",
          "data": {
            "image/png": "[encoded data removed]",
            "text/plain": [
              "<Figure size 432x288 with 1 Axes>"
            ]
          },
          "metadata": {
            "tags": [],
            "needs_background": "light"
          }
        }
      ]
    },
    {
      "cell_type": "markdown",
      "metadata": {
        "id": "mnUncWK37qjs"
      },
      "source": [
        "## Analisa Director"
      ]
    },
    {
      "cell_type": "markdown",
      "metadata": {
        "id": "fORadt0i7qkH"
      },
      "source": [
        "### Ternyata director Raúl Campos dan Jan Suter suka membuat acara Stand-Up Comedy"
      ]
    },
    {
      "cell_type": "code",
      "metadata": {
        "id": "stRJ8cpP7qj_",
        "outputId": "038c141f-66c8-4278-c84b-bed2b4551385",
        "colab": {
          "base_uri": "https://localhost:8080/",
          "height": 1000
        }
      },
      "source": [
        "df[df.director == \"Raúl Campos, Jan Suter\"]"
      ],
      "execution_count": null,
      "outputs": [
        {
          "output_type": "execute_result",
          "data": {
            "text/html": [
              "<div>\n",
              "<style scoped>\n",
              "    .dataframe tbody tr th:only-of-type {\n",
              "        vertical-align: middle;\n",
              "    }\n",
              "\n",
              "    .dataframe tbody tr th {\n",
              "        vertical-align: top;\n",
              "    }\n",
              "\n",
              "    .dataframe thead th {\n",
              "        text-align: right;\n",
              "    }\n",
              "</style>\n",
              "<table border=\"1\" class=\"dataframe\">\n",
              "  <thead>\n",
              "    <tr style=\"text-align: right;\">\n",
              "      <th></th>\n",
              "      <th>show_id</th>\n",
              "      <th>type</th>\n",
              "      <th>title</th>\n",
              "      <th>director</th>\n",
              "      <th>cast</th>\n",
              "      <th>country</th>\n",
              "      <th>date_added</th>\n",
              "      <th>release_year</th>\n",
              "      <th>rating</th>\n",
              "      <th>duration</th>\n",
              "      <th>listed_in</th>\n",
              "      <th>description</th>\n",
              "    </tr>\n",
              "  </thead>\n",
              "  <tbody>\n",
              "    <tr>\n",
              "      <th>1337</th>\n",
              "      <td>80183088</td>\n",
              "      <td>Movie</td>\n",
              "      <td>Mea Culpa</td>\n",
              "      <td>Raúl Campos, Jan Suter</td>\n",
              "      <td>Alexis de Anda</td>\n",
              "      <td>Mexico</td>\n",
              "      <td>November 10, 2017</td>\n",
              "      <td>2017</td>\n",
              "      <td>TV-MA</td>\n",
              "      <td>54 min</td>\n",
              "      <td>Stand-Up Comedy</td>\n",
              "      <td>Raw and outspoken, comedian Alexis de Anda bar...</td>\n",
              "    </tr>\n",
              "    <tr>\n",
              "      <th>1655</th>\n",
              "      <td>80192137</td>\n",
              "      <td>Movie</td>\n",
              "      <td>Fernando Sanjiao: Hombre</td>\n",
              "      <td>Raúl Campos, Jan Suter</td>\n",
              "      <td>Fernando Sanjiao</td>\n",
              "      <td>Argentina</td>\n",
              "      <td>May 25, 2018</td>\n",
              "      <td>2018</td>\n",
              "      <td>TV-MA</td>\n",
              "      <td>63 min</td>\n",
              "      <td>Stand-Up Comedy</td>\n",
              "      <td>Argentine actor and comedian Fernando Sanjiao ...</td>\n",
              "    </tr>\n",
              "    <tr>\n",
              "      <th>1794</th>\n",
              "      <td>80192065</td>\n",
              "      <td>Movie</td>\n",
              "      <td>Carlos Ballarta: Furia Ñera</td>\n",
              "      <td>Raúl Campos, Jan Suter</td>\n",
              "      <td>Carlos Ballarta</td>\n",
              "      <td>Mexico</td>\n",
              "      <td>May 11, 2018</td>\n",
              "      <td>2018</td>\n",
              "      <td>TV-MA</td>\n",
              "      <td>63 min</td>\n",
              "      <td>Stand-Up Comedy</td>\n",
              "      <td>Mexican comic Carlos Ballarta mocks himself an...</td>\n",
              "    </tr>\n",
              "    <tr>\n",
              "      <th>2035</th>\n",
              "      <td>80183197</td>\n",
              "      <td>Movie</td>\n",
              "      <td>Sofía Niño de Rivera: Selección Natural</td>\n",
              "      <td>Raúl Campos, Jan Suter</td>\n",
              "      <td>Sofía Niño de Rivera</td>\n",
              "      <td>Mexico</td>\n",
              "      <td>March 30, 2018</td>\n",
              "      <td>2018</td>\n",
              "      <td>TV-MA</td>\n",
              "      <td>62 min</td>\n",
              "      <td>Stand-Up Comedy</td>\n",
              "      <td>Mexico's Sofía Niño de Rivera brings her dark ...</td>\n",
              "    </tr>\n",
              "    <tr>\n",
              "      <th>2133</th>\n",
              "      <td>80192139</td>\n",
              "      <td>Movie</td>\n",
              "      <td>Malena Pichot: Estupidez compleja</td>\n",
              "      <td>Raúl Campos, Jan Suter</td>\n",
              "      <td>Malena Pichot</td>\n",
              "      <td>Argentina</td>\n",
              "      <td>March 2, 2018</td>\n",
              "      <td>2018</td>\n",
              "      <td>TV-MA</td>\n",
              "      <td>51 min</td>\n",
              "      <td>Stand-Up Comedy</td>\n",
              "      <td>An Argentine comedian espouses the values of f...</td>\n",
              "    </tr>\n",
              "    <tr>\n",
              "      <th>2134</th>\n",
              "      <td>80192063</td>\n",
              "      <td>Movie</td>\n",
              "      <td>Natalia Valdebenito: El especial</td>\n",
              "      <td>Raúl Campos, Jan Suter</td>\n",
              "      <td>Natalia Valdebenito</td>\n",
              "      <td>Chile</td>\n",
              "      <td>March 2, 2018</td>\n",
              "      <td>2018</td>\n",
              "      <td>TV-MA</td>\n",
              "      <td>69 min</td>\n",
              "      <td>Stand-Up Comedy</td>\n",
              "      <td>A Chilean comedian fuses activism with irrever...</td>\n",
              "    </tr>\n",
              "    <tr>\n",
              "      <th>2504</th>\n",
              "      <td>80191989</td>\n",
              "      <td>Movie</td>\n",
              "      <td>Jani Dueñas: Grandes fracasos de ayer y hoy</td>\n",
              "      <td>Raúl Campos, Jan Suter</td>\n",
              "      <td>Jani Dueñas</td>\n",
              "      <td>Chile</td>\n",
              "      <td>June 29, 2018</td>\n",
              "      <td>2018</td>\n",
              "      <td>TV-MA</td>\n",
              "      <td>77 min</td>\n",
              "      <td>Stand-Up Comedy</td>\n",
              "      <td>Chilean comedian and personality Jani Dueñas p...</td>\n",
              "    </tr>\n",
              "    <tr>\n",
              "      <th>2550</th>\n",
              "      <td>80097641</td>\n",
              "      <td>Movie</td>\n",
              "      <td>Sofía Niño de Rivera: Exposed</td>\n",
              "      <td>Raúl Campos, Jan Suter</td>\n",
              "      <td>Sofía Niño de Rivera</td>\n",
              "      <td>Mexico</td>\n",
              "      <td>June 24, 2016</td>\n",
              "      <td>2016</td>\n",
              "      <td>TV-MA</td>\n",
              "      <td>80 min</td>\n",
              "      <td>Stand-Up Comedy</td>\n",
              "      <td>Self-deprecating comic Sofía Niño de Rivera pu...</td>\n",
              "    </tr>\n",
              "    <tr>\n",
              "      <th>2783</th>\n",
              "      <td>80192064</td>\n",
              "      <td>Movie</td>\n",
              "      <td>Luciano Mellera: Infantiloide</td>\n",
              "      <td>Raúl Campos, Jan Suter</td>\n",
              "      <td>Luciano Mellera</td>\n",
              "      <td>Argentina</td>\n",
              "      <td>July 6, 2018</td>\n",
              "      <td>2018</td>\n",
              "      <td>TV-14</td>\n",
              "      <td>66 min</td>\n",
              "      <td>Stand-Up Comedy</td>\n",
              "      <td>Argentina's Luciano Mellera emphasizes the hum...</td>\n",
              "    </tr>\n",
              "    <tr>\n",
              "      <th>2834</th>\n",
              "      <td>80192135</td>\n",
              "      <td>Movie</td>\n",
              "      <td>Coco y Raulito: Carrusel de ternura</td>\n",
              "      <td>Raúl Campos, Jan Suter</td>\n",
              "      <td>Coco Celis, Raúl Meneses</td>\n",
              "      <td>Mexico</td>\n",
              "      <td>July 27, 2018</td>\n",
              "      <td>2018</td>\n",
              "      <td>TV-MA</td>\n",
              "      <td>57 min</td>\n",
              "      <td>Stand-Up Comedy</td>\n",
              "      <td>A study in contrasts, comedy partners and good...</td>\n",
              "    </tr>\n",
              "    <tr>\n",
              "      <th>3287</th>\n",
              "      <td>80192138</td>\n",
              "      <td>Movie</td>\n",
              "      <td>Sebastián Marcelo Wainraich</td>\n",
              "      <td>Raúl Campos, Jan Suter</td>\n",
              "      <td>Sebastián Marcelo Wainraich</td>\n",
              "      <td>Argentina</td>\n",
              "      <td>January 26, 2018</td>\n",
              "      <td>2018</td>\n",
              "      <td>TV-MA</td>\n",
              "      <td>49 min</td>\n",
              "      <td>Stand-Up Comedy</td>\n",
              "      <td>Argentine comedian Sebastián Wainraich highlig...</td>\n",
              "    </tr>\n",
              "    <tr>\n",
              "      <th>3303</th>\n",
              "      <td>80192062</td>\n",
              "      <td>Movie</td>\n",
              "      <td>Ricardo Quevedo: Hay gente así</td>\n",
              "      <td>Raúl Campos, Jan Suter</td>\n",
              "      <td>Ricardo Quevedo</td>\n",
              "      <td>Colombia</td>\n",
              "      <td>January 24, 2018</td>\n",
              "      <td>2018</td>\n",
              "      <td>TV-MA</td>\n",
              "      <td>59 min</td>\n",
              "      <td>Stand-Up Comedy</td>\n",
              "      <td>Droll comic Ricardo Quevedo hits Bogotá with a...</td>\n",
              "    </tr>\n",
              "    <tr>\n",
              "      <th>3318</th>\n",
              "      <td>80079427</td>\n",
              "      <td>Movie</td>\n",
              "      <td>Ricardo O'Farrill Abrazo Genial</td>\n",
              "      <td>Raúl Campos, Jan Suter</td>\n",
              "      <td>Ricardo O'Farrill</td>\n",
              "      <td>Mexico</td>\n",
              "      <td>January 22, 2016</td>\n",
              "      <td>2016</td>\n",
              "      <td>TV-MA</td>\n",
              "      <td>92 min</td>\n",
              "      <td>Stand-Up Comedy</td>\n",
              "      <td>Ricardo O'Farrill brings his sharp, observatio...</td>\n",
              "    </tr>\n",
              "    <tr>\n",
              "      <th>3355</th>\n",
              "      <td>80191988</td>\n",
              "      <td>Movie</td>\n",
              "      <td>Arango y Sanint: Ríase el show</td>\n",
              "      <td>Raúl Campos, Jan Suter</td>\n",
              "      <td>Julián Arango, Antonio Sanint</td>\n",
              "      <td>Colombia</td>\n",
              "      <td>January 17, 2018</td>\n",
              "      <td>2018</td>\n",
              "      <td>TV-MA</td>\n",
              "      <td>62 min</td>\n",
              "      <td>Stand-Up Comedy</td>\n",
              "      <td>Colombian stand-up comedians Antonio Sanint an...</td>\n",
              "    </tr>\n",
              "    <tr>\n",
              "      <th>3792</th>\n",
              "      <td>80124726</td>\n",
              "      <td>Movie</td>\n",
              "      <td>Daniel Sosa: Sosafado</td>\n",
              "      <td>Raúl Campos, Jan Suter</td>\n",
              "      <td>Daniel Sosa</td>\n",
              "      <td>Mexico</td>\n",
              "      <td>February 3, 2017</td>\n",
              "      <td>2017</td>\n",
              "      <td>TV-MA</td>\n",
              "      <td>78 min</td>\n",
              "      <td>Stand-Up Comedy</td>\n",
              "      <td>Comedian Daniel Sosa inhabits various characte...</td>\n",
              "    </tr>\n",
              "    <tr>\n",
              "      <th>4596</th>\n",
              "      <td>80124728</td>\n",
              "      <td>Movie</td>\n",
              "      <td>Ricardo O'Farrill: Abrazo navideño</td>\n",
              "      <td>Raúl Campos, Jan Suter</td>\n",
              "      <td>Ricardo O'Farrill, Carlos Ballarta, Sofía Niño...</td>\n",
              "      <td>Mexico</td>\n",
              "      <td>December 12, 2016</td>\n",
              "      <td>2016</td>\n",
              "      <td>TV-MA</td>\n",
              "      <td>31 min</td>\n",
              "      <td>Stand-Up Comedy</td>\n",
              "      <td>The expressive Ricardo O'Farrill uses his astu...</td>\n",
              "    </tr>\n",
              "    <tr>\n",
              "      <th>4785</th>\n",
              "      <td>80124724</td>\n",
              "      <td>Movie</td>\n",
              "      <td>Alan Saldaña: Mi vida de pobre</td>\n",
              "      <td>Raúl Campos, Jan Suter</td>\n",
              "      <td>Alan Saldaña</td>\n",
              "      <td>Mexico</td>\n",
              "      <td>August 4, 2017</td>\n",
              "      <td>2017</td>\n",
              "      <td>TV-MA</td>\n",
              "      <td>54 min</td>\n",
              "      <td>Stand-Up Comedy</td>\n",
              "      <td>Mexican comic Alan Saldaña has fun with everyt...</td>\n",
              "    </tr>\n",
              "    <tr>\n",
              "      <th>5204</th>\n",
              "      <td>80191990</td>\n",
              "      <td>Movie</td>\n",
              "      <td>Todo lo que sería Lucas Lauriente</td>\n",
              "      <td>Raúl Campos, Jan Suter</td>\n",
              "      <td>Lucas Lauriente</td>\n",
              "      <td>Argentina</td>\n",
              "      <td>April 6, 2018</td>\n",
              "      <td>2018</td>\n",
              "      <td>TV-MA</td>\n",
              "      <td>78 min</td>\n",
              "      <td>Stand-Up Comedy</td>\n",
              "      <td>In his stand-up set, Argentine comic Lucas Lau...</td>\n",
              "    </tr>\n",
              "  </tbody>\n",
              "</table>\n",
              "</div>"
            ],
            "text/plain": [
              "       show_id  ...                                        description\n",
              "1337  80183088  ...  Raw and outspoken, comedian Alexis de Anda bar...\n",
              "1655  80192137  ...  Argentine actor and comedian Fernando Sanjiao ...\n",
              "1794  80192065  ...  Mexican comic Carlos Ballarta mocks himself an...\n",
              "2035  80183197  ...  Mexico's Sofía Niño de Rivera brings her dark ...\n",
              "2133  80192139  ...  An Argentine comedian espouses the values of f...\n",
              "2134  80192063  ...  A Chilean comedian fuses activism with irrever...\n",
              "2504  80191989  ...  Chilean comedian and personality Jani Dueñas p...\n",
              "2550  80097641  ...  Self-deprecating comic Sofía Niño de Rivera pu...\n",
              "2783  80192064  ...  Argentina's Luciano Mellera emphasizes the hum...\n",
              "2834  80192135  ...  A study in contrasts, comedy partners and good...\n",
              "3287  80192138  ...  Argentine comedian Sebastián Wainraich highlig...\n",
              "3303  80192062  ...  Droll comic Ricardo Quevedo hits Bogotá with a...\n",
              "3318  80079427  ...  Ricardo O'Farrill brings his sharp, observatio...\n",
              "3355  80191988  ...  Colombian stand-up comedians Antonio Sanint an...\n",
              "3792  80124726  ...  Comedian Daniel Sosa inhabits various characte...\n",
              "4596  80124728  ...  The expressive Ricardo O'Farrill uses his astu...\n",
              "4785  80124724  ...  Mexican comic Alan Saldaña has fun with everyt...\n",
              "5204  80191990  ...  In his stand-up set, Argentine comic Lucas Lau...\n",
              "\n",
              "[18 rows x 12 columns]"
            ]
          },
          "metadata": {
            "tags": []
          },
          "execution_count": 48
        }
      ]
    },
    {
      "cell_type": "markdown",
      "metadata": {
        "id": "SCljU1fs7qkP"
      },
      "source": [
        "### Ternyata director Marcus Raboy juga suka membuat acara Stand-Up Comedy"
      ]
    },
    {
      "cell_type": "code",
      "metadata": {
        "id": "PjaJzMpM7qkI",
        "outputId": "57d2698f-5521-4ae9-ccc3-78e699377d33",
        "colab": {
          "base_uri": "https://localhost:8080/",
          "height": 923
        }
      },
      "source": [
        "df[df.director == \"Marcus Raboy\"]"
      ],
      "execution_count": null,
      "outputs": [
        {
          "output_type": "execute_result",
          "data": {
            "text/html": [
              "<div>\n",
              "<style scoped>\n",
              "    .dataframe tbody tr th:only-of-type {\n",
              "        vertical-align: middle;\n",
              "    }\n",
              "\n",
              "    .dataframe tbody tr th {\n",
              "        vertical-align: top;\n",
              "    }\n",
              "\n",
              "    .dataframe thead th {\n",
              "        text-align: right;\n",
              "    }\n",
              "</style>\n",
              "<table border=\"1\" class=\"dataframe\">\n",
              "  <thead>\n",
              "    <tr style=\"text-align: right;\">\n",
              "      <th></th>\n",
              "      <th>show_id</th>\n",
              "      <th>type</th>\n",
              "      <th>title</th>\n",
              "      <th>director</th>\n",
              "      <th>cast</th>\n",
              "      <th>country</th>\n",
              "      <th>date_added</th>\n",
              "      <th>release_year</th>\n",
              "      <th>rating</th>\n",
              "      <th>duration</th>\n",
              "      <th>listed_in</th>\n",
              "      <th>description</th>\n",
              "    </tr>\n",
              "  </thead>\n",
              "  <tbody>\n",
              "    <tr>\n",
              "      <th>1052</th>\n",
              "      <td>80117461</td>\n",
              "      <td>Movie</td>\n",
              "      <td>Dana Carvey: Straight White Male, 60</td>\n",
              "      <td>Marcus Raboy</td>\n",
              "      <td>Dana Carvey</td>\n",
              "      <td>United States</td>\n",
              "      <td>November 4, 2016</td>\n",
              "      <td>2016</td>\n",
              "      <td>TV-MA</td>\n",
              "      <td>64 min</td>\n",
              "      <td>Stand-Up Comedy</td>\n",
              "      <td>Emmy-winning comedian Dana Carvey blends pitch...</td>\n",
              "    </tr>\n",
              "    <tr>\n",
              "      <th>1311</th>\n",
              "      <td>80191804</td>\n",
              "      <td>Movie</td>\n",
              "      <td>DeRay Davis: How to Act Black</td>\n",
              "      <td>Marcus Raboy</td>\n",
              "      <td>DeRay Davis</td>\n",
              "      <td>United States</td>\n",
              "      <td>November 14, 2017</td>\n",
              "      <td>2017</td>\n",
              "      <td>TV-MA</td>\n",
              "      <td>66 min</td>\n",
              "      <td>Stand-Up Comedy</td>\n",
              "      <td>Dynamic comic DeRay Davis hits the stage like ...</td>\n",
              "    </tr>\n",
              "    <tr>\n",
              "      <th>1657</th>\n",
              "      <td>80186850</td>\n",
              "      <td>Movie</td>\n",
              "      <td>Steve Martin and Martin Short: An Evening You ...</td>\n",
              "      <td>Marcus Raboy</td>\n",
              "      <td>Steve Martin, Martin Short</td>\n",
              "      <td>United States</td>\n",
              "      <td>May 25, 2018</td>\n",
              "      <td>2018</td>\n",
              "      <td>TV-14</td>\n",
              "      <td>74 min</td>\n",
              "      <td>Stand-Up Comedy</td>\n",
              "      <td>Longtime pals and showbiz icons Steve Martin a...</td>\n",
              "    </tr>\n",
              "    <tr>\n",
              "      <th>2477</th>\n",
              "      <td>80237423</td>\n",
              "      <td>Movie</td>\n",
              "      <td>Miranda Sings Live…Your Welcome</td>\n",
              "      <td>Marcus Raboy</td>\n",
              "      <td>Colleen Ballinger</td>\n",
              "      <td>United States</td>\n",
              "      <td>June 4, 2019</td>\n",
              "      <td>2019</td>\n",
              "      <td>TV-14</td>\n",
              "      <td>62 min</td>\n",
              "      <td>Stand-Up Comedy</td>\n",
              "      <td>Viral video star Miranda Sings and her real-wo...</td>\n",
              "    </tr>\n",
              "    <tr>\n",
              "      <th>2811</th>\n",
              "      <td>80213715</td>\n",
              "      <td>Movie</td>\n",
              "      <td>Whitney Cummings: Can I Touch It?</td>\n",
              "      <td>Marcus Raboy</td>\n",
              "      <td>Whitney Cummings</td>\n",
              "      <td>NaN</td>\n",
              "      <td>July 30, 2019</td>\n",
              "      <td>2019</td>\n",
              "      <td>TV-MA</td>\n",
              "      <td>59 min</td>\n",
              "      <td>Stand-Up Comedy</td>\n",
              "      <td>In her fourth stand-up special, Whitney Cummin...</td>\n",
              "    </tr>\n",
              "    <tr>\n",
              "      <th>2820</th>\n",
              "      <td>70250364</td>\n",
              "      <td>Movie</td>\n",
              "      <td>Katt Williams: Kattpacalypse</td>\n",
              "      <td>Marcus Raboy</td>\n",
              "      <td>Katt Williams</td>\n",
              "      <td>United States</td>\n",
              "      <td>July 3, 2018</td>\n",
              "      <td>2012</td>\n",
              "      <td>NR</td>\n",
              "      <td>61 min</td>\n",
              "      <td>Stand-Up Comedy</td>\n",
              "      <td>Urban comic Katt Williams ushers in Kattpacaly...</td>\n",
              "    </tr>\n",
              "    <tr>\n",
              "      <th>3305</th>\n",
              "      <td>80117453</td>\n",
              "      <td>Movie</td>\n",
              "      <td>Cristela Alonzo: Lower Classy</td>\n",
              "      <td>Marcus Raboy</td>\n",
              "      <td>Cristela Alonzo</td>\n",
              "      <td>United States</td>\n",
              "      <td>January 24, 2017</td>\n",
              "      <td>2017</td>\n",
              "      <td>TV-MA</td>\n",
              "      <td>67 min</td>\n",
              "      <td>Stand-Up Comedy</td>\n",
              "      <td>The irrepressible Alonzo skewers Latino stereo...</td>\n",
              "    </tr>\n",
              "    <tr>\n",
              "      <th>3821</th>\n",
              "      <td>80134779</td>\n",
              "      <td>Movie</td>\n",
              "      <td>Marlon Wayans: Woke-ish</td>\n",
              "      <td>Marcus Raboy</td>\n",
              "      <td>Marlon Wayans</td>\n",
              "      <td>United States</td>\n",
              "      <td>February 27, 2018</td>\n",
              "      <td>2018</td>\n",
              "      <td>TV-MA</td>\n",
              "      <td>67 min</td>\n",
              "      <td>Stand-Up Comedy</td>\n",
              "      <td>Rollicking, outrageous and audacious, Marlon W...</td>\n",
              "    </tr>\n",
              "    <tr>\n",
              "      <th>4591</th>\n",
              "      <td>80158871</td>\n",
              "      <td>Movie</td>\n",
              "      <td>Judd Apatow: The Return</td>\n",
              "      <td>Marcus Raboy</td>\n",
              "      <td>Judd Apatow</td>\n",
              "      <td>United States</td>\n",
              "      <td>December 12, 2017</td>\n",
              "      <td>2017</td>\n",
              "      <td>TV-MA</td>\n",
              "      <td>70 min</td>\n",
              "      <td>Stand-Up Comedy</td>\n",
              "      <td>Judd Apatow returns to stand-up comedy after 2...</td>\n",
              "    </tr>\n",
              "    <tr>\n",
              "      <th>4601</th>\n",
              "      <td>80995991</td>\n",
              "      <td>Movie</td>\n",
              "      <td>Vir Das: Losing It</td>\n",
              "      <td>Marcus Raboy</td>\n",
              "      <td>Vir Das</td>\n",
              "      <td>NaN</td>\n",
              "      <td>December 11, 2018</td>\n",
              "      <td>2018</td>\n",
              "      <td>TV-MA</td>\n",
              "      <td>68 min</td>\n",
              "      <td>Stand-Up Comedy</td>\n",
              "      <td>The world's got a lot of problems, but Vir Das...</td>\n",
              "    </tr>\n",
              "    <tr>\n",
              "      <th>4824</th>\n",
              "      <td>80184834</td>\n",
              "      <td>Movie</td>\n",
              "      <td>Ryan Hamilton: Happy Face</td>\n",
              "      <td>Marcus Raboy</td>\n",
              "      <td>Ryan Hamilton</td>\n",
              "      <td>United States</td>\n",
              "      <td>August 29, 2017</td>\n",
              "      <td>2017</td>\n",
              "      <td>TV-14</td>\n",
              "      <td>57 min</td>\n",
              "      <td>Stand-Up Comedy</td>\n",
              "      <td>Small-town import Ryan Hamilton charms New Yor...</td>\n",
              "    </tr>\n",
              "    <tr>\n",
              "      <th>4876</th>\n",
              "      <td>80185322</td>\n",
              "      <td>Movie</td>\n",
              "      <td>Lynne Koplitz: Hormonal Beast</td>\n",
              "      <td>Marcus Raboy</td>\n",
              "      <td>Lynne Koplitz</td>\n",
              "      <td>United States</td>\n",
              "      <td>August 22, 2017</td>\n",
              "      <td>2017</td>\n",
              "      <td>TV-MA</td>\n",
              "      <td>51 min</td>\n",
              "      <td>Stand-Up Comedy</td>\n",
              "      <td>Unabashed comedian Lynne Koplitz offers a woma...</td>\n",
              "    </tr>\n",
              "    <tr>\n",
              "      <th>5237</th>\n",
              "      <td>80227677</td>\n",
              "      <td>Movie</td>\n",
              "      <td>Anthony Jeselnik: Fire in the Maternity Ward</td>\n",
              "      <td>Marcus Raboy</td>\n",
              "      <td>Anthony Jeselnik</td>\n",
              "      <td>United States</td>\n",
              "      <td>April 30, 2019</td>\n",
              "      <td>2019</td>\n",
              "      <td>TV-MA</td>\n",
              "      <td>64 min</td>\n",
              "      <td>Stand-Up Comedy</td>\n",
              "      <td>Forging his own comedic boundaries, Anthony Je...</td>\n",
              "    </tr>\n",
              "    <tr>\n",
              "      <th>5311</th>\n",
              "      <td>80133552</td>\n",
              "      <td>Movie</td>\n",
              "      <td>Vir Das: Abroad Understanding</td>\n",
              "      <td>Marcus Raboy</td>\n",
              "      <td>Vir Das</td>\n",
              "      <td>United States</td>\n",
              "      <td>April 25, 2017</td>\n",
              "      <td>2017</td>\n",
              "      <td>TV-MA</td>\n",
              "      <td>66 min</td>\n",
              "      <td>Stand-Up Comedy</td>\n",
              "      <td>Comedian Vir Das tackles nationalism, globalis...</td>\n",
              "    </tr>\n",
              "  </tbody>\n",
              "</table>\n",
              "</div>"
            ],
            "text/plain": [
              "       show_id  ...                                        description\n",
              "1052  80117461  ...  Emmy-winning comedian Dana Carvey blends pitch...\n",
              "1311  80191804  ...  Dynamic comic DeRay Davis hits the stage like ...\n",
              "1657  80186850  ...  Longtime pals and showbiz icons Steve Martin a...\n",
              "2477  80237423  ...  Viral video star Miranda Sings and her real-wo...\n",
              "2811  80213715  ...  In her fourth stand-up special, Whitney Cummin...\n",
              "2820  70250364  ...  Urban comic Katt Williams ushers in Kattpacaly...\n",
              "3305  80117453  ...  The irrepressible Alonzo skewers Latino stereo...\n",
              "3821  80134779  ...  Rollicking, outrageous and audacious, Marlon W...\n",
              "4591  80158871  ...  Judd Apatow returns to stand-up comedy after 2...\n",
              "4601  80995991  ...  The world's got a lot of problems, but Vir Das...\n",
              "4824  80184834  ...  Small-town import Ryan Hamilton charms New Yor...\n",
              "4876  80185322  ...  Unabashed comedian Lynne Koplitz offers a woma...\n",
              "5237  80227677  ...  Forging his own comedic boundaries, Anthony Je...\n",
              "5311  80133552  ...  Comedian Vir Das tackles nationalism, globalis...\n",
              "\n",
              "[14 rows x 12 columns]"
            ]
          },
          "metadata": {
            "tags": []
          },
          "execution_count": 56
        }
      ]
    },
    {
      "cell_type": "markdown",
      "metadata": {
        "id": "jVxcBlY97qkR"
      },
      "source": [
        "### ---------------------------------------------------------------------------------------------------------------------------------------------------------"
      ]
    },
    {
      "cell_type": "markdown",
      "metadata": {
        "id": "VtwnmOXG7qkR"
      },
      "source": [
        "## Yang mungkin bisa dicari (PR dari danu):\n",
        "### 1. Tiap \"listed_in\" itu rata-rata durasinya berapa lama? (DONE, tp listed_in per row masih > 1 kategori)\n",
        "### 2. Tiap director itu sering buat rating acara yang gimana? (DONE, tp director per row masih > 1 orang)\n",
        "### 3. Tiap director kira-kira ada ga ya cast andalan? (harus pecah dulu cast per row nya)\n",
        "### 4. Kenapa ya masih ada missing value di director padahal yang blank udah dikosongin? (DONE by do nothing)"
      ]
    },
    {
      "cell_type": "markdown",
      "metadata": {
        "id": "Yhl3TkpVs8pt"
      },
      "source": [
        "tambahan analisis dari rinda\n",
        "- kelompokin title per negara (pisahin dulu negaranya) (DONE by raihan di zeva)\n",
        "- visualisasi release date per bulan (tidak mungkin dilakukan)"
      ]
    },
    {
      "cell_type": "markdown",
      "metadata": {
        "id": "O-8U3Ik9oblA"
      },
      "source": [
        "## Analisa durasi per listed_in\n",
        "Analisis durasi per listed_in dibedakan sesuai dengan type, yaitu antara Movie dan TV Show"
      ]
    },
    {
      "cell_type": "markdown",
      "metadata": {
        "id": "SJZb_Tl18t4Z"
      },
      "source": [
        "### Movie"
      ]
    },
    {
      "cell_type": "code",
      "metadata": {
        "id": "3DD76JOq8DHD",
        "outputId": "3344d267-716c-4a9d-f7cb-e439d2e7901c",
        "colab": {
          "base_uri": "https://localhost:8080/",
          "height": 363
        }
      },
      "source": [
        "df_movie = df[df.type == 'Movie']\n",
        "df_movie.head()"
      ],
      "execution_count": 5,
      "outputs": [
        {
          "output_type": "execute_result",
          "data": {
            "text/html": [
              "<div>\n",
              "<style scoped>\n",
              "    .dataframe tbody tr th:only-of-type {\n",
              "        vertical-align: middle;\n",
              "    }\n",
              "\n",
              "    .dataframe tbody tr th {\n",
              "        vertical-align: top;\n",
              "    }\n",
              "\n",
              "    .dataframe thead th {\n",
              "        text-align: right;\n",
              "    }\n",
              "</style>\n",
              "<table border=\"1\" class=\"dataframe\">\n",
              "  <thead>\n",
              "    <tr style=\"text-align: right;\">\n",
              "      <th></th>\n",
              "      <th>show_id</th>\n",
              "      <th>type</th>\n",
              "      <th>title</th>\n",
              "      <th>director</th>\n",
              "      <th>cast</th>\n",
              "      <th>country</th>\n",
              "      <th>date_added</th>\n",
              "      <th>release_year</th>\n",
              "      <th>rating</th>\n",
              "      <th>duration</th>\n",
              "      <th>listed_in</th>\n",
              "      <th>description</th>\n",
              "    </tr>\n",
              "  </thead>\n",
              "  <tbody>\n",
              "    <tr>\n",
              "      <th>0</th>\n",
              "      <td>81145628</td>\n",
              "      <td>Movie</td>\n",
              "      <td>Norm of the North: King Sized Adventure</td>\n",
              "      <td>Richard Finn, Tim Maltby</td>\n",
              "      <td>Alan Marriott, Andrew Toth, Brian Dobson, Cole...</td>\n",
              "      <td>United States, India, South Korea, China</td>\n",
              "      <td>September 9, 2019</td>\n",
              "      <td>2019</td>\n",
              "      <td>TV-PG</td>\n",
              "      <td>90 min</td>\n",
              "      <td>Children &amp; Family Movies, Comedies</td>\n",
              "      <td>Before planning an awesome wedding for his gra...</td>\n",
              "    </tr>\n",
              "    <tr>\n",
              "      <th>1</th>\n",
              "      <td>80117401</td>\n",
              "      <td>Movie</td>\n",
              "      <td>Jandino: Whatever it Takes</td>\n",
              "      <td>NaN</td>\n",
              "      <td>Jandino Asporaat</td>\n",
              "      <td>United Kingdom</td>\n",
              "      <td>September 9, 2016</td>\n",
              "      <td>2016</td>\n",
              "      <td>TV-MA</td>\n",
              "      <td>94 min</td>\n",
              "      <td>Stand-Up Comedy</td>\n",
              "      <td>Jandino Asporaat riffs on the challenges of ra...</td>\n",
              "    </tr>\n",
              "    <tr>\n",
              "      <th>4</th>\n",
              "      <td>80125979</td>\n",
              "      <td>Movie</td>\n",
              "      <td>#realityhigh</td>\n",
              "      <td>Fernando Lebrija</td>\n",
              "      <td>Nesta Cooper, Kate Walsh, John Michael Higgins...</td>\n",
              "      <td>United States</td>\n",
              "      <td>September 8, 2017</td>\n",
              "      <td>2017</td>\n",
              "      <td>TV-14</td>\n",
              "      <td>99 min</td>\n",
              "      <td>Comedies</td>\n",
              "      <td>When nerdy high schooler Dani finally attracts...</td>\n",
              "    </tr>\n",
              "    <tr>\n",
              "      <th>6</th>\n",
              "      <td>70304989</td>\n",
              "      <td>Movie</td>\n",
              "      <td>Automata</td>\n",
              "      <td>Gabe Ibáñez</td>\n",
              "      <td>Antonio Banderas, Dylan McDermott, Melanie Gri...</td>\n",
              "      <td>Bulgaria, United States, Spain, Canada</td>\n",
              "      <td>September 8, 2017</td>\n",
              "      <td>2014</td>\n",
              "      <td>R</td>\n",
              "      <td>110 min</td>\n",
              "      <td>International Movies, Sci-Fi &amp; Fantasy, Thrillers</td>\n",
              "      <td>In a dystopian future, an insurance adjuster f...</td>\n",
              "    </tr>\n",
              "    <tr>\n",
              "      <th>7</th>\n",
              "      <td>80164077</td>\n",
              "      <td>Movie</td>\n",
              "      <td>Fabrizio Copano: Solo pienso en mi</td>\n",
              "      <td>Rodrigo Toro, Francisco Schultz</td>\n",
              "      <td>Fabrizio Copano</td>\n",
              "      <td>Chile</td>\n",
              "      <td>September 8, 2017</td>\n",
              "      <td>2017</td>\n",
              "      <td>TV-MA</td>\n",
              "      <td>60 min</td>\n",
              "      <td>Stand-Up Comedy</td>\n",
              "      <td>Fabrizio Copano takes audience participation t...</td>\n",
              "    </tr>\n",
              "  </tbody>\n",
              "</table>\n",
              "</div>"
            ],
            "text/plain": [
              "    show_id  ...                                        description\n",
              "0  81145628  ...  Before planning an awesome wedding for his gra...\n",
              "1  80117401  ...  Jandino Asporaat riffs on the challenges of ra...\n",
              "4  80125979  ...  When nerdy high schooler Dani finally attracts...\n",
              "6  70304989  ...  In a dystopian future, an insurance adjuster f...\n",
              "7  80164077  ...  Fabrizio Copano takes audience participation t...\n",
              "\n",
              "[5 rows x 12 columns]"
            ]
          },
          "metadata": {
            "tags": []
          },
          "execution_count": 5
        }
      ]
    },
    {
      "cell_type": "markdown",
      "metadata": {
        "id": "V4czkThq9Jyk"
      },
      "source": [
        "#### Change duration from string to number\n",
        "the unit of the duration is per minute"
      ]
    },
    {
      "cell_type": "code",
      "metadata": {
        "id": "F6CKNpiq-2Cf"
      },
      "source": [
        "def convert_duration_min(dur_str):\n",
        "    return int(dur_str[:-4])"
      ],
      "execution_count": 6,
      "outputs": []
    },
    {
      "cell_type": "code",
      "metadata": {
        "id": "GXs04btc9JOE",
        "outputId": "4646b0ec-975a-407d-95c6-1a563205c497",
        "colab": {
          "base_uri": "https://localhost:8080/",
          "height": 477
        }
      },
      "source": [
        "df_movie['duration'] = df_movie['duration'].apply(convert_duration_min)\n",
        "df_movie.head()"
      ],
      "execution_count": 7,
      "outputs": [
        {
          "output_type": "stream",
          "text": [
            "/usr/local/lib/python3.6/dist-packages/ipykernel_launcher.py:1: SettingWithCopyWarning: \n",
            "A value is trying to be set on a copy of a slice from a DataFrame.\n",
            "Try using .loc[row_indexer,col_indexer] = value instead\n",
            "\n",
            "See the caveats in the documentation: https://pandas.pydata.org/pandas-docs/stable/user_guide/indexing.html#returning-a-view-versus-a-copy\n",
            "  \"\"\"Entry point for launching an IPython kernel.\n"
          ],
          "name": "stderr"
        },
        {
          "output_type": "execute_result",
          "data": {
            "text/html": [
              "<div>\n",
              "<style scoped>\n",
              "    .dataframe tbody tr th:only-of-type {\n",
              "        vertical-align: middle;\n",
              "    }\n",
              "\n",
              "    .dataframe tbody tr th {\n",
              "        vertical-align: top;\n",
              "    }\n",
              "\n",
              "    .dataframe thead th {\n",
              "        text-align: right;\n",
              "    }\n",
              "</style>\n",
              "<table border=\"1\" class=\"dataframe\">\n",
              "  <thead>\n",
              "    <tr style=\"text-align: right;\">\n",
              "      <th></th>\n",
              "      <th>show_id</th>\n",
              "      <th>type</th>\n",
              "      <th>title</th>\n",
              "      <th>director</th>\n",
              "      <th>cast</th>\n",
              "      <th>country</th>\n",
              "      <th>date_added</th>\n",
              "      <th>release_year</th>\n",
              "      <th>rating</th>\n",
              "      <th>duration</th>\n",
              "      <th>listed_in</th>\n",
              "      <th>description</th>\n",
              "    </tr>\n",
              "  </thead>\n",
              "  <tbody>\n",
              "    <tr>\n",
              "      <th>0</th>\n",
              "      <td>81145628</td>\n",
              "      <td>Movie</td>\n",
              "      <td>Norm of the North: King Sized Adventure</td>\n",
              "      <td>Richard Finn, Tim Maltby</td>\n",
              "      <td>Alan Marriott, Andrew Toth, Brian Dobson, Cole...</td>\n",
              "      <td>United States, India, South Korea, China</td>\n",
              "      <td>September 9, 2019</td>\n",
              "      <td>2019</td>\n",
              "      <td>TV-PG</td>\n",
              "      <td>90</td>\n",
              "      <td>Children &amp; Family Movies, Comedies</td>\n",
              "      <td>Before planning an awesome wedding for his gra...</td>\n",
              "    </tr>\n",
              "    <tr>\n",
              "      <th>1</th>\n",
              "      <td>80117401</td>\n",
              "      <td>Movie</td>\n",
              "      <td>Jandino: Whatever it Takes</td>\n",
              "      <td>NaN</td>\n",
              "      <td>Jandino Asporaat</td>\n",
              "      <td>United Kingdom</td>\n",
              "      <td>September 9, 2016</td>\n",
              "      <td>2016</td>\n",
              "      <td>TV-MA</td>\n",
              "      <td>94</td>\n",
              "      <td>Stand-Up Comedy</td>\n",
              "      <td>Jandino Asporaat riffs on the challenges of ra...</td>\n",
              "    </tr>\n",
              "    <tr>\n",
              "      <th>4</th>\n",
              "      <td>80125979</td>\n",
              "      <td>Movie</td>\n",
              "      <td>#realityhigh</td>\n",
              "      <td>Fernando Lebrija</td>\n",
              "      <td>Nesta Cooper, Kate Walsh, John Michael Higgins...</td>\n",
              "      <td>United States</td>\n",
              "      <td>September 8, 2017</td>\n",
              "      <td>2017</td>\n",
              "      <td>TV-14</td>\n",
              "      <td>99</td>\n",
              "      <td>Comedies</td>\n",
              "      <td>When nerdy high schooler Dani finally attracts...</td>\n",
              "    </tr>\n",
              "    <tr>\n",
              "      <th>6</th>\n",
              "      <td>70304989</td>\n",
              "      <td>Movie</td>\n",
              "      <td>Automata</td>\n",
              "      <td>Gabe Ibáñez</td>\n",
              "      <td>Antonio Banderas, Dylan McDermott, Melanie Gri...</td>\n",
              "      <td>Bulgaria, United States, Spain, Canada</td>\n",
              "      <td>September 8, 2017</td>\n",
              "      <td>2014</td>\n",
              "      <td>R</td>\n",
              "      <td>110</td>\n",
              "      <td>International Movies, Sci-Fi &amp; Fantasy, Thrillers</td>\n",
              "      <td>In a dystopian future, an insurance adjuster f...</td>\n",
              "    </tr>\n",
              "    <tr>\n",
              "      <th>7</th>\n",
              "      <td>80164077</td>\n",
              "      <td>Movie</td>\n",
              "      <td>Fabrizio Copano: Solo pienso en mi</td>\n",
              "      <td>Rodrigo Toro, Francisco Schultz</td>\n",
              "      <td>Fabrizio Copano</td>\n",
              "      <td>Chile</td>\n",
              "      <td>September 8, 2017</td>\n",
              "      <td>2017</td>\n",
              "      <td>TV-MA</td>\n",
              "      <td>60</td>\n",
              "      <td>Stand-Up Comedy</td>\n",
              "      <td>Fabrizio Copano takes audience participation t...</td>\n",
              "    </tr>\n",
              "  </tbody>\n",
              "</table>\n",
              "</div>"
            ],
            "text/plain": [
              "    show_id  ...                                        description\n",
              "0  81145628  ...  Before planning an awesome wedding for his gra...\n",
              "1  80117401  ...  Jandino Asporaat riffs on the challenges of ra...\n",
              "4  80125979  ...  When nerdy high schooler Dani finally attracts...\n",
              "6  70304989  ...  In a dystopian future, an insurance adjuster f...\n",
              "7  80164077  ...  Fabrizio Copano takes audience participation t...\n",
              "\n",
              "[5 rows x 12 columns]"
            ]
          },
          "metadata": {
            "tags": []
          },
          "execution_count": 7
        }
      ]
    },
    {
      "cell_type": "markdown",
      "metadata": {
        "id": "fGZaMUaPm0gI"
      },
      "source": [
        "after the duration is converted to integer, we can see the description below"
      ]
    },
    {
      "cell_type": "code",
      "metadata": {
        "id": "p86LDWnf8yNp",
        "outputId": "9efcbc90-356e-4b75-d3d6-80822e4a59d6",
        "colab": {
          "base_uri": "https://localhost:8080/",
          "height": 300
        }
      },
      "source": [
        "df_movie.describe()[['duration']]"
      ],
      "execution_count": 64,
      "outputs": [
        {
          "output_type": "execute_result",
          "data": {
            "text/html": [
              "<div>\n",
              "<style scoped>\n",
              "    .dataframe tbody tr th:only-of-type {\n",
              "        vertical-align: middle;\n",
              "    }\n",
              "\n",
              "    .dataframe tbody tr th {\n",
              "        vertical-align: top;\n",
              "    }\n",
              "\n",
              "    .dataframe thead th {\n",
              "        text-align: right;\n",
              "    }\n",
              "</style>\n",
              "<table border=\"1\" class=\"dataframe\">\n",
              "  <thead>\n",
              "    <tr style=\"text-align: right;\">\n",
              "      <th></th>\n",
              "      <th>duration</th>\n",
              "    </tr>\n",
              "  </thead>\n",
              "  <tbody>\n",
              "    <tr>\n",
              "      <th>count</th>\n",
              "      <td>4265.000000</td>\n",
              "    </tr>\n",
              "    <tr>\n",
              "      <th>mean</th>\n",
              "      <td>99.100821</td>\n",
              "    </tr>\n",
              "    <tr>\n",
              "      <th>std</th>\n",
              "      <td>28.074857</td>\n",
              "    </tr>\n",
              "    <tr>\n",
              "      <th>min</th>\n",
              "      <td>3.000000</td>\n",
              "    </tr>\n",
              "    <tr>\n",
              "      <th>25%</th>\n",
              "      <td>86.000000</td>\n",
              "    </tr>\n",
              "    <tr>\n",
              "      <th>50%</th>\n",
              "      <td>98.000000</td>\n",
              "    </tr>\n",
              "    <tr>\n",
              "      <th>75%</th>\n",
              "      <td>115.000000</td>\n",
              "    </tr>\n",
              "    <tr>\n",
              "      <th>max</th>\n",
              "      <td>312.000000</td>\n",
              "    </tr>\n",
              "  </tbody>\n",
              "</table>\n",
              "</div>"
            ],
            "text/plain": [
              "          duration\n",
              "count  4265.000000\n",
              "mean     99.100821\n",
              "std      28.074857\n",
              "min       3.000000\n",
              "25%      86.000000\n",
              "50%      98.000000\n",
              "75%     115.000000\n",
              "max     312.000000"
            ]
          },
          "metadata": {
            "tags": []
          },
          "execution_count": 64
        }
      ]
    },
    {
      "cell_type": "markdown",
      "metadata": {
        "id": "7ZqMbmyGovEM"
      },
      "source": [
        "#### Get Average Duration per listed_in\n",
        "to-do: pecah listed_in berdasarkan koma"
      ]
    },
    {
      "cell_type": "code",
      "metadata": {
        "id": "hxF0ZOuRpmTP",
        "outputId": "12c5e6fd-184f-48bd-e720-91d76e2048bb",
        "colab": {
          "base_uri": "https://localhost:8080/",
          "height": 455
        }
      },
      "source": [
        "df_movie.groupby('listed_in').mean()[['duration']]"
      ],
      "execution_count": 9,
      "outputs": [
        {
          "output_type": "execute_result",
          "data": {
            "text/html": [
              "<div>\n",
              "<style scoped>\n",
              "    .dataframe tbody tr th:only-of-type {\n",
              "        vertical-align: middle;\n",
              "    }\n",
              "\n",
              "    .dataframe tbody tr th {\n",
              "        vertical-align: top;\n",
              "    }\n",
              "\n",
              "    .dataframe thead th {\n",
              "        text-align: right;\n",
              "    }\n",
              "</style>\n",
              "<table border=\"1\" class=\"dataframe\">\n",
              "  <thead>\n",
              "    <tr style=\"text-align: right;\">\n",
              "      <th></th>\n",
              "      <th>duration</th>\n",
              "    </tr>\n",
              "    <tr>\n",
              "      <th>listed_in</th>\n",
              "      <th></th>\n",
              "    </tr>\n",
              "  </thead>\n",
              "  <tbody>\n",
              "    <tr>\n",
              "      <th>Action &amp; Adventure</th>\n",
              "      <td>105.014706</td>\n",
              "    </tr>\n",
              "    <tr>\n",
              "      <th>Action &amp; Adventure, Anime Features, Children &amp; Family Movies</th>\n",
              "      <td>107.000000</td>\n",
              "    </tr>\n",
              "    <tr>\n",
              "      <th>Action &amp; Adventure, Anime Features, Classic Movies</th>\n",
              "      <td>100.000000</td>\n",
              "    </tr>\n",
              "    <tr>\n",
              "      <th>Action &amp; Adventure, Anime Features, Horror Movies</th>\n",
              "      <td>96.000000</td>\n",
              "    </tr>\n",
              "    <tr>\n",
              "      <th>Action &amp; Adventure, Anime Features, International Movies</th>\n",
              "      <td>90.200000</td>\n",
              "    </tr>\n",
              "    <tr>\n",
              "      <th>...</th>\n",
              "      <td>...</td>\n",
              "    </tr>\n",
              "    <tr>\n",
              "      <th>Sci-Fi &amp; Fantasy</th>\n",
              "      <td>95.000000</td>\n",
              "    </tr>\n",
              "    <tr>\n",
              "      <th>Sci-Fi &amp; Fantasy, Thrillers</th>\n",
              "      <td>110.444444</td>\n",
              "    </tr>\n",
              "    <tr>\n",
              "      <th>Sports Movies</th>\n",
              "      <td>87.000000</td>\n",
              "    </tr>\n",
              "    <tr>\n",
              "      <th>Stand-Up Comedy</th>\n",
              "      <td>66.809524</td>\n",
              "    </tr>\n",
              "    <tr>\n",
              "      <th>Thrillers</th>\n",
              "      <td>95.425000</td>\n",
              "    </tr>\n",
              "  </tbody>\n",
              "</table>\n",
              "<p>249 rows × 1 columns</p>\n",
              "</div>"
            ],
            "text/plain": [
              "                                                      duration\n",
              "listed_in                                                     \n",
              "Action & Adventure                                  105.014706\n",
              "Action & Adventure, Anime Features, Children & ...  107.000000\n",
              "Action & Adventure, Anime Features, Classic Movies  100.000000\n",
              "Action & Adventure, Anime Features, Horror Movies    96.000000\n",
              "Action & Adventure, Anime Features, Internation...   90.200000\n",
              "...                                                        ...\n",
              "Sci-Fi & Fantasy                                     95.000000\n",
              "Sci-Fi & Fantasy, Thrillers                         110.444444\n",
              "Sports Movies                                        87.000000\n",
              "Stand-Up Comedy                                      66.809524\n",
              "Thrillers                                            95.425000\n",
              "\n",
              "[249 rows x 1 columns]"
            ]
          },
          "metadata": {
            "tags": []
          },
          "execution_count": 9
        }
      ]
    },
    {
      "cell_type": "code",
      "metadata": {
        "id": "0nV5PKDWdUwS",
        "outputId": "590c5699-fe30-4163-b3d4-42c5bae2ed88",
        "colab": {
          "base_uri": "https://localhost:8080/"
        }
      },
      "source": [
        "len(df_movie['listed_in'].unique())"
      ],
      "execution_count": 16,
      "outputs": [
        {
          "output_type": "execute_result",
          "data": {
            "text/plain": [
              "249"
            ]
          },
          "metadata": {
            "tags": []
          },
          "execution_count": 16
        }
      ]
    },
    {
      "cell_type": "markdown",
      "metadata": {
        "id": "2hi8s4hIliA2"
      },
      "source": [
        "Pecah listedin"
      ]
    },
    {
      "cell_type": "code",
      "metadata": {
        "id": "mYAsKjNmcx_r",
        "outputId": "284c77eb-c79e-41a1-dfa2-b0bf4a0db590",
        "colab": {
          "base_uri": "https://localhost:8080/"
        }
      },
      "source": [
        "df_movie_listed_str = ', '.join(df_movie['listed_in'])\n",
        "df_movie_listed_list = list(set(df_movie_listed_str.split(', ')))\n",
        "df_movie_listed_list"
      ],
      "execution_count": 16,
      "outputs": [
        {
          "output_type": "execute_result",
          "data": {
            "text/plain": [
              "['International Movies',\n",
              " 'Comedies',\n",
              " 'Sci-Fi & Fantasy',\n",
              " 'Anime Features',\n",
              " 'Horror Movies',\n",
              " 'Movies',\n",
              " 'Faith & Spirituality',\n",
              " 'Documentaries',\n",
              " 'Music & Musicals',\n",
              " 'Thrillers',\n",
              " 'LGBTQ Movies',\n",
              " 'Classic Movies',\n",
              " 'Romantic Movies',\n",
              " 'Children & Family Movies',\n",
              " 'Stand-Up Comedy',\n",
              " 'Independent Movies',\n",
              " 'Dramas',\n",
              " 'Action & Adventure',\n",
              " 'Sports Movies',\n",
              " 'Cult Movies']"
            ]
          },
          "metadata": {
            "tags": []
          },
          "execution_count": 16
        }
      ]
    },
    {
      "cell_type": "code",
      "metadata": {
        "id": "Cec7bpC1nCuG",
        "outputId": "8041774b-7551-436c-f942-997ce7466c81",
        "colab": {
          "base_uri": "https://localhost:8080/",
          "height": 677
        }
      },
      "source": [
        "df_movie[df_movie['listed_in'].str.contains(df_movie_listed_list[0])]['duration'].mean()\n",
        "\n",
        "movie_listedin_duration = []\n",
        "for li in df_movie_listed_list:\n",
        "    movie_listedin_duration.append((li, df_movie[df_movie['listed_in'].str.contains(li)]['duration'].mean()))\n",
        "\n",
        "df_movie_listedin_duration = pd.DataFrame(movie_listedin_duration, columns=['listed_in', 'avg_duration'])    \n",
        "df_movie_listedin_duration"
      ],
      "execution_count": 27,
      "outputs": [
        {
          "output_type": "execute_result",
          "data": {
            "text/html": [
              "<div>\n",
              "<style scoped>\n",
              "    .dataframe tbody tr th:only-of-type {\n",
              "        vertical-align: middle;\n",
              "    }\n",
              "\n",
              "    .dataframe tbody tr th {\n",
              "        vertical-align: top;\n",
              "    }\n",
              "\n",
              "    .dataframe thead th {\n",
              "        text-align: right;\n",
              "    }\n",
              "</style>\n",
              "<table border=\"1\" class=\"dataframe\">\n",
              "  <thead>\n",
              "    <tr style=\"text-align: right;\">\n",
              "      <th></th>\n",
              "      <th>listed_in</th>\n",
              "      <th>avg_duration</th>\n",
              "    </tr>\n",
              "  </thead>\n",
              "  <tbody>\n",
              "    <tr>\n",
              "      <th>0</th>\n",
              "      <td>International Movies</td>\n",
              "      <td>110.977167</td>\n",
              "    </tr>\n",
              "    <tr>\n",
              "      <th>1</th>\n",
              "      <td>Comedies</td>\n",
              "      <td>103.761905</td>\n",
              "    </tr>\n",
              "    <tr>\n",
              "      <th>2</th>\n",
              "      <td>Sci-Fi &amp; Fantasy</td>\n",
              "      <td>106.683938</td>\n",
              "    </tr>\n",
              "    <tr>\n",
              "      <th>3</th>\n",
              "      <td>Anime Features</td>\n",
              "      <td>92.844444</td>\n",
              "    </tr>\n",
              "    <tr>\n",
              "      <th>4</th>\n",
              "      <td>Horror Movies</td>\n",
              "      <td>97.339695</td>\n",
              "    </tr>\n",
              "    <tr>\n",
              "      <th>5</th>\n",
              "      <td>Movies</td>\n",
              "      <td>102.972367</td>\n",
              "    </tr>\n",
              "    <tr>\n",
              "      <th>6</th>\n",
              "      <td>Faith &amp; Spirituality</td>\n",
              "      <td>104.914894</td>\n",
              "    </tr>\n",
              "    <tr>\n",
              "      <th>7</th>\n",
              "      <td>Documentaries</td>\n",
              "      <td>81.000000</td>\n",
              "    </tr>\n",
              "    <tr>\n",
              "      <th>8</th>\n",
              "      <td>Music &amp; Musicals</td>\n",
              "      <td>110.477366</td>\n",
              "    </tr>\n",
              "    <tr>\n",
              "      <th>9</th>\n",
              "      <td>Thrillers</td>\n",
              "      <td>106.301020</td>\n",
              "    </tr>\n",
              "    <tr>\n",
              "      <th>10</th>\n",
              "      <td>LGBTQ Movies</td>\n",
              "      <td>94.933333</td>\n",
              "    </tr>\n",
              "    <tr>\n",
              "      <th>11</th>\n",
              "      <td>Classic Movies</td>\n",
              "      <td>113.107143</td>\n",
              "    </tr>\n",
              "    <tr>\n",
              "      <th>12</th>\n",
              "      <td>Romantic Movies</td>\n",
              "      <td>111.577128</td>\n",
              "    </tr>\n",
              "    <tr>\n",
              "      <th>13</th>\n",
              "      <td>Children &amp; Family Movies</td>\n",
              "      <td>81.468254</td>\n",
              "    </tr>\n",
              "    <tr>\n",
              "      <th>14</th>\n",
              "      <td>Stand-Up Comedy</td>\n",
              "      <td>67.330961</td>\n",
              "    </tr>\n",
              "    <tr>\n",
              "      <th>15</th>\n",
              "      <td>Independent Movies</td>\n",
              "      <td>100.114130</td>\n",
              "    </tr>\n",
              "    <tr>\n",
              "      <th>16</th>\n",
              "      <td>Dramas</td>\n",
              "      <td>113.863832</td>\n",
              "    </tr>\n",
              "    <tr>\n",
              "      <th>17</th>\n",
              "      <td>Action &amp; Adventure</td>\n",
              "      <td>113.984925</td>\n",
              "    </tr>\n",
              "    <tr>\n",
              "      <th>18</th>\n",
              "      <td>Sports Movies</td>\n",
              "      <td>94.171975</td>\n",
              "    </tr>\n",
              "    <tr>\n",
              "      <th>19</th>\n",
              "      <td>Cult Movies</td>\n",
              "      <td>105.381818</td>\n",
              "    </tr>\n",
              "  </tbody>\n",
              "</table>\n",
              "</div>"
            ],
            "text/plain": [
              "                   listed_in  avg_duration\n",
              "0       International Movies    110.977167\n",
              "1                   Comedies    103.761905\n",
              "2           Sci-Fi & Fantasy    106.683938\n",
              "3             Anime Features     92.844444\n",
              "4              Horror Movies     97.339695\n",
              "5                     Movies    102.972367\n",
              "6       Faith & Spirituality    104.914894\n",
              "7              Documentaries     81.000000\n",
              "8           Music & Musicals    110.477366\n",
              "9                  Thrillers    106.301020\n",
              "10              LGBTQ Movies     94.933333\n",
              "11            Classic Movies    113.107143\n",
              "12           Romantic Movies    111.577128\n",
              "13  Children & Family Movies     81.468254\n",
              "14           Stand-Up Comedy     67.330961\n",
              "15        Independent Movies    100.114130\n",
              "16                    Dramas    113.863832\n",
              "17        Action & Adventure    113.984925\n",
              "18             Sports Movies     94.171975\n",
              "19               Cult Movies    105.381818"
            ]
          },
          "metadata": {
            "tags": []
          },
          "execution_count": 27
        }
      ]
    },
    {
      "cell_type": "code",
      "metadata": {
        "id": "crB-TB6A_A8q",
        "outputId": "f536259f-528c-423c-fda4-d9cb3d7f58b9",
        "colab": {
          "base_uri": "https://localhost:8080/",
          "height": 460
        }
      },
      "source": [
        "fig, ax = plt.subplots(figsize=(12, 6))\n",
        "bars = ax.bar(np.arange(len(df_movie_listedin_duration)), height=df_movie_listedin_duration['avg_duration'])\n",
        "ax.set_xticks(np.arange(len(df_movie_listedin_duration)))\n",
        "ax.set_xticklabels(df_movie_listedin_duration['listed_in'], rotation=45, ha=\"right\")\n",
        "    \n",
        "plt.show()"
      ],
      "execution_count": 84,
      "outputs": [
        {
          "output_type": "display_data",
          "data": {
            "image/png": "[encoded data removed]",
            "text/plain": [
              "<Figure size 864x432 with 1 Axes>"
            ]
          },
          "metadata": {
            "tags": [],
            "needs_background": "light"
          }
        }
      ]
    },
    {
      "cell_type": "markdown",
      "metadata": {
        "id": "nXL7k3h_nA0H"
      },
      "source": [
        "### TV Show"
      ]
    },
    {
      "cell_type": "code",
      "metadata": {
        "id": "DtDomfJu8VUa",
        "outputId": "1dd6cc22-fd75-48a2-caad-151f4b862c63",
        "colab": {
          "base_uri": "https://localhost:8080/",
          "height": 345
        }
      },
      "source": [
        "df_tvshow = df[df.type == 'TV Show']\n",
        "df_tvshow.head()"
      ],
      "execution_count": 66,
      "outputs": [
        {
          "output_type": "execute_result",
          "data": {
            "text/html": [
              "<div>\n",
              "<style scoped>\n",
              "    .dataframe tbody tr th:only-of-type {\n",
              "        vertical-align: middle;\n",
              "    }\n",
              "\n",
              "    .dataframe tbody tr th {\n",
              "        vertical-align: top;\n",
              "    }\n",
              "\n",
              "    .dataframe thead th {\n",
              "        text-align: right;\n",
              "    }\n",
              "</style>\n",
              "<table border=\"1\" class=\"dataframe\">\n",
              "  <thead>\n",
              "    <tr style=\"text-align: right;\">\n",
              "      <th></th>\n",
              "      <th>show_id</th>\n",
              "      <th>type</th>\n",
              "      <th>title</th>\n",
              "      <th>director</th>\n",
              "      <th>cast</th>\n",
              "      <th>country</th>\n",
              "      <th>date_added</th>\n",
              "      <th>release_year</th>\n",
              "      <th>rating</th>\n",
              "      <th>duration</th>\n",
              "      <th>listed_in</th>\n",
              "      <th>description</th>\n",
              "    </tr>\n",
              "  </thead>\n",
              "  <tbody>\n",
              "    <tr>\n",
              "      <th>2</th>\n",
              "      <td>70234439</td>\n",
              "      <td>TV Show</td>\n",
              "      <td>Transformers Prime</td>\n",
              "      <td>NaN</td>\n",
              "      <td>Peter Cullen, Sumalee Montano, Frank Welker, J...</td>\n",
              "      <td>United States</td>\n",
              "      <td>September 8, 2018</td>\n",
              "      <td>2013</td>\n",
              "      <td>TV-Y7-FV</td>\n",
              "      <td>1 Season</td>\n",
              "      <td>Kids' TV</td>\n",
              "      <td>With the help of three human allies, the Autob...</td>\n",
              "    </tr>\n",
              "    <tr>\n",
              "      <th>3</th>\n",
              "      <td>80058654</td>\n",
              "      <td>TV Show</td>\n",
              "      <td>Transformers: Robots in Disguise</td>\n",
              "      <td>NaN</td>\n",
              "      <td>Will Friedle, Darren Criss, Constance Zimmer, ...</td>\n",
              "      <td>United States</td>\n",
              "      <td>September 8, 2018</td>\n",
              "      <td>2016</td>\n",
              "      <td>TV-Y7</td>\n",
              "      <td>1 Season</td>\n",
              "      <td>Kids' TV</td>\n",
              "      <td>When a prison ship crash unleashes hundreds of...</td>\n",
              "    </tr>\n",
              "    <tr>\n",
              "      <th>5</th>\n",
              "      <td>80163890</td>\n",
              "      <td>TV Show</td>\n",
              "      <td>Apaches</td>\n",
              "      <td>NaN</td>\n",
              "      <td>Alberto Ammann, Eloy Azorín, Verónica Echegui,...</td>\n",
              "      <td>Spain</td>\n",
              "      <td>September 8, 2017</td>\n",
              "      <td>2016</td>\n",
              "      <td>TV-MA</td>\n",
              "      <td>1 Season</td>\n",
              "      <td>Crime TV Shows, International TV Shows, Spanis...</td>\n",
              "      <td>A young journalist is forced into a life of cr...</td>\n",
              "    </tr>\n",
              "    <tr>\n",
              "      <th>8</th>\n",
              "      <td>80117902</td>\n",
              "      <td>TV Show</td>\n",
              "      <td>Fire Chasers</td>\n",
              "      <td>NaN</td>\n",
              "      <td>NaN</td>\n",
              "      <td>United States</td>\n",
              "      <td>September 8, 2017</td>\n",
              "      <td>2017</td>\n",
              "      <td>TV-MA</td>\n",
              "      <td>1 Season</td>\n",
              "      <td>Docuseries, Science &amp; Nature TV</td>\n",
              "      <td>As California's 2016 fire season rages, brave ...</td>\n",
              "    </tr>\n",
              "    <tr>\n",
              "      <th>26</th>\n",
              "      <td>80244601</td>\n",
              "      <td>TV Show</td>\n",
              "      <td>Castle of Stars</td>\n",
              "      <td>NaN</td>\n",
              "      <td>Chaiyapol Pupart, Jintanutda Lummakanon, Worra...</td>\n",
              "      <td>NaN</td>\n",
              "      <td>September 7, 2018</td>\n",
              "      <td>2015</td>\n",
              "      <td>TV-14</td>\n",
              "      <td>1 Season</td>\n",
              "      <td>International TV Shows, Romantic TV Shows, TV ...</td>\n",
              "      <td>As four couples with different lifestyles go t...</td>\n",
              "    </tr>\n",
              "  </tbody>\n",
              "</table>\n",
              "</div>"
            ],
            "text/plain": [
              "     show_id  ...                                        description\n",
              "2   70234439  ...  With the help of three human allies, the Autob...\n",
              "3   80058654  ...  When a prison ship crash unleashes hundreds of...\n",
              "5   80163890  ...  A young journalist is forced into a life of cr...\n",
              "8   80117902  ...  As California's 2016 fire season rages, brave ...\n",
              "26  80244601  ...  As four couples with different lifestyles go t...\n",
              "\n",
              "[5 rows x 12 columns]"
            ]
          },
          "metadata": {
            "tags": []
          },
          "execution_count": 66
        }
      ]
    },
    {
      "cell_type": "markdown",
      "metadata": {
        "id": "XRX2M9Fcnewg"
      },
      "source": [
        "#### Change duration from string to number\n",
        "the unit of the duration is per season"
      ]
    },
    {
      "cell_type": "code",
      "metadata": {
        "id": "hMbXEG7dnewm"
      },
      "source": [
        "def convert_duration_season(dur_str):\n",
        "    return int(dur_str[:-7])"
      ],
      "execution_count": 67,
      "outputs": []
    },
    {
      "cell_type": "code",
      "metadata": {
        "id": "Ihrl3IhLnew_",
        "outputId": "64f02857-a5ab-4de9-c628-eea9c5e821b5",
        "colab": {
          "base_uri": "https://localhost:8080/",
          "height": 0
        }
      },
      "source": [
        "df_tvshow['duration'] = df_tvshow['duration'].apply(convert_duration_season)\n",
        "df_tvshow.head()"
      ],
      "execution_count": 68,
      "outputs": [
        {
          "output_type": "stream",
          "text": [
            "/usr/local/lib/python3.6/dist-packages/ipykernel_launcher.py:1: SettingWithCopyWarning: \n",
            "A value is trying to be set on a copy of a slice from a DataFrame.\n",
            "Try using .loc[row_indexer,col_indexer] = value instead\n",
            "\n",
            "See the caveats in the documentation: https://pandas.pydata.org/pandas-docs/stable/user_guide/indexing.html#returning-a-view-versus-a-copy\n",
            "  \"\"\"Entry point for launching an IPython kernel.\n"
          ],
          "name": "stderr"
        },
        {
          "output_type": "execute_result",
          "data": {
            "text/html": [
              "<div>\n",
              "<style scoped>\n",
              "    .dataframe tbody tr th:only-of-type {\n",
              "        vertical-align: middle;\n",
              "    }\n",
              "\n",
              "    .dataframe tbody tr th {\n",
              "        vertical-align: top;\n",
              "    }\n",
              "\n",
              "    .dataframe thead th {\n",
              "        text-align: right;\n",
              "    }\n",
              "</style>\n",
              "<table border=\"1\" class=\"dataframe\">\n",
              "  <thead>\n",
              "    <tr style=\"text-align: right;\">\n",
              "      <th></th>\n",
              "      <th>show_id</th>\n",
              "      <th>type</th>\n",
              "      <th>title</th>\n",
              "      <th>director</th>\n",
              "      <th>cast</th>\n",
              "      <th>country</th>\n",
              "      <th>date_added</th>\n",
              "      <th>release_year</th>\n",
              "      <th>rating</th>\n",
              "      <th>duration</th>\n",
              "      <th>listed_in</th>\n",
              "      <th>description</th>\n",
              "    </tr>\n",
              "  </thead>\n",
              "  <tbody>\n",
              "    <tr>\n",
              "      <th>2</th>\n",
              "      <td>70234439</td>\n",
              "      <td>TV Show</td>\n",
              "      <td>Transformers Prime</td>\n",
              "      <td>NaN</td>\n",
              "      <td>Peter Cullen, Sumalee Montano, Frank Welker, J...</td>\n",
              "      <td>United States</td>\n",
              "      <td>September 8, 2018</td>\n",
              "      <td>2013</td>\n",
              "      <td>TV-Y7-FV</td>\n",
              "      <td>1</td>\n",
              "      <td>Kids' TV</td>\n",
              "      <td>With the help of three human allies, the Autob...</td>\n",
              "    </tr>\n",
              "    <tr>\n",
              "      <th>3</th>\n",
              "      <td>80058654</td>\n",
              "      <td>TV Show</td>\n",
              "      <td>Transformers: Robots in Disguise</td>\n",
              "      <td>NaN</td>\n",
              "      <td>Will Friedle, Darren Criss, Constance Zimmer, ...</td>\n",
              "      <td>United States</td>\n",
              "      <td>September 8, 2018</td>\n",
              "      <td>2016</td>\n",
              "      <td>TV-Y7</td>\n",
              "      <td>1</td>\n",
              "      <td>Kids' TV</td>\n",
              "      <td>When a prison ship crash unleashes hundreds of...</td>\n",
              "    </tr>\n",
              "    <tr>\n",
              "      <th>5</th>\n",
              "      <td>80163890</td>\n",
              "      <td>TV Show</td>\n",
              "      <td>Apaches</td>\n",
              "      <td>NaN</td>\n",
              "      <td>Alberto Ammann, Eloy Azorín, Verónica Echegui,...</td>\n",
              "      <td>Spain</td>\n",
              "      <td>September 8, 2017</td>\n",
              "      <td>2016</td>\n",
              "      <td>TV-MA</td>\n",
              "      <td>1</td>\n",
              "      <td>Crime TV Shows, International TV Shows, Spanis...</td>\n",
              "      <td>A young journalist is forced into a life of cr...</td>\n",
              "    </tr>\n",
              "    <tr>\n",
              "      <th>8</th>\n",
              "      <td>80117902</td>\n",
              "      <td>TV Show</td>\n",
              "      <td>Fire Chasers</td>\n",
              "      <td>NaN</td>\n",
              "      <td>NaN</td>\n",
              "      <td>United States</td>\n",
              "      <td>September 8, 2017</td>\n",
              "      <td>2017</td>\n",
              "      <td>TV-MA</td>\n",
              "      <td>1</td>\n",
              "      <td>Docuseries, Science &amp; Nature TV</td>\n",
              "      <td>As California's 2016 fire season rages, brave ...</td>\n",
              "    </tr>\n",
              "    <tr>\n",
              "      <th>26</th>\n",
              "      <td>80244601</td>\n",
              "      <td>TV Show</td>\n",
              "      <td>Castle of Stars</td>\n",
              "      <td>NaN</td>\n",
              "      <td>Chaiyapol Pupart, Jintanutda Lummakanon, Worra...</td>\n",
              "      <td>NaN</td>\n",
              "      <td>September 7, 2018</td>\n",
              "      <td>2015</td>\n",
              "      <td>TV-14</td>\n",
              "      <td>1</td>\n",
              "      <td>International TV Shows, Romantic TV Shows, TV ...</td>\n",
              "      <td>As four couples with different lifestyles go t...</td>\n",
              "    </tr>\n",
              "  </tbody>\n",
              "</table>\n",
              "</div>"
            ],
            "text/plain": [
              "     show_id  ...                                        description\n",
              "2   70234439  ...  With the help of three human allies, the Autob...\n",
              "3   80058654  ...  When a prison ship crash unleashes hundreds of...\n",
              "5   80163890  ...  A young journalist is forced into a life of cr...\n",
              "8   80117902  ...  As California's 2016 fire season rages, brave ...\n",
              "26  80244601  ...  As four couples with different lifestyles go t...\n",
              "\n",
              "[5 rows x 12 columns]"
            ]
          },
          "metadata": {
            "tags": []
          },
          "execution_count": 68
        }
      ]
    },
    {
      "cell_type": "markdown",
      "metadata": {
        "id": "0JPXBAOEnexj"
      },
      "source": [
        "after the duration is converted to integer, we can see the description below"
      ]
    },
    {
      "cell_type": "code",
      "metadata": {
        "id": "EWhk-Qxhnexo",
        "outputId": "76c2c590-6be6-4d05-e158-7e5fa65064f9",
        "colab": {
          "base_uri": "https://localhost:8080/",
          "height": 0
        }
      },
      "source": [
        "df_tvshow.describe()"
      ],
      "execution_count": 69,
      "outputs": [
        {
          "output_type": "execute_result",
          "data": {
            "text/html": [
              "<div>\n",
              "<style scoped>\n",
              "    .dataframe tbody tr th:only-of-type {\n",
              "        vertical-align: middle;\n",
              "    }\n",
              "\n",
              "    .dataframe tbody tr th {\n",
              "        vertical-align: top;\n",
              "    }\n",
              "\n",
              "    .dataframe thead th {\n",
              "        text-align: right;\n",
              "    }\n",
              "</style>\n",
              "<table border=\"1\" class=\"dataframe\">\n",
              "  <thead>\n",
              "    <tr style=\"text-align: right;\">\n",
              "      <th></th>\n",
              "      <th>show_id</th>\n",
              "      <th>release_year</th>\n",
              "      <th>duration</th>\n",
              "    </tr>\n",
              "  </thead>\n",
              "  <tbody>\n",
              "    <tr>\n",
              "      <th>count</th>\n",
              "      <td>1.969000e+03</td>\n",
              "      <td>1969.000000</td>\n",
              "      <td>1969.000000</td>\n",
              "    </tr>\n",
              "    <tr>\n",
              "      <th>mean</th>\n",
              "      <td>7.904892e+07</td>\n",
              "      <td>2015.536313</td>\n",
              "      <td>1.779584</td>\n",
              "    </tr>\n",
              "    <tr>\n",
              "      <th>std</th>\n",
              "      <td>3.462549e+06</td>\n",
              "      <td>5.799568</td>\n",
              "      <td>1.624936</td>\n",
              "    </tr>\n",
              "    <tr>\n",
              "      <th>min</th>\n",
              "      <td>6.003679e+07</td>\n",
              "      <td>1925.000000</td>\n",
              "      <td>1.000000</td>\n",
              "    </tr>\n",
              "    <tr>\n",
              "      <th>25%</th>\n",
              "      <td>8.009178e+07</td>\n",
              "      <td>2015.000000</td>\n",
              "      <td>1.000000</td>\n",
              "    </tr>\n",
              "    <tr>\n",
              "      <th>50%</th>\n",
              "      <td>8.017572e+07</td>\n",
              "      <td>2017.000000</td>\n",
              "      <td>1.000000</td>\n",
              "    </tr>\n",
              "    <tr>\n",
              "      <th>75%</th>\n",
              "      <td>8.023986e+07</td>\n",
              "      <td>2018.000000</td>\n",
              "      <td>2.000000</td>\n",
              "    </tr>\n",
              "    <tr>\n",
              "      <th>max</th>\n",
              "      <td>8.123560e+07</td>\n",
              "      <td>2020.000000</td>\n",
              "      <td>15.000000</td>\n",
              "    </tr>\n",
              "  </tbody>\n",
              "</table>\n",
              "</div>"
            ],
            "text/plain": [
              "            show_id  release_year     duration\n",
              "count  1.969000e+03   1969.000000  1969.000000\n",
              "mean   7.904892e+07   2015.536313     1.779584\n",
              "std    3.462549e+06      5.799568     1.624936\n",
              "min    6.003679e+07   1925.000000     1.000000\n",
              "25%    8.009178e+07   2015.000000     1.000000\n",
              "50%    8.017572e+07   2017.000000     1.000000\n",
              "75%    8.023986e+07   2018.000000     2.000000\n",
              "max    8.123560e+07   2020.000000    15.000000"
            ]
          },
          "metadata": {
            "tags": []
          },
          "execution_count": 69
        }
      ]
    },
    {
      "cell_type": "code",
      "metadata": {
        "id": "dbf6h6Hpn0Lz",
        "outputId": "fe486696-f136-4884-8c70-a274f7ced976",
        "colab": {
          "base_uri": "https://localhost:8080/",
          "height": 0
        }
      },
      "source": [
        "print(df_tvshow.duration.value_counts())\n",
        "df_tvshow.duration.value_counts().plot(kind=\"bar\")"
      ],
      "execution_count": 70,
      "outputs": [
        {
          "output_type": "stream",
          "text": [
            "1     1321\n",
            "2      304\n",
            "3      158\n",
            "4       61\n",
            "5       46\n",
            "6       22\n",
            "7       21\n",
            "8       16\n",
            "9        7\n",
            "11       3\n",
            "10       3\n",
            "15       2\n",
            "13       2\n",
            "12       2\n",
            "14       1\n",
            "Name: duration, dtype: int64\n"
          ],
          "name": "stdout"
        },
        {
          "output_type": "execute_result",
          "data": {
            "text/plain": [
              "<matplotlib.axes._subplots.AxesSubplot at 0x7f3c43129a90>"
            ]
          },
          "metadata": {
            "tags": []
          },
          "execution_count": 70
        },
        {
          "output_type": "display_data",
          "data": {
            "image/png": "[encoded data removed]",
            "text/plain": [
              "<Figure size 432x288 with 1 Axes>"
            ]
          },
          "metadata": {
            "tags": [],
            "needs_background": "light"
          }
        }
      ]
    },
    {
      "cell_type": "markdown",
      "metadata": {
        "id": "wQmvMDppruQF"
      },
      "source": [
        "#### Get Average Duration per listed_in\n",
        "to-do: pecah listed_in berdasarkan koma"
      ]
    },
    {
      "cell_type": "code",
      "metadata": {
        "id": "fT6oW1WqruQK",
        "outputId": "f32934ec-65f5-45fa-d49c-162637030a33",
        "colab": {
          "base_uri": "https://localhost:8080/",
          "height": 455
        }
      },
      "source": [
        "df_tvshow.groupby('listed_in').mean()[['duration']]"
      ],
      "execution_count": 71,
      "outputs": [
        {
          "output_type": "execute_result",
          "data": {
            "text/html": [
              "<div>\n",
              "<style scoped>\n",
              "    .dataframe tbody tr th:only-of-type {\n",
              "        vertical-align: middle;\n",
              "    }\n",
              "\n",
              "    .dataframe tbody tr th {\n",
              "        vertical-align: top;\n",
              "    }\n",
              "\n",
              "    .dataframe thead th {\n",
              "        text-align: right;\n",
              "    }\n",
              "</style>\n",
              "<table border=\"1\" class=\"dataframe\">\n",
              "  <thead>\n",
              "    <tr style=\"text-align: right;\">\n",
              "      <th></th>\n",
              "      <th>duration</th>\n",
              "    </tr>\n",
              "    <tr>\n",
              "      <th>listed_in</th>\n",
              "      <th></th>\n",
              "    </tr>\n",
              "  </thead>\n",
              "  <tbody>\n",
              "    <tr>\n",
              "      <th>Anime Series</th>\n",
              "      <td>1.500000</td>\n",
              "    </tr>\n",
              "    <tr>\n",
              "      <th>Anime Series, Crime TV Shows</th>\n",
              "      <td>1.333333</td>\n",
              "    </tr>\n",
              "    <tr>\n",
              "      <th>Anime Series, Crime TV Shows, International TV Shows</th>\n",
              "      <td>1.142857</td>\n",
              "    </tr>\n",
              "    <tr>\n",
              "      <th>Anime Series, Crime TV Shows, TV Thrillers</th>\n",
              "      <td>1.000000</td>\n",
              "    </tr>\n",
              "    <tr>\n",
              "      <th>Anime Series, International TV Shows</th>\n",
              "      <td>1.677419</td>\n",
              "    </tr>\n",
              "    <tr>\n",
              "      <th>...</th>\n",
              "      <td>...</td>\n",
              "    </tr>\n",
              "    <tr>\n",
              "      <th>TV Horror, TV Mysteries, TV Thrillers</th>\n",
              "      <td>4.666667</td>\n",
              "    </tr>\n",
              "    <tr>\n",
              "      <th>TV Horror, TV Mysteries, Teen TV Shows</th>\n",
              "      <td>1.000000</td>\n",
              "    </tr>\n",
              "    <tr>\n",
              "      <th>TV Horror, Teen TV Shows</th>\n",
              "      <td>1.000000</td>\n",
              "    </tr>\n",
              "    <tr>\n",
              "      <th>TV Sci-Fi &amp; Fantasy, TV Thrillers</th>\n",
              "      <td>3.000000</td>\n",
              "    </tr>\n",
              "    <tr>\n",
              "      <th>TV Shows</th>\n",
              "      <td>1.000000</td>\n",
              "    </tr>\n",
              "  </tbody>\n",
              "</table>\n",
              "<p>212 rows × 1 columns</p>\n",
              "</div>"
            ],
            "text/plain": [
              "                                                    duration\n",
              "listed_in                                                   \n",
              "Anime Series                                        1.500000\n",
              "Anime Series, Crime TV Shows                        1.333333\n",
              "Anime Series, Crime TV Shows, International TV ...  1.142857\n",
              "Anime Series, Crime TV Shows, TV Thrillers          1.000000\n",
              "Anime Series, International TV Shows                1.677419\n",
              "...                                                      ...\n",
              "TV Horror, TV Mysteries, TV Thrillers               4.666667\n",
              "TV Horror, TV Mysteries, Teen TV Shows              1.000000\n",
              "TV Horror, Teen TV Shows                            1.000000\n",
              "TV Sci-Fi & Fantasy, TV Thrillers                   3.000000\n",
              "TV Shows                                            1.000000\n",
              "\n",
              "[212 rows x 1 columns]"
            ]
          },
          "metadata": {
            "tags": []
          },
          "execution_count": 71
        }
      ]
    },
    {
      "cell_type": "code",
      "metadata": {
        "id": "8fcGFjEf93R0",
        "outputId": "6b972249-5570-40dc-f8a0-745672d2ccc1",
        "colab": {
          "base_uri": "https://localhost:8080/"
        }
      },
      "source": [
        "df_tvshow_listed_str = ', '.join(df_tvshow['listed_in'])\n",
        "df_tvshow_listed_list = list(set(df_tvshow_listed_str.split(', ')))\n",
        "len(df_tvshow_listed_list)"
      ],
      "execution_count": 72,
      "outputs": [
        {
          "output_type": "execute_result",
          "data": {
            "text/plain": [
              "22"
            ]
          },
          "metadata": {
            "tags": []
          },
          "execution_count": 72
        }
      ]
    },
    {
      "cell_type": "code",
      "metadata": {
        "id": "hNRlSbYJ-p8d",
        "outputId": "327e68f7-ce79-4a95-8e72-9c255b1143e7",
        "colab": {
          "base_uri": "https://localhost:8080/",
          "height": 740
        }
      },
      "source": [
        "df_tvshow[df_tvshow['listed_in'].str.contains(df_tvshow_listed_list[0])]['duration'].mean()\n",
        "\n",
        "tvshow_listedin_duration = []\n",
        "for li in df_tvshow_listed_list:\n",
        "    tvshow_listedin_duration.append((li, df_tvshow[df_tvshow['listed_in'].str.contains(li)]['duration'].mean()))\n",
        "\n",
        "df_tvshow_listedin_duration = pd.DataFrame(tvshow_listedin_duration, columns=['listed_in', 'avg_duration'])    \n",
        "df_tvshow_listedin_duration"
      ],
      "execution_count": 73,
      "outputs": [
        {
          "output_type": "execute_result",
          "data": {
            "text/html": [
              "<div>\n",
              "<style scoped>\n",
              "    .dataframe tbody tr th:only-of-type {\n",
              "        vertical-align: middle;\n",
              "    }\n",
              "\n",
              "    .dataframe tbody tr th {\n",
              "        vertical-align: top;\n",
              "    }\n",
              "\n",
              "    .dataframe thead th {\n",
              "        text-align: right;\n",
              "    }\n",
              "</style>\n",
              "<table border=\"1\" class=\"dataframe\">\n",
              "  <thead>\n",
              "    <tr style=\"text-align: right;\">\n",
              "      <th></th>\n",
              "      <th>listed_in</th>\n",
              "      <th>avg_duration</th>\n",
              "    </tr>\n",
              "  </thead>\n",
              "  <tbody>\n",
              "    <tr>\n",
              "      <th>0</th>\n",
              "      <td>Anime Series</td>\n",
              "      <td>1.589744</td>\n",
              "    </tr>\n",
              "    <tr>\n",
              "      <th>1</th>\n",
              "      <td>Spanish-Language TV Shows</td>\n",
              "      <td>1.547009</td>\n",
              "    </tr>\n",
              "    <tr>\n",
              "      <th>2</th>\n",
              "      <td>Korean TV Shows</td>\n",
              "      <td>1.219697</td>\n",
              "    </tr>\n",
              "    <tr>\n",
              "      <th>3</th>\n",
              "      <td>Science &amp; Nature TV</td>\n",
              "      <td>1.343284</td>\n",
              "    </tr>\n",
              "    <tr>\n",
              "      <th>4</th>\n",
              "      <td>TV Mysteries</td>\n",
              "      <td>2.391304</td>\n",
              "    </tr>\n",
              "    <tr>\n",
              "      <th>5</th>\n",
              "      <td>Stand-Up Comedy &amp; Talk Shows</td>\n",
              "      <td>1.880952</td>\n",
              "    </tr>\n",
              "    <tr>\n",
              "      <th>6</th>\n",
              "      <td>Crime TV Shows</td>\n",
              "      <td>1.757576</td>\n",
              "    </tr>\n",
              "    <tr>\n",
              "      <th>7</th>\n",
              "      <td>Classic &amp; Cult TV</td>\n",
              "      <td>5.833333</td>\n",
              "    </tr>\n",
              "    <tr>\n",
              "      <th>8</th>\n",
              "      <td>International TV Shows</td>\n",
              "      <td>1.371628</td>\n",
              "    </tr>\n",
              "    <tr>\n",
              "      <th>9</th>\n",
              "      <td>Romantic TV Shows</td>\n",
              "      <td>1.435252</td>\n",
              "    </tr>\n",
              "    <tr>\n",
              "      <th>10</th>\n",
              "      <td>TV Comedies</td>\n",
              "      <td>2.178899</td>\n",
              "    </tr>\n",
              "    <tr>\n",
              "      <th>11</th>\n",
              "      <td>Reality TV</td>\n",
              "      <td>1.627451</td>\n",
              "    </tr>\n",
              "    <tr>\n",
              "      <th>12</th>\n",
              "      <td>TV Shows</td>\n",
              "      <td>1.564455</td>\n",
              "    </tr>\n",
              "    <tr>\n",
              "      <th>13</th>\n",
              "      <td>Docuseries</td>\n",
              "      <td>1.372760</td>\n",
              "    </tr>\n",
              "    <tr>\n",
              "      <th>14</th>\n",
              "      <td>Teen TV Shows</td>\n",
              "      <td>1.795455</td>\n",
              "    </tr>\n",
              "    <tr>\n",
              "      <th>15</th>\n",
              "      <td>TV Action &amp; Adventure</td>\n",
              "      <td>2.428571</td>\n",
              "    </tr>\n",
              "    <tr>\n",
              "      <th>16</th>\n",
              "      <td>British TV Shows</td>\n",
              "      <td>1.823810</td>\n",
              "    </tr>\n",
              "    <tr>\n",
              "      <th>17</th>\n",
              "      <td>TV Sci-Fi &amp; Fantasy</td>\n",
              "      <td>2.573529</td>\n",
              "    </tr>\n",
              "    <tr>\n",
              "      <th>18</th>\n",
              "      <td>TV Thrillers</td>\n",
              "      <td>2.136364</td>\n",
              "    </tr>\n",
              "    <tr>\n",
              "      <th>19</th>\n",
              "      <td>Kids' TV</td>\n",
              "      <td>1.929878</td>\n",
              "    </tr>\n",
              "    <tr>\n",
              "      <th>20</th>\n",
              "      <td>TV Dramas</td>\n",
              "      <td>1.863105</td>\n",
              "    </tr>\n",
              "    <tr>\n",
              "      <th>21</th>\n",
              "      <td>TV Horror</td>\n",
              "      <td>2.277778</td>\n",
              "    </tr>\n",
              "  </tbody>\n",
              "</table>\n",
              "</div>"
            ],
            "text/plain": [
              "                       listed_in  avg_duration\n",
              "0                   Anime Series      1.589744\n",
              "1      Spanish-Language TV Shows      1.547009\n",
              "2                Korean TV Shows      1.219697\n",
              "3            Science & Nature TV      1.343284\n",
              "4                   TV Mysteries      2.391304\n",
              "5   Stand-Up Comedy & Talk Shows      1.880952\n",
              "6                 Crime TV Shows      1.757576\n",
              "7              Classic & Cult TV      5.833333\n",
              "8         International TV Shows      1.371628\n",
              "9              Romantic TV Shows      1.435252\n",
              "10                   TV Comedies      2.178899\n",
              "11                    Reality TV      1.627451\n",
              "12                      TV Shows      1.564455\n",
              "13                    Docuseries      1.372760\n",
              "14                 Teen TV Shows      1.795455\n",
              "15         TV Action & Adventure      2.428571\n",
              "16              British TV Shows      1.823810\n",
              "17           TV Sci-Fi & Fantasy      2.573529\n",
              "18                  TV Thrillers      2.136364\n",
              "19                      Kids' TV      1.929878\n",
              "20                     TV Dramas      1.863105\n",
              "21                     TV Horror      2.277778"
            ]
          },
          "metadata": {
            "tags": []
          },
          "execution_count": 73
        }
      ]
    },
    {
      "cell_type": "code",
      "metadata": {
        "id": "0p4CFt8dACsr",
        "outputId": "3a415ff7-ff44-4ad1-a184-d05ebfe7c35d",
        "colab": {
          "base_uri": "https://localhost:8080/",
          "height": 483
        }
      },
      "source": [
        "fig, ax = plt.subplots(figsize=(12, 6))\n",
        "bars = ax.bar(np.arange(len(df_tvshow_listedin_duration)), height=df_tvshow_listedin_duration['avg_duration'])\n",
        "ax.set_xticks(np.arange(len(df_tvshow_listedin_duration)))\n",
        "ax.set_xticklabels(df_tvshow_listedin_duration['listed_in'], rotation=45, ha=\"right\")\n",
        "    \n",
        "plt.show()"
      ],
      "execution_count": 85,
      "outputs": [
        {
          "output_type": "display_data",
          "data": {
            "image/png": "[encoded data removed]",
            "text/plain": [
              "<Figure size 864x432 with 1 Axes>"
            ]
          },
          "metadata": {
            "tags": [],
            "needs_background": "light"
          }
        }
      ]
    },
    {
      "cell_type": "markdown",
      "metadata": {
        "id": "sMh-oYWAsHh2"
      },
      "source": [
        "## Analisis rating per director"
      ]
    },
    {
      "cell_type": "markdown",
      "metadata": {
        "id": "ESM9oMhkzf3t"
      },
      "source": [
        "### Fill null values on column rating with 'unknown'"
      ]
    },
    {
      "cell_type": "code",
      "metadata": {
        "id": "u38DOEnpyx-e"
      },
      "source": [
        "df['rating'] = df.rating.fillna('unknown')"
      ],
      "execution_count": 31,
      "outputs": []
    },
    {
      "cell_type": "markdown",
      "metadata": {
        "id": "Dv8rnZ3A0xjP"
      },
      "source": [
        "### Show the combination of each director and each rating "
      ]
    },
    {
      "cell_type": "code",
      "metadata": {
        "id": "GO_GAIsNsQTg",
        "outputId": "d0e9a132-3d9b-4db1-bd3a-96a2585cccb0",
        "colab": {
          "base_uri": "https://localhost:8080/",
          "height": 455
        }
      },
      "source": [
        "rating_per_director = (df.groupby(['director', 'rating'])['rating'].count().unstack().fillna(0)).astype(int)\n",
        "rating_per_director['total'] = df.groupby('director')['rating'].count()\n",
        "rating_per_director['most_rating'] = (rating_per_director.loc[:, rating_per_director.columns!='total']).idxmax(axis=1)\n",
        "\n",
        "rating_per_director.sort_values(['total'], ascending=False)"
      ],
      "execution_count": 62,
      "outputs": [
        {
          "output_type": "execute_result",
          "data": {
            "text/html": [
              "<div>\n",
              "<style scoped>\n",
              "    .dataframe tbody tr th:only-of-type {\n",
              "        vertical-align: middle;\n",
              "    }\n",
              "\n",
              "    .dataframe tbody tr th {\n",
              "        vertical-align: top;\n",
              "    }\n",
              "\n",
              "    .dataframe thead th {\n",
              "        text-align: right;\n",
              "    }\n",
              "</style>\n",
              "<table border=\"1\" class=\"dataframe\">\n",
              "  <thead>\n",
              "    <tr style=\"text-align: right;\">\n",
              "      <th>rating</th>\n",
              "      <th>G</th>\n",
              "      <th>NC-17</th>\n",
              "      <th>NR</th>\n",
              "      <th>PG</th>\n",
              "      <th>PG-13</th>\n",
              "      <th>R</th>\n",
              "      <th>TV-14</th>\n",
              "      <th>TV-G</th>\n",
              "      <th>TV-MA</th>\n",
              "      <th>TV-PG</th>\n",
              "      <th>TV-Y</th>\n",
              "      <th>TV-Y7</th>\n",
              "      <th>TV-Y7-FV</th>\n",
              "      <th>UR</th>\n",
              "      <th>unknown</th>\n",
              "      <th>total</th>\n",
              "      <th>most_rating</th>\n",
              "    </tr>\n",
              "    <tr>\n",
              "      <th>director</th>\n",
              "      <th></th>\n",
              "      <th></th>\n",
              "      <th></th>\n",
              "      <th></th>\n",
              "      <th></th>\n",
              "      <th></th>\n",
              "      <th></th>\n",
              "      <th></th>\n",
              "      <th></th>\n",
              "      <th></th>\n",
              "      <th></th>\n",
              "      <th></th>\n",
              "      <th></th>\n",
              "      <th></th>\n",
              "      <th></th>\n",
              "      <th></th>\n",
              "      <th></th>\n",
              "    </tr>\n",
              "  </thead>\n",
              "  <tbody>\n",
              "    <tr>\n",
              "      <th>Raúl Campos, Jan Suter</th>\n",
              "      <td>0</td>\n",
              "      <td>0</td>\n",
              "      <td>0</td>\n",
              "      <td>0</td>\n",
              "      <td>0</td>\n",
              "      <td>0</td>\n",
              "      <td>1</td>\n",
              "      <td>0</td>\n",
              "      <td>17</td>\n",
              "      <td>0</td>\n",
              "      <td>0</td>\n",
              "      <td>0</td>\n",
              "      <td>0</td>\n",
              "      <td>0</td>\n",
              "      <td>0</td>\n",
              "      <td>18</td>\n",
              "      <td>TV-MA</td>\n",
              "    </tr>\n",
              "    <tr>\n",
              "      <th>Marcus Raboy</th>\n",
              "      <td>0</td>\n",
              "      <td>0</td>\n",
              "      <td>1</td>\n",
              "      <td>0</td>\n",
              "      <td>0</td>\n",
              "      <td>0</td>\n",
              "      <td>3</td>\n",
              "      <td>0</td>\n",
              "      <td>10</td>\n",
              "      <td>0</td>\n",
              "      <td>0</td>\n",
              "      <td>0</td>\n",
              "      <td>0</td>\n",
              "      <td>0</td>\n",
              "      <td>0</td>\n",
              "      <td>14</td>\n",
              "      <td>TV-MA</td>\n",
              "    </tr>\n",
              "    <tr>\n",
              "      <th>Jay Karas</th>\n",
              "      <td>0</td>\n",
              "      <td>0</td>\n",
              "      <td>2</td>\n",
              "      <td>0</td>\n",
              "      <td>0</td>\n",
              "      <td>0</td>\n",
              "      <td>3</td>\n",
              "      <td>0</td>\n",
              "      <td>8</td>\n",
              "      <td>0</td>\n",
              "      <td>0</td>\n",
              "      <td>0</td>\n",
              "      <td>0</td>\n",
              "      <td>0</td>\n",
              "      <td>0</td>\n",
              "      <td>13</td>\n",
              "      <td>TV-MA</td>\n",
              "    </tr>\n",
              "    <tr>\n",
              "      <th>Jay Chapman</th>\n",
              "      <td>0</td>\n",
              "      <td>0</td>\n",
              "      <td>1</td>\n",
              "      <td>0</td>\n",
              "      <td>0</td>\n",
              "      <td>0</td>\n",
              "      <td>1</td>\n",
              "      <td>0</td>\n",
              "      <td>10</td>\n",
              "      <td>0</td>\n",
              "      <td>0</td>\n",
              "      <td>0</td>\n",
              "      <td>0</td>\n",
              "      <td>0</td>\n",
              "      <td>0</td>\n",
              "      <td>12</td>\n",
              "      <td>TV-MA</td>\n",
              "    </tr>\n",
              "    <tr>\n",
              "      <th>Steven Spielberg</th>\n",
              "      <td>0</td>\n",
              "      <td>0</td>\n",
              "      <td>0</td>\n",
              "      <td>3</td>\n",
              "      <td>5</td>\n",
              "      <td>1</td>\n",
              "      <td>0</td>\n",
              "      <td>0</td>\n",
              "      <td>0</td>\n",
              "      <td>0</td>\n",
              "      <td>0</td>\n",
              "      <td>0</td>\n",
              "      <td>0</td>\n",
              "      <td>0</td>\n",
              "      <td>0</td>\n",
              "      <td>9</td>\n",
              "      <td>PG-13</td>\n",
              "    </tr>\n",
              "    <tr>\n",
              "      <th>...</th>\n",
              "      <td>...</td>\n",
              "      <td>...</td>\n",
              "      <td>...</td>\n",
              "      <td>...</td>\n",
              "      <td>...</td>\n",
              "      <td>...</td>\n",
              "      <td>...</td>\n",
              "      <td>...</td>\n",
              "      <td>...</td>\n",
              "      <td>...</td>\n",
              "      <td>...</td>\n",
              "      <td>...</td>\n",
              "      <td>...</td>\n",
              "      <td>...</td>\n",
              "      <td>...</td>\n",
              "      <td>...</td>\n",
              "      <td>...</td>\n",
              "    </tr>\n",
              "    <tr>\n",
              "      <th>John Michael McDonagh</th>\n",
              "      <td>0</td>\n",
              "      <td>0</td>\n",
              "      <td>0</td>\n",
              "      <td>0</td>\n",
              "      <td>0</td>\n",
              "      <td>1</td>\n",
              "      <td>0</td>\n",
              "      <td>0</td>\n",
              "      <td>0</td>\n",
              "      <td>0</td>\n",
              "      <td>0</td>\n",
              "      <td>0</td>\n",
              "      <td>0</td>\n",
              "      <td>0</td>\n",
              "      <td>0</td>\n",
              "      <td>1</td>\n",
              "      <td>R</td>\n",
              "    </tr>\n",
              "    <tr>\n",
              "      <th>John Mikulak, Joshua Brown</th>\n",
              "      <td>0</td>\n",
              "      <td>0</td>\n",
              "      <td>0</td>\n",
              "      <td>0</td>\n",
              "      <td>0</td>\n",
              "      <td>0</td>\n",
              "      <td>1</td>\n",
              "      <td>0</td>\n",
              "      <td>0</td>\n",
              "      <td>0</td>\n",
              "      <td>0</td>\n",
              "      <td>0</td>\n",
              "      <td>0</td>\n",
              "      <td>0</td>\n",
              "      <td>0</td>\n",
              "      <td>1</td>\n",
              "      <td>TV-14</td>\n",
              "    </tr>\n",
              "    <tr>\n",
              "      <th>John Milius</th>\n",
              "      <td>0</td>\n",
              "      <td>0</td>\n",
              "      <td>0</td>\n",
              "      <td>0</td>\n",
              "      <td>1</td>\n",
              "      <td>0</td>\n",
              "      <td>0</td>\n",
              "      <td>0</td>\n",
              "      <td>0</td>\n",
              "      <td>0</td>\n",
              "      <td>0</td>\n",
              "      <td>0</td>\n",
              "      <td>0</td>\n",
              "      <td>0</td>\n",
              "      <td>0</td>\n",
              "      <td>1</td>\n",
              "      <td>PG-13</td>\n",
              "    </tr>\n",
              "    <tr>\n",
              "      <th>John Murlowski</th>\n",
              "      <td>0</td>\n",
              "      <td>0</td>\n",
              "      <td>0</td>\n",
              "      <td>0</td>\n",
              "      <td>0</td>\n",
              "      <td>0</td>\n",
              "      <td>1</td>\n",
              "      <td>0</td>\n",
              "      <td>0</td>\n",
              "      <td>0</td>\n",
              "      <td>0</td>\n",
              "      <td>0</td>\n",
              "      <td>0</td>\n",
              "      <td>0</td>\n",
              "      <td>0</td>\n",
              "      <td>1</td>\n",
              "      <td>TV-14</td>\n",
              "    </tr>\n",
              "    <tr>\n",
              "      <th>Kevin Phillips</th>\n",
              "      <td>0</td>\n",
              "      <td>0</td>\n",
              "      <td>0</td>\n",
              "      <td>0</td>\n",
              "      <td>0</td>\n",
              "      <td>0</td>\n",
              "      <td>0</td>\n",
              "      <td>0</td>\n",
              "      <td>1</td>\n",
              "      <td>0</td>\n",
              "      <td>0</td>\n",
              "      <td>0</td>\n",
              "      <td>0</td>\n",
              "      <td>0</td>\n",
              "      <td>0</td>\n",
              "      <td>1</td>\n",
              "      <td>TV-MA</td>\n",
              "    </tr>\n",
              "  </tbody>\n",
              "</table>\n",
              "<p>3301 rows × 17 columns</p>\n",
              "</div>"
            ],
            "text/plain": [
              "rating                      G  NC-17  NR  PG  ...  UR  unknown  total  most_rating\n",
              "director                                      ...                                 \n",
              "Raúl Campos, Jan Suter      0      0   0   0  ...   0        0     18        TV-MA\n",
              "Marcus Raboy                0      0   1   0  ...   0        0     14        TV-MA\n",
              "Jay Karas                   0      0   2   0  ...   0        0     13        TV-MA\n",
              "Jay Chapman                 0      0   1   0  ...   0        0     12        TV-MA\n",
              "Steven Spielberg            0      0   0   3  ...   0        0      9        PG-13\n",
              "...                        ..    ...  ..  ..  ...  ..      ...    ...          ...\n",
              "John Michael McDonagh       0      0   0   0  ...   0        0      1            R\n",
              "John Mikulak, Joshua Brown  0      0   0   0  ...   0        0      1        TV-14\n",
              "John Milius                 0      0   0   0  ...   0        0      1        PG-13\n",
              "John Murlowski              0      0   0   0  ...   0        0      1        TV-14\n",
              "Kevin Phillips              0      0   0   0  ...   0        0      1        TV-MA\n",
              "\n",
              "[3301 rows x 17 columns]"
            ]
          },
          "metadata": {
            "tags": []
          },
          "execution_count": 62
        }
      ]
    },
    {
      "cell_type": "code",
      "metadata": {
        "id": "Ew7l54ccBFKj",
        "outputId": "dcf36be3-d782-4004-ac05-2941f4348fd4",
        "colab": {
          "base_uri": "https://localhost:8080/"
        }
      },
      "source": [
        "len(df.director.unique())"
      ],
      "execution_count": 91,
      "outputs": [
        {
          "output_type": "execute_result",
          "data": {
            "text/plain": [
              "3302"
            ]
          },
          "metadata": {
            "tags": []
          },
          "execution_count": 91
        }
      ]
    },
    {
      "cell_type": "code",
      "metadata": {
        "id": "yED04MYFBq9f"
      },
      "source": [
        "df['director'] = df.director.fillna('unknown')"
      ],
      "execution_count": 90,
      "outputs": []
    },
    {
      "cell_type": "code",
      "metadata": {
        "id": "j83Bzb44BVwt",
        "outputId": "a3fd0a44-f291-4927-ca44-42928f42d4a2",
        "colab": {
          "base_uri": "https://localhost:8080/"
        }
      },
      "source": [
        "directors_str = ', '.join(df['director'])\n",
        "directors = list(set(directors_str.split(', ')))\n",
        "len(directors)"
      ],
      "execution_count": 93,
      "outputs": [
        {
          "output_type": "execute_result",
          "data": {
            "text/plain": [
              "3656"
            ]
          },
          "metadata": {
            "tags": []
          },
          "execution_count": 93
        }
      ]
    },
    {
      "cell_type": "code",
      "metadata": {
        "id": "pKD6e4S_CcAe"
      },
      "source": [
        "df['cast'] = df.cast.fillna('unknown')"
      ],
      "execution_count": 99,
      "outputs": []
    },
    {
      "cell_type": "code",
      "metadata": {
        "id": "AFKAb59zCUFi",
        "outputId": "9341a2f2-583f-4c3f-8d8d-5ccf02695466",
        "colab": {
          "base_uri": "https://localhost:8080/"
        }
      },
      "source": [
        "len(df.cast.unique())"
      ],
      "execution_count": 101,
      "outputs": [
        {
          "output_type": "execute_result",
          "data": {
            "text/plain": [
              "5470"
            ]
          },
          "metadata": {
            "tags": []
          },
          "execution_count": 101
        }
      ]
    },
    {
      "cell_type": "code",
      "metadata": {
        "id": "Al1hFQpPCqnd",
        "outputId": "9c516a6b-5723-4623-cf97-9bc1be94b166",
        "colab": {
          "base_uri": "https://localhost:8080/"
        }
      },
      "source": [
        "casts_str = ', '.join(df['cast'])\n",
        "casts = list(set(casts_str.split(', ')))\n",
        "len(casts)"
      ],
      "execution_count": 102,
      "outputs": [
        {
          "output_type": "execute_result",
          "data": {
            "text/plain": [
              "27406"
            ]
          },
          "metadata": {
            "tags": []
          },
          "execution_count": 102
        }
      ]
    },
    {
      "cell_type": "code",
      "metadata": {
        "id": "Y1vjrXS7C2gU",
        "outputId": "66d792fd-961d-4078-f3ac-f9c9c4372676",
        "colab": {
          "base_uri": "https://localhost:8080/",
          "height": 455
        }
      },
      "source": [
        "cast_per_director = (df.groupby(['director', 'cast'])['cast'].count().unstack().fillna(0)).astype(int)\n",
        "cast_per_director['total'] = df.groupby('director')['cast'].count()\n",
        "cast_per_director['most_casted'] = (cast_per_director.loc[:, cast_per_director.columns!='total']).idxmax(axis=1)\n",
        "cast_per_director['most_casted_sum'] = (cast_per_director.loc[:, cast_per_director.columns!='total']).max(axis=1)\n",
        "\n",
        "cast_per_director[['total', 'most_casted', 'most_casted_sum']].sort_values(['total'], ascending=False)"
      ],
      "execution_count": 107,
      "outputs": [
        {
          "output_type": "execute_result",
          "data": {
            "text/html": [
              "<div>\n",
              "<style scoped>\n",
              "    .dataframe tbody tr th:only-of-type {\n",
              "        vertical-align: middle;\n",
              "    }\n",
              "\n",
              "    .dataframe tbody tr th {\n",
              "        vertical-align: top;\n",
              "    }\n",
              "\n",
              "    .dataframe thead th {\n",
              "        text-align: right;\n",
              "    }\n",
              "</style>\n",
              "<table border=\"1\" class=\"dataframe\">\n",
              "  <thead>\n",
              "    <tr style=\"text-align: right;\">\n",
              "      <th>cast</th>\n",
              "      <th>total</th>\n",
              "      <th>most_casted</th>\n",
              "      <th>most_casted_sum</th>\n",
              "    </tr>\n",
              "    <tr>\n",
              "      <th>director</th>\n",
              "      <th></th>\n",
              "      <th></th>\n",
              "      <th></th>\n",
              "    </tr>\n",
              "  </thead>\n",
              "  <tbody>\n",
              "    <tr>\n",
              "      <th>unknown</th>\n",
              "      <td>1969</td>\n",
              "      <td>unknown</td>\n",
              "      <td>214</td>\n",
              "    </tr>\n",
              "    <tr>\n",
              "      <th>Raúl Campos, Jan Suter</th>\n",
              "      <td>18</td>\n",
              "      <td>Sofía Niño de Rivera</td>\n",
              "      <td>2</td>\n",
              "    </tr>\n",
              "    <tr>\n",
              "      <th>Marcus Raboy</th>\n",
              "      <td>14</td>\n",
              "      <td>Vir Das</td>\n",
              "      <td>2</td>\n",
              "    </tr>\n",
              "    <tr>\n",
              "      <th>Jay Karas</th>\n",
              "      <td>13</td>\n",
              "      <td>Bill Burr</td>\n",
              "      <td>3</td>\n",
              "    </tr>\n",
              "    <tr>\n",
              "      <th>Jay Chapman</th>\n",
              "      <td>12</td>\n",
              "      <td>D.L. Hughley</td>\n",
              "      <td>2</td>\n",
              "    </tr>\n",
              "    <tr>\n",
              "      <th>...</th>\n",
              "      <td>...</td>\n",
              "      <td>...</td>\n",
              "      <td>...</td>\n",
              "    </tr>\n",
              "    <tr>\n",
              "      <th>John Mikulak, Joshua Brown</th>\n",
              "      <td>1</td>\n",
              "      <td>Jan Lewan, Greg Korin</td>\n",
              "      <td>1</td>\n",
              "    </tr>\n",
              "    <tr>\n",
              "      <th>John Milius</th>\n",
              "      <td>1</td>\n",
              "      <td>Patrick Swayze, C. Thomas Howell, Lea Thompson...</td>\n",
              "      <td>1</td>\n",
              "    </tr>\n",
              "    <tr>\n",
              "      <th>John Murlowski</th>\n",
              "      <td>1</td>\n",
              "      <td>Joel Courtney, Calum Worthy, Andi Matichak, Ka...</td>\n",
              "      <td>1</td>\n",
              "    </tr>\n",
              "    <tr>\n",
              "      <th>John Papola</th>\n",
              "      <td>1</td>\n",
              "      <td>Arthur Brooks</td>\n",
              "      <td>1</td>\n",
              "    </tr>\n",
              "    <tr>\n",
              "      <th>Kevin R. Adams, Joe Ksander</th>\n",
              "      <td>1</td>\n",
              "      <td>John Krasinski, Charlyne Yi, Jason Sudeikis, M...</td>\n",
              "      <td>1</td>\n",
              "    </tr>\n",
              "  </tbody>\n",
              "</table>\n",
              "<p>3302 rows × 3 columns</p>\n",
              "</div>"
            ],
            "text/plain": [
              "cast                         total  ... most_casted_sum\n",
              "director                            ...                \n",
              "unknown                       1969  ...             214\n",
              "Raúl Campos, Jan Suter          18  ...               2\n",
              "Marcus Raboy                    14  ...               2\n",
              "Jay Karas                       13  ...               3\n",
              "Jay Chapman                     12  ...               2\n",
              "...                            ...  ...             ...\n",
              "John Mikulak, Joshua Brown       1  ...               1\n",
              "John Milius                      1  ...               1\n",
              "John Murlowski                   1  ...               1\n",
              "John Papola                      1  ...               1\n",
              "Kevin R. Adams, Joe Ksander      1  ...               1\n",
              "\n",
              "[3302 rows x 3 columns]"
            ]
          },
          "metadata": {
            "tags": []
          },
          "execution_count": 107
        }
      ]
    },
    {
      "cell_type": "code",
      "metadata": {
        "id": "xPuRuei_BVxD",
        "outputId": "327e68f7-ce79-4a95-8e72-9c255b1143e7",
        "colab": {
          "base_uri": "https://localhost:8080/",
          "height": 740
        }
      },
      "source": [
        "df_tvshow[df_tvshow['listed_in'].str.contains(df_tvshow_listed_list[0])]['duration'].mean()\n",
        "\n",
        "tvshow_listedin_duration = []\n",
        "for li in df_tvshow_listed_list:\n",
        "    tvshow_listedin_duration.append((li, df_tvshow[df_tvshow['listed_in'].str.contains(li)]['duration'].mean()))\n",
        "\n",
        "df_tvshow_listedin_duration = pd.DataFrame(tvshow_listedin_duration, columns=['listed_in', 'avg_duration'])    \n",
        "df_tvshow_listedin_duration"
      ],
      "execution_count": null,
      "outputs": [
        {
          "output_type": "execute_result",
          "data": {
            "text/html": [
              "<div>\n",
              "<style scoped>\n",
              "    .dataframe tbody tr th:only-of-type {\n",
              "        vertical-align: middle;\n",
              "    }\n",
              "\n",
              "    .dataframe tbody tr th {\n",
              "        vertical-align: top;\n",
              "    }\n",
              "\n",
              "    .dataframe thead th {\n",
              "        text-align: right;\n",
              "    }\n",
              "</style>\n",
              "<table border=\"1\" class=\"dataframe\">\n",
              "  <thead>\n",
              "    <tr style=\"text-align: right;\">\n",
              "      <th></th>\n",
              "      <th>listed_in</th>\n",
              "      <th>avg_duration</th>\n",
              "    </tr>\n",
              "  </thead>\n",
              "  <tbody>\n",
              "    <tr>\n",
              "      <th>0</th>\n",
              "      <td>Anime Series</td>\n",
              "      <td>1.589744</td>\n",
              "    </tr>\n",
              "    <tr>\n",
              "      <th>1</th>\n",
              "      <td>Spanish-Language TV Shows</td>\n",
              "      <td>1.547009</td>\n",
              "    </tr>\n",
              "    <tr>\n",
              "      <th>2</th>\n",
              "      <td>Korean TV Shows</td>\n",
              "      <td>1.219697</td>\n",
              "    </tr>\n",
              "    <tr>\n",
              "      <th>3</th>\n",
              "      <td>Science &amp; Nature TV</td>\n",
              "      <td>1.343284</td>\n",
              "    </tr>\n",
              "    <tr>\n",
              "      <th>4</th>\n",
              "      <td>TV Mysteries</td>\n",
              "      <td>2.391304</td>\n",
              "    </tr>\n",
              "    <tr>\n",
              "      <th>5</th>\n",
              "      <td>Stand-Up Comedy &amp; Talk Shows</td>\n",
              "      <td>1.880952</td>\n",
              "    </tr>\n",
              "    <tr>\n",
              "      <th>6</th>\n",
              "      <td>Crime TV Shows</td>\n",
              "      <td>1.757576</td>\n",
              "    </tr>\n",
              "    <tr>\n",
              "      <th>7</th>\n",
              "      <td>Classic &amp; Cult TV</td>\n",
              "      <td>5.833333</td>\n",
              "    </tr>\n",
              "    <tr>\n",
              "      <th>8</th>\n",
              "      <td>International TV Shows</td>\n",
              "      <td>1.371628</td>\n",
              "    </tr>\n",
              "    <tr>\n",
              "      <th>9</th>\n",
              "      <td>Romantic TV Shows</td>\n",
              "      <td>1.435252</td>\n",
              "    </tr>\n",
              "    <tr>\n",
              "      <th>10</th>\n",
              "      <td>TV Comedies</td>\n",
              "      <td>2.178899</td>\n",
              "    </tr>\n",
              "    <tr>\n",
              "      <th>11</th>\n",
              "      <td>Reality TV</td>\n",
              "      <td>1.627451</td>\n",
              "    </tr>\n",
              "    <tr>\n",
              "      <th>12</th>\n",
              "      <td>TV Shows</td>\n",
              "      <td>1.564455</td>\n",
              "    </tr>\n",
              "    <tr>\n",
              "      <th>13</th>\n",
              "      <td>Docuseries</td>\n",
              "      <td>1.372760</td>\n",
              "    </tr>\n",
              "    <tr>\n",
              "      <th>14</th>\n",
              "      <td>Teen TV Shows</td>\n",
              "      <td>1.795455</td>\n",
              "    </tr>\n",
              "    <tr>\n",
              "      <th>15</th>\n",
              "      <td>TV Action &amp; Adventure</td>\n",
              "      <td>2.428571</td>\n",
              "    </tr>\n",
              "    <tr>\n",
              "      <th>16</th>\n",
              "      <td>British TV Shows</td>\n",
              "      <td>1.823810</td>\n",
              "    </tr>\n",
              "    <tr>\n",
              "      <th>17</th>\n",
              "      <td>TV Sci-Fi &amp; Fantasy</td>\n",
              "      <td>2.573529</td>\n",
              "    </tr>\n",
              "    <tr>\n",
              "      <th>18</th>\n",
              "      <td>TV Thrillers</td>\n",
              "      <td>2.136364</td>\n",
              "    </tr>\n",
              "    <tr>\n",
              "      <th>19</th>\n",
              "      <td>Kids' TV</td>\n",
              "      <td>1.929878</td>\n",
              "    </tr>\n",
              "    <tr>\n",
              "      <th>20</th>\n",
              "      <td>TV Dramas</td>\n",
              "      <td>1.863105</td>\n",
              "    </tr>\n",
              "    <tr>\n",
              "      <th>21</th>\n",
              "      <td>TV Horror</td>\n",
              "      <td>2.277778</td>\n",
              "    </tr>\n",
              "  </tbody>\n",
              "</table>\n",
              "</div>"
            ],
            "text/plain": [
              "                       listed_in  avg_duration\n",
              "0                   Anime Series      1.589744\n",
              "1      Spanish-Language TV Shows      1.547009\n",
              "2                Korean TV Shows      1.219697\n",
              "3            Science & Nature TV      1.343284\n",
              "4                   TV Mysteries      2.391304\n",
              "5   Stand-Up Comedy & Talk Shows      1.880952\n",
              "6                 Crime TV Shows      1.757576\n",
              "7              Classic & Cult TV      5.833333\n",
              "8         International TV Shows      1.371628\n",
              "9              Romantic TV Shows      1.435252\n",
              "10                   TV Comedies      2.178899\n",
              "11                    Reality TV      1.627451\n",
              "12                      TV Shows      1.564455\n",
              "13                    Docuseries      1.372760\n",
              "14                 Teen TV Shows      1.795455\n",
              "15         TV Action & Adventure      2.428571\n",
              "16              British TV Shows      1.823810\n",
              "17           TV Sci-Fi & Fantasy      2.573529\n",
              "18                  TV Thrillers      2.136364\n",
              "19                      Kids' TV      1.929878\n",
              "20                     TV Dramas      1.863105\n",
              "21                     TV Horror      2.277778"
            ]
          },
          "metadata": {
            "tags": []
          },
          "execution_count": 73
        }
      ]
    },
    {
      "cell_type": "markdown",
      "metadata": {
        "id": "uGGvwnLdAu6_"
      },
      "source": [
        "## Cast andalan per director"
      ]
    },
    {
      "cell_type": "code",
      "metadata": {
        "id": "LI3oVVxeAtER",
        "outputId": "5990a608-5364-4676-ba8b-457e3af6771f",
        "colab": {
          "base_uri": "https://localhost:8080/",
          "height": 363
        }
      },
      "source": [
        "df.head()"
      ],
      "execution_count": 86,
      "outputs": [
        {
          "output_type": "execute_result",
          "data": {
            "text/html": [
              "<div>\n",
              "<style scoped>\n",
              "    .dataframe tbody tr th:only-of-type {\n",
              "        vertical-align: middle;\n",
              "    }\n",
              "\n",
              "    .dataframe tbody tr th {\n",
              "        vertical-align: top;\n",
              "    }\n",
              "\n",
              "    .dataframe thead th {\n",
              "        text-align: right;\n",
              "    }\n",
              "</style>\n",
              "<table border=\"1\" class=\"dataframe\">\n",
              "  <thead>\n",
              "    <tr style=\"text-align: right;\">\n",
              "      <th></th>\n",
              "      <th>show_id</th>\n",
              "      <th>type</th>\n",
              "      <th>title</th>\n",
              "      <th>director</th>\n",
              "      <th>cast</th>\n",
              "      <th>country</th>\n",
              "      <th>date_added</th>\n",
              "      <th>release_year</th>\n",
              "      <th>rating</th>\n",
              "      <th>duration</th>\n",
              "      <th>listed_in</th>\n",
              "      <th>description</th>\n",
              "    </tr>\n",
              "  </thead>\n",
              "  <tbody>\n",
              "    <tr>\n",
              "      <th>0</th>\n",
              "      <td>81145628</td>\n",
              "      <td>Movie</td>\n",
              "      <td>Norm of the North: King Sized Adventure</td>\n",
              "      <td>Richard Finn, Tim Maltby</td>\n",
              "      <td>Alan Marriott, Andrew Toth, Brian Dobson, Cole...</td>\n",
              "      <td>United States, India, South Korea, China</td>\n",
              "      <td>September 9, 2019</td>\n",
              "      <td>2019</td>\n",
              "      <td>TV-PG</td>\n",
              "      <td>90 min</td>\n",
              "      <td>Children &amp; Family Movies, Comedies</td>\n",
              "      <td>Before planning an awesome wedding for his gra...</td>\n",
              "    </tr>\n",
              "    <tr>\n",
              "      <th>1</th>\n",
              "      <td>80117401</td>\n",
              "      <td>Movie</td>\n",
              "      <td>Jandino: Whatever it Takes</td>\n",
              "      <td>NaN</td>\n",
              "      <td>Jandino Asporaat</td>\n",
              "      <td>United Kingdom</td>\n",
              "      <td>September 9, 2016</td>\n",
              "      <td>2016</td>\n",
              "      <td>TV-MA</td>\n",
              "      <td>94 min</td>\n",
              "      <td>Stand-Up Comedy</td>\n",
              "      <td>Jandino Asporaat riffs on the challenges of ra...</td>\n",
              "    </tr>\n",
              "    <tr>\n",
              "      <th>2</th>\n",
              "      <td>70234439</td>\n",
              "      <td>TV Show</td>\n",
              "      <td>Transformers Prime</td>\n",
              "      <td>NaN</td>\n",
              "      <td>Peter Cullen, Sumalee Montano, Frank Welker, J...</td>\n",
              "      <td>United States</td>\n",
              "      <td>September 8, 2018</td>\n",
              "      <td>2013</td>\n",
              "      <td>TV-Y7-FV</td>\n",
              "      <td>1 Season</td>\n",
              "      <td>Kids' TV</td>\n",
              "      <td>With the help of three human allies, the Autob...</td>\n",
              "    </tr>\n",
              "    <tr>\n",
              "      <th>3</th>\n",
              "      <td>80058654</td>\n",
              "      <td>TV Show</td>\n",
              "      <td>Transformers: Robots in Disguise</td>\n",
              "      <td>NaN</td>\n",
              "      <td>Will Friedle, Darren Criss, Constance Zimmer, ...</td>\n",
              "      <td>United States</td>\n",
              "      <td>September 8, 2018</td>\n",
              "      <td>2016</td>\n",
              "      <td>TV-Y7</td>\n",
              "      <td>1 Season</td>\n",
              "      <td>Kids' TV</td>\n",
              "      <td>When a prison ship crash unleashes hundreds of...</td>\n",
              "    </tr>\n",
              "    <tr>\n",
              "      <th>4</th>\n",
              "      <td>80125979</td>\n",
              "      <td>Movie</td>\n",
              "      <td>#realityhigh</td>\n",
              "      <td>Fernando Lebrija</td>\n",
              "      <td>Nesta Cooper, Kate Walsh, John Michael Higgins...</td>\n",
              "      <td>United States</td>\n",
              "      <td>September 8, 2017</td>\n",
              "      <td>2017</td>\n",
              "      <td>TV-14</td>\n",
              "      <td>99 min</td>\n",
              "      <td>Comedies</td>\n",
              "      <td>When nerdy high schooler Dani finally attracts...</td>\n",
              "    </tr>\n",
              "  </tbody>\n",
              "</table>\n",
              "</div>"
            ],
            "text/plain": [
              "    show_id  ...                                        description\n",
              "0  81145628  ...  Before planning an awesome wedding for his gra...\n",
              "1  80117401  ...  Jandino Asporaat riffs on the challenges of ra...\n",
              "2  70234439  ...  With the help of three human allies, the Autob...\n",
              "3  80058654  ...  When a prison ship crash unleashes hundreds of...\n",
              "4  80125979  ...  When nerdy high schooler Dani finally attracts...\n",
              "\n",
              "[5 rows x 12 columns]"
            ]
          },
          "metadata": {
            "tags": []
          },
          "execution_count": 86
        }
      ]
    },
    {
      "cell_type": "code",
      "metadata": {
        "id": "y0qWuSINA3R5"
      },
      "source": [
        ""
      ],
      "execution_count": null,
      "outputs": []
    }
  ]
}