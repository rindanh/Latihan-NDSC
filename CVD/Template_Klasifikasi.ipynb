{
  "nbformat": 4,
  "nbformat_minor": 0,
  "metadata": {
    "colab": {
      "name": "Template Klasifikasi.ipynb",
      "provenance": [],
      "collapsed_sections": [
        "7A9er5zzh_E4",
        "x9OAR59uS-xO"
      ],
      "toc_visible": true,
      "include_colab_link": true
    },
    "kernelspec": {
      "name": "python3",
      "display_name": "Python 3"
    }
  },
  "cells": [
    {
      "cell_type": "markdown",
      "metadata": {
        "id": "view-in-github",
        "colab_type": "text"
      },
      "source": [
        "<a href=\"https://colab.research.google.com/github/rindanh/Latihan-NDSC/blob/main/CVD/Template_Klasifikasi.ipynb\" target=\"_parent\"><img src=\"https://colab.research.google.com/assets/colab-badge.svg\" alt=\"Open In Colab\"/></a>"
      ]
    },
    {
      "cell_type": "code",
      "metadata": {
        "colab": {
          "base_uri": "https://localhost:8080/"
        },
        "id": "z3JipR0VT2Do",
        "outputId": "453680f6-b5c9-4bdc-daee-dbe638721c8c"
      },
      "source": [
        "from google.colab import drive\n",
        "drive.mount('/content/drive')"
      ],
      "execution_count": null,
      "outputs": [
        {
          "output_type": "stream",
          "text": [
            "Drive already mounted at /content/drive; to attempt to forcibly remount, call drive.mount(\"/content/drive\", force_remount=True).\n"
          ],
          "name": "stdout"
        }
      ]
    },
    {
      "cell_type": "code",
      "metadata": {
        "id": "-jtpI20Ac_r1"
      },
      "source": [
        "import pandas as pd\n",
        "import numpy as np\n",
        "import matplotlib as mpl\n",
        "import matplotlib.pyplot as plt\n",
        "import seaborn as sns\n",
        "\n",
        "from collections import Counter\n",
        "import time\n",
        "from tqdm.notebook import tqdm\n",
        "from sklearn.model_selection import StratifiedKFold"
      ],
      "execution_count": null,
      "outputs": []
    },
    {
      "cell_type": "markdown",
      "metadata": {
        "id": "KBH3fiuAqjsv"
      },
      "source": [
        "### **Bagi data train test (kalo belum ada pembagian)**"
      ]
    },
    {
      "cell_type": "code",
      "metadata": {
        "id": "0QRgxF5MqN0x"
      },
      "source": [
        "df = pd.read_csv(\"/content/drive/MyDrive/LOMBA/NDSC/vehicleinsurance/train.csv\")"
      ],
      "execution_count": null,
      "outputs": []
    },
    {
      "cell_type": "code",
      "metadata": {
        "id": "ObU31c7TqWl2"
      },
      "source": [
        "from sklearn.model_selection import train_test_split\n",
        "\n",
        "X = df.drop(columns=['Response'])\n",
        "Y = df['Response']\n",
        "\n",
        "X_train, X_test, Y_train, Y_test = train_test_split(X, Y, test_size=0.5, random_state=42)\n",
        "\n",
        "X_train.reset_index(drop=True, inplace=True)\n",
        "X_test.reset_index(drop=True, inplace=True)\n",
        "Y_train.reset_index(drop=True, inplace=True)\n",
        "Y_test.reset_index(drop=True, inplace=True)"
      ],
      "execution_count": null,
      "outputs": []
    },
    {
      "cell_type": "code",
      "metadata": {
        "id": "9YWyzUcsTYgu"
      },
      "source": [
        "df_train = pd.concat([X_train, Y_train], axis=1)\n",
        "df_test = pd.concat([X_test, Y_test], axis=1)"
      ],
      "execution_count": null,
      "outputs": []
    },
    {
      "cell_type": "markdown",
      "metadata": {
        "id": "YKFR4bNTiwjB"
      },
      "source": [
        "### **Siapin data train test (kalo udah ada pembagian)**"
      ]
    },
    {
      "cell_type": "code",
      "metadata": {
        "id": "6JyKzWyRiwjB"
      },
      "source": [
        "df_train = pd.read_csv(\"/content/drive/MyDrive/LOMBA/NDSC/vehicleinsurance/train.csv\")\n",
        "df_test = pd.read_csv(\"/content/drive/MyDrive/LOMBA/NDSC/vehicleinsurance/test.csv\")\n",
        "sample = pd.read_csv(\"/content/drive/MyDrive/LOMBA/NDSC/vehicleinsurance/sample_submission.csv\")"
      ],
      "execution_count": null,
      "outputs": []
    },
    {
      "cell_type": "code",
      "metadata": {
        "id": "V3eWbTOWqeFv"
      },
      "source": [
        "df_train = pd.read_csv(\"/content/drive/MyDrive/LOMBA/NDSC/archive_9/summer-products-with-rating-and-performance_2020-08.csv\")\n",
        "df_test = pd.read_csv(\"/content/drive/MyDrive/LOMBA/NDSC/vehicleinsurance/test.csv\")\n",
        "sample = pd.read_csv(\"/content/drive/MyDrive/LOMBA/NDSC/vehicleinsurance/sample_submission.csv\")"
      ],
      "execution_count": null,
      "outputs": []
    },
    {
      "cell_type": "code",
      "metadata": {
        "colab": {
          "base_uri": "https://localhost:8080/",
          "height": 666
        },
        "id": "T5qyp-uvXPr-",
        "outputId": "8348624c-cd49-4fb5-a8c1-78b5644b51fe"
      },
      "source": [
        "df_train.head()"
      ],
      "execution_count": null,
      "outputs": [
        {
          "output_type": "execute_result",
          "data": {
            "text/html": [
              "<div>\n",
              "<style scoped>\n",
              "    .dataframe tbody tr th:only-of-type {\n",
              "        vertical-align: middle;\n",
              "    }\n",
              "\n",
              "    .dataframe tbody tr th {\n",
              "        vertical-align: top;\n",
              "    }\n",
              "\n",
              "    .dataframe thead th {\n",
              "        text-align: right;\n",
              "    }\n",
              "</style>\n",
              "<table border=\"1\" class=\"dataframe\">\n",
              "  <thead>\n",
              "    <tr style=\"text-align: right;\">\n",
              "      <th></th>\n",
              "      <th>title</th>\n",
              "      <th>title_orig</th>\n",
              "      <th>price</th>\n",
              "      <th>retail_price</th>\n",
              "      <th>currency_buyer</th>\n",
              "      <th>units_sold</th>\n",
              "      <th>uses_ad_boosts</th>\n",
              "      <th>rating</th>\n",
              "      <th>rating_count</th>\n",
              "      <th>rating_five_count</th>\n",
              "      <th>rating_four_count</th>\n",
              "      <th>rating_three_count</th>\n",
              "      <th>rating_two_count</th>\n",
              "      <th>rating_one_count</th>\n",
              "      <th>badges_count</th>\n",
              "      <th>badge_local_product</th>\n",
              "      <th>badge_product_quality</th>\n",
              "      <th>badge_fast_shipping</th>\n",
              "      <th>tags</th>\n",
              "      <th>product_color</th>\n",
              "      <th>product_variation_size_id</th>\n",
              "      <th>product_variation_inventory</th>\n",
              "      <th>shipping_option_name</th>\n",
              "      <th>shipping_option_price</th>\n",
              "      <th>shipping_is_express</th>\n",
              "      <th>countries_shipped_to</th>\n",
              "      <th>inventory_total</th>\n",
              "      <th>has_urgency_banner</th>\n",
              "      <th>urgency_text</th>\n",
              "      <th>origin_country</th>\n",
              "      <th>merchant_title</th>\n",
              "      <th>merchant_name</th>\n",
              "      <th>merchant_info_subtitle</th>\n",
              "      <th>merchant_rating_count</th>\n",
              "      <th>merchant_rating</th>\n",
              "      <th>merchant_id</th>\n",
              "      <th>merchant_has_profile_picture</th>\n",
              "      <th>merchant_profile_picture</th>\n",
              "      <th>product_url</th>\n",
              "      <th>product_picture</th>\n",
              "      <th>product_id</th>\n",
              "      <th>theme</th>\n",
              "      <th>crawl_month</th>\n",
              "    </tr>\n",
              "  </thead>\n",
              "  <tbody>\n",
              "    <tr>\n",
              "      <th>0</th>\n",
              "      <td>2020 Summer Vintage Flamingo Print  Pajamas Se...</td>\n",
              "      <td>2020 Summer Vintage Flamingo Print  Pajamas Se...</td>\n",
              "      <td>16.00</td>\n",
              "      <td>14</td>\n",
              "      <td>EUR</td>\n",
              "      <td>100</td>\n",
              "      <td>0</td>\n",
              "      <td>3.76</td>\n",
              "      <td>54</td>\n",
              "      <td>26.0</td>\n",
              "      <td>8.0</td>\n",
              "      <td>10.0</td>\n",
              "      <td>1.0</td>\n",
              "      <td>9.0</td>\n",
              "      <td>0</td>\n",
              "      <td>0</td>\n",
              "      <td>0</td>\n",
              "      <td>0</td>\n",
              "      <td>Summer,Fashion,womenunderwearsuit,printedpajam...</td>\n",
              "      <td>white</td>\n",
              "      <td>M</td>\n",
              "      <td>50</td>\n",
              "      <td>Livraison standard</td>\n",
              "      <td>4</td>\n",
              "      <td>0</td>\n",
              "      <td>34</td>\n",
              "      <td>50</td>\n",
              "      <td>1.0</td>\n",
              "      <td>Quantité limitée !</td>\n",
              "      <td>CN</td>\n",
              "      <td>zgrdejia</td>\n",
              "      <td>zgrdejia</td>\n",
              "      <td>(568 notes)</td>\n",
              "      <td>568</td>\n",
              "      <td>4.128521</td>\n",
              "      <td>595097d6a26f6e070cb878d1</td>\n",
              "      <td>0</td>\n",
              "      <td>NaN</td>\n",
              "      <td>https://www.wish.com/c/5e9ae51d43d6a96e303acdb0</td>\n",
              "      <td>https://contestimg.wish.com/api/webimage/5e9ae...</td>\n",
              "      <td>5e9ae51d43d6a96e303acdb0</td>\n",
              "      <td>summer</td>\n",
              "      <td>2020-08</td>\n",
              "    </tr>\n",
              "    <tr>\n",
              "      <th>1</th>\n",
              "      <td>SSHOUSE Summer Casual Sleeveless Soirée Party ...</td>\n",
              "      <td>Women's Casual Summer Sleeveless Sexy Mini Dress</td>\n",
              "      <td>8.00</td>\n",
              "      <td>22</td>\n",
              "      <td>EUR</td>\n",
              "      <td>20000</td>\n",
              "      <td>1</td>\n",
              "      <td>3.45</td>\n",
              "      <td>6135</td>\n",
              "      <td>2269.0</td>\n",
              "      <td>1027.0</td>\n",
              "      <td>1118.0</td>\n",
              "      <td>644.0</td>\n",
              "      <td>1077.0</td>\n",
              "      <td>0</td>\n",
              "      <td>0</td>\n",
              "      <td>0</td>\n",
              "      <td>0</td>\n",
              "      <td>Mini,womens dresses,Summer,Patchwork,fashion d...</td>\n",
              "      <td>green</td>\n",
              "      <td>XS</td>\n",
              "      <td>50</td>\n",
              "      <td>Livraison standard</td>\n",
              "      <td>2</td>\n",
              "      <td>0</td>\n",
              "      <td>41</td>\n",
              "      <td>50</td>\n",
              "      <td>1.0</td>\n",
              "      <td>Quantité limitée !</td>\n",
              "      <td>CN</td>\n",
              "      <td>SaraHouse</td>\n",
              "      <td>sarahouse</td>\n",
              "      <td>83 % avis positifs (17,752 notes)</td>\n",
              "      <td>17752</td>\n",
              "      <td>3.899673</td>\n",
              "      <td>56458aa03a698c35c9050988</td>\n",
              "      <td>0</td>\n",
              "      <td>NaN</td>\n",
              "      <td>https://www.wish.com/c/58940d436a0d3d5da4e95a38</td>\n",
              "      <td>https://contestimg.wish.com/api/webimage/58940...</td>\n",
              "      <td>58940d436a0d3d5da4e95a38</td>\n",
              "      <td>summer</td>\n",
              "      <td>2020-08</td>\n",
              "    </tr>\n",
              "    <tr>\n",
              "      <th>2</th>\n",
              "      <td>2020 Nouvelle Arrivée Femmes Printemps et Été ...</td>\n",
              "      <td>2020 New Arrival Women Spring and Summer Beach...</td>\n",
              "      <td>8.00</td>\n",
              "      <td>43</td>\n",
              "      <td>EUR</td>\n",
              "      <td>100</td>\n",
              "      <td>0</td>\n",
              "      <td>3.57</td>\n",
              "      <td>14</td>\n",
              "      <td>5.0</td>\n",
              "      <td>4.0</td>\n",
              "      <td>2.0</td>\n",
              "      <td>0.0</td>\n",
              "      <td>3.0</td>\n",
              "      <td>0</td>\n",
              "      <td>0</td>\n",
              "      <td>0</td>\n",
              "      <td>0</td>\n",
              "      <td>Summer,cardigan,women beachwear,chiffon,Sexy w...</td>\n",
              "      <td>leopardprint</td>\n",
              "      <td>XS</td>\n",
              "      <td>1</td>\n",
              "      <td>Livraison standard</td>\n",
              "      <td>3</td>\n",
              "      <td>0</td>\n",
              "      <td>36</td>\n",
              "      <td>50</td>\n",
              "      <td>1.0</td>\n",
              "      <td>Quantité limitée !</td>\n",
              "      <td>CN</td>\n",
              "      <td>hxt520</td>\n",
              "      <td>hxt520</td>\n",
              "      <td>86 % avis positifs (295 notes)</td>\n",
              "      <td>295</td>\n",
              "      <td>3.989831</td>\n",
              "      <td>5d464a1ffdf7bc44ee933c65</td>\n",
              "      <td>0</td>\n",
              "      <td>NaN</td>\n",
              "      <td>https://www.wish.com/c/5ea10e2c617580260d55310a</td>\n",
              "      <td>https://contestimg.wish.com/api/webimage/5ea10...</td>\n",
              "      <td>5ea10e2c617580260d55310a</td>\n",
              "      <td>summer</td>\n",
              "      <td>2020-08</td>\n",
              "    </tr>\n",
              "    <tr>\n",
              "      <th>3</th>\n",
              "      <td>Hot Summer Cool T-shirt pour les femmes Mode T...</td>\n",
              "      <td>Hot Summer Cool T Shirt for Women Fashion Tops...</td>\n",
              "      <td>8.00</td>\n",
              "      <td>8</td>\n",
              "      <td>EUR</td>\n",
              "      <td>5000</td>\n",
              "      <td>1</td>\n",
              "      <td>4.03</td>\n",
              "      <td>579</td>\n",
              "      <td>295.0</td>\n",
              "      <td>119.0</td>\n",
              "      <td>87.0</td>\n",
              "      <td>42.0</td>\n",
              "      <td>36.0</td>\n",
              "      <td>0</td>\n",
              "      <td>0</td>\n",
              "      <td>0</td>\n",
              "      <td>0</td>\n",
              "      <td>Summer,Shorts,Cotton,Cotton T Shirt,Sleeve,pri...</td>\n",
              "      <td>black</td>\n",
              "      <td>M</td>\n",
              "      <td>50</td>\n",
              "      <td>Livraison standard</td>\n",
              "      <td>2</td>\n",
              "      <td>0</td>\n",
              "      <td>41</td>\n",
              "      <td>50</td>\n",
              "      <td>NaN</td>\n",
              "      <td>NaN</td>\n",
              "      <td>CN</td>\n",
              "      <td>allenfan</td>\n",
              "      <td>allenfan</td>\n",
              "      <td>(23,832 notes)</td>\n",
              "      <td>23832</td>\n",
              "      <td>4.020435</td>\n",
              "      <td>58cfdefdacb37b556efdff7c</td>\n",
              "      <td>0</td>\n",
              "      <td>NaN</td>\n",
              "      <td>https://www.wish.com/c/5cedf17ad1d44c52c59e4aca</td>\n",
              "      <td>https://contestimg.wish.com/api/webimage/5cedf...</td>\n",
              "      <td>5cedf17ad1d44c52c59e4aca</td>\n",
              "      <td>summer</td>\n",
              "      <td>2020-08</td>\n",
              "    </tr>\n",
              "    <tr>\n",
              "      <th>4</th>\n",
              "      <td>Femmes Shorts d'été à lacets taille élastique ...</td>\n",
              "      <td>Women Summer Shorts Lace Up Elastic Waistband ...</td>\n",
              "      <td>2.72</td>\n",
              "      <td>3</td>\n",
              "      <td>EUR</td>\n",
              "      <td>100</td>\n",
              "      <td>1</td>\n",
              "      <td>3.10</td>\n",
              "      <td>20</td>\n",
              "      <td>6.0</td>\n",
              "      <td>4.0</td>\n",
              "      <td>2.0</td>\n",
              "      <td>2.0</td>\n",
              "      <td>6.0</td>\n",
              "      <td>0</td>\n",
              "      <td>0</td>\n",
              "      <td>0</td>\n",
              "      <td>0</td>\n",
              "      <td>Summer,Plus Size,Lace,Casual pants,Bottom,pant...</td>\n",
              "      <td>yellow</td>\n",
              "      <td>S</td>\n",
              "      <td>1</td>\n",
              "      <td>Livraison standard</td>\n",
              "      <td>1</td>\n",
              "      <td>0</td>\n",
              "      <td>35</td>\n",
              "      <td>50</td>\n",
              "      <td>1.0</td>\n",
              "      <td>Quantité limitée !</td>\n",
              "      <td>CN</td>\n",
              "      <td>youngpeopleshop</td>\n",
              "      <td>happyhorses</td>\n",
              "      <td>85 % avis positifs (14,482 notes)</td>\n",
              "      <td>14482</td>\n",
              "      <td>4.001588</td>\n",
              "      <td>5ab3b592c3911a095ad5dadb</td>\n",
              "      <td>0</td>\n",
              "      <td>NaN</td>\n",
              "      <td>https://www.wish.com/c/5ebf5819ebac372b070b0e70</td>\n",
              "      <td>https://contestimg.wish.com/api/webimage/5ebf5...</td>\n",
              "      <td>5ebf5819ebac372b070b0e70</td>\n",
              "      <td>summer</td>\n",
              "      <td>2020-08</td>\n",
              "    </tr>\n",
              "  </tbody>\n",
              "</table>\n",
              "</div>"
            ],
            "text/plain": [
              "                                               title  ... crawl_month\n",
              "0  2020 Summer Vintage Flamingo Print  Pajamas Se...  ...     2020-08\n",
              "1  SSHOUSE Summer Casual Sleeveless Soirée Party ...  ...     2020-08\n",
              "2  2020 Nouvelle Arrivée Femmes Printemps et Été ...  ...     2020-08\n",
              "3  Hot Summer Cool T-shirt pour les femmes Mode T...  ...     2020-08\n",
              "4  Femmes Shorts d'été à lacets taille élastique ...  ...     2020-08\n",
              "\n",
              "[5 rows x 43 columns]"
            ]
          },
          "metadata": {
            "tags": []
          },
          "execution_count": 80
        }
      ]
    },
    {
      "cell_type": "code",
      "metadata": {
        "id": "0sXD6qCqjB9t"
      },
      "source": [
        "X_train = df_train.drop(columns='Response')\n",
        "Y_train = df_train.Response\n",
        "\n",
        "X_test = df_test.copy()"
      ],
      "execution_count": null,
      "outputs": []
    },
    {
      "cell_type": "markdown",
      "metadata": {
        "id": "tBYLcMfhrd0x"
      },
      "source": [
        "### **Analisis Awal**"
      ]
    },
    {
      "cell_type": "code",
      "metadata": {
        "colab": {
          "base_uri": "https://localhost:8080/",
          "height": 363
        },
        "id": "SQn4xGUbqXvO",
        "outputId": "e55a66e8-3b0e-488b-db84-2f2037613bf9"
      },
      "source": [
        "X_train.head().T"
      ],
      "execution_count": null,
      "outputs": [
        {
          "output_type": "execute_result",
          "data": {
            "text/html": [
              "<div>\n",
              "<style scoped>\n",
              "    .dataframe tbody tr th:only-of-type {\n",
              "        vertical-align: middle;\n",
              "    }\n",
              "\n",
              "    .dataframe tbody tr th {\n",
              "        vertical-align: top;\n",
              "    }\n",
              "\n",
              "    .dataframe thead th {\n",
              "        text-align: right;\n",
              "    }\n",
              "</style>\n",
              "<table border=\"1\" class=\"dataframe\">\n",
              "  <thead>\n",
              "    <tr style=\"text-align: right;\">\n",
              "      <th></th>\n",
              "      <th>0</th>\n",
              "      <th>1</th>\n",
              "      <th>2</th>\n",
              "      <th>3</th>\n",
              "      <th>4</th>\n",
              "    </tr>\n",
              "  </thead>\n",
              "  <tbody>\n",
              "    <tr>\n",
              "      <th>id</th>\n",
              "      <td>116861</td>\n",
              "      <td>238810</td>\n",
              "      <td>214655</td>\n",
              "      <td>58001</td>\n",
              "      <td>193013</td>\n",
              "    </tr>\n",
              "    <tr>\n",
              "      <th>Gender</th>\n",
              "      <td>Male</td>\n",
              "      <td>Female</td>\n",
              "      <td>Male</td>\n",
              "      <td>Male</td>\n",
              "      <td>Female</td>\n",
              "    </tr>\n",
              "    <tr>\n",
              "      <th>Age</th>\n",
              "      <td>45</td>\n",
              "      <td>33</td>\n",
              "      <td>22</td>\n",
              "      <td>53</td>\n",
              "      <td>65</td>\n",
              "    </tr>\n",
              "    <tr>\n",
              "      <th>Driving_License</th>\n",
              "      <td>1</td>\n",
              "      <td>1</td>\n",
              "      <td>1</td>\n",
              "      <td>1</td>\n",
              "      <td>1</td>\n",
              "    </tr>\n",
              "    <tr>\n",
              "      <th>Region_Code</th>\n",
              "      <td>45</td>\n",
              "      <td>28</td>\n",
              "      <td>32</td>\n",
              "      <td>15</td>\n",
              "      <td>8</td>\n",
              "    </tr>\n",
              "    <tr>\n",
              "      <th>Previously_Insured</th>\n",
              "      <td>0</td>\n",
              "      <td>0</td>\n",
              "      <td>0</td>\n",
              "      <td>0</td>\n",
              "      <td>0</td>\n",
              "    </tr>\n",
              "    <tr>\n",
              "      <th>Vehicle_Age</th>\n",
              "      <td>1-2 Year</td>\n",
              "      <td>&gt; 2 Years</td>\n",
              "      <td>&lt; 1 Year</td>\n",
              "      <td>1-2 Year</td>\n",
              "      <td>1-2 Year</td>\n",
              "    </tr>\n",
              "    <tr>\n",
              "      <th>Vehicle_Damage</th>\n",
              "      <td>Yes</td>\n",
              "      <td>Yes</td>\n",
              "      <td>Yes</td>\n",
              "      <td>Yes</td>\n",
              "      <td>No</td>\n",
              "    </tr>\n",
              "    <tr>\n",
              "      <th>Annual_Premium</th>\n",
              "      <td>26658</td>\n",
              "      <td>31979</td>\n",
              "      <td>49029</td>\n",
              "      <td>26691</td>\n",
              "      <td>2630</td>\n",
              "    </tr>\n",
              "    <tr>\n",
              "      <th>Policy_Sales_Channel</th>\n",
              "      <td>26</td>\n",
              "      <td>124</td>\n",
              "      <td>152</td>\n",
              "      <td>124</td>\n",
              "      <td>26</td>\n",
              "    </tr>\n",
              "    <tr>\n",
              "      <th>Vintage</th>\n",
              "      <td>213</td>\n",
              "      <td>213</td>\n",
              "      <td>213</td>\n",
              "      <td>147</td>\n",
              "      <td>286</td>\n",
              "    </tr>\n",
              "  </tbody>\n",
              "</table>\n",
              "</div>"
            ],
            "text/plain": [
              "                             0          1         2         3         4\n",
              "id                      116861     238810    214655     58001    193013\n",
              "Gender                    Male     Female      Male      Male    Female\n",
              "Age                         45         33        22        53        65\n",
              "Driving_License              1          1         1         1         1\n",
              "Region_Code                 45         28        32        15         8\n",
              "Previously_Insured           0          0         0         0         0\n",
              "Vehicle_Age           1-2 Year  > 2 Years  < 1 Year  1-2 Year  1-2 Year\n",
              "Vehicle_Damage             Yes        Yes       Yes       Yes        No\n",
              "Annual_Premium           26658      31979     49029     26691      2630\n",
              "Policy_Sales_Channel        26        124       152       124        26\n",
              "Vintage                    213        213       213       147       286"
            ]
          },
          "metadata": {
            "tags": []
          },
          "execution_count": 6
        }
      ]
    },
    {
      "cell_type": "code",
      "metadata": {
        "colab": {
          "base_uri": "https://localhost:8080/",
          "height": 363
        },
        "id": "M-c-r9g1day4",
        "outputId": "a0f4ac75-2f06-4655-b554-7cfe1a94cf8f"
      },
      "source": [
        "X_test.head().T"
      ],
      "execution_count": null,
      "outputs": [
        {
          "output_type": "execute_result",
          "data": {
            "text/html": [
              "<div>\n",
              "<style scoped>\n",
              "    .dataframe tbody tr th:only-of-type {\n",
              "        vertical-align: middle;\n",
              "    }\n",
              "\n",
              "    .dataframe tbody tr th {\n",
              "        vertical-align: top;\n",
              "    }\n",
              "\n",
              "    .dataframe thead th {\n",
              "        text-align: right;\n",
              "    }\n",
              "</style>\n",
              "<table border=\"1\" class=\"dataframe\">\n",
              "  <thead>\n",
              "    <tr style=\"text-align: right;\">\n",
              "      <th></th>\n",
              "      <th>0</th>\n",
              "      <th>1</th>\n",
              "      <th>2</th>\n",
              "      <th>3</th>\n",
              "      <th>4</th>\n",
              "    </tr>\n",
              "  </thead>\n",
              "  <tbody>\n",
              "    <tr>\n",
              "      <th>id</th>\n",
              "      <td>200223</td>\n",
              "      <td>49767</td>\n",
              "      <td>172202</td>\n",
              "      <td>160714</td>\n",
              "      <td>53273</td>\n",
              "    </tr>\n",
              "    <tr>\n",
              "      <th>Gender</th>\n",
              "      <td>Female</td>\n",
              "      <td>Male</td>\n",
              "      <td>Female</td>\n",
              "      <td>Female</td>\n",
              "      <td>Male</td>\n",
              "    </tr>\n",
              "    <tr>\n",
              "      <th>Age</th>\n",
              "      <td>21</td>\n",
              "      <td>55</td>\n",
              "      <td>41</td>\n",
              "      <td>26</td>\n",
              "      <td>51</td>\n",
              "    </tr>\n",
              "    <tr>\n",
              "      <th>Driving_License</th>\n",
              "      <td>1</td>\n",
              "      <td>1</td>\n",
              "      <td>1</td>\n",
              "      <td>1</td>\n",
              "      <td>1</td>\n",
              "    </tr>\n",
              "    <tr>\n",
              "      <th>Region_Code</th>\n",
              "      <td>3</td>\n",
              "      <td>15</td>\n",
              "      <td>3</td>\n",
              "      <td>11</td>\n",
              "      <td>40</td>\n",
              "    </tr>\n",
              "    <tr>\n",
              "      <th>Previously_Insured</th>\n",
              "      <td>1</td>\n",
              "      <td>0</td>\n",
              "      <td>0</td>\n",
              "      <td>0</td>\n",
              "      <td>0</td>\n",
              "    </tr>\n",
              "    <tr>\n",
              "      <th>Vehicle_Age</th>\n",
              "      <td>&lt; 1 Year</td>\n",
              "      <td>1-2 Year</td>\n",
              "      <td>1-2 Year</td>\n",
              "      <td>&lt; 1 Year</td>\n",
              "      <td>1-2 Year</td>\n",
              "    </tr>\n",
              "    <tr>\n",
              "      <th>Vehicle_Damage</th>\n",
              "      <td>No</td>\n",
              "      <td>Yes</td>\n",
              "      <td>Yes</td>\n",
              "      <td>No</td>\n",
              "      <td>Yes</td>\n",
              "    </tr>\n",
              "    <tr>\n",
              "      <th>Annual_Premium</th>\n",
              "      <td>20408</td>\n",
              "      <td>37498</td>\n",
              "      <td>2630</td>\n",
              "      <td>2630</td>\n",
              "      <td>34006</td>\n",
              "    </tr>\n",
              "    <tr>\n",
              "      <th>Policy_Sales_Channel</th>\n",
              "      <td>160</td>\n",
              "      <td>26</td>\n",
              "      <td>26</td>\n",
              "      <td>151</td>\n",
              "      <td>124</td>\n",
              "    </tr>\n",
              "    <tr>\n",
              "      <th>Vintage</th>\n",
              "      <td>72</td>\n",
              "      <td>102</td>\n",
              "      <td>90</td>\n",
              "      <td>268</td>\n",
              "      <td>265</td>\n",
              "    </tr>\n",
              "  </tbody>\n",
              "</table>\n",
              "</div>"
            ],
            "text/plain": [
              "                             0         1         2         3         4\n",
              "id                      200223     49767    172202    160714     53273\n",
              "Gender                  Female      Male    Female    Female      Male\n",
              "Age                         21        55        41        26        51\n",
              "Driving_License              1         1         1         1         1\n",
              "Region_Code                  3        15         3        11        40\n",
              "Previously_Insured           1         0         0         0         0\n",
              "Vehicle_Age           < 1 Year  1-2 Year  1-2 Year  < 1 Year  1-2 Year\n",
              "Vehicle_Damage              No       Yes       Yes        No       Yes\n",
              "Annual_Premium           20408     37498      2630      2630     34006\n",
              "Policy_Sales_Channel       160        26        26       151       124\n",
              "Vintage                     72       102        90       268       265"
            ]
          },
          "metadata": {
            "tags": []
          },
          "execution_count": 7
        }
      ]
    },
    {
      "cell_type": "code",
      "metadata": {
        "colab": {
          "base_uri": "https://localhost:8080/",
          "height": 277
        },
        "id": "5QIItoy6dr0i",
        "outputId": "26a24e52-5259-4d7a-bf66-8ab3450aa823"
      },
      "source": [
        "desctrain = X_train.describe().T\n",
        "desctrain"
      ],
      "execution_count": null,
      "outputs": [
        {
          "output_type": "execute_result",
          "data": {
            "text/html": [
              "<div>\n",
              "<style scoped>\n",
              "    .dataframe tbody tr th:only-of-type {\n",
              "        vertical-align: middle;\n",
              "    }\n",
              "\n",
              "    .dataframe tbody tr th {\n",
              "        vertical-align: top;\n",
              "    }\n",
              "\n",
              "    .dataframe thead th {\n",
              "        text-align: right;\n",
              "    }\n",
              "</style>\n",
              "<table border=\"1\" class=\"dataframe\">\n",
              "  <thead>\n",
              "    <tr style=\"text-align: right;\">\n",
              "      <th></th>\n",
              "      <th>count</th>\n",
              "      <th>mean</th>\n",
              "      <th>std</th>\n",
              "      <th>min</th>\n",
              "      <th>25%</th>\n",
              "      <th>50%</th>\n",
              "      <th>75%</th>\n",
              "      <th>max</th>\n",
              "    </tr>\n",
              "  </thead>\n",
              "  <tbody>\n",
              "    <tr>\n",
              "      <th>id</th>\n",
              "      <td>190554.0</td>\n",
              "      <td>190456.107775</td>\n",
              "      <td>110045.528346</td>\n",
              "      <td>2.0</td>\n",
              "      <td>95060.50</td>\n",
              "      <td>190250.5</td>\n",
              "      <td>285663.75</td>\n",
              "      <td>381108.0</td>\n",
              "    </tr>\n",
              "    <tr>\n",
              "      <th>Age</th>\n",
              "      <td>190554.0</td>\n",
              "      <td>38.885859</td>\n",
              "      <td>15.517128</td>\n",
              "      <td>20.0</td>\n",
              "      <td>25.00</td>\n",
              "      <td>36.0</td>\n",
              "      <td>50.00</td>\n",
              "      <td>85.0</td>\n",
              "    </tr>\n",
              "    <tr>\n",
              "      <th>Driving_License</th>\n",
              "      <td>190554.0</td>\n",
              "      <td>0.997827</td>\n",
              "      <td>0.046561</td>\n",
              "      <td>0.0</td>\n",
              "      <td>1.00</td>\n",
              "      <td>1.0</td>\n",
              "      <td>1.00</td>\n",
              "      <td>1.0</td>\n",
              "    </tr>\n",
              "    <tr>\n",
              "      <th>Region_Code</th>\n",
              "      <td>190554.0</td>\n",
              "      <td>26.428965</td>\n",
              "      <td>13.193743</td>\n",
              "      <td>0.0</td>\n",
              "      <td>15.00</td>\n",
              "      <td>28.0</td>\n",
              "      <td>35.00</td>\n",
              "      <td>52.0</td>\n",
              "    </tr>\n",
              "    <tr>\n",
              "      <th>Previously_Insured</th>\n",
              "      <td>190554.0</td>\n",
              "      <td>0.459219</td>\n",
              "      <td>0.498335</td>\n",
              "      <td>0.0</td>\n",
              "      <td>0.00</td>\n",
              "      <td>0.0</td>\n",
              "      <td>1.00</td>\n",
              "      <td>1.0</td>\n",
              "    </tr>\n",
              "    <tr>\n",
              "      <th>Annual_Premium</th>\n",
              "      <td>190554.0</td>\n",
              "      <td>30569.595616</td>\n",
              "      <td>17293.577031</td>\n",
              "      <td>2630.0</td>\n",
              "      <td>24399.25</td>\n",
              "      <td>31675.0</td>\n",
              "      <td>39384.00</td>\n",
              "      <td>540165.0</td>\n",
              "    </tr>\n",
              "    <tr>\n",
              "      <th>Policy_Sales_Channel</th>\n",
              "      <td>190554.0</td>\n",
              "      <td>111.864117</td>\n",
              "      <td>54.254809</td>\n",
              "      <td>1.0</td>\n",
              "      <td>26.00</td>\n",
              "      <td>125.0</td>\n",
              "      <td>152.00</td>\n",
              "      <td>163.0</td>\n",
              "    </tr>\n",
              "    <tr>\n",
              "      <th>Vintage</th>\n",
              "      <td>190554.0</td>\n",
              "      <td>154.297254</td>\n",
              "      <td>83.724724</td>\n",
              "      <td>10.0</td>\n",
              "      <td>82.00</td>\n",
              "      <td>154.0</td>\n",
              "      <td>227.00</td>\n",
              "      <td>299.0</td>\n",
              "    </tr>\n",
              "  </tbody>\n",
              "</table>\n",
              "</div>"
            ],
            "text/plain": [
              "                         count           mean  ...        75%       max\n",
              "id                    190554.0  190456.107775  ...  285663.75  381108.0\n",
              "Age                   190554.0      38.885859  ...      50.00      85.0\n",
              "Driving_License       190554.0       0.997827  ...       1.00       1.0\n",
              "Region_Code           190554.0      26.428965  ...      35.00      52.0\n",
              "Previously_Insured    190554.0       0.459219  ...       1.00       1.0\n",
              "Annual_Premium        190554.0   30569.595616  ...   39384.00  540165.0\n",
              "Policy_Sales_Channel  190554.0     111.864117  ...     152.00     163.0\n",
              "Vintage               190554.0     154.297254  ...     227.00     299.0\n",
              "\n",
              "[8 rows x 8 columns]"
            ]
          },
          "metadata": {
            "tags": []
          },
          "execution_count": 8
        }
      ]
    },
    {
      "cell_type": "code",
      "metadata": {
        "colab": {
          "base_uri": "https://localhost:8080/",
          "height": 277
        },
        "id": "aextISwqdr33",
        "outputId": "c03542cc-4935-4ec1-a79c-93c7c126817d"
      },
      "source": [
        "desctest = X_test.describe().T\n",
        "desctest"
      ],
      "execution_count": null,
      "outputs": [
        {
          "output_type": "execute_result",
          "data": {
            "text/html": [
              "<div>\n",
              "<style scoped>\n",
              "    .dataframe tbody tr th:only-of-type {\n",
              "        vertical-align: middle;\n",
              "    }\n",
              "\n",
              "    .dataframe tbody tr th {\n",
              "        vertical-align: top;\n",
              "    }\n",
              "\n",
              "    .dataframe thead th {\n",
              "        text-align: right;\n",
              "    }\n",
              "</style>\n",
              "<table border=\"1\" class=\"dataframe\">\n",
              "  <thead>\n",
              "    <tr style=\"text-align: right;\">\n",
              "      <th></th>\n",
              "      <th>count</th>\n",
              "      <th>mean</th>\n",
              "      <th>std</th>\n",
              "      <th>min</th>\n",
              "      <th>25%</th>\n",
              "      <th>50%</th>\n",
              "      <th>75%</th>\n",
              "      <th>max</th>\n",
              "    </tr>\n",
              "  </thead>\n",
              "  <tbody>\n",
              "    <tr>\n",
              "      <th>id</th>\n",
              "      <td>190555.0</td>\n",
              "      <td>190653.891706</td>\n",
              "      <td>109988.336571</td>\n",
              "      <td>1.0</td>\n",
              "      <td>95488.5</td>\n",
              "      <td>190852.0</td>\n",
              "      <td>285995.5</td>\n",
              "      <td>381109.0</td>\n",
              "    </tr>\n",
              "    <tr>\n",
              "      <th>Age</th>\n",
              "      <td>190555.0</td>\n",
              "      <td>38.759308</td>\n",
              "      <td>15.505874</td>\n",
              "      <td>20.0</td>\n",
              "      <td>25.0</td>\n",
              "      <td>36.0</td>\n",
              "      <td>49.0</td>\n",
              "      <td>85.0</td>\n",
              "    </tr>\n",
              "    <tr>\n",
              "      <th>Driving_License</th>\n",
              "      <td>190555.0</td>\n",
              "      <td>0.997911</td>\n",
              "      <td>0.045654</td>\n",
              "      <td>0.0</td>\n",
              "      <td>1.0</td>\n",
              "      <td>1.0</td>\n",
              "      <td>1.0</td>\n",
              "      <td>1.0</td>\n",
              "    </tr>\n",
              "    <tr>\n",
              "      <th>Region_Code</th>\n",
              "      <td>190555.0</td>\n",
              "      <td>26.348650</td>\n",
              "      <td>13.265847</td>\n",
              "      <td>0.0</td>\n",
              "      <td>15.0</td>\n",
              "      <td>28.0</td>\n",
              "      <td>35.0</td>\n",
              "      <td>52.0</td>\n",
              "    </tr>\n",
              "    <tr>\n",
              "      <th>Previously_Insured</th>\n",
              "      <td>190555.0</td>\n",
              "      <td>0.457201</td>\n",
              "      <td>0.498166</td>\n",
              "      <td>0.0</td>\n",
              "      <td>0.0</td>\n",
              "      <td>0.0</td>\n",
              "      <td>1.0</td>\n",
              "      <td>1.0</td>\n",
              "    </tr>\n",
              "    <tr>\n",
              "      <th>Annual_Premium</th>\n",
              "      <td>190555.0</td>\n",
              "      <td>30559.183574</td>\n",
              "      <td>17132.399796</td>\n",
              "      <td>2630.0</td>\n",
              "      <td>24410.0</td>\n",
              "      <td>31663.0</td>\n",
              "      <td>39419.5</td>\n",
              "      <td>540165.0</td>\n",
              "    </tr>\n",
              "    <tr>\n",
              "      <th>Policy_Sales_Channel</th>\n",
              "      <td>190555.0</td>\n",
              "      <td>112.204471</td>\n",
              "      <td>54.152741</td>\n",
              "      <td>1.0</td>\n",
              "      <td>29.0</td>\n",
              "      <td>145.0</td>\n",
              "      <td>152.0</td>\n",
              "      <td>163.0</td>\n",
              "    </tr>\n",
              "    <tr>\n",
              "      <th>Vintage</th>\n",
              "      <td>190555.0</td>\n",
              "      <td>154.397539</td>\n",
              "      <td>83.618040</td>\n",
              "      <td>10.0</td>\n",
              "      <td>82.0</td>\n",
              "      <td>154.0</td>\n",
              "      <td>227.0</td>\n",
              "      <td>299.0</td>\n",
              "    </tr>\n",
              "  </tbody>\n",
              "</table>\n",
              "</div>"
            ],
            "text/plain": [
              "                         count           mean  ...       75%       max\n",
              "id                    190555.0  190653.891706  ...  285995.5  381109.0\n",
              "Age                   190555.0      38.759308  ...      49.0      85.0\n",
              "Driving_License       190555.0       0.997911  ...       1.0       1.0\n",
              "Region_Code           190555.0      26.348650  ...      35.0      52.0\n",
              "Previously_Insured    190555.0       0.457201  ...       1.0       1.0\n",
              "Annual_Premium        190555.0   30559.183574  ...   39419.5  540165.0\n",
              "Policy_Sales_Channel  190555.0     112.204471  ...     152.0     163.0\n",
              "Vintage               190555.0     154.397539  ...     227.0     299.0\n",
              "\n",
              "[8 rows x 8 columns]"
            ]
          },
          "metadata": {
            "tags": []
          },
          "execution_count": 9
        }
      ]
    },
    {
      "cell_type": "code",
      "metadata": {
        "colab": {
          "base_uri": "https://localhost:8080/",
          "height": 277
        },
        "id": "tcW4BiEgPS35",
        "outputId": "f7f81ea6-a3c7-443e-cf9c-9f2d37983c9b"
      },
      "source": [
        "(desctrain - desctest).astype(int)"
      ],
      "execution_count": null,
      "outputs": [
        {
          "output_type": "execute_result",
          "data": {
            "text/html": [
              "<div>\n",
              "<style scoped>\n",
              "    .dataframe tbody tr th:only-of-type {\n",
              "        vertical-align: middle;\n",
              "    }\n",
              "\n",
              "    .dataframe tbody tr th {\n",
              "        vertical-align: top;\n",
              "    }\n",
              "\n",
              "    .dataframe thead th {\n",
              "        text-align: right;\n",
              "    }\n",
              "</style>\n",
              "<table border=\"1\" class=\"dataframe\">\n",
              "  <thead>\n",
              "    <tr style=\"text-align: right;\">\n",
              "      <th></th>\n",
              "      <th>count</th>\n",
              "      <th>mean</th>\n",
              "      <th>std</th>\n",
              "      <th>min</th>\n",
              "      <th>25%</th>\n",
              "      <th>50%</th>\n",
              "      <th>75%</th>\n",
              "      <th>max</th>\n",
              "    </tr>\n",
              "  </thead>\n",
              "  <tbody>\n",
              "    <tr>\n",
              "      <th>id</th>\n",
              "      <td>-1</td>\n",
              "      <td>-197</td>\n",
              "      <td>57</td>\n",
              "      <td>1</td>\n",
              "      <td>-428</td>\n",
              "      <td>-601</td>\n",
              "      <td>-331</td>\n",
              "      <td>-1</td>\n",
              "    </tr>\n",
              "    <tr>\n",
              "      <th>Age</th>\n",
              "      <td>-1</td>\n",
              "      <td>0</td>\n",
              "      <td>0</td>\n",
              "      <td>0</td>\n",
              "      <td>0</td>\n",
              "      <td>0</td>\n",
              "      <td>1</td>\n",
              "      <td>0</td>\n",
              "    </tr>\n",
              "    <tr>\n",
              "      <th>Driving_License</th>\n",
              "      <td>-1</td>\n",
              "      <td>0</td>\n",
              "      <td>0</td>\n",
              "      <td>0</td>\n",
              "      <td>0</td>\n",
              "      <td>0</td>\n",
              "      <td>0</td>\n",
              "      <td>0</td>\n",
              "    </tr>\n",
              "    <tr>\n",
              "      <th>Region_Code</th>\n",
              "      <td>-1</td>\n",
              "      <td>0</td>\n",
              "      <td>0</td>\n",
              "      <td>0</td>\n",
              "      <td>0</td>\n",
              "      <td>0</td>\n",
              "      <td>0</td>\n",
              "      <td>0</td>\n",
              "    </tr>\n",
              "    <tr>\n",
              "      <th>Previously_Insured</th>\n",
              "      <td>-1</td>\n",
              "      <td>0</td>\n",
              "      <td>0</td>\n",
              "      <td>0</td>\n",
              "      <td>0</td>\n",
              "      <td>0</td>\n",
              "      <td>0</td>\n",
              "      <td>0</td>\n",
              "    </tr>\n",
              "    <tr>\n",
              "      <th>Annual_Premium</th>\n",
              "      <td>-1</td>\n",
              "      <td>10</td>\n",
              "      <td>161</td>\n",
              "      <td>0</td>\n",
              "      <td>-10</td>\n",
              "      <td>12</td>\n",
              "      <td>-35</td>\n",
              "      <td>0</td>\n",
              "    </tr>\n",
              "    <tr>\n",
              "      <th>Policy_Sales_Channel</th>\n",
              "      <td>-1</td>\n",
              "      <td>0</td>\n",
              "      <td>0</td>\n",
              "      <td>0</td>\n",
              "      <td>-3</td>\n",
              "      <td>-20</td>\n",
              "      <td>0</td>\n",
              "      <td>0</td>\n",
              "    </tr>\n",
              "    <tr>\n",
              "      <th>Vintage</th>\n",
              "      <td>-1</td>\n",
              "      <td>0</td>\n",
              "      <td>0</td>\n",
              "      <td>0</td>\n",
              "      <td>0</td>\n",
              "      <td>0</td>\n",
              "      <td>0</td>\n",
              "      <td>0</td>\n",
              "    </tr>\n",
              "  </tbody>\n",
              "</table>\n",
              "</div>"
            ],
            "text/plain": [
              "                      count  mean  std  min  25%  50%  75%  max\n",
              "id                       -1  -197   57    1 -428 -601 -331   -1\n",
              "Age                      -1     0    0    0    0    0    1    0\n",
              "Driving_License          -1     0    0    0    0    0    0    0\n",
              "Region_Code              -1     0    0    0    0    0    0    0\n",
              "Previously_Insured       -1     0    0    0    0    0    0    0\n",
              "Annual_Premium           -1    10  161    0  -10   12  -35    0\n",
              "Policy_Sales_Channel     -1     0    0    0   -3  -20    0    0\n",
              "Vintage                  -1     0    0    0    0    0    0    0"
            ]
          },
          "metadata": {
            "tags": []
          },
          "execution_count": 10
        }
      ]
    },
    {
      "cell_type": "code",
      "metadata": {
        "id": "yZJF5USpdusj"
      },
      "source": [
        "def dataset_summary(df) :\n",
        "\n",
        "    # Buat summary dataframe\n",
        "    summary_df = pd.DataFrame()\n",
        "\n",
        "    # Isi summary\n",
        "    summary_df['Var'] = df.columns\n",
        "    summary_df['Dtypes'] = df.dtypes.values\n",
        "    summary_df['Total Missing'] = df.isnull().sum().values\n",
        "    summary_df['Missing%'] = summary_df['Total Missing'] / len(df) * 100\n",
        "    summary_df['Total Unique'] = df.nunique().values\n",
        "    summary_df['Unique%'] = summary_df['Total Unique'] / len(df) * 100\n",
        "\n",
        "    # Ukuran dataset\n",
        "    print('Dataset dimension :',df.shape)\n",
        "\n",
        "    return summary_df"
      ],
      "execution_count": null,
      "outputs": []
    },
    {
      "cell_type": "code",
      "metadata": {
        "colab": {
          "base_uri": "https://localhost:8080/",
          "height": 381
        },
        "id": "xRDqck3nduvB",
        "outputId": "469d2962-1067-484c-960b-bb4f7ba5378b"
      },
      "source": [
        "trainsumm = dataset_summary(X_train)\n",
        "trainsumm.sort_values(by='Total Unique', ascending=False)"
      ],
      "execution_count": null,
      "outputs": [
        {
          "output_type": "stream",
          "text": [
            "Dataset dimension : (190554, 11)\n"
          ],
          "name": "stdout"
        },
        {
          "output_type": "execute_result",
          "data": {
            "text/html": [
              "<div>\n",
              "<style scoped>\n",
              "    .dataframe tbody tr th:only-of-type {\n",
              "        vertical-align: middle;\n",
              "    }\n",
              "\n",
              "    .dataframe tbody tr th {\n",
              "        vertical-align: top;\n",
              "    }\n",
              "\n",
              "    .dataframe thead th {\n",
              "        text-align: right;\n",
              "    }\n",
              "</style>\n",
              "<table border=\"1\" class=\"dataframe\">\n",
              "  <thead>\n",
              "    <tr style=\"text-align: right;\">\n",
              "      <th></th>\n",
              "      <th>Var</th>\n",
              "      <th>Dtypes</th>\n",
              "      <th>Total Missing</th>\n",
              "      <th>Missing%</th>\n",
              "      <th>Total Unique</th>\n",
              "      <th>Unique%</th>\n",
              "    </tr>\n",
              "  </thead>\n",
              "  <tbody>\n",
              "    <tr>\n",
              "      <th>0</th>\n",
              "      <td>id</td>\n",
              "      <td>int64</td>\n",
              "      <td>0</td>\n",
              "      <td>0.0</td>\n",
              "      <td>190554</td>\n",
              "      <td>100.000000</td>\n",
              "    </tr>\n",
              "    <tr>\n",
              "      <th>8</th>\n",
              "      <td>Annual_Premium</td>\n",
              "      <td>float64</td>\n",
              "      <td>0</td>\n",
              "      <td>0.0</td>\n",
              "      <td>41066</td>\n",
              "      <td>21.550846</td>\n",
              "    </tr>\n",
              "    <tr>\n",
              "      <th>10</th>\n",
              "      <td>Vintage</td>\n",
              "      <td>int64</td>\n",
              "      <td>0</td>\n",
              "      <td>0.0</td>\n",
              "      <td>290</td>\n",
              "      <td>0.152188</td>\n",
              "    </tr>\n",
              "    <tr>\n",
              "      <th>9</th>\n",
              "      <td>Policy_Sales_Channel</td>\n",
              "      <td>float64</td>\n",
              "      <td>0</td>\n",
              "      <td>0.0</td>\n",
              "      <td>146</td>\n",
              "      <td>0.076619</td>\n",
              "    </tr>\n",
              "    <tr>\n",
              "      <th>2</th>\n",
              "      <td>Age</td>\n",
              "      <td>int64</td>\n",
              "      <td>0</td>\n",
              "      <td>0.0</td>\n",
              "      <td>66</td>\n",
              "      <td>0.034636</td>\n",
              "    </tr>\n",
              "    <tr>\n",
              "      <th>4</th>\n",
              "      <td>Region_Code</td>\n",
              "      <td>float64</td>\n",
              "      <td>0</td>\n",
              "      <td>0.0</td>\n",
              "      <td>53</td>\n",
              "      <td>0.027814</td>\n",
              "    </tr>\n",
              "    <tr>\n",
              "      <th>6</th>\n",
              "      <td>Vehicle_Age</td>\n",
              "      <td>object</td>\n",
              "      <td>0</td>\n",
              "      <td>0.0</td>\n",
              "      <td>3</td>\n",
              "      <td>0.001574</td>\n",
              "    </tr>\n",
              "    <tr>\n",
              "      <th>1</th>\n",
              "      <td>Gender</td>\n",
              "      <td>object</td>\n",
              "      <td>0</td>\n",
              "      <td>0.0</td>\n",
              "      <td>2</td>\n",
              "      <td>0.001050</td>\n",
              "    </tr>\n",
              "    <tr>\n",
              "      <th>3</th>\n",
              "      <td>Driving_License</td>\n",
              "      <td>int64</td>\n",
              "      <td>0</td>\n",
              "      <td>0.0</td>\n",
              "      <td>2</td>\n",
              "      <td>0.001050</td>\n",
              "    </tr>\n",
              "    <tr>\n",
              "      <th>5</th>\n",
              "      <td>Previously_Insured</td>\n",
              "      <td>int64</td>\n",
              "      <td>0</td>\n",
              "      <td>0.0</td>\n",
              "      <td>2</td>\n",
              "      <td>0.001050</td>\n",
              "    </tr>\n",
              "    <tr>\n",
              "      <th>7</th>\n",
              "      <td>Vehicle_Damage</td>\n",
              "      <td>object</td>\n",
              "      <td>0</td>\n",
              "      <td>0.0</td>\n",
              "      <td>2</td>\n",
              "      <td>0.001050</td>\n",
              "    </tr>\n",
              "  </tbody>\n",
              "</table>\n",
              "</div>"
            ],
            "text/plain": [
              "                     Var   Dtypes  ...  Total Unique     Unique%\n",
              "0                     id    int64  ...        190554  100.000000\n",
              "8         Annual_Premium  float64  ...         41066   21.550846\n",
              "10               Vintage    int64  ...           290    0.152188\n",
              "9   Policy_Sales_Channel  float64  ...           146    0.076619\n",
              "2                    Age    int64  ...            66    0.034636\n",
              "4            Region_Code  float64  ...            53    0.027814\n",
              "6            Vehicle_Age   object  ...             3    0.001574\n",
              "1                 Gender   object  ...             2    0.001050\n",
              "3        Driving_License    int64  ...             2    0.001050\n",
              "5     Previously_Insured    int64  ...             2    0.001050\n",
              "7         Vehicle_Damage   object  ...             2    0.001050\n",
              "\n",
              "[11 rows x 6 columns]"
            ]
          },
          "metadata": {
            "tags": []
          },
          "execution_count": 12
        }
      ]
    },
    {
      "cell_type": "code",
      "metadata": {
        "colab": {
          "base_uri": "https://localhost:8080/",
          "height": 381
        },
        "id": "XCEQhMRwduwz",
        "outputId": "899677af-40ce-4c36-8991-861f668435b0"
      },
      "source": [
        "testsumm = dataset_summary(X_test)\n",
        "testsumm.sort_values(by='Total Unique', ascending=False)"
      ],
      "execution_count": null,
      "outputs": [
        {
          "output_type": "stream",
          "text": [
            "Dataset dimension : (190555, 11)\n"
          ],
          "name": "stdout"
        },
        {
          "output_type": "execute_result",
          "data": {
            "text/html": [
              "<div>\n",
              "<style scoped>\n",
              "    .dataframe tbody tr th:only-of-type {\n",
              "        vertical-align: middle;\n",
              "    }\n",
              "\n",
              "    .dataframe tbody tr th {\n",
              "        vertical-align: top;\n",
              "    }\n",
              "\n",
              "    .dataframe thead th {\n",
              "        text-align: right;\n",
              "    }\n",
              "</style>\n",
              "<table border=\"1\" class=\"dataframe\">\n",
              "  <thead>\n",
              "    <tr style=\"text-align: right;\">\n",
              "      <th></th>\n",
              "      <th>Var</th>\n",
              "      <th>Dtypes</th>\n",
              "      <th>Total Missing</th>\n",
              "      <th>Missing%</th>\n",
              "      <th>Total Unique</th>\n",
              "      <th>Unique%</th>\n",
              "    </tr>\n",
              "  </thead>\n",
              "  <tbody>\n",
              "    <tr>\n",
              "      <th>0</th>\n",
              "      <td>id</td>\n",
              "      <td>int64</td>\n",
              "      <td>0</td>\n",
              "      <td>0.0</td>\n",
              "      <td>190555</td>\n",
              "      <td>100.000000</td>\n",
              "    </tr>\n",
              "    <tr>\n",
              "      <th>8</th>\n",
              "      <td>Annual_Premium</td>\n",
              "      <td>float64</td>\n",
              "      <td>0</td>\n",
              "      <td>0.0</td>\n",
              "      <td>41012</td>\n",
              "      <td>21.522395</td>\n",
              "    </tr>\n",
              "    <tr>\n",
              "      <th>10</th>\n",
              "      <td>Vintage</td>\n",
              "      <td>int64</td>\n",
              "      <td>0</td>\n",
              "      <td>0.0</td>\n",
              "      <td>290</td>\n",
              "      <td>0.152187</td>\n",
              "    </tr>\n",
              "    <tr>\n",
              "      <th>9</th>\n",
              "      <td>Policy_Sales_Channel</td>\n",
              "      <td>float64</td>\n",
              "      <td>0</td>\n",
              "      <td>0.0</td>\n",
              "      <td>152</td>\n",
              "      <td>0.079767</td>\n",
              "    </tr>\n",
              "    <tr>\n",
              "      <th>2</th>\n",
              "      <td>Age</td>\n",
              "      <td>int64</td>\n",
              "      <td>0</td>\n",
              "      <td>0.0</td>\n",
              "      <td>66</td>\n",
              "      <td>0.034636</td>\n",
              "    </tr>\n",
              "    <tr>\n",
              "      <th>4</th>\n",
              "      <td>Region_Code</td>\n",
              "      <td>float64</td>\n",
              "      <td>0</td>\n",
              "      <td>0.0</td>\n",
              "      <td>53</td>\n",
              "      <td>0.027813</td>\n",
              "    </tr>\n",
              "    <tr>\n",
              "      <th>6</th>\n",
              "      <td>Vehicle_Age</td>\n",
              "      <td>object</td>\n",
              "      <td>0</td>\n",
              "      <td>0.0</td>\n",
              "      <td>3</td>\n",
              "      <td>0.001574</td>\n",
              "    </tr>\n",
              "    <tr>\n",
              "      <th>1</th>\n",
              "      <td>Gender</td>\n",
              "      <td>object</td>\n",
              "      <td>0</td>\n",
              "      <td>0.0</td>\n",
              "      <td>2</td>\n",
              "      <td>0.001050</td>\n",
              "    </tr>\n",
              "    <tr>\n",
              "      <th>3</th>\n",
              "      <td>Driving_License</td>\n",
              "      <td>int64</td>\n",
              "      <td>0</td>\n",
              "      <td>0.0</td>\n",
              "      <td>2</td>\n",
              "      <td>0.001050</td>\n",
              "    </tr>\n",
              "    <tr>\n",
              "      <th>5</th>\n",
              "      <td>Previously_Insured</td>\n",
              "      <td>int64</td>\n",
              "      <td>0</td>\n",
              "      <td>0.0</td>\n",
              "      <td>2</td>\n",
              "      <td>0.001050</td>\n",
              "    </tr>\n",
              "    <tr>\n",
              "      <th>7</th>\n",
              "      <td>Vehicle_Damage</td>\n",
              "      <td>object</td>\n",
              "      <td>0</td>\n",
              "      <td>0.0</td>\n",
              "      <td>2</td>\n",
              "      <td>0.001050</td>\n",
              "    </tr>\n",
              "  </tbody>\n",
              "</table>\n",
              "</div>"
            ],
            "text/plain": [
              "                     Var   Dtypes  ...  Total Unique     Unique%\n",
              "0                     id    int64  ...        190555  100.000000\n",
              "8         Annual_Premium  float64  ...         41012   21.522395\n",
              "10               Vintage    int64  ...           290    0.152187\n",
              "9   Policy_Sales_Channel  float64  ...           152    0.079767\n",
              "2                    Age    int64  ...            66    0.034636\n",
              "4            Region_Code  float64  ...            53    0.027813\n",
              "6            Vehicle_Age   object  ...             3    0.001574\n",
              "1                 Gender   object  ...             2    0.001050\n",
              "3        Driving_License    int64  ...             2    0.001050\n",
              "5     Previously_Insured    int64  ...             2    0.001050\n",
              "7         Vehicle_Damage   object  ...             2    0.001050\n",
              "\n",
              "[11 rows x 6 columns]"
            ]
          },
          "metadata": {
            "tags": []
          },
          "execution_count": 13
        }
      ]
    },
    {
      "cell_type": "markdown",
      "metadata": {
        "id": "0NkskfjMTI20"
      },
      "source": [
        "### **Cek Distribusi Tiap Kolom**\n",
        "Fungsi: \n",
        "- Nentuin kolom mana yg mau di-encoding\n",
        "- Bantu analisis anomali"
      ]
    },
    {
      "cell_type": "code",
      "metadata": {
        "id": "hJ21kizpUSvX"
      },
      "source": [
        "uniquesumm = trainsumm.sort_values(by='Total Unique', ascending=False)\n",
        "safe_var = uniquesumm[uniquesumm['Total Unique'] <= 300]['Var']"
      ],
      "execution_count": null,
      "outputs": []
    },
    {
      "cell_type": "code",
      "metadata": {
        "colab": {
          "base_uri": "https://localhost:8080/",
          "height": 880
        },
        "id": "iYc-twxQTJvB",
        "outputId": "890725f8-819c-48b8-f762-12773bb55e0a"
      },
      "source": [
        "# Cek distribusi tiap variabel\n",
        "mpl.rcParams['figure.figsize'] = [15,15]\n",
        "# plt.style.use('fivethirtyeight') \n",
        "# sns.set_style('whitegrid')\n",
        "grid = mpl.gridspec.GridSpec(3, 3)\n",
        "\n",
        "var_to_plot = safe_var\n",
        "\n",
        "for i, var in enumerate(var_to_plot) :\n",
        "    ax = plt.subplot(grid[i])\n",
        "    z = df[var].value_counts()\n",
        "    ax.bar(z.index, z.values)\n",
        "    ax.set_xlabel(var)"
      ],
      "execution_count": null,
      "outputs": [
        {
          "output_type": "display_data",
          "data": {
            "image/png": "[encoded data removed]",
            "text/plain": [
              "<Figure size 1080x1080 with 9 Axes>"
            ]
          },
          "metadata": {
            "tags": [],
            "needs_background": "light"
          }
        }
      ]
    },
    {
      "cell_type": "markdown",
      "metadata": {
        "id": "0qLTyQB_WuPr"
      },
      "source": [
        "**Predictive Power EDA**"
      ]
    },
    {
      "cell_type": "code",
      "metadata": {
        "colab": {
          "base_uri": "https://localhost:8080/",
          "height": 306
        },
        "id": "R8Jrmb5cfNzc",
        "outputId": "5246dbf2-ff62-43f0-94c3-8565ff2dc199"
      },
      "source": [
        "target_variance = pd.DataFrame([[sv, np.std(df_train.groupby(sv)['Response'].mean().sort_values(ascending=False))] for sv in safe_var])\n",
        "target_variance.sort_values(by=1, ascending=False)"
      ],
      "execution_count": null,
      "outputs": [
        {
          "output_type": "execute_result",
          "data": {
            "text/html": [
              "<div>\n",
              "<style scoped>\n",
              "    .dataframe tbody tr th:only-of-type {\n",
              "        vertical-align: middle;\n",
              "    }\n",
              "\n",
              "    .dataframe tbody tr th {\n",
              "        vertical-align: top;\n",
              "    }\n",
              "\n",
              "    .dataframe thead th {\n",
              "        text-align: right;\n",
              "    }\n",
              "</style>\n",
              "<table border=\"1\" class=\"dataframe\">\n",
              "  <thead>\n",
              "    <tr style=\"text-align: right;\">\n",
              "      <th></th>\n",
              "      <th>0</th>\n",
              "      <th>1</th>\n",
              "    </tr>\n",
              "  </thead>\n",
              "  <tbody>\n",
              "    <tr>\n",
              "      <th>1</th>\n",
              "      <td>Policy_Sales_Channel</td>\n",
              "      <td>0.139553</td>\n",
              "    </tr>\n",
              "    <tr>\n",
              "      <th>8</th>\n",
              "      <td>Vehicle_Damage</td>\n",
              "      <td>0.115254</td>\n",
              "    </tr>\n",
              "    <tr>\n",
              "      <th>7</th>\n",
              "      <td>Previously_Insured</td>\n",
              "      <td>0.111531</td>\n",
              "    </tr>\n",
              "    <tr>\n",
              "      <th>4</th>\n",
              "      <td>Vehicle_Age</td>\n",
              "      <td>0.102106</td>\n",
              "    </tr>\n",
              "    <tr>\n",
              "      <th>2</th>\n",
              "      <td>Age</td>\n",
              "      <td>0.069055</td>\n",
              "    </tr>\n",
              "    <tr>\n",
              "      <th>6</th>\n",
              "      <td>Driving_License</td>\n",
              "      <td>0.043918</td>\n",
              "    </tr>\n",
              "    <tr>\n",
              "      <th>3</th>\n",
              "      <td>Region_Code</td>\n",
              "      <td>0.034292</td>\n",
              "    </tr>\n",
              "    <tr>\n",
              "      <th>5</th>\n",
              "      <td>Gender</td>\n",
              "      <td>0.017073</td>\n",
              "    </tr>\n",
              "    <tr>\n",
              "      <th>0</th>\n",
              "      <td>Vintage</td>\n",
              "      <td>0.012746</td>\n",
              "    </tr>\n",
              "  </tbody>\n",
              "</table>\n",
              "</div>"
            ],
            "text/plain": [
              "                      0         1\n",
              "1  Policy_Sales_Channel  0.139553\n",
              "8        Vehicle_Damage  0.115254\n",
              "7    Previously_Insured  0.111531\n",
              "4           Vehicle_Age  0.102106\n",
              "2                   Age  0.069055\n",
              "6       Driving_License  0.043918\n",
              "3           Region_Code  0.034292\n",
              "5                Gender  0.017073\n",
              "0               Vintage  0.012746"
            ]
          },
          "metadata": {
            "tags": []
          },
          "execution_count": 23
        }
      ]
    },
    {
      "cell_type": "code",
      "metadata": {
        "colab": {
          "base_uri": "https://localhost:8080/"
        },
        "id": "lfNwOtb9VdRj",
        "outputId": "34ccc426-f197-465d-f1c0-2aa57bab961b"
      },
      "source": [
        "df_train['Policy_Sales_Channel'].value_counts().head()"
      ],
      "execution_count": null,
      "outputs": [
        {
          "output_type": "execute_result",
          "data": {
            "text/plain": [
              "152.0    67126\n",
              "26.0     39992\n",
              "124.0    37055\n",
              "160.0    10890\n",
              "156.0     5209\n",
              "Name: Policy_Sales_Channel, dtype: int64"
            ]
          },
          "metadata": {
            "tags": []
          },
          "execution_count": 53
        }
      ]
    },
    {
      "cell_type": "code",
      "metadata": {
        "colab": {
          "base_uri": "https://localhost:8080/"
        },
        "id": "zu59JT7SVo4B",
        "outputId": "e02d516f-343c-467d-f2eb-d35d44cf1ca9"
      },
      "source": [
        "df_train.groupby('Policy_Sales_Channel')['Response'].mean().sort_values(ascending=False)"
      ],
      "execution_count": null,
      "outputs": [
        {
          "output_type": "execute_result",
          "data": {
            "text/plain": [
              "Policy_Sales_Channel\n",
              "123.0    1.000000\n",
              "101.0    1.000000\n",
              "121.0    0.350000\n",
              "62.0     0.333333\n",
              "3.0      0.303846\n",
              "           ...   \n",
              "79.0     0.000000\n",
              "27.0     0.000000\n",
              "82.0     0.000000\n",
              "83.0     0.000000\n",
              "76.0     0.000000\n",
              "Name: Response, Length: 146, dtype: float64"
            ]
          },
          "metadata": {
            "tags": []
          },
          "execution_count": 56
        }
      ]
    },
    {
      "cell_type": "code",
      "metadata": {
        "colab": {
          "base_uri": "https://localhost:8080/"
        },
        "id": "nSXpyKXxi0ma",
        "outputId": "70a019f5-bdc2-4293-a359-65df312f913c"
      },
      "source": [
        "Y_train.mean()"
      ],
      "execution_count": null,
      "outputs": [
        {
          "output_type": "execute_result",
          "data": {
            "text/plain": [
              "0.12146163292295098"
            ]
          },
          "metadata": {
            "tags": []
          },
          "execution_count": 61
        }
      ]
    },
    {
      "cell_type": "code",
      "metadata": {
        "colab": {
          "base_uri": "https://localhost:8080/"
        },
        "id": "FdliXiMxiHfJ",
        "outputId": "2f0fdbb1-b8e6-42ba-d641-8c1d65996cd7"
      },
      "source": [
        "yyy = df_train['Policy_Sales_Channel'].value_counts().head()\n",
        "zzz = df_train.groupby('Policy_Sales_Channel')['Response'].mean().sort_values(ascending=False)\n",
        "[[yy, zzz[yy]] for yy in yyy.index]"
      ],
      "execution_count": null,
      "outputs": [
        {
          "output_type": "execute_result",
          "data": {
            "text/plain": [
              "[[152.0, 0.02829008133957036],\n",
              " [26.0, 0.1959391878375675],\n",
              " [124.0, 0.18704628255296182],\n",
              " [160.0, 0.020110192837465565],\n",
              " [156.0, 0.22614705317719333]]"
            ]
          },
          "metadata": {
            "tags": []
          },
          "execution_count": 70
        }
      ]
    },
    {
      "cell_type": "markdown",
      "metadata": {
        "id": "Q7FoQDzGQziO"
      },
      "source": [
        "### **Bantu Analisis**"
      ]
    },
    {
      "cell_type": "markdown",
      "metadata": {
        "id": "TIY-7P5hfWI6"
      },
      "source": [
        "https://colab.research.google.com/drive/1p1T43pkgWwQb8S7SlKDapjAQ6G3a03UE?usp=sharing"
      ]
    },
    {
      "cell_type": "code",
      "metadata": {
        "colab": {
          "base_uri": "https://localhost:8080/"
        },
        "id": "lAQrc-RxWQsB",
        "outputId": "919783b2-3b85-49cf-f70d-b025448f39ce"
      },
      "source": [
        "for col in X_train.columns:\n",
        "    print(X_train[col].value_counts(), '\\n------------------\\n\\n')"
      ],
      "execution_count": null,
      "outputs": [
        {
          "output_type": "stream",
          "text": [
            "2047      1\n",
            "294950    1\n",
            "251344    1\n",
            "208335    1\n",
            "323939    1\n",
            "         ..\n",
            "68773     1\n",
            "90592     1\n",
            "138134    1\n",
            "131989    1\n",
            "262144    1\n",
            "Name: id, Length: 190554, dtype: int64 \n",
            "------------------\n",
            "\n",
            "\n",
            "Male      103139\n",
            "Female     87415\n",
            "Name: Gender, dtype: int64 \n",
            "------------------\n",
            "\n",
            "\n",
            "24    12990\n",
            "23    12082\n",
            "22    10474\n",
            "25    10269\n",
            "21     8128\n",
            "      ...  \n",
            "81       26\n",
            "82       13\n",
            "83        7\n",
            "84        5\n",
            "85        3\n",
            "Name: Age, Length: 66, dtype: int64 \n",
            "------------------\n",
            "\n",
            "\n",
            "1    190140\n",
            "0       414\n",
            "Name: Driving_License, dtype: int64 \n",
            "------------------\n",
            "\n",
            "\n",
            "28.0    53417\n",
            "8.0     16670\n",
            "46.0     9931\n",
            "41.0     9192\n",
            "15.0     6664\n",
            "30.0     6125\n",
            "29.0     5555\n",
            "50.0     5042\n",
            "3.0      4597\n",
            "11.0     4562\n",
            "36.0     4341\n",
            "33.0     3906\n",
            "47.0     3661\n",
            "35.0     3454\n",
            "6.0      3134\n",
            "45.0     2785\n",
            "37.0     2707\n",
            "18.0     2528\n",
            "14.0     2376\n",
            "48.0     2365\n",
            "39.0     2362\n",
            "10.0     2172\n",
            "21.0     2143\n",
            "13.0     2013\n",
            "2.0      1985\n",
            "7.0      1624\n",
            "12.0     1600\n",
            "9.0      1544\n",
            "27.0     1447\n",
            "32.0     1371\n",
            "43.0     1317\n",
            "26.0     1307\n",
            "17.0     1272\n",
            "25.0     1272\n",
            "24.0     1246\n",
            "0.0      1033\n",
            "38.0     1027\n",
            "16.0     1020\n",
            "31.0     1019\n",
            "20.0     1018\n",
            "23.0      994\n",
            "4.0       912\n",
            "49.0      887\n",
            "34.0      858\n",
            "19.0      753\n",
            "40.0      673\n",
            "22.0      643\n",
            "5.0       580\n",
            "1.0       515\n",
            "44.0      423\n",
            "42.0      287\n",
            "52.0      131\n",
            "51.0       94\n",
            "Name: Region_Code, dtype: int64 \n",
            "------------------\n",
            "\n",
            "\n",
            "0    103048\n",
            "1     87506\n",
            "Name: Previously_Insured, dtype: int64 \n",
            "------------------\n",
            "\n",
            "\n",
            "1-2 Year     100544\n",
            "< 1 Year      82048\n",
            "> 2 Years      7962\n",
            "Name: Vehicle_Age, dtype: int64 \n",
            "------------------\n",
            "\n",
            "\n",
            "Yes    96161\n",
            "No     94393\n",
            "Name: Vehicle_Damage, dtype: int64 \n",
            "------------------\n",
            "\n",
            "\n",
            "2630.0     32523\n",
            "69856.0       67\n",
            "38287.0       28\n",
            "39008.0       24\n",
            "30117.0       21\n",
            "           ...  \n",
            "13815.0        1\n",
            "51524.0        1\n",
            "60493.0        1\n",
            "21265.0        1\n",
            "52295.0        1\n",
            "Name: Annual_Premium, Length: 41066, dtype: int64 \n",
            "------------------\n",
            "\n",
            "\n",
            "152.0    67126\n",
            "26.0     39992\n",
            "124.0    37055\n",
            "160.0    10890\n",
            "156.0     5209\n",
            "         ...  \n",
            "50.0         1\n",
            "100.0        1\n",
            "74.0         1\n",
            "70.0         1\n",
            "69.0         1\n",
            "Name: Policy_Sales_Channel, Length: 146, dtype: int64 \n",
            "------------------\n",
            "\n",
            "\n",
            "103    728\n",
            "24     727\n",
            "158    725\n",
            "195    717\n",
            "173    716\n",
            "      ... \n",
            "89     595\n",
            "279    594\n",
            "274    593\n",
            "50     592\n",
            "104    585\n",
            "Name: Vintage, Length: 290, dtype: int64 \n",
            "------------------\n",
            "\n",
            "\n"
          ],
          "name": "stdout"
        }
      ]
    },
    {
      "cell_type": "markdown",
      "metadata": {
        "id": "anYEEqIgbRTY"
      },
      "source": [
        "### **Bagi Train-Val**"
      ]
    },
    {
      "cell_type": "code",
      "metadata": {
        "id": "H5AIdi8sbVUd"
      },
      "source": [
        "X_tr, X_te, Y_tr, Y_te = train_test_split(X_train, Y_train, test_size=0.5, random_state=42)"
      ],
      "execution_count": null,
      "outputs": []
    },
    {
      "cell_type": "markdown",
      "metadata": {
        "id": "6DOT7jHifjo1"
      },
      "source": [
        "### **Label Encoding**"
      ]
    },
    {
      "cell_type": "code",
      "metadata": {
        "id": "6zGhzE99fjo1"
      },
      "source": [
        "df_train.reset_index(drop=True, inplace=True)\n",
        "df_test.reset_index(drop=True, inplace=True)\n",
        "\n",
        "X_tr.reset_index(drop=True, inplace=True)\n",
        "Y_tr.reset_index(drop=True, inplace=True)\n",
        "\n",
        "X_te.reset_index(drop=True, inplace=True)\n",
        "Y_te.reset_index(drop=True, inplace=True)"
      ],
      "execution_count": null,
      "outputs": []
    },
    {
      "cell_type": "code",
      "metadata": {
        "id": "PdaoDLh7riUP"
      },
      "source": [
        "# Praproses (jika ada)\n",
        "X_tr_factorized = X_tr.copy()\n",
        "X_te_factorized = X_te.copy()\n",
        "\n",
        "# Buat df untuk akses ke 'Response'\n",
        "df_tr_factorized = pd.concat([X_tr_factorized, Y_tr], axis=1)\n",
        "df_te_factorized = pd.concat([X_te_factorized, Y_te], axis=1)"
      ],
      "execution_count": null,
      "outputs": []
    },
    {
      "cell_type": "code",
      "metadata": {
        "id": "Yn3hRZv5fjo1"
      },
      "source": [
        "# Difaktorisasi\n",
        "to_factorize_cols = ['Gender', 'Vehicle_Damage']\n",
        "for col in to_factorize_cols:\n",
        "    X_tr_factorized[col] = pd.factorize(X_tr[col], sort=True)[0]\n",
        "    X_te_factorized[col] = pd.factorize(X_te[col], sort=True)[0]\n",
        "\n",
        "# Post-proses\n",
        "X_tr_factorized['Vehicle_Age'] = X_tr_factorized['Vehicle_Age'].replace({'< 1 Year':0,\n",
        "                                                                         '1-2 Year':1,\n",
        "                                                                         '> 2 Years':2})\n",
        "X_te_factorized['Vehicle_Age'] = X_te_factorized['Vehicle_Age'].replace({'< 1 Year':0,\n",
        "                                                                         '1-2 Year':1,\n",
        "                                                                         '> 2 Years':2})"
      ],
      "execution_count": null,
      "outputs": []
    },
    {
      "cell_type": "code",
      "metadata": {
        "colab": {
          "base_uri": "https://localhost:8080/"
        },
        "id": "hG-5WfD-fjo1",
        "outputId": "c0aca94f-c614-41f4-9855-c57538d5e14a"
      },
      "source": [
        "# # Bulan jadi kategori numerik\n",
        "# month_replace = {'January':1, \n",
        "#                  'February':2, \n",
        "#                  'March':3, \n",
        "#                  'April':4,\n",
        "#                  'May':5,\n",
        "#                  'June':6,\n",
        "#                  'July':7,\n",
        "#                  'August':8,\n",
        "#                  'September':9,\n",
        "#                  'October':10,\n",
        "#                  'November':11,\n",
        "#                  'December':12}\n",
        "# X_tr_factorized['arrival_date_month'] = X_tr_factorized['arrival_date_month'].replace(month_replace)\n",
        "# X_te_factorized['arrival_date_month'] = X_te_factorized['arrival_date_month'].replace(month_replace)\n",
        "\n",
        "\n",
        "# Hapus kolom yg missing > 30%\n",
        "trainsumm = dataset_summary(X_tr)\n",
        "to_delete = trainsumm[trainsumm['Missing%'] >= 30]['Var']\n",
        "X_tr_factorized = X_tr_factorized.drop(columns=to_delete)\n",
        "X_te_factorized = X_te_factorized.drop(columns=to_delete)\n",
        "\n",
        "\n",
        "# Hapus kolom yg terlalu banyak unik tapi tidak numerik\n",
        "to_delete_unique = ['id', 'Policy_Sales_Channel', 'Region_Code']\n",
        "X_tr_factorized = X_tr_factorized.drop(columns=to_delete_unique)\n",
        "X_te_factorized = X_te_factorized.drop(columns=to_delete_unique)"
      ],
      "execution_count": null,
      "outputs": [
        {
          "output_type": "stream",
          "text": [
            "Dataset dimension : (95277, 11)\n"
          ],
          "name": "stdout"
        }
      ]
    },
    {
      "cell_type": "markdown",
      "metadata": {
        "id": "FUpnVTdSbYHM"
      },
      "source": [
        "### **Mean Encoding (alpha)**"
      ]
    },
    {
      "cell_type": "code",
      "metadata": {
        "id": "spMzOmBRks7b"
      },
      "source": [
        "df_train.reset_index(drop=True, inplace=True)\n",
        "df_test.reset_index(drop=True, inplace=True)\n",
        "\n",
        "X_tr.reset_index(drop=True, inplace=True)\n",
        "Y_tr.reset_index(drop=True, inplace=True)\n",
        "\n",
        "X_te.reset_index(drop=True, inplace=True)\n",
        "Y_te.reset_index(drop=True, inplace=True)"
      ],
      "execution_count": null,
      "outputs": []
    },
    {
      "cell_type": "code",
      "metadata": {
        "id": "EKrNnIRnsgMe"
      },
      "source": [
        "# Praproses (jika ada)\n",
        "X_tr_encoded = X_tr.copy()\n",
        "X_te_encoded = X_te.copy()\n",
        "\n",
        "X_tr_encoded[~X_tr_encoded['Policy_Sales_Channel'].isin([152.0, 26.0, 124.0, 160.0])] = 999.0\n",
        "X_te_encoded[~X_te_encoded['Policy_Sales_Channel'].isin([152.0, 26.0, 124.0, 160.0])] = 999.0\n",
        "\n",
        "# Buat df untuk akses ke 'Response'\n",
        "df_tr_encoded = pd.concat([X_tr_encoded, Y_tr], axis=1)\n",
        "df_te_encoded = pd.concat([X_te_encoded, Y_te], axis=1)"
      ],
      "execution_count": null,
      "outputs": []
    },
    {
      "cell_type": "code",
      "metadata": {
        "id": "MToSu_cMTAex"
      },
      "source": [
        "# Di mean encoding\n",
        "to_mean_encode = ['Policy_Sales_Channel', 'Gender', 'Vehicle_Age', 'Vehicle_Damage']\n",
        "for col in to_mean_encode:\n",
        "\n",
        "    alpha = 10\n",
        "    means_global = df_tr_encoded['Response'].mean()\n",
        "    nrows_cat = df_tr_encoded.groupby(col)['Response'].count()\n",
        "    means_cat = df_tr_encoded.groupby(col)['Response'].mean()\n",
        "    means_cats_adj = (means_cat*nrows_cat + means_global*alpha) / (nrows_cat+alpha)\n",
        "\n",
        "    X_tr_encoded[col] = X_tr_encoded[col].map(means_cats_adj)\n",
        "    X_te_encoded[col] = X_te_encoded[col].map(means_cats_adj)\n",
        "\n",
        "X_tr_encoded[to_mean_encode] = X_tr_encoded[to_mean_encode].astype('float64')\n",
        "X_te_encoded[to_mean_encode] = X_te_encoded[to_mean_encode].astype('float64')"
      ],
      "execution_count": null,
      "outputs": []
    },
    {
      "cell_type": "code",
      "metadata": {
        "id": "arVBc0WqbYRh"
      },
      "source": [
        "# # Bulan jadi kategori numerik\n",
        "# month_replace = {'January':1, \n",
        "#                  'February':2, \n",
        "#                  'March':3, \n",
        "#                  'April':4,\n",
        "#                  'May':5,\n",
        "#                  'June':6,\n",
        "#                  'July':7,\n",
        "#                  'August':8,\n",
        "#                  'September':9,\n",
        "#                  'October':10,\n",
        "#                  'November':11,\n",
        "#                  'December':12}\n",
        "# X_tr_encoded['arrival_date_month'] = X_tr_encoded['arrival_date_month'].replace(month_replace)\n",
        "# X_te_encoded['arrival_date_month'] = X_te_encoded['arrival_date_month'].replace(month_replace)\n",
        "\n",
        "\n",
        "# Hapus kolom yg missing > 30%\n",
        "to_delete = trainsumm[trainsumm['Missing%'] >= 30]['Var']\n",
        "X_tr_encoded = X_tr_encoded.drop(columns=to_delete)\n",
        "X_te_encoded = X_te_encoded.drop(columns=to_delete)\n",
        "\n",
        "\n",
        "# Hapus kolom yg terlalu banyak unik tapi tidak numerik\n",
        "to_delete_unique = ['id', 'Region_Code']\n",
        "X_tr_encoded = X_tr_encoded.drop(columns=to_delete_unique)\n",
        "X_te_encoded = X_te_encoded.drop(columns=to_delete_unique)"
      ],
      "execution_count": null,
      "outputs": []
    },
    {
      "cell_type": "markdown",
      "metadata": {
        "id": "7A9er5zzh_E4"
      },
      "source": [
        "### **Mean Encoding (alpha + CV)**"
      ]
    },
    {
      "cell_type": "code",
      "metadata": {
        "id": "c7rYShVYkuk5"
      },
      "source": [
        "df_train.reset_index(drop=True, inplace=True)\n",
        "df_test.reset_index(drop=True, inplace=True)\n",
        "\n",
        "X_tr.reset_index(drop=True, inplace=True)\n",
        "Y_tr.reset_index(drop=True, inplace=True)\n",
        "\n",
        "X_te.reset_index(drop=True, inplace=True)\n",
        "Y_te.reset_index(drop=True, inplace=True)"
      ],
      "execution_count": null,
      "outputs": []
    },
    {
      "cell_type": "code",
      "metadata": {
        "id": "w9W1_tUDc5HJ"
      },
      "source": [
        "# Praproses (jika ada)\n",
        "X_tr_encoded_cv = X_tr.copy()\n",
        "X_te_encoded_cv = X_te.copy()\n",
        "\n",
        "X_tr_encoded_cv[~X_tr_encoded_cv['Policy_Sales_Channel'].isin([152.0, 26.0, 124.0, 160.0])] = 999.0\n",
        "X_te_encoded_cv[~X_te_encoded_cv['Policy_Sales_Channel'].isin([152.0, 26.0, 124.0, 160.0])] = 999.0\n",
        "\n",
        "# Buat df untuk akses ke 'Response'\n",
        "df_tr_encoded_cv = pd.concat([X_tr_encoded_cv, Y_tr], axis=1)\n",
        "df_te_encoded_cv = pd.concat([X_te_encoded_cv, Y_te], axis=1)"
      ],
      "execution_count": null,
      "outputs": []
    },
    {
      "cell_type": "code",
      "metadata": {
        "colab": {
          "base_uri": "https://localhost:8080/"
        },
        "id": "1bhoKGT8CNxl",
        "outputId": "5e581354-59b1-4749-8a9c-df5c64202a21"
      },
      "source": [
        "# Di mean encoding CV\n",
        "to_mean_encode_cv = ['Policy_Sales_Channel', 'Gender', 'Vehicle_Age', 'Vehicle_Damage']\n",
        "for col in to_mean_encode_cv:\n",
        "\n",
        "    alpha = 10\n",
        "    means_global = df_tr_encoded_cv['Response'].mean()\n",
        "    nrows_cat = df_tr_encoded_cv.groupby(col)['Response'].count()\n",
        "    means_cat = df_tr_encoded_cv.groupby(col)['Response'].mean()\n",
        "    means_cats_adj = (means_cat*nrows_cat + means_global*alpha) / (nrows_cat+alpha)\n",
        "\n",
        "    X_te_encoded_cv[col] = X_te_encoded_cv[col].map(means_cats_adj) # Test pake target global aja\n",
        "\n",
        "\n",
        "    skf = StratifiedKFold(n_splits=5, shuffle=True, random_state=28112020)     \n",
        "    for tr_ind, val_ind in skf.split(X_tr_encoded_cv, Y_tr):\n",
        "\n",
        "        # divide data\n",
        "        df_for_estimation, df_estimated = df_tr_encoded_cv.loc[tr_ind], df_tr_encoded_cv.iloc[val_ind]\n",
        "\n",
        "        # getting means on data for estimation (all folds except estimated)\n",
        "        nrows_cat = df_for_estimation.groupby(col)['Response'].count()\n",
        "        means_cat = df_for_estimation.groupby(col)['Response'].mean()\n",
        "        means_cats_adj = (means_cat*nrows_cat + means_global*alpha) / (nrows_cat+alpha)\n",
        "\n",
        "        # Mapping means to estimated fold\n",
        "        X_tr_encoded_cv[col].loc[val_ind] = df_estimated[col].map(means_cats_adj)\n",
        "\n",
        "\n",
        "X_tr_encoded_cv[to_mean_encode_cv] = X_tr_encoded_cv[to_mean_encode_cv].astype('float64')\n",
        "X_te_encoded_cv[to_mean_encode_cv] = X_te_encoded_cv[to_mean_encode_cv].astype('float64')"
      ],
      "execution_count": null,
      "outputs": [
        {
          "output_type": "stream",
          "text": [
            "/usr/local/lib/python3.6/dist-packages/pandas/core/indexing.py:670: SettingWithCopyWarning: \n",
            "A value is trying to be set on a copy of a slice from a DataFrame\n",
            "\n",
            "See the caveats in the documentation: https://pandas.pydata.org/pandas-docs/stable/user_guide/indexing.html#returning-a-view-versus-a-copy\n",
            "  iloc._setitem_with_indexer(indexer, value)\n",
            "/usr/local/lib/python3.6/dist-packages/pandas/core/indexing.py:670: SettingWithCopyWarning: \n",
            "A value is trying to be set on a copy of a slice from a DataFrame\n",
            "\n",
            "See the caveats in the documentation: https://pandas.pydata.org/pandas-docs/stable/user_guide/indexing.html#returning-a-view-versus-a-copy\n",
            "  iloc._setitem_with_indexer(indexer, value)\n",
            "/usr/local/lib/python3.6/dist-packages/pandas/core/indexing.py:670: SettingWithCopyWarning: \n",
            "A value is trying to be set on a copy of a slice from a DataFrame\n",
            "\n",
            "See the caveats in the documentation: https://pandas.pydata.org/pandas-docs/stable/user_guide/indexing.html#returning-a-view-versus-a-copy\n",
            "  iloc._setitem_with_indexer(indexer, value)\n",
            "/usr/local/lib/python3.6/dist-packages/pandas/core/indexing.py:670: SettingWithCopyWarning: \n",
            "A value is trying to be set on a copy of a slice from a DataFrame\n",
            "\n",
            "See the caveats in the documentation: https://pandas.pydata.org/pandas-docs/stable/user_guide/indexing.html#returning-a-view-versus-a-copy\n",
            "  iloc._setitem_with_indexer(indexer, value)\n"
          ],
          "name": "stderr"
        }
      ]
    },
    {
      "cell_type": "code",
      "metadata": {
        "id": "y7VaJXuFl8ZO"
      },
      "source": [
        "# # Bulan jadi kategori numerik\n",
        "# month_replace = {'January':1, \n",
        "#                  'February':2, \n",
        "#                  'March':3, \n",
        "#                  'April':4,\n",
        "#                  'May':5,\n",
        "#                  'June':6,\n",
        "#                  'July':7,\n",
        "#                  'August':8,\n",
        "#                  'September':9,\n",
        "#                  'October':10,\n",
        "#                  'November':11,\n",
        "#                  'December':12}\n",
        "# X_tr_encoded_cv['arrival_date_month'] = X_tr_encoded_cv['arrival_date_month'].replace(month_replace)\n",
        "# X_te_encoded_cv['arrival_date_month'] = X_te_encoded_cv['arrival_date_month'].replace(month_replace)\n",
        "\n",
        "\n",
        "# Hapus kolom yg missing > 30%\n",
        "to_delete = trainsumm[trainsumm['Missing%'] >= 30]['Var']\n",
        "X_tr_encoded_cv = X_tr_encoded_cv.drop(columns=to_delete)\n",
        "X_te_encoded_cv = X_te_encoded_cv.drop(columns=to_delete)\n",
        "\n",
        "\n",
        "# Hapus kolom yg terlalu banyak unik tapi tidak numerik\n",
        "to_delete_unique = ['id', 'Region_Code']\n",
        "X_tr_encoded_cv = X_tr_encoded_cv.drop(columns=to_delete_unique)\n",
        "X_te_encoded_cv = X_te_encoded_cv.drop(columns=to_delete_unique)"
      ],
      "execution_count": null,
      "outputs": []
    },
    {
      "cell_type": "markdown",
      "metadata": {
        "id": "x9OAR59uS-xO"
      },
      "source": [
        "### **XGBoost**"
      ]
    },
    {
      "cell_type": "code",
      "metadata": {
        "id": "w1HXIQm3TBC8"
      },
      "source": [
        "from xgboost import XGBClassifier\n",
        "from xgboost import XGBRegressor\n",
        "\n",
        "from sklearn.model_selection import StratifiedKFold # Classifier\n",
        "from sklearn.model_selection import KFold # Regressor\n",
        "\n",
        "#Metrics\n",
        "from sklearn.metrics import matthews_corrcoef # Classifier\n",
        "from sklearn.metrics import mean_squared_error # Regressor\n",
        "\n",
        "from sklearn.metrics import confusion_matrix\n",
        "from sklearn.metrics import ConfusionMatrixDisplay"
      ],
      "execution_count": null,
      "outputs": []
    },
    {
      "cell_type": "markdown",
      "metadata": {
        "id": "OTjgVO5XXSEm"
      },
      "source": [
        "### **Validation**"
      ]
    },
    {
      "cell_type": "markdown",
      "metadata": {
        "id": "BcIVqZpAXw7N"
      },
      "source": [
        "**Validation (Label Encoding)**"
      ]
    },
    {
      "cell_type": "code",
      "metadata": {
        "id": "wimkYBjgbYXL",
        "cellView": "form"
      },
      "source": [
        "#@title\n",
        "X_tr_factorized.reset_index(drop=True, inplace=True)\n",
        "Y_tr.reset_index(drop=True, inplace=True)\n",
        "\n",
        "rand_states = [28112020]\n",
        "rand_scores_tr = {}\n",
        "rand_scores_val = {}\n",
        "\n",
        "for r in rand_states:\n",
        "    scores_tr = []\n",
        "    scores_val = []\n",
        "\n",
        "    skf = StratifiedKFold(n_splits=2, random_state=r, shuffle=True) # Classification\n",
        "    # kf = KFold(n_splits=2) # Regression\n",
        "\n",
        "    for train_index, val_index in skf.split(X_tr_factorized, Y_tr): # Classification\n",
        "    # for train_index, val_index in kf.split(X_tr_factorized): # Regression\n",
        "        model = XGBClassifier(random_state=1234) # Classification\n",
        "        # model = XGBRegressor(random_state=1234) # Regression\n",
        "        model.fit(X_tr_factorized.loc[train_index], Y_tr.loc[train_index])\n",
        "\n",
        "        # Scoring pake matthew coefficient\n",
        "        Y_predtrain = model.predict(X_tr_factorized.loc[train_index])\n",
        "        Y_pred = model.predict(X_tr_factorized.loc[val_index])\n",
        "        scores_tr.append(mean_squared_error(Y_tr.loc[train_index], Y_predtrain, squared=False))\n",
        "        scores_val.append(mean_squared_error(Y_tr.loc[val_index], Y_pred, squared=False))\n",
        "\n",
        "    rand_scores_tr[r] = scores_tr\n",
        "    rand_scores_val[r] = scores_val\n",
        "\n",
        "    print(r, \"Train\", scores_tr)\n",
        "    print(r, \"Val  \", scores_val)\n",
        "    print('----Baseline----')\n",
        "\n",
        "print(\"Train: \", np.array(list(rand_scores_tr.values())).mean())\n",
        "print(\"Val  : \",np.array(list(rand_scores_val.values())).mean())"
      ],
      "execution_count": null,
      "outputs": []
    },
    {
      "cell_type": "code",
      "metadata": {
        "colab": {
          "base_uri": "https://localhost:8080/"
        },
        "id": "01isLKUXRqSJ",
        "outputId": "cbd729db-9de6-429e-d671-68f0fdbf626b"
      },
      "source": [
        "model = XGBClassifier(random_state=1234) # Classification\n",
        "model.fit(X_tr_factorized, Y_tr)\n",
        "\n",
        "Y_predtrain = model.predict(X_tr_factorized)\n",
        "Y_pred = model.predict(X_te_factorized)\n",
        "\n",
        "scores_tr = matthews_corrcoef(Y_tr, Y_predtrain)\n",
        "scores_val = matthews_corrcoef(Y_te, Y_pred)\n",
        "\n",
        "print('----Baseline----')\n",
        "\n",
        "print(\"Train: \", scores_tr)\n",
        "print(\"Val  : \", scores_val)"
      ],
      "execution_count": null,
      "outputs": [
        {
          "output_type": "stream",
          "text": [
            "----Baseline----\n",
            "Train:  0.019440807344107542\n",
            "Val  :  -0.002081903506589686\n"
          ],
          "name": "stdout"
        }
      ]
    },
    {
      "cell_type": "markdown",
      "metadata": {
        "id": "URMZrFWEgmTa"
      },
      "source": [
        "**Validation (Mean Encoding + alpha)**"
      ]
    },
    {
      "cell_type": "code",
      "metadata": {
        "id": "9cTg4dLV7m0I",
        "cellView": "form"
      },
      "source": [
        "#@title\n",
        "X_train_encoded.reset_index(drop=True, inplace=True)\n",
        "Y_train.reset_index(drop=True, inplace=True)\n",
        "\n",
        "rand_states = [28112020]\n",
        "rand_scores_train = {}\n",
        "rand_scores_val = {}\n",
        "\n",
        "for r in rand_states:\n",
        "    scores_train = []\n",
        "    scores_val = []\n",
        "\n",
        "    # skf = StratifiedKFold(n_splits=2, random_state=r, shuffle=True) # Classification\n",
        "    skf = StratifiedKFold(n_splits=2, random_state=r, shuffle=True) # Regression\n",
        "    kf = KFold(n_splits=2)\n",
        "\n",
        "    # for train_index, test_index in skf.split(X_train_encoded, Y_train):\n",
        "    for train_index, test_index in kf.split(X_train_encoded):\n",
        "        model = XGBRegressor(random_state=1234)\n",
        "        model.fit(X_train_encoded.loc[train_index], Y_train.loc[train_index])\n",
        "\n",
        "        # Scoring pake matthew coefficient\n",
        "        Y_predtrain = model.predict(X_train_encoded.loc[train_index])\n",
        "        Y_pred = model.predict(X_train_encoded.loc[test_index])\n",
        "        scores_train.append(mean_squared_error(Y_train.loc[train_index], Y_predtrain, squared=False))\n",
        "        scores_val.append(mean_squared_error(Y_train.loc[test_index], Y_pred, squared=False))\n",
        "\n",
        "    rand_scores_train[r] = scores_train\n",
        "    rand_scores_val[r] = scores_val\n",
        "\n",
        "    print(r, \"Train\", scores_train)\n",
        "    print(r, \"Test \", scores_val)\n",
        "    print('----Baseline----')\n",
        "\n",
        "print(\"Train: \", np.array(list(rand_scores_train.values())).mean())\n",
        "print(\"Test : \",np.array(list(rand_scores_val.values())).mean())"
      ],
      "execution_count": null,
      "outputs": []
    },
    {
      "cell_type": "code",
      "metadata": {
        "colab": {
          "base_uri": "https://localhost:8080/"
        },
        "id": "-xPlV_3wVQhu",
        "outputId": "f720bc3f-8b9a-480f-fe1f-b234ba2e776d"
      },
      "source": [
        "model = XGBClassifier(random_state=1234) # Classification\n",
        "model.fit(X_tr_encoded, Y_tr)\n",
        "\n",
        "Y_predtrain = model.predict(X_tr_encoded)\n",
        "Y_pred = model.predict(X_te_encoded)\n",
        "\n",
        "scores_tr = matthews_corrcoef(Y_tr, Y_predtrain)\n",
        "scores_val = matthews_corrcoef(Y_te, Y_pred)\n",
        "\n",
        "print('----Mean Encoding + Alpha----')\n",
        "\n",
        "print(\"Train: \", scores_tr)\n",
        "print(\"Val  : \", scores_val)"
      ],
      "execution_count": null,
      "outputs": [
        {
          "output_type": "stream",
          "text": [
            "----Mean Encoding + Alpha----\n",
            "Train:  0.01725417135141857\n",
            "Val  :  0.0053246641737706045\n"
          ],
          "name": "stdout"
        }
      ]
    },
    {
      "cell_type": "markdown",
      "metadata": {
        "id": "CY4DbJKngo9c"
      },
      "source": [
        "**Validation (Mean Encoding CV + alpha)**"
      ]
    },
    {
      "cell_type": "code",
      "metadata": {
        "id": "eRkiKhYzgqNj",
        "cellView": "form"
      },
      "source": [
        "#@title\n",
        "X_train_encoded_cv.reset_index(drop=True, inplace=True)\n",
        "Y_train.reset_index(drop=True, inplace=True)\n",
        "\n",
        "rand_states = [28112020]\n",
        "rand_scores_train = {}\n",
        "rand_scores_val = {}\n",
        "\n",
        "for r in rand_states:\n",
        "    scores_train = []\n",
        "    scores_val = []\n",
        "\n",
        "    # skf = StratifiedKFold(n_splits=2, random_state=r, shuffle=True) # Classification\n",
        "    skf = StratifiedKFold(n_splits=2, random_state=r, shuffle=True) # Regression\n",
        "    kf = KFold(n_splits=2)\n",
        "\n",
        "    # for train_index, test_index in skf.split(X_train_encoded_cv, Y_train):\n",
        "    for train_index, test_index in kf.split(X_train_encoded_cv):\n",
        "        model = XGBRegressor(random_state=1234)\n",
        "        model.fit(X_train_encoded_cv.loc[train_index], Y_train.loc[train_index])\n",
        "\n",
        "        # Scoring pake matthew coefficient\n",
        "        Y_predtrain = model.predict(X_train_encoded_cv.loc[train_index])\n",
        "        Y_pred = model.predict(X_train_encoded_cv.loc[test_index])\n",
        "        scores_train.append(mean_squared_error(Y_train.loc[train_index], Y_predtrain, squared=False))\n",
        "        scores_val.append(mean_squared_error(Y_train.loc[test_index], Y_pred, squared=False))\n",
        "\n",
        "    rand_scores_train[r] = scores_train\n",
        "    rand_scores_val[r] = scores_val\n",
        "\n",
        "    print(r, \"Train\", scores_train)\n",
        "    print(r, \"Test \", scores_val)\n",
        "    print('----Baseline----')\n",
        "\n",
        "print(\"Train: \", np.array(list(rand_scores_train.values())).mean())\n",
        "print(\"Test : \",np.array(list(rand_scores_val.values())).mean())"
      ],
      "execution_count": null,
      "outputs": []
    },
    {
      "cell_type": "code",
      "metadata": {
        "colab": {
          "base_uri": "https://localhost:8080/"
        },
        "id": "eAWd76wEVfod",
        "outputId": "5f60c7c1-62b4-40f6-dccf-aed4865f2430"
      },
      "source": [
        "model = XGBClassifier(random_state=1234) # Classification\n",
        "model.fit(X_tr_encoded_cv, Y_tr)\n",
        "\n",
        "Y_predtrain = model.predict(X_tr_encoded_cv)\n",
        "Y_pred = model.predict(X_te_encoded_cv)\n",
        "\n",
        "scores_tr = matthews_corrcoef(Y_tr, Y_predtrain)\n",
        "scores_val = matthews_corrcoef(Y_te, Y_pred)\n",
        "\n",
        "print('----Mean Encoding + CV + Alpha----')\n",
        "\n",
        "print(\"Train: \", scores_tr)\n",
        "print(\"Val  : \", scores_val)"
      ],
      "execution_count": null,
      "outputs": [
        {
          "output_type": "stream",
          "text": [
            "----Mean Encoding + CV + Alpha----\n",
            "Train:  0.019879790066312127\n",
            "Val  :  0.0053246641737706045\n"
          ],
          "name": "stdout"
        }
      ]
    },
    {
      "cell_type": "markdown",
      "metadata": {
        "id": "__95VU8sj7zF"
      },
      "source": [
        "### **Submit**"
      ]
    },
    {
      "cell_type": "code",
      "metadata": {
        "colab": {
          "base_uri": "https://localhost:8080/"
        },
        "id": "T5pdlXNUj7zF",
        "outputId": "85f05d72-13c4-4898-95e2-c9d3efb082bf"
      },
      "source": [
        "X_train_factorized.reset_index(drop=True, inplace=True)\n",
        "Y_train.reset_index(drop=True, inplace=True)\n",
        "\n",
        "model = XGBClassifier(random_state=1234)\n",
        "model.fit(X_train_factorized, Y_train)\n",
        "\n",
        "# Scoring pake matthew coefficient\n",
        "Y_pred = model.predict(X_test_factorized)\n",
        "Y_pred.to_csv('')"
      ],
      "execution_count": null,
      "outputs": [
        {
          "output_type": "stream",
          "text": [
            "Baseline: 0.6645578040144313\n",
            "Mean Encoding: 0.6747142800755542\n",
            "Mean Encoding CV: 0.6768000304800589\n"
          ],
          "name": "stdout"
        }
      ]
    },
    {
      "cell_type": "code",
      "metadata": {
        "id": "-tAVIXOnkGNj"
      },
      "source": [
        "X_train_encoded.reset_index(drop=True, inplace=True)\n",
        "Y_train.reset_index(drop=True, inplace=True)\n",
        "\n",
        "model = XGBClassifier(random_state=1234)\n",
        "model.fit(X_train_encoded, Y_train)\n",
        "\n",
        "# Scoring pake matthew coefficient\n",
        "Y_pred = model.predict(X_test_encoded)\n",
        "Y_pred.to_csv('')"
      ],
      "execution_count": null,
      "outputs": []
    },
    {
      "cell_type": "code",
      "metadata": {
        "id": "VU3op_y7kHI3"
      },
      "source": [
        "X_train_encoded_cv.reset_index(drop=True, inplace=True)\n",
        "Y_train.reset_index(drop=True, inplace=True)\n",
        "\n",
        "model = XGBClassifier(random_state=1234)\n",
        "model.fit(X_train_encoded_cv, Y_train)\n",
        "\n",
        "# Scoring pake matthew coefficient\n",
        "Y_pred = model.predict(X_test_encoded_cv)\n",
        "Y_pred.to_csv('')"
      ],
      "execution_count": null,
      "outputs": []
    },
    {
      "cell_type": "markdown",
      "metadata": {
        "id": "MoNPrQygY8F2"
      },
      "source": [
        "### **Test**"
      ]
    },
    {
      "cell_type": "markdown",
      "metadata": {
        "id": "TgQAtQOvX0yz"
      },
      "source": [
        "**Test (Label Encoding)**"
      ]
    },
    {
      "cell_type": "code",
      "metadata": {
        "colab": {
          "base_uri": "https://localhost:8080/"
        },
        "id": "sbEetSCsWJ38",
        "outputId": "1aa1b3fd-e359-48b5-b31e-a567c5af4b66"
      },
      "source": [
        "# Praproses (jika ada)\n",
        "X_train_factorized = X_train.copy()\n",
        "X_test_factorized = X_test.copy()\n",
        "\n",
        "# Buat df untuk akses ke 'Response'\n",
        "df_train_factorized = pd.concat([X_train_factorized, Y_train], axis=1)\n",
        "df_test_factorized = pd.concat([X_test_factorized, Y_test], axis=1)\n",
        "\n",
        "\n",
        "# Difaktorisasi\n",
        "to_factorize_cols = ['Gender', 'Vehicle_Damage']\n",
        "for col in to_factorize_cols:\n",
        "    X_train_factorized[col] = pd.factorize(X_train[col], sort=True)[0]\n",
        "    X_test_factorized[col] = pd.factorize(X_test[col], sort=True)[0]\n",
        "\n",
        "# Post-proses\n",
        "X_train_factorized['Vehicle_Age'] = X_train_factorized['Vehicle_Age'].replace({'< 1 Year':0,\n",
        "                                                                         '1-2 Year':1,\n",
        "                                                                         '> 2 Years':2})\n",
        "X_test_factorized['Vehicle_Age'] = X_test_factorized['Vehicle_Age'].replace({'< 1 Year':0,\n",
        "                                                                         '1-2 Year':1,\n",
        "                                                                         '> 2 Years':2})\n",
        "\n",
        "\n",
        "# Hapus kolom yg missing > 30%\n",
        "trainsumm = dataset_summary(X_train)\n",
        "to_delete = trainsumm[trainsumm['Missing%'] >= 30]['Var']\n",
        "X_train_factorized = X_train_factorized.drop(columns=to_delete)\n",
        "X_test_factorized = X_test_factorized.drop(columns=to_delete)\n",
        "\n",
        "# Hapus kolom yg terlalu banyak unik tapi tidak numerik\n",
        "to_delete_unique = ['id', 'Policy_Sales_Channel', 'Region_Code']\n",
        "X_train_factorized = X_train_factorized.drop(columns=to_delete_unique)\n",
        "X_test_factorized = X_test_factorized.drop(columns=to_delete_unique)"
      ],
      "execution_count": null,
      "outputs": [
        {
          "output_type": "stream",
          "text": [
            "Dataset dimension : (190554, 11)\n"
          ],
          "name": "stdout"
        }
      ]
    },
    {
      "cell_type": "code",
      "metadata": {
        "colab": {
          "base_uri": "https://localhost:8080/"
        },
        "id": "R-2nfCP1WJ38",
        "outputId": "afa7530b-ff36-40ab-a97f-153ed2861894"
      },
      "source": [
        "model = XGBClassifier(random_state=1234) # Classification\n",
        "model.fit(X_train_factorized, Y_train)\n",
        "\n",
        "Y_predtrain = model.predict(X_train_factorized)\n",
        "Y_pred = model.predict(X_test_factorized)\n",
        "\n",
        "scores_train = matthews_corrcoef(Y_train, Y_predtrain)\n",
        "scores_val = matthews_corrcoef(Y_test, Y_pred)\n",
        "\n",
        "print('----Label Encoding----')\n",
        "\n",
        "print(\"Train: \", scores_train)\n",
        "print(\"Val  : \", scores_val)"
      ],
      "execution_count": null,
      "outputs": [
        {
          "output_type": "stream",
          "text": [
            "----Mean Encoding + CV + Alpha----\n",
            "Train:  0.0\n",
            "Val  :  0.0\n"
          ],
          "name": "stdout"
        },
        {
          "output_type": "stream",
          "text": [
            "/usr/local/lib/python3.6/dist-packages/sklearn/metrics/_classification.py:900: RuntimeWarning: invalid value encountered in double_scalars\n",
            "  mcc = cov_ytyp / np.sqrt(cov_ytyt * cov_ypyp)\n"
          ],
          "name": "stderr"
        }
      ]
    },
    {
      "cell_type": "markdown",
      "metadata": {
        "id": "hUCaOcKMXFj7"
      },
      "source": [
        "**Test (Mean Encode + Alpha)**"
      ]
    },
    {
      "cell_type": "code",
      "metadata": {
        "id": "XhXABOqwXTPV"
      },
      "source": [
        "# Praproses (jika ada)\n",
        "X_train_encoded = X_train.copy()\n",
        "X_test_encoded = X_test.copy()\n",
        "\n",
        "X_train_encoded[~X_train_encoded['Policy_Sales_Channel'].isin([152.0, 26.0, 124.0, 160.0])] = 999.0\n",
        "X_test_encoded[~X_test_encoded['Policy_Sales_Channel'].isin([152.0, 26.0, 124.0, 160.0])] = 999.0\n",
        "\n",
        "# Buat df untuk akses ke 'Response'\n",
        "df_train_encoded = pd.concat([X_train_encoded, Y_train], axis=1)\n",
        "df_test_encoded = pd.concat([X_test_encoded, Y_test], axis=1)\n",
        "\n",
        "\n",
        "# Di mean encoding\n",
        "to_mean_encode = ['Policy_Sales_Channel', 'Gender', 'Vehicle_Age', 'Vehicle_Damage']\n",
        "for col in to_mean_encode:\n",
        "\n",
        "    alpha = 10\n",
        "    means_global = df_train_encoded['Response'].mean()\n",
        "    nrows_cat = df_train_encoded.groupby(col)['Response'].count()\n",
        "    means_cat = df_train_encoded.groupby(col)['Response'].mean()\n",
        "    means_cats_adj = (means_cat*nrows_cat + means_global*alpha) / (nrows_cat+alpha)\n",
        "\n",
        "    X_train_encoded[col] = X_train_encoded[col].map(means_cats_adj)\n",
        "    X_test_encoded[col] = X_test_encoded[col].map(means_cats_adj)\n",
        "\n",
        "X_train_encoded[to_mean_encode] = X_train_encoded[to_mean_encode].astype('float64')\n",
        "X_test_encoded[to_mean_encode] = X_test_encoded[to_mean_encode].astype('float64')\n",
        "\n",
        "\n",
        "# Hapus kolom yg missing > 30%\n",
        "to_delete = trainsumm[trainsumm['Missing%'] >= 30]['Var']\n",
        "X_train_encoded = X_train_encoded.drop(columns=to_delete)\n",
        "X_test_encoded = X_test_encoded.drop(columns=to_delete)\n",
        "\n",
        "# Hapus kolom yg terlalu banyak unik tapi tidak numerik\n",
        "to_delete_unique = ['id', 'Region_Code']\n",
        "X_train_encoded = X_train_encoded.drop(columns=to_delete_unique)\n",
        "X_test_encoded = X_test_encoded.drop(columns=to_delete_unique)"
      ],
      "execution_count": null,
      "outputs": []
    },
    {
      "cell_type": "code",
      "metadata": {
        "colab": {
          "base_uri": "https://localhost:8080/"
        },
        "id": "pDwjO5bXXTPV",
        "outputId": "a8d4642e-1bf6-423a-8814-d3874d3caee3"
      },
      "source": [
        "model = XGBClassifier(random_state=1234) # Classification\n",
        "model.fit(X_train_encoded, Y_train)\n",
        "\n",
        "Y_predtrain = model.predict(X_train_encoded)\n",
        "Y_pred = model.predict(X_test_encoded)\n",
        "\n",
        "scores_train = matthews_corrcoef(Y_train, Y_predtrain)\n",
        "scores_val = matthews_corrcoef(Y_test, Y_pred)\n",
        "\n",
        "print('----Mean Encoding + Alpha----')\n",
        "\n",
        "print(\"Train: \", scores_train)\n",
        "print(\"Val  : \", scores_val)"
      ],
      "execution_count": null,
      "outputs": [
        {
          "output_type": "stream",
          "text": [
            "----Mean Encoding + CV + Alpha----\n",
            "Train:  0.010544196449169799\n",
            "Val  :  0.017107671153308964\n"
          ],
          "name": "stdout"
        }
      ]
    },
    {
      "cell_type": "markdown",
      "metadata": {
        "id": "syrUsDRTX4qf"
      },
      "source": [
        "**Test (Mean Encode + Alpha + CV)**"
      ]
    },
    {
      "cell_type": "code",
      "metadata": {
        "colab": {
          "base_uri": "https://localhost:8080/"
        },
        "id": "1Y0wpaF-YGXv",
        "outputId": "d7da5d8c-d683-4bc2-b0af-e89fad43e3de"
      },
      "source": [
        "# Praproses (jika ada)\n",
        "X_train_encoded_cv = X_train.copy()\n",
        "X_test_encoded_cv = X_test.copy()\n",
        "\n",
        "X_train_encoded_cv[~X_train_encoded_cv['Policy_Sales_Channel'].isin([152.0, 26.0, 124.0, 160.0])] = 999.0\n",
        "X_test_encoded_cv[~X_test_encoded_cv['Policy_Sales_Channel'].isin([152.0, 26.0, 124.0, 160.0])] = 999.0\n",
        "\n",
        "# Buat df untuk akses ke 'Response'\n",
        "df_train_encoded_cv = pd.concat([X_train_encoded_cv, Y_train], axis=1)\n",
        "df_test_encoded_cv = pd.concat([X_test_encoded_cv, Y_test], axis=1)\n",
        "\n",
        "\n",
        "# Di mean encoding CV\n",
        "to_mean_encode_cv = ['Policy_Sales_Channel', 'Gender', 'Vehicle_Age', 'Vehicle_Damage']\n",
        "for col in to_mean_encode_cv:\n",
        "\n",
        "    alpha = 10\n",
        "    means_global = df_train_encoded_cv['Response'].mean()\n",
        "    nrows_cat = df_train_encoded_cv.groupby(col)['Response'].count()\n",
        "    means_cat = df_train_encoded_cv.groupby(col)['Response'].mean()\n",
        "    means_cats_adj = (means_cat*nrows_cat + means_global*alpha) / (nrows_cat+alpha)\n",
        "\n",
        "    X_test_encoded_cv[col] = X_test_encoded_cv[col].map(means_cats_adj) # Test pake target global aja\n",
        "\n",
        "\n",
        "    skf = StratifiedKFold(n_splits=5, shuffle=True, random_state=28112020)     \n",
        "    for tr_ind, val_ind in skf.split(X_train_encoded_cv, Y_train):\n",
        "\n",
        "        # divide data\n",
        "        df_for_estimation, df_estimated = df_train_encoded_cv.loc[tr_ind], df_train_encoded_cv.iloc[val_ind]\n",
        "\n",
        "        # getting means on data for estimation (all folds except estimated)\n",
        "        nrows_cat = df_for_estimation.groupby(col)['Response'].count()\n",
        "        means_cat = df_for_estimation.groupby(col)['Response'].mean()\n",
        "        means_cats_adj = (means_cat*nrows_cat + means_global*alpha) / (nrows_cat+alpha)\n",
        "\n",
        "        # Mapping means to estimated fold\n",
        "        X_train_encoded_cv[col].loc[val_ind] = df_estimated[col].map(means_cats_adj)\n",
        "\n",
        "\n",
        "X_train_encoded_cv[to_mean_encode_cv] = X_train_encoded_cv[to_mean_encode_cv].astype('float64')\n",
        "X_test_encoded_cv[to_mean_encode_cv] = X_test_encoded_cv[to_mean_encode_cv].astype('float64')\n",
        "\n",
        "\n",
        "# Hapus kolom yg missing > 30%\n",
        "to_delete = trainsumm[trainsumm['Missing%'] >= 30]['Var']\n",
        "X_train_encoded_cv = X_train_encoded_cv.drop(columns=to_delete)\n",
        "X_test_encoded_cv = X_test_encoded_cv.drop(columns=to_delete)\n",
        "\n",
        "\n",
        "# Hapus kolom yg terlalu banyak unik tapi tidak numerik\n",
        "to_delete_unique = ['id', 'Region_Code']\n",
        "X_train_encoded_cv = X_train_encoded_cv.drop(columns=to_delete_unique)\n",
        "X_test_encoded_cv = X_test_encoded_cv.drop(columns=to_delete_unique)"
      ],
      "execution_count": null,
      "outputs": [
        {
          "output_type": "stream",
          "text": [
            "/usr/local/lib/python3.6/dist-packages/pandas/core/indexing.py:670: SettingWithCopyWarning: \n",
            "A value is trying to be set on a copy of a slice from a DataFrame\n",
            "\n",
            "See the caveats in the documentation: https://pandas.pydata.org/pandas-docs/stable/user_guide/indexing.html#returning-a-view-versus-a-copy\n",
            "  iloc._setitem_with_indexer(indexer, value)\n",
            "/usr/local/lib/python3.6/dist-packages/pandas/core/indexing.py:670: SettingWithCopyWarning: \n",
            "A value is trying to be set on a copy of a slice from a DataFrame\n",
            "\n",
            "See the caveats in the documentation: https://pandas.pydata.org/pandas-docs/stable/user_guide/indexing.html#returning-a-view-versus-a-copy\n",
            "  iloc._setitem_with_indexer(indexer, value)\n",
            "/usr/local/lib/python3.6/dist-packages/pandas/core/indexing.py:670: SettingWithCopyWarning: \n",
            "A value is trying to be set on a copy of a slice from a DataFrame\n",
            "\n",
            "See the caveats in the documentation: https://pandas.pydata.org/pandas-docs/stable/user_guide/indexing.html#returning-a-view-versus-a-copy\n",
            "  iloc._setitem_with_indexer(indexer, value)\n",
            "/usr/local/lib/python3.6/dist-packages/pandas/core/indexing.py:670: SettingWithCopyWarning: \n",
            "A value is trying to be set on a copy of a slice from a DataFrame\n",
            "\n",
            "See the caveats in the documentation: https://pandas.pydata.org/pandas-docs/stable/user_guide/indexing.html#returning-a-view-versus-a-copy\n",
            "  iloc._setitem_with_indexer(indexer, value)\n"
          ],
          "name": "stderr"
        }
      ]
    },
    {
      "cell_type": "code",
      "metadata": {
        "colab": {
          "base_uri": "https://localhost:8080/"
        },
        "id": "8-xJ5-FuYSSK",
        "outputId": "aecf2007-8a8d-40d6-f8a1-afdd9d9f32bd"
      },
      "source": [
        "model = XGBClassifier(random_state=1234) # Classification\n",
        "model.fit(X_train_encoded_cv, Y_train)\n",
        "\n",
        "Y_predtrain = model.predict(X_train_encoded_cv)\n",
        "Y_pred = model.predict(X_test_encoded_cv)\n",
        "\n",
        "scores_train = matthews_corrcoef(Y_train, Y_predtrain)\n",
        "scores_val = matthews_corrcoef(Y_test, Y_pred)\n",
        "\n",
        "print('----Mean Encoding + Alpha----')\n",
        "\n",
        "print(\"Train: \", scores_train)\n",
        "print(\"Val  : \", scores_val)"
      ],
      "execution_count": null,
      "outputs": [
        {
          "output_type": "stream",
          "text": [
            "----Mean Encoding + Alpha----\n",
            "Train:  0.006795195606424971\n",
            "Val  :  0.0037035909231529517\n"
          ],
          "name": "stdout"
        }
      ]
    },
    {
      "cell_type": "code",
      "metadata": {
        "id": "YF__1N-kYSYm"
      },
      "source": [
        ""
      ],
      "execution_count": null,
      "outputs": []
    },
    {
      "cell_type": "code",
      "metadata": {
        "id": "GcC0tH7lYSXF"
      },
      "source": [
        ""
      ],
      "execution_count": null,
      "outputs": []
    },
    {
      "cell_type": "code",
      "metadata": {
        "id": "GWSMECxuYSVO"
      },
      "source": [
        ""
      ],
      "execution_count": null,
      "outputs": []
    },
    {
      "cell_type": "code",
      "metadata": {
        "id": "JMm7PG-1YdPB"
      },
      "source": [
        ""
      ],
      "execution_count": null,
      "outputs": []
    },
    {
      "cell_type": "code",
      "metadata": {
        "id": "tnNp1WdxYdNE"
      },
      "source": [
        ""
      ],
      "execution_count": null,
      "outputs": []
    },
    {
      "cell_type": "code",
      "metadata": {
        "id": "1SCWEkI3YdK1"
      },
      "source": [
        ""
      ],
      "execution_count": null,
      "outputs": []
    },
    {
      "cell_type": "code",
      "metadata": {
        "id": "x39J6oU8YdIs"
      },
      "source": [
        ""
      ],
      "execution_count": null,
      "outputs": []
    },
    {
      "cell_type": "code",
      "metadata": {
        "id": "fVFQotuHYdGp"
      },
      "source": [
        ""
      ],
      "execution_count": null,
      "outputs": []
    },
    {
      "cell_type": "code",
      "metadata": {
        "id": "mrIG_CHfYSQP"
      },
      "source": [
        ""
      ],
      "execution_count": null,
      "outputs": []
    },
    {
      "cell_type": "code",
      "metadata": {
        "colab": {
          "base_uri": "https://localhost:8080/"
        },
        "id": "J5ZpiviWX0Fv",
        "outputId": "ba15ab9c-e5e8-47d9-b042-d9c8c8da0a81"
      },
      "source": [
        "X_train_factorized.reset_index(drop=True, inplace=True)\n",
        "Y_train.reset_index(drop=True, inplace=True)\n",
        "\n",
        "model = XGBRegressor(random_state=1234)\n",
        "model.fit(X_train_factorized, Y_train)\n",
        "\n",
        "# Scoring pake matthew coefficient\n",
        "Y_pred = model.predict(X_test_factorized)\n",
        "print(\"Baseline:\", mean_squared_error(Y_test, Y_pred, squared=False))\n",
        "\n",
        "\n",
        "\n",
        "X_train_encoded.reset_index(drop=True, inplace=True)\n",
        "Y_train.reset_index(drop=True, inplace=True)\n",
        "\n",
        "model = XGBRegressor(random_state=1234)\n",
        "model.fit(X_train_encoded, Y_train)\n",
        "\n",
        "# Scoring pake matthew coefficient\n",
        "Y_pred = model.predict(X_test_encoded)\n",
        "print(\"Mean Encoding:\", mean_squared_error(Y_test, Y_pred, squared=False))\n",
        "\n",
        "\n",
        "\n",
        "X_train_encoded_cv.reset_index(drop=True, inplace=True)\n",
        "Y_train.reset_index(drop=True, inplace=True)\n",
        "\n",
        "model = XGBRegressor(random_state=1234)\n",
        "model.fit(X_train_encoded_cv, Y_train)\n",
        "\n",
        "# Scoring pake matthew coefficient\n",
        "Y_pred = model.predict(X_test_encoded_cv)\n",
        "print(\"Mean Encoding CV:\", mean_squared_error(Y_test, Y_pred, squared=False))"
      ],
      "execution_count": null,
      "outputs": [
        {
          "output_type": "stream",
          "text": [
            "[15:23:32] WARNING: /workspace/src/objective/regression_obj.cu:152: reg:linear is now deprecated in favor of reg:squarederror.\n",
            "Baseline: 517.1187877608266\n",
            "[15:23:41] WARNING: /workspace/src/objective/regression_obj.cu:152: reg:linear is now deprecated in favor of reg:squarederror.\n",
            "Mean Encoding: 502.62569150384604\n",
            "[15:23:50] WARNING: /workspace/src/objective/regression_obj.cu:152: reg:linear is now deprecated in favor of reg:squarederror.\n",
            "Mean Encoding CV: 500.7945022102557\n"
          ],
          "name": "stdout"
        }
      ]
    }
  ]
}