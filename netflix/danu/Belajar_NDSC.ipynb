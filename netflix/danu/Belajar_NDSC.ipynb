{
  "nbformat": 4,
  "nbformat_minor": 0,
  "metadata": {
    "kernelspec": {
      "display_name": "Python 3",
      "language": "python",
      "name": "python3"
    },
    "language_info": {
      "codemirror_mode": {
        "name": "ipython",
        "version": 3
      },
      "file_extension": ".py",
      "mimetype": "text/x-python",
      "name": "python",
      "nbconvert_exporter": "python",
      "pygments_lexer": "ipython3",
      "version": "3.7.6"
    },
    "colab": {
      "name": "Belajar NDSC.ipynb",
      "provenance": [],
      "include_colab_link": true
    }
  },
  "cells": [
    {
      "cell_type": "markdown",
      "metadata": {
        "id": "view-in-github",
        "colab_type": "text"
      },
      "source": [
        "<a href=\"https://colab.research.google.com/github/rindanh/Latihan-NDSC/blob/main/netflix/danu/Belajar_NDSC.ipynb\" target=\"_parent\"><img src=\"https://colab.research.google.com/assets/colab-badge.svg\" alt=\"Open In Colab\"/></a>"
      ]
    },
    {
      "cell_type": "code",
      "metadata": {
        "id": "Bcue3uw57h8B"
      },
      "source": [
        "import pandas as pd\n",
        "import seaborn as sns"
      ],
      "execution_count": null,
      "outputs": []
    },
    {
      "cell_type": "code",
      "metadata": {
        "id": "NQnIV8iW7h8P"
      },
      "source": [
        "df = pd.read_csv(\"netflix_titles.csv\")"
      ],
      "execution_count": null,
      "outputs": []
    },
    {
      "cell_type": "code",
      "metadata": {
        "scrolled": false,
        "id": "rBnEoTvu7h8d",
        "outputId": "0a3e46a3-0c86-4d80-c8d5-a2d0875075e0"
      },
      "source": [
        "df.head()"
      ],
      "execution_count": null,
      "outputs": [
        {
          "output_type": "execute_result",
          "data": {
            "text/html": [
              "<div>\n",
              "<style scoped>\n",
              "    .dataframe tbody tr th:only-of-type {\n",
              "        vertical-align: middle;\n",
              "    }\n",
              "\n",
              "    .dataframe tbody tr th {\n",
              "        vertical-align: top;\n",
              "    }\n",
              "\n",
              "    .dataframe thead th {\n",
              "        text-align: right;\n",
              "    }\n",
              "</style>\n",
              "<table border=\"1\" class=\"dataframe\">\n",
              "  <thead>\n",
              "    <tr style=\"text-align: right;\">\n",
              "      <th></th>\n",
              "      <th>show_id</th>\n",
              "      <th>type</th>\n",
              "      <th>title</th>\n",
              "      <th>director</th>\n",
              "      <th>cast</th>\n",
              "      <th>country</th>\n",
              "      <th>date_added</th>\n",
              "      <th>release_year</th>\n",
              "      <th>rating</th>\n",
              "      <th>duration</th>\n",
              "      <th>listed_in</th>\n",
              "      <th>description</th>\n",
              "    </tr>\n",
              "  </thead>\n",
              "  <tbody>\n",
              "    <tr>\n",
              "      <th>0</th>\n",
              "      <td>81145628</td>\n",
              "      <td>Movie</td>\n",
              "      <td>Norm of the North: King Sized Adventure</td>\n",
              "      <td>Richard Finn, Tim Maltby</td>\n",
              "      <td>Alan Marriott, Andrew Toth, Brian Dobson, Cole...</td>\n",
              "      <td>United States, India, South Korea, China</td>\n",
              "      <td>September 9, 2019</td>\n",
              "      <td>2019</td>\n",
              "      <td>TV-PG</td>\n",
              "      <td>90 min</td>\n",
              "      <td>Children &amp; Family Movies, Comedies</td>\n",
              "      <td>Before planning an awesome wedding for his gra...</td>\n",
              "    </tr>\n",
              "    <tr>\n",
              "      <th>1</th>\n",
              "      <td>80117401</td>\n",
              "      <td>Movie</td>\n",
              "      <td>Jandino: Whatever it Takes</td>\n",
              "      <td>NaN</td>\n",
              "      <td>Jandino Asporaat</td>\n",
              "      <td>United Kingdom</td>\n",
              "      <td>September 9, 2016</td>\n",
              "      <td>2016</td>\n",
              "      <td>TV-MA</td>\n",
              "      <td>94 min</td>\n",
              "      <td>Stand-Up Comedy</td>\n",
              "      <td>Jandino Asporaat riffs on the challenges of ra...</td>\n",
              "    </tr>\n",
              "    <tr>\n",
              "      <th>2</th>\n",
              "      <td>70234439</td>\n",
              "      <td>TV Show</td>\n",
              "      <td>Transformers Prime</td>\n",
              "      <td>NaN</td>\n",
              "      <td>Peter Cullen, Sumalee Montano, Frank Welker, J...</td>\n",
              "      <td>United States</td>\n",
              "      <td>September 8, 2018</td>\n",
              "      <td>2013</td>\n",
              "      <td>TV-Y7-FV</td>\n",
              "      <td>1 Season</td>\n",
              "      <td>Kids' TV</td>\n",
              "      <td>With the help of three human allies, the Autob...</td>\n",
              "    </tr>\n",
              "    <tr>\n",
              "      <th>3</th>\n",
              "      <td>80058654</td>\n",
              "      <td>TV Show</td>\n",
              "      <td>Transformers: Robots in Disguise</td>\n",
              "      <td>NaN</td>\n",
              "      <td>Will Friedle, Darren Criss, Constance Zimmer, ...</td>\n",
              "      <td>United States</td>\n",
              "      <td>September 8, 2018</td>\n",
              "      <td>2016</td>\n",
              "      <td>TV-Y7</td>\n",
              "      <td>1 Season</td>\n",
              "      <td>Kids' TV</td>\n",
              "      <td>When a prison ship crash unleashes hundreds of...</td>\n",
              "    </tr>\n",
              "    <tr>\n",
              "      <th>4</th>\n",
              "      <td>80125979</td>\n",
              "      <td>Movie</td>\n",
              "      <td>#realityhigh</td>\n",
              "      <td>Fernando Lebrija</td>\n",
              "      <td>Nesta Cooper, Kate Walsh, John Michael Higgins...</td>\n",
              "      <td>United States</td>\n",
              "      <td>September 8, 2017</td>\n",
              "      <td>2017</td>\n",
              "      <td>TV-14</td>\n",
              "      <td>99 min</td>\n",
              "      <td>Comedies</td>\n",
              "      <td>When nerdy high schooler Dani finally attracts...</td>\n",
              "    </tr>\n",
              "  </tbody>\n",
              "</table>\n",
              "</div>"
            ],
            "text/plain": [
              "    show_id     type                                    title  \\\n",
              "0  81145628    Movie  Norm of the North: King Sized Adventure   \n",
              "1  80117401    Movie               Jandino: Whatever it Takes   \n",
              "2  70234439  TV Show                       Transformers Prime   \n",
              "3  80058654  TV Show         Transformers: Robots in Disguise   \n",
              "4  80125979    Movie                             #realityhigh   \n",
              "\n",
              "                   director  \\\n",
              "0  Richard Finn, Tim Maltby   \n",
              "1                       NaN   \n",
              "2                       NaN   \n",
              "3                       NaN   \n",
              "4          Fernando Lebrija   \n",
              "\n",
              "                                                cast  \\\n",
              "0  Alan Marriott, Andrew Toth, Brian Dobson, Cole...   \n",
              "1                                   Jandino Asporaat   \n",
              "2  Peter Cullen, Sumalee Montano, Frank Welker, J...   \n",
              "3  Will Friedle, Darren Criss, Constance Zimmer, ...   \n",
              "4  Nesta Cooper, Kate Walsh, John Michael Higgins...   \n",
              "\n",
              "                                    country         date_added  release_year  \\\n",
              "0  United States, India, South Korea, China  September 9, 2019          2019   \n",
              "1                            United Kingdom  September 9, 2016          2016   \n",
              "2                             United States  September 8, 2018          2013   \n",
              "3                             United States  September 8, 2018          2016   \n",
              "4                             United States  September 8, 2017          2017   \n",
              "\n",
              "     rating  duration                           listed_in  \\\n",
              "0     TV-PG    90 min  Children & Family Movies, Comedies   \n",
              "1     TV-MA    94 min                     Stand-Up Comedy   \n",
              "2  TV-Y7-FV  1 Season                            Kids' TV   \n",
              "3     TV-Y7  1 Season                            Kids' TV   \n",
              "4     TV-14    99 min                            Comedies   \n",
              "\n",
              "                                         description  \n",
              "0  Before planning an awesome wedding for his gra...  \n",
              "1  Jandino Asporaat riffs on the challenges of ra...  \n",
              "2  With the help of three human allies, the Autob...  \n",
              "3  When a prison ship crash unleashes hundreds of...  \n",
              "4  When nerdy high schooler Dani finally attracts...  "
            ]
          },
          "metadata": {
            "tags": []
          },
          "execution_count": 72
        }
      ]
    },
    {
      "cell_type": "code",
      "metadata": {
        "id": "ip9Ab2jU7h8m",
        "outputId": "b29a1dc1-c11d-4789-ee09-29b240b789cb"
      },
      "source": [
        "df.shape"
      ],
      "execution_count": null,
      "outputs": [
        {
          "output_type": "execute_result",
          "data": {
            "text/plain": [
              "(6234, 12)"
            ]
          },
          "metadata": {
            "tags": []
          },
          "execution_count": 83
        }
      ]
    },
    {
      "cell_type": "code",
      "metadata": {
        "scrolled": true,
        "id": "DMBQGccK7h8w",
        "outputId": "35f74447-9760-43fe-e166-30d92bf4964d"
      },
      "source": [
        "sns.distplot(df.release_year, bins=100)"
      ],
      "execution_count": null,
      "outputs": [
        {
          "output_type": "execute_result",
          "data": {
            "text/plain": [
              "<matplotlib.axes._subplots.AxesSubplot at 0x1e709ba7a48>"
            ]
          },
          "metadata": {
            "tags": []
          },
          "execution_count": 73
        },
        {
          "output_type": "display_data",
          "data": {
            "image/png": "[encoded data removed]",
            "text/plain": [
              "<Figure size 432x288 with 1 Axes>"
            ]
          },
          "metadata": {
            "tags": [],
            "needs_background": "light"
          }
        }
      ]
    },
    {
      "cell_type": "code",
      "metadata": {
        "scrolled": false,
        "id": "6eQVHN4A7h84",
        "outputId": "ce6ca82f-12d0-4586-c20b-ca0b7a9986f2"
      },
      "source": [
        "df.director.value_counts()"
      ],
      "execution_count": null,
      "outputs": [
        {
          "output_type": "execute_result",
          "data": {
            "text/plain": [
              "Raúl Campos, Jan Suter             18\n",
              "Marcus Raboy                       14\n",
              "Jay Karas                          13\n",
              "Jay Chapman                        12\n",
              "Steven Spielberg                    9\n",
              "                                   ..\n",
              "Michael James Regan                 1\n",
              "Aaron Hann, Mario Miscione          1\n",
              "Francesco Carrozzini                1\n",
              "Jesse V. Johnson, Jesse Johnson     1\n",
              "Sara Colangelo                      1\n",
              "Name: director, Length: 3301, dtype: int64"
            ]
          },
          "metadata": {
            "tags": []
          },
          "execution_count": 74
        }
      ]
    },
    {
      "cell_type": "code",
      "metadata": {
        "id": "vENWXein7h9A",
        "outputId": "f5dc70ec-6e33-4277-f577-6e8a23277e63"
      },
      "source": [
        "df[df.isnull().any(axis=1)].count()"
      ],
      "execution_count": null,
      "outputs": [
        {
          "output_type": "execute_result",
          "data": {
            "text/plain": [
              "show_id         2460\n",
              "type            2460\n",
              "title           2460\n",
              "director         491\n",
              "cast            1890\n",
              "country         1984\n",
              "date_added      2449\n",
              "release_year    2460\n",
              "rating          2450\n",
              "duration        2460\n",
              "listed_in       2460\n",
              "description     2460\n",
              "dtype: int64"
            ]
          },
          "metadata": {
            "tags": []
          },
          "execution_count": 81
        }
      ]
    },
    {
      "cell_type": "markdown",
      "metadata": {
        "id": "JipfjdwW7h9J"
      },
      "source": [
        "## Analisa Tahun"
      ]
    },
    {
      "cell_type": "markdown",
      "metadata": {
        "id": "KBjonzf47h9L"
      },
      "source": [
        "## a. Tahun >2000 terbilang film baru"
      ]
    },
    {
      "cell_type": "code",
      "metadata": {
        "id": "bFE3SQi27h9N"
      },
      "source": [
        "baru = df[df.release_year >= 2000]"
      ],
      "execution_count": null,
      "outputs": []
    },
    {
      "cell_type": "code",
      "metadata": {
        "scrolled": false,
        "id": "1vY8HQm97h9W",
        "outputId": "199f7125-1576-4be6-8a7f-e93d959dd127"
      },
      "source": [
        "baru.rating.value_counts()"
      ],
      "execution_count": null,
      "outputs": [
        {
          "output_type": "execute_result",
          "data": {
            "text/plain": [
              "TV-MA       1987\n",
              "TV-14       1622\n",
              "TV-PG        646\n",
              "R            437\n",
              "PG-13        239\n",
              "NR           194\n",
              "TV-Y7        166\n",
              "PG           156\n",
              "TV-G         140\n",
              "TV-Y         140\n",
              "TV-Y7-FV      87\n",
              "G             23\n",
              "UR             6\n",
              "NC-17          2\n",
              "Name: rating, dtype: int64"
            ]
          },
          "metadata": {
            "tags": []
          },
          "execution_count": 33
        }
      ]
    },
    {
      "cell_type": "code",
      "metadata": {
        "scrolled": true,
        "id": "9O1S69Lq7h9e",
        "outputId": "251bb74b-08be-487e-dc2b-e2fa8416869d"
      },
      "source": [
        "baru.listed_in.value_counts()"
      ],
      "execution_count": null,
      "outputs": [
        {
          "output_type": "execute_result",
          "data": {
            "text/plain": [
              "Documentaries                                         295\n",
              "Stand-Up Comedy                                       260\n",
              "Dramas, International Movies                          239\n",
              "Dramas, Independent Movies, International Movies      180\n",
              "Comedies, Dramas, International Movies                167\n",
              "                                                     ... \n",
              "Crime TV Shows, International TV Shows, Reality TV      1\n",
              "Children & Family Movies, Comedies, LGBTQ Movies        1\n",
              "Children & Family Movies, Faith & Spirituality          1\n",
              "Children & Family Movies, Sports Movies                 1\n",
              "Children & Family Movies, Comedies, Cult Movies         1\n",
              "Name: listed_in, Length: 421, dtype: int64"
            ]
          },
          "metadata": {
            "tags": []
          },
          "execution_count": 38
        }
      ]
    },
    {
      "cell_type": "code",
      "metadata": {
        "id": "_IZGV0tc7h9l",
        "outputId": "d5a3d29c-6acf-4c8b-ae43-cb400b497fab"
      },
      "source": [
        "baru.type.value_counts()"
      ],
      "execution_count": null,
      "outputs": [
        {
          "output_type": "execute_result",
          "data": {
            "text/plain": [
              "Movie      3928\n",
              "TV Show    1927\n",
              "Name: type, dtype: int64"
            ]
          },
          "metadata": {
            "tags": []
          },
          "execution_count": 39
        }
      ]
    },
    {
      "cell_type": "markdown",
      "metadata": {
        "id": "N8ZTb-3I7h9s"
      },
      "source": [
        "## b. Tahun <2000 terbilang jadul"
      ]
    },
    {
      "cell_type": "code",
      "metadata": {
        "id": "XlzMQyqI7h9t"
      },
      "source": [
        "jadul = df[df.release_year < 2000]"
      ],
      "execution_count": null,
      "outputs": []
    },
    {
      "cell_type": "code",
      "metadata": {
        "id": "CG_U45kP7h91",
        "outputId": "2c4abd3b-a7b4-44d9-92d5-628cd5e4755a"
      },
      "source": [
        "jadul.rating.value_counts()"
      ],
      "execution_count": null,
      "outputs": [
        {
          "output_type": "execute_result",
          "data": {
            "text/plain": [
              "TV-14       76\n",
              "R           71\n",
              "TV-PG       55\n",
              "PG-13       47\n",
              "TV-MA       40\n",
              "PG          28\n",
              "NR          24\n",
              "G           14\n",
              "TV-G         9\n",
              "TV-Y7-FV     8\n",
              "TV-Y         3\n",
              "TV-Y7        3\n",
              "UR           1\n",
              "Name: rating, dtype: int64"
            ]
          },
          "metadata": {
            "tags": []
          },
          "execution_count": 31
        }
      ]
    },
    {
      "cell_type": "code",
      "metadata": {
        "id": "Wt39LyUj7h9_",
        "outputId": "39d04c34-8902-44d7-8cb5-153e3281447a"
      },
      "source": [
        "jadul.listed_in.value_counts()"
      ],
      "execution_count": null,
      "outputs": [
        {
          "output_type": "execute_result",
          "data": {
            "text/plain": [
              "Dramas                                              17\n",
              "Action & Adventure, International Movies            14\n",
              "Action & Adventure, Dramas, International Movies    13\n",
              "Stand-Up Comedy                                     13\n",
              "Classic Movies, Documentaries                       11\n",
              "                                                    ..\n",
              "Classic Movies, Comedies, Romantic Movies            1\n",
              "Classic Movies, Cult Movies, Documentaries           1\n",
              "Dramas, Music & Musicals                             1\n",
              "Classic Movies, Independent Movies, Thrillers        1\n",
              "Horror Movies, Thrillers                             1\n",
              "Name: listed_in, Length: 121, dtype: int64"
            ]
          },
          "metadata": {
            "tags": []
          },
          "execution_count": 36
        }
      ]
    },
    {
      "cell_type": "code",
      "metadata": {
        "scrolled": true,
        "id": "EfzSxgHb7h-F",
        "outputId": "bbef6aeb-92dd-47f2-8657-d56631020037"
      },
      "source": [
        "jadul.type.value_counts()"
      ],
      "execution_count": null,
      "outputs": [
        {
          "output_type": "execute_result",
          "data": {
            "text/plain": [
              "Movie      337\n",
              "TV Show     42\n",
              "Name: type, dtype: int64"
            ]
          },
          "metadata": {
            "tags": []
          },
          "execution_count": 40
        }
      ]
    },
    {
      "cell_type": "markdown",
      "metadata": {
        "id": "0r5zQD8J7h-L"
      },
      "source": [
        "## Analisa Director"
      ]
    },
    {
      "cell_type": "code",
      "metadata": {
        "id": "pGEkToeP7h-M",
        "outputId": "b24496f3-d9ae-4930-f3bc-e5dd0de73b9e"
      },
      "source": [
        "#Kondisinya ini di excel udah gue delete2in baris yang kosong\n",
        "dir_filtered = pd.read_excel(\"netflix_titles_dirfiltered.xlsx\")\n",
        "\n",
        "dir_filtered.shape"
      ],
      "execution_count": null,
      "outputs": [
        {
          "output_type": "execute_result",
          "data": {
            "text/plain": [
              "(4265, 12)"
            ]
          },
          "metadata": {
            "tags": []
          },
          "execution_count": 84
        }
      ]
    },
    {
      "cell_type": "code",
      "metadata": {
        "scrolled": true,
        "id": "LVuRvAx77h-R",
        "outputId": "72934d62-37ad-44e9-983b-7899f20a55d2"
      },
      "source": [
        "#Tapi ternyata ini masih ada yang missing. Dimana yak :( kok bisa missing. Padahal udah gue delete2in\n",
        "dir_filtered[dir_filtered.isnull().any(axis=1)].count()"
      ],
      "execution_count": null,
      "outputs": [
        {
          "output_type": "execute_result",
          "data": {
            "text/plain": [
              "show_id         491\n",
              "type            491\n",
              "title           491\n",
              "director        491\n",
              "cast            135\n",
              "country         320\n",
              "date_added      491\n",
              "release_year    491\n",
              "rating          485\n",
              "duration        491\n",
              "listed_in       491\n",
              "description     491\n",
              "dtype: int64"
            ]
          },
          "metadata": {
            "tags": []
          },
          "execution_count": 86
        }
      ]
    },
    {
      "cell_type": "code",
      "metadata": {
        "id": "r7jIrFF37h-Y",
        "outputId": "51ecfd1a-0d19-4120-e7c6-3ac13adad44b"
      },
      "source": [
        "dir_filtered[dir_filtered.director == \"Raúl Campos, Jan Suter\"]"
      ],
      "execution_count": null,
      "outputs": [
        {
          "output_type": "execute_result",
          "data": {
            "text/html": [
              "<div>\n",
              "<style scoped>\n",
              "    .dataframe tbody tr th:only-of-type {\n",
              "        vertical-align: middle;\n",
              "    }\n",
              "\n",
              "    .dataframe tbody tr th {\n",
              "        vertical-align: top;\n",
              "    }\n",
              "\n",
              "    .dataframe thead th {\n",
              "        text-align: right;\n",
              "    }\n",
              "</style>\n",
              "<table border=\"1\" class=\"dataframe\">\n",
              "  <thead>\n",
              "    <tr style=\"text-align: right;\">\n",
              "      <th></th>\n",
              "      <th>show_id</th>\n",
              "      <th>type</th>\n",
              "      <th>title</th>\n",
              "      <th>director</th>\n",
              "      <th>cast</th>\n",
              "      <th>country</th>\n",
              "      <th>date_added</th>\n",
              "      <th>release_year</th>\n",
              "      <th>rating</th>\n",
              "      <th>duration</th>\n",
              "      <th>listed_in</th>\n",
              "      <th>description</th>\n",
              "    </tr>\n",
              "  </thead>\n",
              "  <tbody>\n",
              "    <tr>\n",
              "      <th>3212</th>\n",
              "      <td>80183088</td>\n",
              "      <td>Movie</td>\n",
              "      <td>Mea Culpa</td>\n",
              "      <td>Raúl Campos, Jan Suter</td>\n",
              "      <td>Alexis de Anda</td>\n",
              "      <td>Mexico</td>\n",
              "      <td>November 10, 2017</td>\n",
              "      <td>2017</td>\n",
              "      <td>TV-MA</td>\n",
              "      <td>54 min</td>\n",
              "      <td>Stand-Up Comedy</td>\n",
              "      <td>Raw and outspoken, comedian Alexis de Anda bar...</td>\n",
              "    </tr>\n",
              "    <tr>\n",
              "      <th>3213</th>\n",
              "      <td>80192137</td>\n",
              "      <td>Movie</td>\n",
              "      <td>Fernando Sanjiao: Hombre</td>\n",
              "      <td>Raúl Campos, Jan Suter</td>\n",
              "      <td>Fernando Sanjiao</td>\n",
              "      <td>Argentina</td>\n",
              "      <td>May 25, 2018</td>\n",
              "      <td>2018</td>\n",
              "      <td>TV-MA</td>\n",
              "      <td>63 min</td>\n",
              "      <td>Stand-Up Comedy</td>\n",
              "      <td>Argentine actor and comedian Fernando Sanjiao ...</td>\n",
              "    </tr>\n",
              "    <tr>\n",
              "      <th>3214</th>\n",
              "      <td>80192065</td>\n",
              "      <td>Movie</td>\n",
              "      <td>Carlos Ballarta: Furia Ñera</td>\n",
              "      <td>Raúl Campos, Jan Suter</td>\n",
              "      <td>Carlos Ballarta</td>\n",
              "      <td>Mexico</td>\n",
              "      <td>May 11, 2018</td>\n",
              "      <td>2018</td>\n",
              "      <td>TV-MA</td>\n",
              "      <td>63 min</td>\n",
              "      <td>Stand-Up Comedy</td>\n",
              "      <td>Mexican comic Carlos Ballarta mocks himself an...</td>\n",
              "    </tr>\n",
              "    <tr>\n",
              "      <th>3215</th>\n",
              "      <td>80183197</td>\n",
              "      <td>Movie</td>\n",
              "      <td>Sofía Niño de Rivera: Selección Natural</td>\n",
              "      <td>Raúl Campos, Jan Suter</td>\n",
              "      <td>Sofía Niño de Rivera</td>\n",
              "      <td>Mexico</td>\n",
              "      <td>March 30, 2018</td>\n",
              "      <td>2018</td>\n",
              "      <td>TV-MA</td>\n",
              "      <td>62 min</td>\n",
              "      <td>Stand-Up Comedy</td>\n",
              "      <td>Mexico's Sofía Niño de Rivera brings her dark ...</td>\n",
              "    </tr>\n",
              "    <tr>\n",
              "      <th>3216</th>\n",
              "      <td>80192139</td>\n",
              "      <td>Movie</td>\n",
              "      <td>Malena Pichot: Estupidez compleja</td>\n",
              "      <td>Raúl Campos, Jan Suter</td>\n",
              "      <td>Malena Pichot</td>\n",
              "      <td>Argentina</td>\n",
              "      <td>March 2, 2018</td>\n",
              "      <td>2018</td>\n",
              "      <td>TV-MA</td>\n",
              "      <td>51 min</td>\n",
              "      <td>Stand-Up Comedy</td>\n",
              "      <td>An Argentine comedian espouses the values of f...</td>\n",
              "    </tr>\n",
              "    <tr>\n",
              "      <th>3217</th>\n",
              "      <td>80192063</td>\n",
              "      <td>Movie</td>\n",
              "      <td>Natalia Valdebenito: El especial</td>\n",
              "      <td>Raúl Campos, Jan Suter</td>\n",
              "      <td>Natalia Valdebenito</td>\n",
              "      <td>Chile</td>\n",
              "      <td>March 2, 2018</td>\n",
              "      <td>2018</td>\n",
              "      <td>TV-MA</td>\n",
              "      <td>69 min</td>\n",
              "      <td>Stand-Up Comedy</td>\n",
              "      <td>A Chilean comedian fuses activism with irrever...</td>\n",
              "    </tr>\n",
              "    <tr>\n",
              "      <th>3218</th>\n",
              "      <td>80191989</td>\n",
              "      <td>Movie</td>\n",
              "      <td>Jani Dueñas: Grandes fracasos de ayer y hoy</td>\n",
              "      <td>Raúl Campos, Jan Suter</td>\n",
              "      <td>Jani Dueñas</td>\n",
              "      <td>Chile</td>\n",
              "      <td>June 29, 2018</td>\n",
              "      <td>2018</td>\n",
              "      <td>TV-MA</td>\n",
              "      <td>77 min</td>\n",
              "      <td>Stand-Up Comedy</td>\n",
              "      <td>Chilean comedian and personality Jani Dueñas p...</td>\n",
              "    </tr>\n",
              "    <tr>\n",
              "      <th>3219</th>\n",
              "      <td>80097641</td>\n",
              "      <td>Movie</td>\n",
              "      <td>Sofía Niño de Rivera: Exposed</td>\n",
              "      <td>Raúl Campos, Jan Suter</td>\n",
              "      <td>Sofía Niño de Rivera</td>\n",
              "      <td>Mexico</td>\n",
              "      <td>June 24, 2016</td>\n",
              "      <td>2016</td>\n",
              "      <td>TV-MA</td>\n",
              "      <td>80 min</td>\n",
              "      <td>Stand-Up Comedy</td>\n",
              "      <td>Self-deprecating comic Sofía Niño de Rivera pu...</td>\n",
              "    </tr>\n",
              "    <tr>\n",
              "      <th>3220</th>\n",
              "      <td>80192064</td>\n",
              "      <td>Movie</td>\n",
              "      <td>Luciano Mellera: Infantiloide</td>\n",
              "      <td>Raúl Campos, Jan Suter</td>\n",
              "      <td>Luciano Mellera</td>\n",
              "      <td>Argentina</td>\n",
              "      <td>July 6, 2018</td>\n",
              "      <td>2018</td>\n",
              "      <td>TV-14</td>\n",
              "      <td>66 min</td>\n",
              "      <td>Stand-Up Comedy</td>\n",
              "      <td>Argentina's Luciano Mellera emphasizes the hum...</td>\n",
              "    </tr>\n",
              "    <tr>\n",
              "      <th>3221</th>\n",
              "      <td>80192135</td>\n",
              "      <td>Movie</td>\n",
              "      <td>Coco y Raulito: Carrusel de ternura</td>\n",
              "      <td>Raúl Campos, Jan Suter</td>\n",
              "      <td>Coco Celis, Raúl Meneses</td>\n",
              "      <td>Mexico</td>\n",
              "      <td>July 27, 2018</td>\n",
              "      <td>2018</td>\n",
              "      <td>TV-MA</td>\n",
              "      <td>57 min</td>\n",
              "      <td>Stand-Up Comedy</td>\n",
              "      <td>A study in contrasts, comedy partners and good...</td>\n",
              "    </tr>\n",
              "    <tr>\n",
              "      <th>3222</th>\n",
              "      <td>80192138</td>\n",
              "      <td>Movie</td>\n",
              "      <td>Sebastián Marcelo Wainraich</td>\n",
              "      <td>Raúl Campos, Jan Suter</td>\n",
              "      <td>Sebastián Marcelo Wainraich</td>\n",
              "      <td>Argentina</td>\n",
              "      <td>January 26, 2018</td>\n",
              "      <td>2018</td>\n",
              "      <td>TV-MA</td>\n",
              "      <td>49 min</td>\n",
              "      <td>Stand-Up Comedy</td>\n",
              "      <td>Argentine comedian Sebastián Wainraich highlig...</td>\n",
              "    </tr>\n",
              "    <tr>\n",
              "      <th>3223</th>\n",
              "      <td>80192062</td>\n",
              "      <td>Movie</td>\n",
              "      <td>Ricardo Quevedo: Hay gente así</td>\n",
              "      <td>Raúl Campos, Jan Suter</td>\n",
              "      <td>Ricardo Quevedo</td>\n",
              "      <td>Colombia</td>\n",
              "      <td>January 24, 2018</td>\n",
              "      <td>2018</td>\n",
              "      <td>TV-MA</td>\n",
              "      <td>59 min</td>\n",
              "      <td>Stand-Up Comedy</td>\n",
              "      <td>Droll comic Ricardo Quevedo hits Bogotá with a...</td>\n",
              "    </tr>\n",
              "    <tr>\n",
              "      <th>3224</th>\n",
              "      <td>80079427</td>\n",
              "      <td>Movie</td>\n",
              "      <td>Ricardo O'Farrill Abrazo Genial</td>\n",
              "      <td>Raúl Campos, Jan Suter</td>\n",
              "      <td>Ricardo O'Farrill</td>\n",
              "      <td>Mexico</td>\n",
              "      <td>January 22, 2016</td>\n",
              "      <td>2016</td>\n",
              "      <td>TV-MA</td>\n",
              "      <td>92 min</td>\n",
              "      <td>Stand-Up Comedy</td>\n",
              "      <td>Ricardo O'Farrill brings his sharp, observatio...</td>\n",
              "    </tr>\n",
              "    <tr>\n",
              "      <th>3225</th>\n",
              "      <td>80191988</td>\n",
              "      <td>Movie</td>\n",
              "      <td>Arango y Sanint: Ríase el show</td>\n",
              "      <td>Raúl Campos, Jan Suter</td>\n",
              "      <td>Julián Arango, Antonio Sanint</td>\n",
              "      <td>Colombia</td>\n",
              "      <td>January 17, 2018</td>\n",
              "      <td>2018</td>\n",
              "      <td>TV-MA</td>\n",
              "      <td>62 min</td>\n",
              "      <td>Stand-Up Comedy</td>\n",
              "      <td>Colombian stand-up comedians Antonio Sanint an...</td>\n",
              "    </tr>\n",
              "    <tr>\n",
              "      <th>3226</th>\n",
              "      <td>80124726</td>\n",
              "      <td>Movie</td>\n",
              "      <td>Daniel Sosa: Sosafado</td>\n",
              "      <td>Raúl Campos, Jan Suter</td>\n",
              "      <td>Daniel Sosa</td>\n",
              "      <td>Mexico</td>\n",
              "      <td>February 3, 2017</td>\n",
              "      <td>2017</td>\n",
              "      <td>TV-MA</td>\n",
              "      <td>78 min</td>\n",
              "      <td>Stand-Up Comedy</td>\n",
              "      <td>Comedian Daniel Sosa inhabits various characte...</td>\n",
              "    </tr>\n",
              "    <tr>\n",
              "      <th>3227</th>\n",
              "      <td>80124728</td>\n",
              "      <td>Movie</td>\n",
              "      <td>Ricardo O'Farrill: Abrazo navideño</td>\n",
              "      <td>Raúl Campos, Jan Suter</td>\n",
              "      <td>Ricardo O'Farrill, Carlos Ballarta, Sofía Niño...</td>\n",
              "      <td>Mexico</td>\n",
              "      <td>December 12, 2016</td>\n",
              "      <td>2016</td>\n",
              "      <td>TV-MA</td>\n",
              "      <td>31 min</td>\n",
              "      <td>Stand-Up Comedy</td>\n",
              "      <td>The expressive Ricardo O'Farrill uses his astu...</td>\n",
              "    </tr>\n",
              "    <tr>\n",
              "      <th>3228</th>\n",
              "      <td>80124724</td>\n",
              "      <td>Movie</td>\n",
              "      <td>Alan Saldaña: Mi vida de pobre</td>\n",
              "      <td>Raúl Campos, Jan Suter</td>\n",
              "      <td>Alan Saldaña</td>\n",
              "      <td>Mexico</td>\n",
              "      <td>August 4, 2017</td>\n",
              "      <td>2017</td>\n",
              "      <td>TV-MA</td>\n",
              "      <td>54 min</td>\n",
              "      <td>Stand-Up Comedy</td>\n",
              "      <td>Mexican comic Alan Saldaña has fun with everyt...</td>\n",
              "    </tr>\n",
              "    <tr>\n",
              "      <th>3229</th>\n",
              "      <td>80191990</td>\n",
              "      <td>Movie</td>\n",
              "      <td>Todo lo que sería Lucas Lauriente</td>\n",
              "      <td>Raúl Campos, Jan Suter</td>\n",
              "      <td>Lucas Lauriente</td>\n",
              "      <td>Argentina</td>\n",
              "      <td>April 6, 2018</td>\n",
              "      <td>2018</td>\n",
              "      <td>TV-MA</td>\n",
              "      <td>78 min</td>\n",
              "      <td>Stand-Up Comedy</td>\n",
              "      <td>In his stand-up set, Argentine comic Lucas Lau...</td>\n",
              "    </tr>\n",
              "  </tbody>\n",
              "</table>\n",
              "</div>"
            ],
            "text/plain": [
              "       show_id   type                                        title  \\\n",
              "3212  80183088  Movie                                    Mea Culpa   \n",
              "3213  80192137  Movie                     Fernando Sanjiao: Hombre   \n",
              "3214  80192065  Movie                  Carlos Ballarta: Furia Ñera   \n",
              "3215  80183197  Movie      Sofía Niño de Rivera: Selección Natural   \n",
              "3216  80192139  Movie            Malena Pichot: Estupidez compleja   \n",
              "3217  80192063  Movie             Natalia Valdebenito: El especial   \n",
              "3218  80191989  Movie  Jani Dueñas: Grandes fracasos de ayer y hoy   \n",
              "3219  80097641  Movie                Sofía Niño de Rivera: Exposed   \n",
              "3220  80192064  Movie                Luciano Mellera: Infantiloide   \n",
              "3221  80192135  Movie          Coco y Raulito: Carrusel de ternura   \n",
              "3222  80192138  Movie                  Sebastián Marcelo Wainraich   \n",
              "3223  80192062  Movie               Ricardo Quevedo: Hay gente así   \n",
              "3224  80079427  Movie              Ricardo O'Farrill Abrazo Genial   \n",
              "3225  80191988  Movie               Arango y Sanint: Ríase el show   \n",
              "3226  80124726  Movie                        Daniel Sosa: Sosafado   \n",
              "3227  80124728  Movie           Ricardo O'Farrill: Abrazo navideño   \n",
              "3228  80124724  Movie               Alan Saldaña: Mi vida de pobre   \n",
              "3229  80191990  Movie            Todo lo que sería Lucas Lauriente   \n",
              "\n",
              "                    director  \\\n",
              "3212  Raúl Campos, Jan Suter   \n",
              "3213  Raúl Campos, Jan Suter   \n",
              "3214  Raúl Campos, Jan Suter   \n",
              "3215  Raúl Campos, Jan Suter   \n",
              "3216  Raúl Campos, Jan Suter   \n",
              "3217  Raúl Campos, Jan Suter   \n",
              "3218  Raúl Campos, Jan Suter   \n",
              "3219  Raúl Campos, Jan Suter   \n",
              "3220  Raúl Campos, Jan Suter   \n",
              "3221  Raúl Campos, Jan Suter   \n",
              "3222  Raúl Campos, Jan Suter   \n",
              "3223  Raúl Campos, Jan Suter   \n",
              "3224  Raúl Campos, Jan Suter   \n",
              "3225  Raúl Campos, Jan Suter   \n",
              "3226  Raúl Campos, Jan Suter   \n",
              "3227  Raúl Campos, Jan Suter   \n",
              "3228  Raúl Campos, Jan Suter   \n",
              "3229  Raúl Campos, Jan Suter   \n",
              "\n",
              "                                                   cast    country  \\\n",
              "3212                                     Alexis de Anda     Mexico   \n",
              "3213                                   Fernando Sanjiao  Argentina   \n",
              "3214                                    Carlos Ballarta     Mexico   \n",
              "3215                               Sofía Niño de Rivera     Mexico   \n",
              "3216                                      Malena Pichot  Argentina   \n",
              "3217                                Natalia Valdebenito      Chile   \n",
              "3218                                        Jani Dueñas      Chile   \n",
              "3219                               Sofía Niño de Rivera     Mexico   \n",
              "3220                                    Luciano Mellera  Argentina   \n",
              "3221                           Coco Celis, Raúl Meneses     Mexico   \n",
              "3222                        Sebastián Marcelo Wainraich  Argentina   \n",
              "3223                                    Ricardo Quevedo   Colombia   \n",
              "3224                                  Ricardo O'Farrill     Mexico   \n",
              "3225                      Julián Arango, Antonio Sanint   Colombia   \n",
              "3226                                        Daniel Sosa     Mexico   \n",
              "3227  Ricardo O'Farrill, Carlos Ballarta, Sofía Niño...     Mexico   \n",
              "3228                                       Alan Saldaña     Mexico   \n",
              "3229                                    Lucas Lauriente  Argentina   \n",
              "\n",
              "             date_added  release_year rating duration        listed_in  \\\n",
              "3212  November 10, 2017          2017  TV-MA   54 min  Stand-Up Comedy   \n",
              "3213       May 25, 2018          2018  TV-MA   63 min  Stand-Up Comedy   \n",
              "3214       May 11, 2018          2018  TV-MA   63 min  Stand-Up Comedy   \n",
              "3215     March 30, 2018          2018  TV-MA   62 min  Stand-Up Comedy   \n",
              "3216      March 2, 2018          2018  TV-MA   51 min  Stand-Up Comedy   \n",
              "3217      March 2, 2018          2018  TV-MA   69 min  Stand-Up Comedy   \n",
              "3218      June 29, 2018          2018  TV-MA   77 min  Stand-Up Comedy   \n",
              "3219      June 24, 2016          2016  TV-MA   80 min  Stand-Up Comedy   \n",
              "3220       July 6, 2018          2018  TV-14   66 min  Stand-Up Comedy   \n",
              "3221      July 27, 2018          2018  TV-MA   57 min  Stand-Up Comedy   \n",
              "3222   January 26, 2018          2018  TV-MA   49 min  Stand-Up Comedy   \n",
              "3223   January 24, 2018          2018  TV-MA   59 min  Stand-Up Comedy   \n",
              "3224   January 22, 2016          2016  TV-MA   92 min  Stand-Up Comedy   \n",
              "3225   January 17, 2018          2018  TV-MA   62 min  Stand-Up Comedy   \n",
              "3226   February 3, 2017          2017  TV-MA   78 min  Stand-Up Comedy   \n",
              "3227  December 12, 2016          2016  TV-MA   31 min  Stand-Up Comedy   \n",
              "3228     August 4, 2017          2017  TV-MA   54 min  Stand-Up Comedy   \n",
              "3229      April 6, 2018          2018  TV-MA   78 min  Stand-Up Comedy   \n",
              "\n",
              "                                            description  \n",
              "3212  Raw and outspoken, comedian Alexis de Anda bar...  \n",
              "3213  Argentine actor and comedian Fernando Sanjiao ...  \n",
              "3214  Mexican comic Carlos Ballarta mocks himself an...  \n",
              "3215  Mexico's Sofía Niño de Rivera brings her dark ...  \n",
              "3216  An Argentine comedian espouses the values of f...  \n",
              "3217  A Chilean comedian fuses activism with irrever...  \n",
              "3218  Chilean comedian and personality Jani Dueñas p...  \n",
              "3219  Self-deprecating comic Sofía Niño de Rivera pu...  \n",
              "3220  Argentina's Luciano Mellera emphasizes the hum...  \n",
              "3221  A study in contrasts, comedy partners and good...  \n",
              "3222  Argentine comedian Sebastián Wainraich highlig...  \n",
              "3223  Droll comic Ricardo Quevedo hits Bogotá with a...  \n",
              "3224  Ricardo O'Farrill brings his sharp, observatio...  \n",
              "3225  Colombian stand-up comedians Antonio Sanint an...  \n",
              "3226  Comedian Daniel Sosa inhabits various characte...  \n",
              "3227  The expressive Ricardo O'Farrill uses his astu...  \n",
              "3228  Mexican comic Alan Saldaña has fun with everyt...  \n",
              "3229  In his stand-up set, Argentine comic Lucas Lau...  "
            ]
          },
          "metadata": {
            "tags": []
          },
          "execution_count": 62
        }
      ]
    },
    {
      "cell_type": "markdown",
      "metadata": {
        "id": "a-KVAdrY7h-d"
      },
      "source": [
        "### Ternyata director Raúl Campos dan Jan Suter suka membuat acara Stand-Up Comedy"
      ]
    },
    {
      "cell_type": "code",
      "metadata": {
        "id": "86ANb2JH7h-d",
        "outputId": "1b9bdb15-46cf-47a7-a6cb-026c5da4a378"
      },
      "source": [
        "dir_filtered[dir_filtered.director == \"Marcus Raboy\"]"
      ],
      "execution_count": null,
      "outputs": [
        {
          "output_type": "execute_result",
          "data": {
            "text/html": [
              "<div>\n",
              "<style scoped>\n",
              "    .dataframe tbody tr th:only-of-type {\n",
              "        vertical-align: middle;\n",
              "    }\n",
              "\n",
              "    .dataframe tbody tr th {\n",
              "        vertical-align: top;\n",
              "    }\n",
              "\n",
              "    .dataframe thead th {\n",
              "        text-align: right;\n",
              "    }\n",
              "</style>\n",
              "<table border=\"1\" class=\"dataframe\">\n",
              "  <thead>\n",
              "    <tr style=\"text-align: right;\">\n",
              "      <th></th>\n",
              "      <th>show_id</th>\n",
              "      <th>type</th>\n",
              "      <th>title</th>\n",
              "      <th>director</th>\n",
              "      <th>cast</th>\n",
              "      <th>country</th>\n",
              "      <th>date_added</th>\n",
              "      <th>release_year</th>\n",
              "      <th>rating</th>\n",
              "      <th>duration</th>\n",
              "      <th>listed_in</th>\n",
              "      <th>description</th>\n",
              "    </tr>\n",
              "  </thead>\n",
              "  <tbody>\n",
              "    <tr>\n",
              "      <th>2397</th>\n",
              "      <td>80117461</td>\n",
              "      <td>Movie</td>\n",
              "      <td>Dana Carvey: Straight White Male, 60</td>\n",
              "      <td>Marcus Raboy</td>\n",
              "      <td>Dana Carvey</td>\n",
              "      <td>United States</td>\n",
              "      <td>November 4, 2016</td>\n",
              "      <td>2016</td>\n",
              "      <td>TV-MA</td>\n",
              "      <td>64 min</td>\n",
              "      <td>Stand-Up Comedy</td>\n",
              "      <td>Emmy-winning comedian Dana Carvey blends pitch...</td>\n",
              "    </tr>\n",
              "    <tr>\n",
              "      <th>2398</th>\n",
              "      <td>80191804</td>\n",
              "      <td>Movie</td>\n",
              "      <td>DeRay Davis: How to Act Black</td>\n",
              "      <td>Marcus Raboy</td>\n",
              "      <td>DeRay Davis</td>\n",
              "      <td>United States</td>\n",
              "      <td>November 14, 2017</td>\n",
              "      <td>2017</td>\n",
              "      <td>TV-MA</td>\n",
              "      <td>66 min</td>\n",
              "      <td>Stand-Up Comedy</td>\n",
              "      <td>Dynamic comic DeRay Davis hits the stage like ...</td>\n",
              "    </tr>\n",
              "    <tr>\n",
              "      <th>2399</th>\n",
              "      <td>80186850</td>\n",
              "      <td>Movie</td>\n",
              "      <td>Steve Martin and Martin Short: An Evening You ...</td>\n",
              "      <td>Marcus Raboy</td>\n",
              "      <td>Steve Martin, Martin Short</td>\n",
              "      <td>United States</td>\n",
              "      <td>May 25, 2018</td>\n",
              "      <td>2018</td>\n",
              "      <td>TV-14</td>\n",
              "      <td>74 min</td>\n",
              "      <td>Stand-Up Comedy</td>\n",
              "      <td>Longtime pals and showbiz icons Steve Martin a...</td>\n",
              "    </tr>\n",
              "    <tr>\n",
              "      <th>2400</th>\n",
              "      <td>80237423</td>\n",
              "      <td>Movie</td>\n",
              "      <td>Miranda Sings Live…Your Welcome</td>\n",
              "      <td>Marcus Raboy</td>\n",
              "      <td>Colleen Ballinger</td>\n",
              "      <td>United States</td>\n",
              "      <td>June 4, 2019</td>\n",
              "      <td>2019</td>\n",
              "      <td>TV-14</td>\n",
              "      <td>62 min</td>\n",
              "      <td>Stand-Up Comedy</td>\n",
              "      <td>Viral video star Miranda Sings and her real-wo...</td>\n",
              "    </tr>\n",
              "    <tr>\n",
              "      <th>2401</th>\n",
              "      <td>80213715</td>\n",
              "      <td>Movie</td>\n",
              "      <td>Whitney Cummings: Can I Touch It?</td>\n",
              "      <td>Marcus Raboy</td>\n",
              "      <td>Whitney Cummings</td>\n",
              "      <td>NaN</td>\n",
              "      <td>July 30, 2019</td>\n",
              "      <td>2019</td>\n",
              "      <td>TV-MA</td>\n",
              "      <td>59 min</td>\n",
              "      <td>Stand-Up Comedy</td>\n",
              "      <td>In her fourth stand-up special, Whitney Cummin...</td>\n",
              "    </tr>\n",
              "    <tr>\n",
              "      <th>2402</th>\n",
              "      <td>70250364</td>\n",
              "      <td>Movie</td>\n",
              "      <td>Katt Williams: Kattpacalypse</td>\n",
              "      <td>Marcus Raboy</td>\n",
              "      <td>Katt Williams</td>\n",
              "      <td>United States</td>\n",
              "      <td>July 3, 2018</td>\n",
              "      <td>2012</td>\n",
              "      <td>NR</td>\n",
              "      <td>61 min</td>\n",
              "      <td>Stand-Up Comedy</td>\n",
              "      <td>Urban comic Katt Williams ushers in Kattpacaly...</td>\n",
              "    </tr>\n",
              "    <tr>\n",
              "      <th>2403</th>\n",
              "      <td>80117453</td>\n",
              "      <td>Movie</td>\n",
              "      <td>Cristela Alonzo: Lower Classy</td>\n",
              "      <td>Marcus Raboy</td>\n",
              "      <td>Cristela Alonzo</td>\n",
              "      <td>United States</td>\n",
              "      <td>January 24, 2017</td>\n",
              "      <td>2017</td>\n",
              "      <td>TV-MA</td>\n",
              "      <td>67 min</td>\n",
              "      <td>Stand-Up Comedy</td>\n",
              "      <td>The irrepressible Alonzo skewers Latino stereo...</td>\n",
              "    </tr>\n",
              "    <tr>\n",
              "      <th>2404</th>\n",
              "      <td>80134779</td>\n",
              "      <td>Movie</td>\n",
              "      <td>Marlon Wayans: Woke-ish</td>\n",
              "      <td>Marcus Raboy</td>\n",
              "      <td>Marlon Wayans</td>\n",
              "      <td>United States</td>\n",
              "      <td>February 27, 2018</td>\n",
              "      <td>2018</td>\n",
              "      <td>TV-MA</td>\n",
              "      <td>67 min</td>\n",
              "      <td>Stand-Up Comedy</td>\n",
              "      <td>Rollicking, outrageous and audacious, Marlon W...</td>\n",
              "    </tr>\n",
              "    <tr>\n",
              "      <th>2405</th>\n",
              "      <td>80158871</td>\n",
              "      <td>Movie</td>\n",
              "      <td>Judd Apatow: The Return</td>\n",
              "      <td>Marcus Raboy</td>\n",
              "      <td>Judd Apatow</td>\n",
              "      <td>United States</td>\n",
              "      <td>December 12, 2017</td>\n",
              "      <td>2017</td>\n",
              "      <td>TV-MA</td>\n",
              "      <td>70 min</td>\n",
              "      <td>Stand-Up Comedy</td>\n",
              "      <td>Judd Apatow returns to stand-up comedy after 2...</td>\n",
              "    </tr>\n",
              "    <tr>\n",
              "      <th>2406</th>\n",
              "      <td>80995991</td>\n",
              "      <td>Movie</td>\n",
              "      <td>Vir Das: Losing It</td>\n",
              "      <td>Marcus Raboy</td>\n",
              "      <td>Vir Das</td>\n",
              "      <td>NaN</td>\n",
              "      <td>December 11, 2018</td>\n",
              "      <td>2018</td>\n",
              "      <td>TV-MA</td>\n",
              "      <td>68 min</td>\n",
              "      <td>Stand-Up Comedy</td>\n",
              "      <td>The world's got a lot of problems, but Vir Das...</td>\n",
              "    </tr>\n",
              "    <tr>\n",
              "      <th>2407</th>\n",
              "      <td>80184834</td>\n",
              "      <td>Movie</td>\n",
              "      <td>Ryan Hamilton: Happy Face</td>\n",
              "      <td>Marcus Raboy</td>\n",
              "      <td>Ryan Hamilton</td>\n",
              "      <td>United States</td>\n",
              "      <td>August 29, 2017</td>\n",
              "      <td>2017</td>\n",
              "      <td>TV-14</td>\n",
              "      <td>57 min</td>\n",
              "      <td>Stand-Up Comedy</td>\n",
              "      <td>Small-town import Ryan Hamilton charms New Yor...</td>\n",
              "    </tr>\n",
              "    <tr>\n",
              "      <th>2408</th>\n",
              "      <td>80185322</td>\n",
              "      <td>Movie</td>\n",
              "      <td>Lynne Koplitz: Hormonal Beast</td>\n",
              "      <td>Marcus Raboy</td>\n",
              "      <td>Lynne Koplitz</td>\n",
              "      <td>United States</td>\n",
              "      <td>August 22, 2017</td>\n",
              "      <td>2017</td>\n",
              "      <td>TV-MA</td>\n",
              "      <td>51 min</td>\n",
              "      <td>Stand-Up Comedy</td>\n",
              "      <td>Unabashed comedian Lynne Koplitz offers a woma...</td>\n",
              "    </tr>\n",
              "    <tr>\n",
              "      <th>2409</th>\n",
              "      <td>80227677</td>\n",
              "      <td>Movie</td>\n",
              "      <td>Anthony Jeselnik: Fire in the Maternity Ward</td>\n",
              "      <td>Marcus Raboy</td>\n",
              "      <td>Anthony Jeselnik</td>\n",
              "      <td>United States</td>\n",
              "      <td>April 30, 2019</td>\n",
              "      <td>2019</td>\n",
              "      <td>TV-MA</td>\n",
              "      <td>64 min</td>\n",
              "      <td>Stand-Up Comedy</td>\n",
              "      <td>Forging his own comedic boundaries, Anthony Je...</td>\n",
              "    </tr>\n",
              "    <tr>\n",
              "      <th>2410</th>\n",
              "      <td>80133552</td>\n",
              "      <td>Movie</td>\n",
              "      <td>Vir Das: Abroad Understanding</td>\n",
              "      <td>Marcus Raboy</td>\n",
              "      <td>Vir Das</td>\n",
              "      <td>United States</td>\n",
              "      <td>April 25, 2017</td>\n",
              "      <td>2017</td>\n",
              "      <td>TV-MA</td>\n",
              "      <td>66 min</td>\n",
              "      <td>Stand-Up Comedy</td>\n",
              "      <td>Comedian Vir Das tackles nationalism, globalis...</td>\n",
              "    </tr>\n",
              "  </tbody>\n",
              "</table>\n",
              "</div>"
            ],
            "text/plain": [
              "       show_id   type                                              title  \\\n",
              "2397  80117461  Movie               Dana Carvey: Straight White Male, 60   \n",
              "2398  80191804  Movie                      DeRay Davis: How to Act Black   \n",
              "2399  80186850  Movie  Steve Martin and Martin Short: An Evening You ...   \n",
              "2400  80237423  Movie                    Miranda Sings Live…Your Welcome   \n",
              "2401  80213715  Movie                  Whitney Cummings: Can I Touch It?   \n",
              "2402  70250364  Movie                       Katt Williams: Kattpacalypse   \n",
              "2403  80117453  Movie                      Cristela Alonzo: Lower Classy   \n",
              "2404  80134779  Movie                            Marlon Wayans: Woke-ish   \n",
              "2405  80158871  Movie                            Judd Apatow: The Return   \n",
              "2406  80995991  Movie                                 Vir Das: Losing It   \n",
              "2407  80184834  Movie                          Ryan Hamilton: Happy Face   \n",
              "2408  80185322  Movie                      Lynne Koplitz: Hormonal Beast   \n",
              "2409  80227677  Movie       Anthony Jeselnik: Fire in the Maternity Ward   \n",
              "2410  80133552  Movie                      Vir Das: Abroad Understanding   \n",
              "\n",
              "          director                        cast        country  \\\n",
              "2397  Marcus Raboy                 Dana Carvey  United States   \n",
              "2398  Marcus Raboy                 DeRay Davis  United States   \n",
              "2399  Marcus Raboy  Steve Martin, Martin Short  United States   \n",
              "2400  Marcus Raboy           Colleen Ballinger  United States   \n",
              "2401  Marcus Raboy            Whitney Cummings            NaN   \n",
              "2402  Marcus Raboy               Katt Williams  United States   \n",
              "2403  Marcus Raboy             Cristela Alonzo  United States   \n",
              "2404  Marcus Raboy               Marlon Wayans  United States   \n",
              "2405  Marcus Raboy                 Judd Apatow  United States   \n",
              "2406  Marcus Raboy                     Vir Das            NaN   \n",
              "2407  Marcus Raboy               Ryan Hamilton  United States   \n",
              "2408  Marcus Raboy               Lynne Koplitz  United States   \n",
              "2409  Marcus Raboy            Anthony Jeselnik  United States   \n",
              "2410  Marcus Raboy                     Vir Das  United States   \n",
              "\n",
              "             date_added  release_year rating duration        listed_in  \\\n",
              "2397   November 4, 2016          2016  TV-MA   64 min  Stand-Up Comedy   \n",
              "2398  November 14, 2017          2017  TV-MA   66 min  Stand-Up Comedy   \n",
              "2399       May 25, 2018          2018  TV-14   74 min  Stand-Up Comedy   \n",
              "2400       June 4, 2019          2019  TV-14   62 min  Stand-Up Comedy   \n",
              "2401      July 30, 2019          2019  TV-MA   59 min  Stand-Up Comedy   \n",
              "2402       July 3, 2018          2012     NR   61 min  Stand-Up Comedy   \n",
              "2403   January 24, 2017          2017  TV-MA   67 min  Stand-Up Comedy   \n",
              "2404  February 27, 2018          2018  TV-MA   67 min  Stand-Up Comedy   \n",
              "2405  December 12, 2017          2017  TV-MA   70 min  Stand-Up Comedy   \n",
              "2406  December 11, 2018          2018  TV-MA   68 min  Stand-Up Comedy   \n",
              "2407    August 29, 2017          2017  TV-14   57 min  Stand-Up Comedy   \n",
              "2408    August 22, 2017          2017  TV-MA   51 min  Stand-Up Comedy   \n",
              "2409     April 30, 2019          2019  TV-MA   64 min  Stand-Up Comedy   \n",
              "2410     April 25, 2017          2017  TV-MA   66 min  Stand-Up Comedy   \n",
              "\n",
              "                                            description  \n",
              "2397  Emmy-winning comedian Dana Carvey blends pitch...  \n",
              "2398  Dynamic comic DeRay Davis hits the stage like ...  \n",
              "2399  Longtime pals and showbiz icons Steve Martin a...  \n",
              "2400  Viral video star Miranda Sings and her real-wo...  \n",
              "2401  In her fourth stand-up special, Whitney Cummin...  \n",
              "2402  Urban comic Katt Williams ushers in Kattpacaly...  \n",
              "2403  The irrepressible Alonzo skewers Latino stereo...  \n",
              "2404  Rollicking, outrageous and audacious, Marlon W...  \n",
              "2405  Judd Apatow returns to stand-up comedy after 2...  \n",
              "2406  The world's got a lot of problems, but Vir Das...  \n",
              "2407  Small-town import Ryan Hamilton charms New Yor...  \n",
              "2408  Unabashed comedian Lynne Koplitz offers a woma...  \n",
              "2409  Forging his own comedic boundaries, Anthony Je...  \n",
              "2410  Comedian Vir Das tackles nationalism, globalis...  "
            ]
          },
          "metadata": {
            "tags": []
          },
          "execution_count": 63
        }
      ]
    },
    {
      "cell_type": "markdown",
      "metadata": {
        "id": "sou9UQeA7h-i"
      },
      "source": [
        "### Ternyata director Marcus Raboy juga suka membuat acara Stand-Up Comedy"
      ]
    },
    {
      "cell_type": "markdown",
      "metadata": {
        "id": "-eTeSFHk7h-i"
      },
      "source": [
        "### ---------------------------------------------------------------------------------------------------------------------------------------------------------"
      ]
    },
    {
      "cell_type": "markdown",
      "metadata": {
        "id": "Q24Qh5d17h-j"
      },
      "source": [
        "### Yang mungkin bisa dicari:\n",
        "### 1. Tiap \"listed_in\" itu rata-rata durasinya berapa lama?\n",
        "### 2. Tiap director itu sering buat rating acara yang gimana?\n",
        "### 3. Tiap director kira-kira ada ga ya cast andalan?\n",
        "### 4. Kenapa ya masih ada missing value di director padahal yang blank udah dikosongin? "
      ]
    }
  ]
}