{
  "nbformat": 4,
  "nbformat_minor": 0,
  "metadata": {
    "kernelspec": {
      "display_name": "Python 3",
      "language": "python",
      "name": "python3"
    },
    "language_info": {
      "codemirror_mode": {
        "name": "ipython",
        "version": 3
      },
      "file_extension": ".py",
      "mimetype": "text/x-python",
      "name": "python",
      "nbconvert_exporter": "python",
      "pygments_lexer": "ipython3",
      "version": "3.6.7"
    },
    "varInspector": {
      "cols": {
        "lenName": 16,
        "lenType": 16,
        "lenVar": 40
      },
      "kernels_config": {
        "python": {
          "delete_cmd_postfix": "",
          "delete_cmd_prefix": "del ",
          "library": "var_list.py",
          "varRefreshCmd": "print(var_dic_list())"
        },
        "r": {
          "delete_cmd_postfix": ") ",
          "delete_cmd_prefix": "rm(",
          "library": "var_list.r",
          "varRefreshCmd": "cat(var_dic_list()) "
        }
      },
      "types_to_exclude": [
        "module",
        "function",
        "builtin_function_or_method",
        "instance",
        "_Feature"
      ],
      "window_display": false
    },
    "colab": {
      "name": "Task Zeva.ipynb",
      "provenance": [],
      "include_colab_link": true
    }
  },
  "cells": [
    {
      "cell_type": "markdown",
      "metadata": {
        "id": "view-in-github",
        "colab_type": "text"
      },
      "source": [
        "<a href=\"https://colab.research.google.com/github/rindanh/Latihan-NDSC/blob/main/netflix/rinda/Task_Zeva.ipynb\" target=\"_parent\"><img src=\"https://colab.research.google.com/assets/colab-badge.svg\" alt=\"Open In Colab\"/></a>"
      ]
    },
    {
      "cell_type": "code",
      "metadata": {
        "ExecuteTime": {
          "end_time": "2020-11-10T06:26:39.061494Z",
          "start_time": "2020-11-10T06:26:11.382005Z"
        },
        "id": "LNnPuJSw7-z3"
      },
      "source": [
        "import numpy as np\n",
        "import pandas as pd\n",
        "import matplotlib.pyplot as plt\n",
        "from collections import Counter"
      ],
      "execution_count": 1,
      "outputs": []
    },
    {
      "cell_type": "code",
      "metadata": {
        "ExecuteTime": {
          "end_time": "2020-11-10T06:26:39.633831Z",
          "start_time": "2020-11-10T06:26:39.141533Z"
        },
        "id": "bCff6pip7-0h"
      },
      "source": [
        "df = pd.read_csv(\"Data Latihan/netflix_titles.csv\")"
      ],
      "execution_count": null,
      "outputs": []
    },
    {
      "cell_type": "code",
      "metadata": {
        "id": "OmXTkblSdUAe"
      },
      "source": [
        "url = 'https://raw.githubusercontent.com/rindanh/Latihan-NDSC/main/netflix/netflix_titles.csv'\n",
        "df = pd.read_csv(url)"
      ],
      "execution_count": 3,
      "outputs": []
    },
    {
      "cell_type": "markdown",
      "metadata": {
        "id": "hzm5Y8CA7-1F"
      },
      "source": [
        "### 1. NaN Diisi unknown"
      ]
    },
    {
      "cell_type": "code",
      "metadata": {
        "ExecuteTime": {
          "end_time": "2020-11-10T06:27:02.364736Z",
          "start_time": "2020-11-10T06:27:02.273835Z"
        },
        "id": "2RwSb5qV7-1I"
      },
      "source": [
        "df = df.fillna(\"UNKNOWN\")"
      ],
      "execution_count": 4,
      "outputs": []
    },
    {
      "cell_type": "code",
      "metadata": {
        "ExecuteTime": {
          "end_time": "2020-11-09T17:32:47.083885Z",
          "start_time": "2020-11-09T17:32:47.035972Z"
        },
        "id": "hwA5Qccl7-1h",
        "outputId": "49df8fd7-05f4-4d09-ba13-092c5f3b749a",
        "colab": {
          "base_uri": "https://localhost:8080/",
          "height": 0
        }
      },
      "source": [
        "df"
      ],
      "execution_count": 5,
      "outputs": [
        {
          "output_type": "execute_result",
          "data": {
            "text/html": [
              "<div>\n",
              "<style scoped>\n",
              "    .dataframe tbody tr th:only-of-type {\n",
              "        vertical-align: middle;\n",
              "    }\n",
              "\n",
              "    .dataframe tbody tr th {\n",
              "        vertical-align: top;\n",
              "    }\n",
              "\n",
              "    .dataframe thead th {\n",
              "        text-align: right;\n",
              "    }\n",
              "</style>\n",
              "<table border=\"1\" class=\"dataframe\">\n",
              "  <thead>\n",
              "    <tr style=\"text-align: right;\">\n",
              "      <th></th>\n",
              "      <th>show_id</th>\n",
              "      <th>type</th>\n",
              "      <th>title</th>\n",
              "      <th>director</th>\n",
              "      <th>cast</th>\n",
              "      <th>country</th>\n",
              "      <th>date_added</th>\n",
              "      <th>release_year</th>\n",
              "      <th>rating</th>\n",
              "      <th>duration</th>\n",
              "      <th>listed_in</th>\n",
              "      <th>description</th>\n",
              "    </tr>\n",
              "  </thead>\n",
              "  <tbody>\n",
              "    <tr>\n",
              "      <th>0</th>\n",
              "      <td>81145628</td>\n",
              "      <td>Movie</td>\n",
              "      <td>Norm of the North: King Sized Adventure</td>\n",
              "      <td>Richard Finn, Tim Maltby</td>\n",
              "      <td>Alan Marriott, Andrew Toth, Brian Dobson, Cole...</td>\n",
              "      <td>United States, India, South Korea, China</td>\n",
              "      <td>September 9, 2019</td>\n",
              "      <td>2019</td>\n",
              "      <td>TV-PG</td>\n",
              "      <td>90 min</td>\n",
              "      <td>Children &amp; Family Movies, Comedies</td>\n",
              "      <td>Before planning an awesome wedding for his gra...</td>\n",
              "    </tr>\n",
              "    <tr>\n",
              "      <th>1</th>\n",
              "      <td>80117401</td>\n",
              "      <td>Movie</td>\n",
              "      <td>Jandino: Whatever it Takes</td>\n",
              "      <td>UNKNOWN</td>\n",
              "      <td>Jandino Asporaat</td>\n",
              "      <td>United Kingdom</td>\n",
              "      <td>September 9, 2016</td>\n",
              "      <td>2016</td>\n",
              "      <td>TV-MA</td>\n",
              "      <td>94 min</td>\n",
              "      <td>Stand-Up Comedy</td>\n",
              "      <td>Jandino Asporaat riffs on the challenges of ra...</td>\n",
              "    </tr>\n",
              "    <tr>\n",
              "      <th>2</th>\n",
              "      <td>70234439</td>\n",
              "      <td>TV Show</td>\n",
              "      <td>Transformers Prime</td>\n",
              "      <td>UNKNOWN</td>\n",
              "      <td>Peter Cullen, Sumalee Montano, Frank Welker, J...</td>\n",
              "      <td>United States</td>\n",
              "      <td>September 8, 2018</td>\n",
              "      <td>2013</td>\n",
              "      <td>TV-Y7-FV</td>\n",
              "      <td>1 Season</td>\n",
              "      <td>Kids' TV</td>\n",
              "      <td>With the help of three human allies, the Autob...</td>\n",
              "    </tr>\n",
              "    <tr>\n",
              "      <th>3</th>\n",
              "      <td>80058654</td>\n",
              "      <td>TV Show</td>\n",
              "      <td>Transformers: Robots in Disguise</td>\n",
              "      <td>UNKNOWN</td>\n",
              "      <td>Will Friedle, Darren Criss, Constance Zimmer, ...</td>\n",
              "      <td>United States</td>\n",
              "      <td>September 8, 2018</td>\n",
              "      <td>2016</td>\n",
              "      <td>TV-Y7</td>\n",
              "      <td>1 Season</td>\n",
              "      <td>Kids' TV</td>\n",
              "      <td>When a prison ship crash unleashes hundreds of...</td>\n",
              "    </tr>\n",
              "    <tr>\n",
              "      <th>4</th>\n",
              "      <td>80125979</td>\n",
              "      <td>Movie</td>\n",
              "      <td>#realityhigh</td>\n",
              "      <td>Fernando Lebrija</td>\n",
              "      <td>Nesta Cooper, Kate Walsh, John Michael Higgins...</td>\n",
              "      <td>United States</td>\n",
              "      <td>September 8, 2017</td>\n",
              "      <td>2017</td>\n",
              "      <td>TV-14</td>\n",
              "      <td>99 min</td>\n",
              "      <td>Comedies</td>\n",
              "      <td>When nerdy high schooler Dani finally attracts...</td>\n",
              "    </tr>\n",
              "    <tr>\n",
              "      <th>...</th>\n",
              "      <td>...</td>\n",
              "      <td>...</td>\n",
              "      <td>...</td>\n",
              "      <td>...</td>\n",
              "      <td>...</td>\n",
              "      <td>...</td>\n",
              "      <td>...</td>\n",
              "      <td>...</td>\n",
              "      <td>...</td>\n",
              "      <td>...</td>\n",
              "      <td>...</td>\n",
              "      <td>...</td>\n",
              "    </tr>\n",
              "    <tr>\n",
              "      <th>6229</th>\n",
              "      <td>80000063</td>\n",
              "      <td>TV Show</td>\n",
              "      <td>Red vs. Blue</td>\n",
              "      <td>UNKNOWN</td>\n",
              "      <td>Burnie Burns, Jason Saldaña, Gustavo Sorola, G...</td>\n",
              "      <td>United States</td>\n",
              "      <td>UNKNOWN</td>\n",
              "      <td>2015</td>\n",
              "      <td>NR</td>\n",
              "      <td>13 Seasons</td>\n",
              "      <td>TV Action &amp; Adventure, TV Comedies, TV Sci-Fi ...</td>\n",
              "      <td>This parody of first-person shooter games, mil...</td>\n",
              "    </tr>\n",
              "    <tr>\n",
              "      <th>6230</th>\n",
              "      <td>70286564</td>\n",
              "      <td>TV Show</td>\n",
              "      <td>Maron</td>\n",
              "      <td>UNKNOWN</td>\n",
              "      <td>Marc Maron, Judd Hirsch, Josh Brener, Nora Zeh...</td>\n",
              "      <td>United States</td>\n",
              "      <td>UNKNOWN</td>\n",
              "      <td>2016</td>\n",
              "      <td>TV-MA</td>\n",
              "      <td>4 Seasons</td>\n",
              "      <td>TV Comedies</td>\n",
              "      <td>Marc Maron stars as Marc Maron, who interviews...</td>\n",
              "    </tr>\n",
              "    <tr>\n",
              "      <th>6231</th>\n",
              "      <td>80116008</td>\n",
              "      <td>Movie</td>\n",
              "      <td>Little Baby Bum: Nursery Rhyme Friends</td>\n",
              "      <td>UNKNOWN</td>\n",
              "      <td>UNKNOWN</td>\n",
              "      <td>UNKNOWN</td>\n",
              "      <td>UNKNOWN</td>\n",
              "      <td>2016</td>\n",
              "      <td>UNKNOWN</td>\n",
              "      <td>60 min</td>\n",
              "      <td>Movies</td>\n",
              "      <td>Nursery rhymes and original music for children...</td>\n",
              "    </tr>\n",
              "    <tr>\n",
              "      <th>6232</th>\n",
              "      <td>70281022</td>\n",
              "      <td>TV Show</td>\n",
              "      <td>A Young Doctor's Notebook and Other Stories</td>\n",
              "      <td>UNKNOWN</td>\n",
              "      <td>Daniel Radcliffe, Jon Hamm, Adam Godley, Chris...</td>\n",
              "      <td>United Kingdom</td>\n",
              "      <td>UNKNOWN</td>\n",
              "      <td>2013</td>\n",
              "      <td>TV-MA</td>\n",
              "      <td>2 Seasons</td>\n",
              "      <td>British TV Shows, TV Comedies, TV Dramas</td>\n",
              "      <td>Set during the Russian Revolution, this comic ...</td>\n",
              "    </tr>\n",
              "    <tr>\n",
              "      <th>6233</th>\n",
              "      <td>70153404</td>\n",
              "      <td>TV Show</td>\n",
              "      <td>Friends</td>\n",
              "      <td>UNKNOWN</td>\n",
              "      <td>Jennifer Aniston, Courteney Cox, Lisa Kudrow, ...</td>\n",
              "      <td>United States</td>\n",
              "      <td>UNKNOWN</td>\n",
              "      <td>2003</td>\n",
              "      <td>TV-14</td>\n",
              "      <td>10 Seasons</td>\n",
              "      <td>Classic &amp; Cult TV, TV Comedies</td>\n",
              "      <td>This hit sitcom follows the merry misadventure...</td>\n",
              "    </tr>\n",
              "  </tbody>\n",
              "</table>\n",
              "<p>6234 rows × 12 columns</p>\n",
              "</div>"
            ],
            "text/plain": [
              "       show_id  ...                                        description\n",
              "0     81145628  ...  Before planning an awesome wedding for his gra...\n",
              "1     80117401  ...  Jandino Asporaat riffs on the challenges of ra...\n",
              "2     70234439  ...  With the help of three human allies, the Autob...\n",
              "3     80058654  ...  When a prison ship crash unleashes hundreds of...\n",
              "4     80125979  ...  When nerdy high schooler Dani finally attracts...\n",
              "...        ...  ...                                                ...\n",
              "6229  80000063  ...  This parody of first-person shooter games, mil...\n",
              "6230  70286564  ...  Marc Maron stars as Marc Maron, who interviews...\n",
              "6231  80116008  ...  Nursery rhymes and original music for children...\n",
              "6232  70281022  ...  Set during the Russian Revolution, this comic ...\n",
              "6233  70153404  ...  This hit sitcom follows the merry misadventure...\n",
              "\n",
              "[6234 rows x 12 columns]"
            ]
          },
          "metadata": {
            "tags": []
          },
          "execution_count": 5
        }
      ]
    },
    {
      "cell_type": "markdown",
      "metadata": {
        "id": "Aoj-FUtR7-16"
      },
      "source": [
        "### 2. Type dipisahin antara Movie sama TV Show (Jadi bakal ada 2)"
      ]
    },
    {
      "cell_type": "code",
      "metadata": {
        "ExecuteTime": {
          "end_time": "2020-11-10T06:27:04.263813Z",
          "start_time": "2020-11-10T06:27:04.119816Z"
        },
        "id": "3s3g8xeO7-2A"
      },
      "source": [
        "df_movie = df[df['type'] == \"Movie\"]\n",
        "df_tv = df[df['type'] == \"TV Show\"]"
      ],
      "execution_count": 5,
      "outputs": []
    },
    {
      "cell_type": "markdown",
      "metadata": {
        "id": "UnXXnuL_7-2V"
      },
      "source": [
        "### 3. Movie sama TV Show di-group lagi berdasarkan listed_in nya"
      ]
    },
    {
      "cell_type": "code",
      "metadata": {
        "ExecuteTime": {
          "end_time": "2020-11-09T16:05:09.150267Z",
          "start_time": "2020-11-09T16:05:09.127272Z"
        },
        "id": "posFTkiF7-2a",
        "outputId": "7f642339-ccf4-43a8-e71d-329b9b93c155",
        "colab": {
          "base_uri": "https://localhost:8080/"
        }
      },
      "source": [
        "Counter(df_movie['listed_in']).most_common(1000)"
      ],
      "execution_count": 6,
      "outputs": [
        {
          "output_type": "execute_result",
          "data": {
            "text/plain": [
              "[('Documentaries', 299),\n",
              " ('Stand-Up Comedy', 273),\n",
              " ('Dramas, International Movies', 248),\n",
              " ('Dramas, Independent Movies, International Movies', 186),\n",
              " ('Comedies, Dramas, International Movies', 174),\n",
              " ('Documentaries, International Movies', 150),\n",
              " ('Children & Family Movies, Comedies', 129),\n",
              " ('Children & Family Movies', 120),\n",
              " ('Comedies, International Movies', 120),\n",
              " ('Dramas, International Movies, Romantic Movies', 108),\n",
              " ('Action & Adventure, Dramas, International Movies', 103),\n",
              " ('Comedies, International Movies, Romantic Movies', 97),\n",
              " ('Dramas, International Movies, Thrillers', 93),\n",
              " ('Dramas', 89),\n",
              " ('Comedies, Dramas, Independent Movies', 77),\n",
              " ('Action & Adventure, International Movies', 75),\n",
              " ('Comedies', 73),\n",
              " ('Dramas, Independent Movies', 68),\n",
              " ('Action & Adventure', 68),\n",
              " ('Action & Adventure, Comedies, International Movies', 57),\n",
              " ('Documentaries, Music & Musicals', 57),\n",
              " ('Movies', 56),\n",
              " ('Dramas, Thrillers', 55),\n",
              " ('Documentaries, Sports Movies', 50),\n",
              " ('Action & Adventure, Sci-Fi & Fantasy', 49),\n",
              " ('Horror Movies, International Movies', 48),\n",
              " ('Dramas, International Movies, Music & Musicals', 44),\n",
              " ('Comedies, Romantic Movies', 43),\n",
              " ('Horror Movies, Thrillers', 41),\n",
              " ('Thrillers', 40),\n",
              " ('Horror Movies', 39),\n",
              " ('Comedies, International Movies, Music & Musicals', 39),\n",
              " ('International Movies, Thrillers', 38),\n",
              " ('Action & Adventure, Comedies', 31),\n",
              " ('Documentaries, International Movies, Sports Movies', 29),\n",
              " ('Horror Movies, International Movies, Thrillers', 28),\n",
              " ('Dramas, Romantic Movies', 25),\n",
              " ('Action & Adventure, Anime Features, International Movies', 25),\n",
              " ('Action & Adventure, Dramas', 23),\n",
              " ('Documentaries, International Movies, Music & Musicals', 23),\n",
              " ('Comedies, Dramas', 19),\n",
              " ('Comedies, Independent Movies', 19),\n",
              " ('Dramas, International Movies, Sports Movies', 18),\n",
              " ('Action & Adventure, Comedies, Dramas', 18),\n",
              " ('Dramas, Independent Movies, Thrillers', 17),\n",
              " ('Children & Family Movies, Dramas', 16),\n",
              " ('Comedies, Independent Movies, International Movies', 16),\n",
              " ('Dramas, Independent Movies, Romantic Movies', 15),\n",
              " ('Action & Adventure, International Movies, Sci-Fi & Fantasy', 15),\n",
              " ('International Movies, Romantic Movies', 15),\n",
              " ('Horror Movies, Independent Movies', 15),\n",
              " ('Dramas, Independent Movies, LGBTQ Movies', 14),\n",
              " ('Dramas, Sports Movies', 14),\n",
              " ('Comedies, Horror Movies, International Movies', 13),\n",
              " ('Horror Movies, Independent Movies, Thrillers', 13),\n",
              " ('Dramas, Faith & Spirituality', 13),\n",
              " ('Dramas, International Movies, Sci-Fi & Fantasy', 12),\n",
              " ('Children & Family Movies, Music & Musicals', 11),\n",
              " ('Independent Movies, Thrillers', 11),\n",
              " ('Documentaries, LGBTQ Movies', 11),\n",
              " ('Action & Adventure, Dramas, Independent Movies', 11),\n",
              " ('Classic Movies, Documentaries', 11),\n",
              " ('Comedies, Cult Movies', 10),\n",
              " ('Action & Adventure, International Movies, Music & Musicals', 10),\n",
              " ('Dramas, Faith & Spirituality, International Movies', 9),\n",
              " ('Classic Movies, Dramas, International Movies', 9),\n",
              " ('Sci-Fi & Fantasy, Thrillers', 9),\n",
              " ('Horror Movies, Independent Movies, International Movies', 9),\n",
              " ('Comedies, Dramas, Romantic Movies', 9),\n",
              " ('International Movies, Sci-Fi & Fantasy, Thrillers', 8),\n",
              " ('Classic Movies, Dramas', 8),\n",
              " ('Documentaries, Faith & Spirituality', 8),\n",
              " ('Comedies, Independent Movies, Romantic Movies', 7),\n",
              " ('Action & Adventure, Independent Movies', 7),\n",
              " ('Children & Family Movies, Comedies, Romantic Movies', 7),\n",
              " ('Children & Family Movies, Comedies, Dramas', 7),\n",
              " ('Children & Family Movies, Dramas, Sports Movies', 7),\n",
              " ('Action & Adventure, Comedies, Sci-Fi & Fantasy', 7),\n",
              " ('Children & Family Movies, Sci-Fi & Fantasy', 7),\n",
              " ('Children & Family Movies, Dramas, Romantic Movies', 7),\n",
              " ('Comedies, Sports Movies', 7),\n",
              " ('Children & Family Movies, Comedies, Sci-Fi & Fantasy', 6),\n",
              " ('Action & Adventure, Comedies, Independent Movies', 6),\n",
              " ('Comedies, Cult Movies, Dramas', 6),\n",
              " ('Comedies, Horror Movies', 6),\n",
              " ('Dramas, Independent Movies, Sci-Fi & Fantasy', 6),\n",
              " ('Comedies, International Movies, Sports Movies', 6),\n",
              " ('Music & Musicals', 6),\n",
              " ('International Movies, Music & Musicals', 6),\n",
              " ('Comedies, International Movies, Sci-Fi & Fantasy', 6),\n",
              " ('Dramas, International Movies, LGBTQ Movies', 6),\n",
              " ('Children & Family Movies, Comedies, Music & Musicals', 6),\n",
              " ('Documentaries, International Movies, LGBTQ Movies', 6),\n",
              " ('Dramas, Independent Movies, Sports Movies', 6),\n",
              " ('Music & Musicals, Stand-Up Comedy', 6),\n",
              " ('Dramas, Sci-Fi & Fantasy, Thrillers', 5),\n",
              " ('Horror Movies, Sci-Fi & Fantasy, Thrillers', 5),\n",
              " ('International Movies, Music & Musicals, Romantic Movies', 5),\n",
              " ('Children & Family Movies, Dramas, International Movies', 5),\n",
              " ('Action & Adventure, Anime Features, Sci-Fi & Fantasy', 5),\n",
              " ('Action & Adventure, Dramas, Sci-Fi & Fantasy', 5),\n",
              " ('Comedies, International Movies, Thrillers', 5),\n",
              " ('Classic Movies, Dramas, Independent Movies', 5),\n",
              " ('Action & Adventure, Independent Movies, Sci-Fi & Fantasy', 5),\n",
              " ('Action & Adventure, Horror Movies, Sci-Fi & Fantasy', 5),\n",
              " ('Comedies, Horror Movies, Independent Movies', 5),\n",
              " ('Action & Adventure, Children & Family Movies, Sci-Fi & Fantasy', 5),\n",
              " ('Independent Movies, International Movies, Thrillers', 4),\n",
              " ('Dramas, Romantic Movies, Sci-Fi & Fantasy', 4),\n",
              " ('Action & Adventure, Romantic Movies', 4),\n",
              " ('Comedies, Music & Musicals', 4),\n",
              " ('Action & Adventure, Classic Movies, Dramas', 4),\n",
              " ('Children & Family Movies, Documentaries', 4),\n",
              " ('Action & Adventure, Horror Movies, International Movies', 4),\n",
              " ('Action & Adventure, Cult Movies, International Movies', 4),\n",
              " ('Dramas, Independent Movies, Music & Musicals', 4),\n",
              " ('Anime Features, Children & Family Movies', 4),\n",
              " ('Comedies, Horror Movies, Sci-Fi & Fantasy', 4),\n",
              " ('Classic Movies, Comedies, Cult Movies', 3),\n",
              " ('Dramas, Romantic Movies, Sports Movies', 3),\n",
              " ('Children & Family Movies, Documentaries, International Movies', 3),\n",
              " ('Action & Adventure, International Movies, Romantic Movies', 3),\n",
              " ('Cult Movies, Horror Movies', 3),\n",
              " ('Comedies, Cult Movies, International Movies', 3),\n",
              " ('Comedies, Dramas, LGBTQ Movies', 3),\n",
              " ('International Movies, LGBTQ Movies, Romantic Movies', 3),\n",
              " ('Comedies, Sci-Fi & Fantasy', 3),\n",
              " ('Comedies, International Movies, LGBTQ Movies', 3),\n",
              " ('Classic Movies, Dramas, Romantic Movies', 3),\n",
              " ('Action & Adventure, Classic Movies, Comedies', 3),\n",
              " ('International Movies, Sci-Fi & Fantasy', 3),\n",
              " ('Children & Family Movies, Comedies, International Movies', 3),\n",
              " ('International Movies, Music & Musicals, Thrillers', 3),\n",
              " ('Dramas, LGBTQ Movies', 3),\n",
              " ('Comedies, Faith & Spirituality, International Movies', 3),\n",
              " ('Children & Family Movies, Classic Movies, Comedies', 3),\n",
              " ('Classic Movies, Comedies, Dramas', 3),\n",
              " ('Comedies, Independent Movies, LGBTQ Movies', 3),\n",
              " ('Dramas, Sci-Fi & Fantasy', 3),\n",
              " ('Action & Adventure, Children & Family Movies, Classic Movies', 3),\n",
              " ('Classic Movies, Comedies, International Movies', 3),\n",
              " ('Action & Adventure, Thrillers', 2),\n",
              " ('Children & Family Movies, Dramas, Faith & Spirituality', 2),\n",
              " ('Comedies, Independent Movies, Thrillers', 2),\n",
              " ('Action & Adventure, Comedies, Cult Movies', 2),\n",
              " ('Comedies, Cult Movies, Horror Movies', 2),\n",
              " ('Documentaries, LGBTQ Movies, Music & Musicals', 2),\n",
              " ('International Movies', 2),\n",
              " ('Documentaries, Stand-Up Comedy', 2),\n",
              " ('Cult Movies, Horror Movies, Independent Movies', 2),\n",
              " ('Comedies, Documentaries', 2),\n",
              " ('Classic Movies, Dramas, Sports Movies', 2),\n",
              " ('Children & Family Movies, Comedies, Sports Movies', 2),\n",
              " ('Action & Adventure, Comedies, Romantic Movies', 2),\n",
              " ('Anime Features', 2),\n",
              " ('Action & Adventure, Children & Family Movies, Comedies', 2),\n",
              " ('Children & Family Movies, Classic Movies', 2),\n",
              " ('Cult Movies, Dramas, Thrillers', 2),\n",
              " ('Anime Features, International Movies, Romantic Movies', 2),\n",
              " ('Action & Adventure, Classic Movies', 2),\n",
              " ('Classic Movies, Comedies, Music & Musicals', 2),\n",
              " ('Action & Adventure, Classic Movies, Cult Movies', 2),\n",
              " ('Dramas, Music & Musicals', 2),\n",
              " ('Comedies, LGBTQ Movies', 2),\n",
              " ('Action & Adventure, Sci-Fi & Fantasy, Thrillers', 2),\n",
              " ('Comedies, Cult Movies, Independent Movies', 2),\n",
              " ('Action & Adventure, Horror Movies', 2),\n",
              " ('Documentaries, Dramas, International Movies', 2),\n",
              " ('Children & Family Movies, Dramas, Independent Movies', 2),\n",
              " ('Horror Movies, International Movies, Romantic Movies', 2),\n",
              " ('Documentaries, Faith & Spirituality, International Movies', 2),\n",
              " ('Romantic Movies', 2),\n",
              " ('Classic Movies, Cult Movies, Horror Movies', 2),\n",
              " ('Dramas, Music & Musicals, Romantic Movies', 2),\n",
              " ('Action & Adventure, International Movies, Sports Movies', 2),\n",
              " ('Action & Adventure, Children & Family Movies', 2),\n",
              " ('Documentaries, Horror Movies', 2),\n",
              " ('Classic Movies, Dramas, Thrillers', 2),\n",
              " ('Children & Family Movies, Independent Movies', 2),\n",
              " ('Comedies, Dramas, Faith & Spirituality', 2),\n",
              " ('Horror Movies, Sci-Fi & Fantasy', 2),\n",
              " ('Action & Adventure, Cult Movies, Sci-Fi & Fantasy', 2),\n",
              " ('Cult Movies, Dramas, Independent Movies', 1),\n",
              " ('Anime Features, Music & Musicals, Sci-Fi & Fantasy', 1),\n",
              " ('Independent Movies, Sci-Fi & Fantasy, Thrillers', 1),\n",
              " ('Classic Movies, Comedies, Independent Movies', 1),\n",
              " ('Horror Movies, International Movies, Sci-Fi & Fantasy', 1),\n",
              " ('Action & Adventure, Documentaries, International Movies', 1),\n",
              " ('Dramas, Faith & Spirituality, Romantic Movies', 1),\n",
              " ('Action & Adventure, Classic Movies, International Movies', 1),\n",
              " ('Classic Movies, Comedies, Sports Movies', 1),\n",
              " ('Action & Adventure, Classic Movies, Sci-Fi & Fantasy', 1),\n",
              " ('Classic Movies, Horror Movies, Thrillers', 1),\n",
              " ('Dramas, Music & Musicals, Sports Movies', 1),\n",
              " ('Action & Adventure, Comedies, Music & Musicals', 1),\n",
              " ('Horror Movies, LGBTQ Movies, Thrillers', 1),\n",
              " ('Comedies, Music & Musicals, Sports Movies', 1),\n",
              " ('Sports Movies', 1),\n",
              " ('Action & Adventure, Anime Features, Classic Movies', 1),\n",
              " ('Cult Movies, Independent Movies, Thrillers', 1),\n",
              " ('Action & Adventure, Independent Movies, International Movies', 1),\n",
              " ('Action & Adventure, Comedies, Horror Movies', 1),\n",
              " ('Documentaries, Faith & Spirituality, Music & Musicals', 1),\n",
              " ('Comedies, Dramas, Music & Musicals', 1),\n",
              " ('Action & Adventure, Children & Family Movies, Independent Movies', 1),\n",
              " ('Children & Family Movies, Comedies, Cult Movies', 1),\n",
              " ('Anime Features, Children & Family Movies, International Movies', 1),\n",
              " ('International Movies, Sports Movies', 1),\n",
              " ('Comedies, Faith & Spirituality, Romantic Movies', 1),\n",
              " ('Anime Features, International Movies', 1),\n",
              " ('Children & Family Movies, Dramas, Music & Musicals', 1),\n",
              " ('Children & Family Movies, Faith & Spirituality', 1),\n",
              " ('Action & Adventure, Horror Movies, Independent Movies', 1),\n",
              " ('Action & Adventure, International Movies, Thrillers', 1),\n",
              " ('Action & Adventure, Romantic Movies, Sci-Fi & Fantasy', 1),\n",
              " ('Classic Movies, Dramas, LGBTQ Movies', 1),\n",
              " ('Comedies, Dramas, Sports Movies', 1),\n",
              " ('Action & Adventure, Anime Features, Children & Family Movies', 1),\n",
              " ('Cult Movies, Horror Movies, Thrillers', 1),\n",
              " ('Comedies, Cult Movies, Sports Movies', 1),\n",
              " ('Classic Movies, Dramas, Music & Musicals', 1),\n",
              " ('Classic Movies, Comedies, Romantic Movies', 1),\n",
              " ('Dramas, Horror Movies, Music & Musicals', 1),\n",
              " ('Classic Movies, Independent Movies, Thrillers', 1),\n",
              " ('Independent Movies', 1),\n",
              " ('Classic Movies, Cult Movies, Dramas', 1),\n",
              " ('Action & Adventure, Sports Movies', 1),\n",
              " ('Comedies, Music & Musicals, Romantic Movies', 1),\n",
              " ('Horror Movies, Independent Movies, Sci-Fi & Fantasy', 1),\n",
              " ('Action & Adventure, Anime Features, Horror Movies', 1),\n",
              " ('Classic Movies, Cult Movies, Documentaries', 1),\n",
              " ('Action & Adventure, Children & Family Movies, Dramas', 1),\n",
              " ('Action & Adventure, Cult Movies', 1),\n",
              " ('Action & Adventure, Faith & Spirituality, Sci-Fi & Fantasy', 1),\n",
              " ('Anime Features, Romantic Movies', 1),\n",
              " ('Children & Family Movies, Sports Movies', 1),\n",
              " ('Sci-Fi & Fantasy', 1),\n",
              " ('Action & Adventure, Documentaries, Sports Movies', 1),\n",
              " ('Action & Adventure, Dramas, Faith & Spirituality', 1),\n",
              " ('Children & Family Movies, Documentaries, Sports Movies', 1),\n",
              " ('Children & Family Movies, Comedies, LGBTQ Movies', 1),\n",
              " ('Dramas, Horror Movies, Sci-Fi & Fantasy', 1),\n",
              " ('Comedies, Cult Movies, LGBTQ Movies', 1),\n",
              " ('Action & Adventure, Cult Movies, Dramas', 1),\n",
              " ('Comedies, Independent Movies, Music & Musicals', 1),\n",
              " ('Independent Movies, Romantic Movies', 1),\n",
              " ('Children & Family Movies, Comedies, Faith & Spirituality', 1),\n",
              " ('Dramas, Faith & Spirituality, Independent Movies', 1),\n",
              " ('International Movies, Romantic Movies, Sci-Fi & Fantasy', 1)]"
            ]
          },
          "metadata": {
            "tags": []
          },
          "execution_count": 6
        }
      ]
    },
    {
      "cell_type": "code",
      "metadata": {
        "ExecuteTime": {
          "end_time": "2020-11-09T16:51:06.086412Z",
          "start_time": "2020-11-09T16:51:06.072488Z"
        },
        "id": "uQ0CnqIF7-2u",
        "outputId": "81dbb5bd-8ba3-40e1-b724-e84ad962e982",
        "colab": {
          "base_uri": "https://localhost:8080/"
        }
      },
      "source": [
        "np.sort(list(set(df_movie['listed_in'])))"
      ],
      "execution_count": 7,
      "outputs": [
        {
          "output_type": "execute_result",
          "data": {
            "text/plain": [
              "array(['Action & Adventure',\n",
              "       'Action & Adventure, Anime Features, Children & Family Movies',\n",
              "       'Action & Adventure, Anime Features, Classic Movies',\n",
              "       'Action & Adventure, Anime Features, Horror Movies',\n",
              "       'Action & Adventure, Anime Features, International Movies',\n",
              "       'Action & Adventure, Anime Features, Sci-Fi & Fantasy',\n",
              "       'Action & Adventure, Children & Family Movies',\n",
              "       'Action & Adventure, Children & Family Movies, Classic Movies',\n",
              "       'Action & Adventure, Children & Family Movies, Comedies',\n",
              "       'Action & Adventure, Children & Family Movies, Dramas',\n",
              "       'Action & Adventure, Children & Family Movies, Independent Movies',\n",
              "       'Action & Adventure, Children & Family Movies, Sci-Fi & Fantasy',\n",
              "       'Action & Adventure, Classic Movies',\n",
              "       'Action & Adventure, Classic Movies, Comedies',\n",
              "       'Action & Adventure, Classic Movies, Cult Movies',\n",
              "       'Action & Adventure, Classic Movies, Dramas',\n",
              "       'Action & Adventure, Classic Movies, International Movies',\n",
              "       'Action & Adventure, Classic Movies, Sci-Fi & Fantasy',\n",
              "       'Action & Adventure, Comedies',\n",
              "       'Action & Adventure, Comedies, Cult Movies',\n",
              "       'Action & Adventure, Comedies, Dramas',\n",
              "       'Action & Adventure, Comedies, Horror Movies',\n",
              "       'Action & Adventure, Comedies, Independent Movies',\n",
              "       'Action & Adventure, Comedies, International Movies',\n",
              "       'Action & Adventure, Comedies, Music & Musicals',\n",
              "       'Action & Adventure, Comedies, Romantic Movies',\n",
              "       'Action & Adventure, Comedies, Sci-Fi & Fantasy',\n",
              "       'Action & Adventure, Cult Movies',\n",
              "       'Action & Adventure, Cult Movies, Dramas',\n",
              "       'Action & Adventure, Cult Movies, International Movies',\n",
              "       'Action & Adventure, Cult Movies, Sci-Fi & Fantasy',\n",
              "       'Action & Adventure, Documentaries, International Movies',\n",
              "       'Action & Adventure, Documentaries, Sports Movies',\n",
              "       'Action & Adventure, Dramas',\n",
              "       'Action & Adventure, Dramas, Faith & Spirituality',\n",
              "       'Action & Adventure, Dramas, Independent Movies',\n",
              "       'Action & Adventure, Dramas, International Movies',\n",
              "       'Action & Adventure, Dramas, Sci-Fi & Fantasy',\n",
              "       'Action & Adventure, Faith & Spirituality, Sci-Fi & Fantasy',\n",
              "       'Action & Adventure, Horror Movies',\n",
              "       'Action & Adventure, Horror Movies, Independent Movies',\n",
              "       'Action & Adventure, Horror Movies, International Movies',\n",
              "       'Action & Adventure, Horror Movies, Sci-Fi & Fantasy',\n",
              "       'Action & Adventure, Independent Movies',\n",
              "       'Action & Adventure, Independent Movies, International Movies',\n",
              "       'Action & Adventure, Independent Movies, Sci-Fi & Fantasy',\n",
              "       'Action & Adventure, International Movies',\n",
              "       'Action & Adventure, International Movies, Music & Musicals',\n",
              "       'Action & Adventure, International Movies, Romantic Movies',\n",
              "       'Action & Adventure, International Movies, Sci-Fi & Fantasy',\n",
              "       'Action & Adventure, International Movies, Sports Movies',\n",
              "       'Action & Adventure, International Movies, Thrillers',\n",
              "       'Action & Adventure, Romantic Movies',\n",
              "       'Action & Adventure, Romantic Movies, Sci-Fi & Fantasy',\n",
              "       'Action & Adventure, Sci-Fi & Fantasy',\n",
              "       'Action & Adventure, Sci-Fi & Fantasy, Thrillers',\n",
              "       'Action & Adventure, Sports Movies',\n",
              "       'Action & Adventure, Thrillers', 'Anime Features',\n",
              "       'Anime Features, Children & Family Movies',\n",
              "       'Anime Features, Children & Family Movies, International Movies',\n",
              "       'Anime Features, International Movies',\n",
              "       'Anime Features, International Movies, Romantic Movies',\n",
              "       'Anime Features, Music & Musicals, Sci-Fi & Fantasy',\n",
              "       'Anime Features, Romantic Movies', 'Children & Family Movies',\n",
              "       'Children & Family Movies, Classic Movies',\n",
              "       'Children & Family Movies, Classic Movies, Comedies',\n",
              "       'Children & Family Movies, Comedies',\n",
              "       'Children & Family Movies, Comedies, Cult Movies',\n",
              "       'Children & Family Movies, Comedies, Dramas',\n",
              "       'Children & Family Movies, Comedies, Faith & Spirituality',\n",
              "       'Children & Family Movies, Comedies, International Movies',\n",
              "       'Children & Family Movies, Comedies, LGBTQ Movies',\n",
              "       'Children & Family Movies, Comedies, Music & Musicals',\n",
              "       'Children & Family Movies, Comedies, Romantic Movies',\n",
              "       'Children & Family Movies, Comedies, Sci-Fi & Fantasy',\n",
              "       'Children & Family Movies, Comedies, Sports Movies',\n",
              "       'Children & Family Movies, Documentaries',\n",
              "       'Children & Family Movies, Documentaries, International Movies',\n",
              "       'Children & Family Movies, Documentaries, Sports Movies',\n",
              "       'Children & Family Movies, Dramas',\n",
              "       'Children & Family Movies, Dramas, Faith & Spirituality',\n",
              "       'Children & Family Movies, Dramas, Independent Movies',\n",
              "       'Children & Family Movies, Dramas, International Movies',\n",
              "       'Children & Family Movies, Dramas, Music & Musicals',\n",
              "       'Children & Family Movies, Dramas, Romantic Movies',\n",
              "       'Children & Family Movies, Dramas, Sports Movies',\n",
              "       'Children & Family Movies, Faith & Spirituality',\n",
              "       'Children & Family Movies, Independent Movies',\n",
              "       'Children & Family Movies, Music & Musicals',\n",
              "       'Children & Family Movies, Sci-Fi & Fantasy',\n",
              "       'Children & Family Movies, Sports Movies',\n",
              "       'Classic Movies, Comedies, Cult Movies',\n",
              "       'Classic Movies, Comedies, Dramas',\n",
              "       'Classic Movies, Comedies, Independent Movies',\n",
              "       'Classic Movies, Comedies, International Movies',\n",
              "       'Classic Movies, Comedies, Music & Musicals',\n",
              "       'Classic Movies, Comedies, Romantic Movies',\n",
              "       'Classic Movies, Comedies, Sports Movies',\n",
              "       'Classic Movies, Cult Movies, Documentaries',\n",
              "       'Classic Movies, Cult Movies, Dramas',\n",
              "       'Classic Movies, Cult Movies, Horror Movies',\n",
              "       'Classic Movies, Documentaries', 'Classic Movies, Dramas',\n",
              "       'Classic Movies, Dramas, Independent Movies',\n",
              "       'Classic Movies, Dramas, International Movies',\n",
              "       'Classic Movies, Dramas, LGBTQ Movies',\n",
              "       'Classic Movies, Dramas, Music & Musicals',\n",
              "       'Classic Movies, Dramas, Romantic Movies',\n",
              "       'Classic Movies, Dramas, Sports Movies',\n",
              "       'Classic Movies, Dramas, Thrillers',\n",
              "       'Classic Movies, Horror Movies, Thrillers',\n",
              "       'Classic Movies, Independent Movies, Thrillers', 'Comedies',\n",
              "       'Comedies, Cult Movies', 'Comedies, Cult Movies, Dramas',\n",
              "       'Comedies, Cult Movies, Horror Movies',\n",
              "       'Comedies, Cult Movies, Independent Movies',\n",
              "       'Comedies, Cult Movies, International Movies',\n",
              "       'Comedies, Cult Movies, LGBTQ Movies',\n",
              "       'Comedies, Cult Movies, Sports Movies', 'Comedies, Documentaries',\n",
              "       'Comedies, Dramas', 'Comedies, Dramas, Faith & Spirituality',\n",
              "       'Comedies, Dramas, Independent Movies',\n",
              "       'Comedies, Dramas, International Movies',\n",
              "       'Comedies, Dramas, LGBTQ Movies',\n",
              "       'Comedies, Dramas, Music & Musicals',\n",
              "       'Comedies, Dramas, Romantic Movies',\n",
              "       'Comedies, Dramas, Sports Movies',\n",
              "       'Comedies, Faith & Spirituality, International Movies',\n",
              "       'Comedies, Faith & Spirituality, Romantic Movies',\n",
              "       'Comedies, Horror Movies',\n",
              "       'Comedies, Horror Movies, Independent Movies',\n",
              "       'Comedies, Horror Movies, International Movies',\n",
              "       'Comedies, Horror Movies, Sci-Fi & Fantasy',\n",
              "       'Comedies, Independent Movies',\n",
              "       'Comedies, Independent Movies, International Movies',\n",
              "       'Comedies, Independent Movies, LGBTQ Movies',\n",
              "       'Comedies, Independent Movies, Music & Musicals',\n",
              "       'Comedies, Independent Movies, Romantic Movies',\n",
              "       'Comedies, Independent Movies, Thrillers',\n",
              "       'Comedies, International Movies',\n",
              "       'Comedies, International Movies, LGBTQ Movies',\n",
              "       'Comedies, International Movies, Music & Musicals',\n",
              "       'Comedies, International Movies, Romantic Movies',\n",
              "       'Comedies, International Movies, Sci-Fi & Fantasy',\n",
              "       'Comedies, International Movies, Sports Movies',\n",
              "       'Comedies, International Movies, Thrillers',\n",
              "       'Comedies, LGBTQ Movies', 'Comedies, Music & Musicals',\n",
              "       'Comedies, Music & Musicals, Romantic Movies',\n",
              "       'Comedies, Music & Musicals, Sports Movies',\n",
              "       'Comedies, Romantic Movies', 'Comedies, Sci-Fi & Fantasy',\n",
              "       'Comedies, Sports Movies',\n",
              "       'Cult Movies, Dramas, Independent Movies',\n",
              "       'Cult Movies, Dramas, Thrillers', 'Cult Movies, Horror Movies',\n",
              "       'Cult Movies, Horror Movies, Independent Movies',\n",
              "       'Cult Movies, Horror Movies, Thrillers',\n",
              "       'Cult Movies, Independent Movies, Thrillers', 'Documentaries',\n",
              "       'Documentaries, Dramas, International Movies',\n",
              "       'Documentaries, Faith & Spirituality',\n",
              "       'Documentaries, Faith & Spirituality, International Movies',\n",
              "       'Documentaries, Faith & Spirituality, Music & Musicals',\n",
              "       'Documentaries, Horror Movies',\n",
              "       'Documentaries, International Movies',\n",
              "       'Documentaries, International Movies, LGBTQ Movies',\n",
              "       'Documentaries, International Movies, Music & Musicals',\n",
              "       'Documentaries, International Movies, Sports Movies',\n",
              "       'Documentaries, LGBTQ Movies',\n",
              "       'Documentaries, LGBTQ Movies, Music & Musicals',\n",
              "       'Documentaries, Music & Musicals', 'Documentaries, Sports Movies',\n",
              "       'Documentaries, Stand-Up Comedy', 'Dramas',\n",
              "       'Dramas, Faith & Spirituality',\n",
              "       'Dramas, Faith & Spirituality, Independent Movies',\n",
              "       'Dramas, Faith & Spirituality, International Movies',\n",
              "       'Dramas, Faith & Spirituality, Romantic Movies',\n",
              "       'Dramas, Horror Movies, Music & Musicals',\n",
              "       'Dramas, Horror Movies, Sci-Fi & Fantasy',\n",
              "       'Dramas, Independent Movies',\n",
              "       'Dramas, Independent Movies, International Movies',\n",
              "       'Dramas, Independent Movies, LGBTQ Movies',\n",
              "       'Dramas, Independent Movies, Music & Musicals',\n",
              "       'Dramas, Independent Movies, Romantic Movies',\n",
              "       'Dramas, Independent Movies, Sci-Fi & Fantasy',\n",
              "       'Dramas, Independent Movies, Sports Movies',\n",
              "       'Dramas, Independent Movies, Thrillers',\n",
              "       'Dramas, International Movies',\n",
              "       'Dramas, International Movies, LGBTQ Movies',\n",
              "       'Dramas, International Movies, Music & Musicals',\n",
              "       'Dramas, International Movies, Romantic Movies',\n",
              "       'Dramas, International Movies, Sci-Fi & Fantasy',\n",
              "       'Dramas, International Movies, Sports Movies',\n",
              "       'Dramas, International Movies, Thrillers', 'Dramas, LGBTQ Movies',\n",
              "       'Dramas, Music & Musicals',\n",
              "       'Dramas, Music & Musicals, Romantic Movies',\n",
              "       'Dramas, Music & Musicals, Sports Movies',\n",
              "       'Dramas, Romantic Movies',\n",
              "       'Dramas, Romantic Movies, Sci-Fi & Fantasy',\n",
              "       'Dramas, Romantic Movies, Sports Movies',\n",
              "       'Dramas, Sci-Fi & Fantasy', 'Dramas, Sci-Fi & Fantasy, Thrillers',\n",
              "       'Dramas, Sports Movies', 'Dramas, Thrillers', 'Horror Movies',\n",
              "       'Horror Movies, Independent Movies',\n",
              "       'Horror Movies, Independent Movies, International Movies',\n",
              "       'Horror Movies, Independent Movies, Sci-Fi & Fantasy',\n",
              "       'Horror Movies, Independent Movies, Thrillers',\n",
              "       'Horror Movies, International Movies',\n",
              "       'Horror Movies, International Movies, Romantic Movies',\n",
              "       'Horror Movies, International Movies, Sci-Fi & Fantasy',\n",
              "       'Horror Movies, International Movies, Thrillers',\n",
              "       'Horror Movies, LGBTQ Movies, Thrillers',\n",
              "       'Horror Movies, Sci-Fi & Fantasy',\n",
              "       'Horror Movies, Sci-Fi & Fantasy, Thrillers',\n",
              "       'Horror Movies, Thrillers', 'Independent Movies',\n",
              "       'Independent Movies, International Movies, Thrillers',\n",
              "       'Independent Movies, Romantic Movies',\n",
              "       'Independent Movies, Sci-Fi & Fantasy, Thrillers',\n",
              "       'Independent Movies, Thrillers', 'International Movies',\n",
              "       'International Movies, LGBTQ Movies, Romantic Movies',\n",
              "       'International Movies, Music & Musicals',\n",
              "       'International Movies, Music & Musicals, Romantic Movies',\n",
              "       'International Movies, Music & Musicals, Thrillers',\n",
              "       'International Movies, Romantic Movies',\n",
              "       'International Movies, Romantic Movies, Sci-Fi & Fantasy',\n",
              "       'International Movies, Sci-Fi & Fantasy',\n",
              "       'International Movies, Sci-Fi & Fantasy, Thrillers',\n",
              "       'International Movies, Sports Movies',\n",
              "       'International Movies, Thrillers', 'Movies', 'Music & Musicals',\n",
              "       'Music & Musicals, Stand-Up Comedy', 'Romantic Movies',\n",
              "       'Sci-Fi & Fantasy', 'Sci-Fi & Fantasy, Thrillers', 'Sports Movies',\n",
              "       'Stand-Up Comedy', 'Thrillers'], dtype='<U64')"
            ]
          },
          "metadata": {
            "tags": []
          },
          "execution_count": 7
        }
      ]
    },
    {
      "cell_type": "code",
      "metadata": {
        "ExecuteTime": {
          "end_time": "2020-11-09T16:37:53.697621Z",
          "start_time": "2020-11-09T16:37:53.673683Z"
        },
        "scrolled": true,
        "id": "op_PkRmu7-3E",
        "outputId": "27e4f2cd-2d76-4fd7-8cc2-98c9c5d91288",
        "colab": {
          "base_uri": "https://localhost:8080/",
          "height": 771
        }
      },
      "source": [
        "df_movie[df_movie['listed_in'].str.contains('Sci-Fi & Fantasy')]"
      ],
      "execution_count": 8,
      "outputs": [
        {
          "output_type": "execute_result",
          "data": {
            "text/html": [
              "<div>\n",
              "<style scoped>\n",
              "    .dataframe tbody tr th:only-of-type {\n",
              "        vertical-align: middle;\n",
              "    }\n",
              "\n",
              "    .dataframe tbody tr th {\n",
              "        vertical-align: top;\n",
              "    }\n",
              "\n",
              "    .dataframe thead th {\n",
              "        text-align: right;\n",
              "    }\n",
              "</style>\n",
              "<table border=\"1\" class=\"dataframe\">\n",
              "  <thead>\n",
              "    <tr style=\"text-align: right;\">\n",
              "      <th></th>\n",
              "      <th>show_id</th>\n",
              "      <th>type</th>\n",
              "      <th>title</th>\n",
              "      <th>director</th>\n",
              "      <th>cast</th>\n",
              "      <th>country</th>\n",
              "      <th>date_added</th>\n",
              "      <th>release_year</th>\n",
              "      <th>rating</th>\n",
              "      <th>duration</th>\n",
              "      <th>listed_in</th>\n",
              "      <th>description</th>\n",
              "    </tr>\n",
              "  </thead>\n",
              "  <tbody>\n",
              "    <tr>\n",
              "      <th>6</th>\n",
              "      <td>70304989</td>\n",
              "      <td>Movie</td>\n",
              "      <td>Automata</td>\n",
              "      <td>Gabe Ibáñez</td>\n",
              "      <td>Antonio Banderas, Dylan McDermott, Melanie Gri...</td>\n",
              "      <td>Bulgaria, United States, Spain, Canada</td>\n",
              "      <td>September 8, 2017</td>\n",
              "      <td>2014</td>\n",
              "      <td>R</td>\n",
              "      <td>110 min</td>\n",
              "      <td>International Movies, Sci-Fi &amp; Fantasy, Thrillers</td>\n",
              "      <td>In a dystopian future, an insurance adjuster f...</td>\n",
              "    </tr>\n",
              "    <tr>\n",
              "      <th>30</th>\n",
              "      <td>80988892</td>\n",
              "      <td>Movie</td>\n",
              "      <td>Next Gen</td>\n",
              "      <td>Kevin R. Adams, Joe Ksander</td>\n",
              "      <td>John Krasinski, Charlyne Yi, Jason Sudeikis, M...</td>\n",
              "      <td>China, Canada, United States</td>\n",
              "      <td>September 7, 2018</td>\n",
              "      <td>2018</td>\n",
              "      <td>TV-PG</td>\n",
              "      <td>106 min</td>\n",
              "      <td>Children &amp; Family Movies, Comedies, Sci-Fi &amp; F...</td>\n",
              "      <td>When lonely Mai forms an unlikely bond with a ...</td>\n",
              "    </tr>\n",
              "    <tr>\n",
              "      <th>59</th>\n",
              "      <td>80201906</td>\n",
              "      <td>Movie</td>\n",
              "      <td>Black Panther</td>\n",
              "      <td>Ryan Coogler</td>\n",
              "      <td>Chadwick Boseman, Michael B. Jordan, Lupita Ny...</td>\n",
              "      <td>United States</td>\n",
              "      <td>September 4, 2018</td>\n",
              "      <td>2018</td>\n",
              "      <td>PG-13</td>\n",
              "      <td>135 min</td>\n",
              "      <td>Action &amp; Adventure, Sci-Fi &amp; Fantasy</td>\n",
              "      <td>T'Challa, the superpowered new leader of the h...</td>\n",
              "    </tr>\n",
              "    <tr>\n",
              "      <th>90</th>\n",
              "      <td>81004470</td>\n",
              "      <td>Movie</td>\n",
              "      <td>Animal World</td>\n",
              "      <td>Han Yan</td>\n",
              "      <td>Li Yi Feng, Zhou Dongyu, Michael Douglas, Bing...</td>\n",
              "      <td>China</td>\n",
              "      <td>September 28, 2018</td>\n",
              "      <td>2018</td>\n",
              "      <td>TV-MA</td>\n",
              "      <td>130 min</td>\n",
              "      <td>Action &amp; Adventure, International Movies, Sci-...</td>\n",
              "      <td>An unlucky, debt-ridden teen resorts to his ma...</td>\n",
              "    </tr>\n",
              "    <tr>\n",
              "      <th>102</th>\n",
              "      <td>80231903</td>\n",
              "      <td>Movie</td>\n",
              "      <td>In the Shadow of the Moon</td>\n",
              "      <td>Jim Mickle</td>\n",
              "      <td>Boyd Holbrook, Michael C. Hall, Cleopatra Cole...</td>\n",
              "      <td>United States</td>\n",
              "      <td>September 27, 2019</td>\n",
              "      <td>2019</td>\n",
              "      <td>TV-MA</td>\n",
              "      <td>116 min</td>\n",
              "      <td>Dramas, Sci-Fi &amp; Fantasy, Thrillers</td>\n",
              "      <td>A Philadelphia detective slowly unravels as he...</td>\n",
              "    </tr>\n",
              "    <tr>\n",
              "      <th>...</th>\n",
              "      <td>...</td>\n",
              "      <td>...</td>\n",
              "      <td>...</td>\n",
              "      <td>...</td>\n",
              "      <td>...</td>\n",
              "      <td>...</td>\n",
              "      <td>...</td>\n",
              "      <td>...</td>\n",
              "      <td>...</td>\n",
              "      <td>...</td>\n",
              "      <td>...</td>\n",
              "      <td>...</td>\n",
              "    </tr>\n",
              "    <tr>\n",
              "      <th>5396</th>\n",
              "      <td>70114022</td>\n",
              "      <td>Movie</td>\n",
              "      <td>Cirque du Freak: The Vampire's Assistant</td>\n",
              "      <td>Paul Weitz</td>\n",
              "      <td>John C. Reilly, Ken Watanabe, Josh Hutcherson,...</td>\n",
              "      <td>United States</td>\n",
              "      <td>April 16, 2018</td>\n",
              "      <td>2009</td>\n",
              "      <td>PG-13</td>\n",
              "      <td>109 min</td>\n",
              "      <td>Action &amp; Adventure, Horror Movies, Sci-Fi &amp; Fa...</td>\n",
              "      <td>When Darren Shan is taken to a circus that's c...</td>\n",
              "    </tr>\n",
              "    <tr>\n",
              "      <th>5406</th>\n",
              "      <td>81086641</td>\n",
              "      <td>Movie</td>\n",
              "      <td>Rainbow Jelly</td>\n",
              "      <td>Soukarya Ghosal</td>\n",
              "      <td>Mahabrata Basu, Anumegha Banerjee, Koushik Sen...</td>\n",
              "      <td>India</td>\n",
              "      <td>April 15, 2019</td>\n",
              "      <td>2018</td>\n",
              "      <td>TV-14</td>\n",
              "      <td>119 min</td>\n",
              "      <td>Dramas, International Movies, Sci-Fi &amp; Fantasy</td>\n",
              "      <td>Mistreated by his cruel uncle, an imaginative ...</td>\n",
              "    </tr>\n",
              "    <tr>\n",
              "      <th>5410</th>\n",
              "      <td>80189853</td>\n",
              "      <td>Movie</td>\n",
              "      <td>Beyond Skyline</td>\n",
              "      <td>Liam O'Donnell</td>\n",
              "      <td>Frank Grillo, Bojana Novakovic, Jonny Weston, ...</td>\n",
              "      <td>United Kingdom, China, Canada, Indonesia, Sing...</td>\n",
              "      <td>April 15, 2018</td>\n",
              "      <td>2017</td>\n",
              "      <td>R</td>\n",
              "      <td>107 min</td>\n",
              "      <td>Action &amp; Adventure, Sci-Fi &amp; Fantasy</td>\n",
              "      <td>In the wake of an extraterrestrial invasion, a...</td>\n",
              "    </tr>\n",
              "    <tr>\n",
              "      <th>5480</th>\n",
              "      <td>80141156</td>\n",
              "      <td>Movie</td>\n",
              "      <td>Love O2O</td>\n",
              "      <td>Tianyu Zhao</td>\n",
              "      <td>Jing Boran, Angelababy, Yu Bai, Li Qin, Li Xia...</td>\n",
              "      <td>China</td>\n",
              "      <td>April 1, 2019</td>\n",
              "      <td>2016</td>\n",
              "      <td>TV-14</td>\n",
              "      <td>103 min</td>\n",
              "      <td>International Movies, Romantic Movies, Sci-Fi ...</td>\n",
              "      <td>A college stud tries to level up his relations...</td>\n",
              "    </tr>\n",
              "    <tr>\n",
              "      <th>5543</th>\n",
              "      <td>70084328</td>\n",
              "      <td>Movie</td>\n",
              "      <td>The Aerial</td>\n",
              "      <td>Esteban Sapir</td>\n",
              "      <td>Rafael Ferro, Sol Moreno, Jonathan Sandor, Ale...</td>\n",
              "      <td>Argentina</td>\n",
              "      <td>April 1, 2018</td>\n",
              "      <td>2007</td>\n",
              "      <td>TV-MA</td>\n",
              "      <td>99 min</td>\n",
              "      <td>Dramas, International Movies, Sci-Fi &amp; Fantasy</td>\n",
              "      <td>In the City Without a Voice, only faceless sin...</td>\n",
              "    </tr>\n",
              "  </tbody>\n",
              "</table>\n",
              "<p>193 rows × 12 columns</p>\n",
              "</div>"
            ],
            "text/plain": [
              "       show_id  ...                                        description\n",
              "6     70304989  ...  In a dystopian future, an insurance adjuster f...\n",
              "30    80988892  ...  When lonely Mai forms an unlikely bond with a ...\n",
              "59    80201906  ...  T'Challa, the superpowered new leader of the h...\n",
              "90    81004470  ...  An unlucky, debt-ridden teen resorts to his ma...\n",
              "102   80231903  ...  A Philadelphia detective slowly unravels as he...\n",
              "...        ...  ...                                                ...\n",
              "5396  70114022  ...  When Darren Shan is taken to a circus that's c...\n",
              "5406  81086641  ...  Mistreated by his cruel uncle, an imaginative ...\n",
              "5410  80189853  ...  In the wake of an extraterrestrial invasion, a...\n",
              "5480  80141156  ...  A college stud tries to level up his relations...\n",
              "5543  70084328  ...  In the City Without a Voice, only faceless sin...\n",
              "\n",
              "[193 rows x 12 columns]"
            ]
          },
          "metadata": {
            "tags": []
          },
          "execution_count": 8
        }
      ]
    },
    {
      "cell_type": "code",
      "metadata": {
        "ExecuteTime": {
          "end_time": "2020-11-09T16:26:28.554426Z",
          "start_time": "2020-11-09T16:26:28.547483Z"
        },
        "id": "JKKnjOh17-3d"
      },
      "source": [
        "df_movie_listed_str = ', '.join(df_movie['listed_in'])\n",
        "df_movie_listed_list = df_movie_listed_str.split(', ')"
      ],
      "execution_count": 9,
      "outputs": []
    },
    {
      "cell_type": "markdown",
      "metadata": {
        "id": "ZTdI7MI27-3x"
      },
      "source": [
        "#### Make Barplot"
      ]
    },
    {
      "cell_type": "code",
      "metadata": {
        "ExecuteTime": {
          "end_time": "2020-11-09T16:44:40.131530Z",
          "start_time": "2020-11-09T16:44:40.123552Z"
        },
        "id": "xTMjiDbl7-30"
      },
      "source": [
        "# Data\n",
        "listed_in_freq = pd.DataFrame([[i, j] for i, j in Counter(df_movie_listed_list).most_common(100)])"
      ],
      "execution_count": null,
      "outputs": []
    },
    {
      "cell_type": "code",
      "metadata": {
        "ExecuteTime": {
          "end_time": "2020-11-09T17:16:35.165654Z",
          "start_time": "2020-11-09T17:16:34.869291Z"
        },
        "scrolled": true,
        "id": "-h7sU_gg7-4F",
        "outputId": "e58f90d7-66ee-4404-ad1b-cd568c017c12"
      },
      "source": [
        "fig, ax = plt.subplots(figsize=(10, 5))\n",
        "bars = ax.bar(np.arange(len(listed_in_freq)), height=listed_in_freq[1])\n",
        "ax.set_xticks(np.arange(len(listed_in_freq)))\n",
        "ax.set_xticklabels(listed_in_freq[0], rotation=45, ha=\"right\")\n",
        "    \n",
        "plt.show()"
      ],
      "execution_count": null,
      "outputs": [
        {
          "output_type": "display_data",
          "data": {
            "image/png": "[encoded data removed]",
            "text/plain": [
              "<Figure size 720x360 with 1 Axes>"
            ]
          },
          "metadata": {
            "tags": [],
            "needs_background": "light"
          }
        }
      ]
    },
    {
      "cell_type": "code",
      "metadata": {
        "ExecuteTime": {
          "end_time": "2020-11-09T17:15:16.523493Z",
          "start_time": "2020-11-09T17:15:16.512523Z"
        },
        "scrolled": true,
        "id": "BXEmDIDR7-4X",
        "outputId": "9ad2b7be-ad0b-4d46-c4d7-b0d4acafc91c"
      },
      "source": [
        "listed_in_freq"
      ],
      "execution_count": null,
      "outputs": [
        {
          "output_type": "execute_result",
          "data": {
            "text/html": [
              "<div>\n",
              "<style scoped>\n",
              "    .dataframe tbody tr th:only-of-type {\n",
              "        vertical-align: middle;\n",
              "    }\n",
              "\n",
              "    .dataframe tbody tr th {\n",
              "        vertical-align: top;\n",
              "    }\n",
              "\n",
              "    .dataframe thead th {\n",
              "        text-align: right;\n",
              "    }\n",
              "</style>\n",
              "<table border=\"1\" class=\"dataframe\">\n",
              "  <thead>\n",
              "    <tr style=\"text-align: right;\">\n",
              "      <th></th>\n",
              "      <th>0</th>\n",
              "      <th>1</th>\n",
              "    </tr>\n",
              "  </thead>\n",
              "  <tbody>\n",
              "    <tr>\n",
              "      <th>0</th>\n",
              "      <td>International Movies</td>\n",
              "      <td>1927</td>\n",
              "    </tr>\n",
              "    <tr>\n",
              "      <th>1</th>\n",
              "      <td>Dramas</td>\n",
              "      <td>1623</td>\n",
              "    </tr>\n",
              "    <tr>\n",
              "      <th>2</th>\n",
              "      <td>Comedies</td>\n",
              "      <td>1113</td>\n",
              "    </tr>\n",
              "    <tr>\n",
              "      <th>3</th>\n",
              "      <td>Documentaries</td>\n",
              "      <td>668</td>\n",
              "    </tr>\n",
              "    <tr>\n",
              "      <th>4</th>\n",
              "      <td>Action &amp; Adventure</td>\n",
              "      <td>597</td>\n",
              "    </tr>\n",
              "    <tr>\n",
              "      <th>5</th>\n",
              "      <td>Independent Movies</td>\n",
              "      <td>552</td>\n",
              "    </tr>\n",
              "    <tr>\n",
              "      <th>6</th>\n",
              "      <td>Thrillers</td>\n",
              "      <td>392</td>\n",
              "    </tr>\n",
              "    <tr>\n",
              "      <th>7</th>\n",
              "      <td>Children &amp; Family Movies</td>\n",
              "      <td>378</td>\n",
              "    </tr>\n",
              "    <tr>\n",
              "      <th>8</th>\n",
              "      <td>Romantic Movies</td>\n",
              "      <td>376</td>\n",
              "    </tr>\n",
              "    <tr>\n",
              "      <th>9</th>\n",
              "      <td>Stand-Up Comedy</td>\n",
              "      <td>281</td>\n",
              "    </tr>\n",
              "    <tr>\n",
              "      <th>10</th>\n",
              "      <td>Horror Movies</td>\n",
              "      <td>262</td>\n",
              "    </tr>\n",
              "    <tr>\n",
              "      <th>11</th>\n",
              "      <td>Music &amp; Musicals</td>\n",
              "      <td>243</td>\n",
              "    </tr>\n",
              "    <tr>\n",
              "      <th>12</th>\n",
              "      <td>Sci-Fi &amp; Fantasy</td>\n",
              "      <td>193</td>\n",
              "    </tr>\n",
              "    <tr>\n",
              "      <th>13</th>\n",
              "      <td>Sports Movies</td>\n",
              "      <td>157</td>\n",
              "    </tr>\n",
              "    <tr>\n",
              "      <th>14</th>\n",
              "      <td>Classic Movies</td>\n",
              "      <td>84</td>\n",
              "    </tr>\n",
              "    <tr>\n",
              "      <th>15</th>\n",
              "      <td>LGBTQ Movies</td>\n",
              "      <td>60</td>\n",
              "    </tr>\n",
              "    <tr>\n",
              "      <th>16</th>\n",
              "      <td>Movies</td>\n",
              "      <td>56</td>\n",
              "    </tr>\n",
              "    <tr>\n",
              "      <th>17</th>\n",
              "      <td>Cult Movies</td>\n",
              "      <td>55</td>\n",
              "    </tr>\n",
              "    <tr>\n",
              "      <th>18</th>\n",
              "      <td>Faith &amp; Spirituality</td>\n",
              "      <td>47</td>\n",
              "    </tr>\n",
              "    <tr>\n",
              "      <th>19</th>\n",
              "      <td>Anime Features</td>\n",
              "      <td>45</td>\n",
              "    </tr>\n",
              "  </tbody>\n",
              "</table>\n",
              "</div>"
            ],
            "text/plain": [
              "                           0     1\n",
              "0       International Movies  1927\n",
              "1                     Dramas  1623\n",
              "2                   Comedies  1113\n",
              "3              Documentaries   668\n",
              "4         Action & Adventure   597\n",
              "5         Independent Movies   552\n",
              "6                  Thrillers   392\n",
              "7   Children & Family Movies   378\n",
              "8            Romantic Movies   376\n",
              "9            Stand-Up Comedy   281\n",
              "10             Horror Movies   262\n",
              "11          Music & Musicals   243\n",
              "12          Sci-Fi & Fantasy   193\n",
              "13             Sports Movies   157\n",
              "14            Classic Movies    84\n",
              "15              LGBTQ Movies    60\n",
              "16                    Movies    56\n",
              "17               Cult Movies    55\n",
              "18      Faith & Spirituality    47\n",
              "19            Anime Features    45"
            ]
          },
          "metadata": {
            "tags": []
          },
          "execution_count": 58
        }
      ]
    },
    {
      "cell_type": "markdown",
      "metadata": {
        "id": "3_-g1LHr7-4r"
      },
      "source": [
        "### 4. Setelah itu dibagi lagi berdasarkan ratingnya"
      ]
    },
    {
      "cell_type": "markdown",
      "metadata": {
        "id": "_s_hdukX7-4v"
      },
      "source": [
        "### 5. Negara mana yang paling banyak menghasilkan Movie sama TV Show?"
      ]
    },
    {
      "cell_type": "markdown",
      "metadata": {
        "id": "_p720q7O7-4y"
      },
      "source": [
        "#### Make Barplot"
      ]
    },
    {
      "cell_type": "code",
      "metadata": {
        "ExecuteTime": {
          "end_time": "2020-11-10T06:53:50.337524Z",
          "start_time": "2020-11-10T06:53:50.300586Z"
        },
        "id": "nWEWfggi7-42"
      },
      "source": [
        "## US, UK dibuat sama dengan UK, US\n",
        "df_movie_countrygroup = [', '.join(np.sort(i.split(', ')).tolist()) for i in df_movie['country']]"
      ],
      "execution_count": null,
      "outputs": []
    },
    {
      "cell_type": "code",
      "metadata": {
        "ExecuteTime": {
          "end_time": "2020-11-10T06:51:05.048744Z",
          "start_time": "2020-11-10T06:51:05.019821Z"
        },
        "scrolled": true,
        "id": "bj3Aw9qF7-5F"
      },
      "source": [
        "## Colab Data\n",
        "country_colab1 = pd.DataFrame([[i, j] for i, j in Counter(df_movie_countrygroup).most_common(1000) if i.count(',') == 0])\n",
        "country_colab1 = country_colab1.drop(index=2).reset_index(drop=True) # Delete UNKNOWN\n",
        "country_colab2 = pd.DataFrame([[i, j] for i, j in Counter(df_movie_countrygroup).most_common(1000) if i.count(',') == 1])\n",
        "country_colab3 = pd.DataFrame([[i, j] for i, j in Counter(df_movie_countrygroup).most_common(1000) if i.count(',') > 1])"
      ],
      "execution_count": null,
      "outputs": []
    },
    {
      "cell_type": "code",
      "metadata": {
        "ExecuteTime": {
          "end_time": "2020-11-09T18:08:44.266881Z",
          "start_time": "2020-11-09T18:08:44.252880Z"
        },
        "id": "ZVKzNWFp7-5V"
      },
      "source": [
        "## Ganti United States -> US, United Kingdom -> UK\n",
        "country_colab1[0] = country_colab1[0].str.replace('United States','US')\n",
        "country_colab1[0] = country_colab1[0].str.replace('United Kingdom','UK')\n",
        "\n",
        "country_colab2[0] = country_colab2[0].str.replace('United States','US')\n",
        "country_colab2[0] = country_colab2[0].str.replace('United Kingdom','UK')\n",
        "\n",
        "country_colab3[0] = country_colab3[0].str.replace('United States','US')\n",
        "country_colab3[0] = country_colab3[0].str.replace('United Kingdom','UK')"
      ],
      "execution_count": null,
      "outputs": []
    },
    {
      "cell_type": "code",
      "metadata": {
        "ExecuteTime": {
          "end_time": "2020-11-09T18:08:50.139003Z",
          "start_time": "2020-11-09T18:08:49.803637Z"
        },
        "scrolled": false,
        "id": "7V9nDQRH7-5h",
        "outputId": "3b3e03c9-9af0-463d-9b08-9d957ab99817"
      },
      "source": [
        "## One County\n",
        "fig, ax = plt.subplots(figsize=(10, 5))\n",
        "bars = ax.bar(np.arange(6), height=country_colab1[1].loc[:5])\n",
        "ax.set_xticks(np.arange(6))\n",
        "ax.set_xticklabels(country_colab1[0].loc[:5], fontsize=12, rotation=0, ha=\"center\")\n",
        "ax.set_ylim(0, 1700)\n",
        "ax.set_title(\"Negara Penghasil Film Netflix Terbanyak (Produksi di Satu Negara Saja)\")\n",
        "\n",
        "for bar in bars:\n",
        "    height = bar.get_height()\n",
        "    ax.text(bar.get_x() + bar.get_width()/2.0, height + 20, '{}'.format(int(height)), \n",
        "            ha='center', \n",
        "            va='bottom',\n",
        "            fontsize=12)\n",
        "\n",
        "plt.show()"
      ],
      "execution_count": null,
      "outputs": [
        {
          "output_type": "display_data",
          "data": {
            "image/png": "[encoded data removed]",
            "text/plain": [
              "<Figure size 720x360 with 1 Axes>"
            ]
          },
          "metadata": {
            "tags": [],
            "needs_background": "light"
          }
        }
      ]
    },
    {
      "cell_type": "code",
      "metadata": {
        "ExecuteTime": {
          "end_time": "2020-11-09T18:13:27.733457Z",
          "start_time": "2020-11-09T18:13:27.511356Z"
        },
        "id": "v4OA9Aie7-5x",
        "outputId": "37ecf662-47a6-4f83-f81a-0be158e4f96a"
      },
      "source": [
        "## Colab 2 Country\n",
        "fig, ax = plt.subplots(figsize=(10, 5))\n",
        "bars = ax.bar(np.arange(6), height=country_colab2[1].loc[:5], color='#5fba7d')\n",
        "ax.set_xticks(np.arange(6))\n",
        "ax.set_xticklabels(country_colab2[0].loc[:5], fontsize=12, rotation=20, ha=\"center\")\n",
        "ax.set_ylim(0, 75)\n",
        "ax.set_title(\"Kolaborasi Negara Penghasil Film Netflix Terbanyak (2 Negara)\")\n",
        "\n",
        "for bar in bars:\n",
        "    height = bar.get_height()\n",
        "    ax.text(bar.get_x() + bar.get_width()/2.0, height + 1, '{}'.format(int(height)), \n",
        "            ha='center', \n",
        "            va='bottom',\n",
        "            fontsize=12)\n",
        "\n",
        "plt.show()"
      ],
      "execution_count": null,
      "outputs": [
        {
          "output_type": "display_data",
          "data": {
            "image/png": "[encoded data removed]",
            "text/plain": [
              "<Figure size 720x360 with 1 Axes>"
            ]
          },
          "metadata": {
            "tags": [],
            "needs_background": "light"
          }
        }
      ]
    },
    {
      "cell_type": "code",
      "metadata": {
        "ExecuteTime": {
          "end_time": "2020-11-09T18:13:32.778479Z",
          "start_time": "2020-11-09T18:13:32.593489Z"
        },
        "id": "EAD2MSrY7-6B",
        "outputId": "0559133b-cab7-437c-95ad-b2aaef966546"
      },
      "source": [
        "## Colab 3 Country\n",
        "fig, ax = plt.subplots(figsize=(10, 5))\n",
        "bars = ax.bar(np.arange(6), height=country_colab3[1].loc[:5], color='#b31c31')\n",
        "ax.set_xticks(np.arange(6))\n",
        "ax.set_xticklabels(country_colab3[0].loc[:5], fontsize=12, rotation=20, ha=\"center\")\n",
        "ax.set_ylim(0, 9)\n",
        "ax.set_title(\"Kolaborasi Negara Penghasil Film Netflix Terbanyak (>= 3 Negara)\")\n",
        "\n",
        "for bar in bars:\n",
        "    height = bar.get_height()\n",
        "    ax.text(bar.get_x() + bar.get_width()/2.0, height + 0.1, '{}'.format(int(height)), \n",
        "            ha='center', \n",
        "            va='bottom',\n",
        "            fontsize=12)\n",
        "\n",
        "plt.show()"
      ],
      "execution_count": null,
      "outputs": [
        {
          "output_type": "display_data",
          "data": {
            "image/png": "[encoded data removed]",
            "text/plain": [
              "<Figure size 720x360 with 1 Axes>"
            ]
          },
          "metadata": {
            "tags": [],
            "needs_background": "light"
          }
        }
      ]
    },
    {
      "cell_type": "markdown",
      "metadata": {
        "id": "I3YUnn_f7-6V"
      },
      "source": [
        "### 6. Jumlah yang ditambahkan ke Netflix dari setiap negara setiap tahunnya"
      ]
    },
    {
      "cell_type": "code",
      "metadata": {
        "ExecuteTime": {
          "end_time": "2020-11-10T07:01:48.039717Z",
          "start_time": "2020-11-10T07:01:48.032774Z"
        },
        "scrolled": true,
        "id": "m6KWItXo7-6W"
      },
      "source": [
        "## Cek negara yg paling banyak muncul\n",
        "df_movie_countrylist = ', '.join(df_movie['country']).split(', ')\n",
        "frequent_countries = Counter(df_movie_countrylist).most_common(100)"
      ],
      "execution_count": null,
      "outputs": []
    },
    {
      "cell_type": "code",
      "metadata": {
        "ExecuteTime": {
          "end_time": "2020-11-10T06:51:59.728979Z",
          "start_time": "2020-11-10T06:51:59.719967Z"
        },
        "id": "yg--zI7h7-6l"
      },
      "source": [
        "df_movie_dateadded = df_movie[df_movie['date_added'] != \"UNKNOWN\"]\n",
        "df_tv_dateadded = df_tv[df_tv['date_added'] != \"UNKNOWN\"]"
      ],
      "execution_count": null,
      "outputs": []
    },
    {
      "cell_type": "code",
      "metadata": {
        "ExecuteTime": {
          "end_time": "2020-11-10T06:51:59.962506Z",
          "start_time": "2020-11-10T06:51:59.930591Z"
        },
        "id": "J9Pmyqf97-63",
        "outputId": "1f05a428-b289-4721-de89-c243ac4c03aa"
      },
      "source": [
        "df_movie_dateformat = pd.to_datetime(df_movie_dateadded['date_added'], format=\"%B %d, %Y\")\n",
        "df_movie_dateadded['date_added_year'] = [i.year for i in df_movie_dateformat]\n",
        "\n",
        "# dateadded = pd.to_datetime(tv_dateadded['date_added'], format=\"%B %d, %Y\")\n",
        "# tv_dateadded['date_added_year'] = [i.year for i in dateadded]"
      ],
      "execution_count": null,
      "outputs": [
        {
          "output_type": "stream",
          "text": [
            "C:\\Miniconda\\envs\\datasci\\lib\\site-packages\\ipykernel_launcher.py:2: SettingWithCopyWarning: \n",
            "A value is trying to be set on a copy of a slice from a DataFrame.\n",
            "Try using .loc[row_indexer,col_indexer] = value instead\n",
            "\n",
            "See the caveats in the documentation: http://pandas.pydata.org/pandas-docs/stable/user_guide/indexing.html#returning-a-view-versus-a-copy\n",
            "  \n"
          ],
          "name": "stderr"
        }
      ]
    },
    {
      "cell_type": "code",
      "metadata": {
        "ExecuteTime": {
          "end_time": "2020-11-10T07:44:43.365637Z",
          "start_time": "2020-11-10T07:44:37.856670Z"
        },
        "id": "ytFJDFZb7-7I"
      },
      "source": [
        "year_per_country = []\n",
        "y = []\n",
        "date_added_years = np.sort(list(set(df_movie_dateadded['date_added_year'])))\n",
        "countries = [i for i, j in frequent_countries]\n",
        "\n",
        "for year in date_added_years[::-1]: # Dibalik tahunnya dari 2008 dulu\n",
        "    for country in countries:\n",
        "        query = df_movie_dateadded[(df_movie_dateadded['date_added_year'] == year)\n",
        "                                   & (df_movie_dateadded['country'].str.contains(country))]\n",
        "        y.append(len(query))\n",
        "    year_per_country.append(y)\n",
        "    y = []\n",
        "        \n",
        "    \n",
        "# df_movie_dateadded[df_movie_dateadded['']]"
      ],
      "execution_count": null,
      "outputs": []
    },
    {
      "cell_type": "code",
      "metadata": {
        "ExecuteTime": {
          "end_time": "2020-11-10T07:44:43.630928Z",
          "start_time": "2020-11-10T07:44:43.605998Z"
        },
        "scrolled": true,
        "id": "QIVSA0y_7-7W"
      },
      "source": [
        "df_year_per_country = pd.DataFrame(year_per_country, index=date_added_years[::-1], columns=countries)\n",
        "df_year_per_country = df_year_per_country.drop(columns='UNKNOWN')\n",
        "df_year_per_country = df_year_per_country.iloc[:, :10]\n",
        "df_year_per_country = df_year_per_country.T"
      ],
      "execution_count": null,
      "outputs": []
    },
    {
      "cell_type": "code",
      "metadata": {
        "ExecuteTime": {
          "end_time": "2020-11-10T07:46:54.908579Z",
          "start_time": "2020-11-10T07:46:54.890628Z"
        },
        "id": "qKTywcDT7-7l",
        "outputId": "52e07e1c-328f-4615-e0b2-55fa814f44c2"
      },
      "source": [
        "df_year_per_country"
      ],
      "execution_count": null,
      "outputs": [
        {
          "output_type": "execute_result",
          "data": {
            "text/html": [
              "<div>\n",
              "<style scoped>\n",
              "    .dataframe tbody tr th:only-of-type {\n",
              "        vertical-align: middle;\n",
              "    }\n",
              "\n",
              "    .dataframe tbody tr th {\n",
              "        vertical-align: top;\n",
              "    }\n",
              "\n",
              "    .dataframe thead th {\n",
              "        text-align: right;\n",
              "    }\n",
              "</style>\n",
              "<table border=\"1\" class=\"dataframe\">\n",
              "  <thead>\n",
              "    <tr style=\"text-align: right;\">\n",
              "      <th></th>\n",
              "      <th>2020</th>\n",
              "      <th>2019</th>\n",
              "      <th>2018</th>\n",
              "      <th>2017</th>\n",
              "      <th>2016</th>\n",
              "      <th>2015</th>\n",
              "      <th>2014</th>\n",
              "      <th>2013</th>\n",
              "      <th>2012</th>\n",
              "      <th>2011</th>\n",
              "      <th>2010</th>\n",
              "      <th>2009</th>\n",
              "      <th>2008</th>\n",
              "    </tr>\n",
              "  </thead>\n",
              "  <tbody>\n",
              "    <tr>\n",
              "      <th>United States</th>\n",
              "      <td>117</td>\n",
              "      <td>744</td>\n",
              "      <td>465</td>\n",
              "      <td>373</td>\n",
              "      <td>142</td>\n",
              "      <td>41</td>\n",
              "      <td>18</td>\n",
              "      <td>5</td>\n",
              "      <td>4</td>\n",
              "      <td>12</td>\n",
              "      <td>1</td>\n",
              "      <td>1</td>\n",
              "      <td>1</td>\n",
              "    </tr>\n",
              "    <tr>\n",
              "      <th>India</th>\n",
              "      <td>8</td>\n",
              "      <td>229</td>\n",
              "      <td>343</td>\n",
              "      <td>188</td>\n",
              "      <td>15</td>\n",
              "      <td>0</td>\n",
              "      <td>0</td>\n",
              "      <td>0</td>\n",
              "      <td>0</td>\n",
              "      <td>0</td>\n",
              "      <td>0</td>\n",
              "      <td>0</td>\n",
              "      <td>0</td>\n",
              "    </tr>\n",
              "    <tr>\n",
              "      <th>United Kingdom</th>\n",
              "      <td>24</td>\n",
              "      <td>131</td>\n",
              "      <td>103</td>\n",
              "      <td>83</td>\n",
              "      <td>32</td>\n",
              "      <td>3</td>\n",
              "      <td>3</td>\n",
              "      <td>0</td>\n",
              "      <td>0</td>\n",
              "      <td>0</td>\n",
              "      <td>0</td>\n",
              "      <td>0</td>\n",
              "      <td>0</td>\n",
              "    </tr>\n",
              "    <tr>\n",
              "      <th>Canada</th>\n",
              "      <td>10</td>\n",
              "      <td>65</td>\n",
              "      <td>60</td>\n",
              "      <td>55</td>\n",
              "      <td>17</td>\n",
              "      <td>2</td>\n",
              "      <td>1</td>\n",
              "      <td>1</td>\n",
              "      <td>0</td>\n",
              "      <td>0</td>\n",
              "      <td>0</td>\n",
              "      <td>0</td>\n",
              "      <td>0</td>\n",
              "    </tr>\n",
              "    <tr>\n",
              "      <th>France</th>\n",
              "      <td>7</td>\n",
              "      <td>68</td>\n",
              "      <td>52</td>\n",
              "      <td>50</td>\n",
              "      <td>17</td>\n",
              "      <td>6</td>\n",
              "      <td>0</td>\n",
              "      <td>0</td>\n",
              "      <td>0</td>\n",
              "      <td>1</td>\n",
              "      <td>0</td>\n",
              "      <td>0</td>\n",
              "      <td>0</td>\n",
              "    </tr>\n",
              "    <tr>\n",
              "      <th>Spain</th>\n",
              "      <td>3</td>\n",
              "      <td>39</td>\n",
              "      <td>38</td>\n",
              "      <td>38</td>\n",
              "      <td>14</td>\n",
              "      <td>0</td>\n",
              "      <td>0</td>\n",
              "      <td>0</td>\n",
              "      <td>0</td>\n",
              "      <td>1</td>\n",
              "      <td>0</td>\n",
              "      <td>0</td>\n",
              "      <td>0</td>\n",
              "    </tr>\n",
              "    <tr>\n",
              "      <th>Germany</th>\n",
              "      <td>14</td>\n",
              "      <td>45</td>\n",
              "      <td>28</td>\n",
              "      <td>31</td>\n",
              "      <td>10</td>\n",
              "      <td>1</td>\n",
              "      <td>0</td>\n",
              "      <td>0</td>\n",
              "      <td>0</td>\n",
              "      <td>0</td>\n",
              "      <td>0</td>\n",
              "      <td>0</td>\n",
              "      <td>0</td>\n",
              "    </tr>\n",
              "    <tr>\n",
              "      <th>Hong Kong</th>\n",
              "      <td>1</td>\n",
              "      <td>24</td>\n",
              "      <td>56</td>\n",
              "      <td>8</td>\n",
              "      <td>4</td>\n",
              "      <td>0</td>\n",
              "      <td>0</td>\n",
              "      <td>0</td>\n",
              "      <td>0</td>\n",
              "      <td>0</td>\n",
              "      <td>0</td>\n",
              "      <td>0</td>\n",
              "      <td>0</td>\n",
              "    </tr>\n",
              "    <tr>\n",
              "      <th>China</th>\n",
              "      <td>0</td>\n",
              "      <td>28</td>\n",
              "      <td>33</td>\n",
              "      <td>18</td>\n",
              "      <td>5</td>\n",
              "      <td>0</td>\n",
              "      <td>0</td>\n",
              "      <td>0</td>\n",
              "      <td>0</td>\n",
              "      <td>0</td>\n",
              "      <td>0</td>\n",
              "      <td>0</td>\n",
              "      <td>0</td>\n",
              "    </tr>\n",
              "    <tr>\n",
              "      <th>Mexico</th>\n",
              "      <td>5</td>\n",
              "      <td>20</td>\n",
              "      <td>22</td>\n",
              "      <td>25</td>\n",
              "      <td>9</td>\n",
              "      <td>1</td>\n",
              "      <td>0</td>\n",
              "      <td>0</td>\n",
              "      <td>1</td>\n",
              "      <td>1</td>\n",
              "      <td>0</td>\n",
              "      <td>0</td>\n",
              "      <td>0</td>\n",
              "    </tr>\n",
              "  </tbody>\n",
              "</table>\n",
              "</div>"
            ],
            "text/plain": [
              "                2020  2019  2018  2017  2016  2015  2014  2013  2012  2011  \\\n",
              "United States    117   744   465   373   142    41    18     5     4    12   \n",
              "India              8   229   343   188    15     0     0     0     0     0   \n",
              "United Kingdom    24   131   103    83    32     3     3     0     0     0   \n",
              "Canada            10    65    60    55    17     2     1     1     0     0   \n",
              "France             7    68    52    50    17     6     0     0     0     1   \n",
              "Spain              3    39    38    38    14     0     0     0     0     1   \n",
              "Germany           14    45    28    31    10     1     0     0     0     0   \n",
              "Hong Kong          1    24    56     8     4     0     0     0     0     0   \n",
              "China              0    28    33    18     5     0     0     0     0     0   \n",
              "Mexico             5    20    22    25     9     1     0     0     1     1   \n",
              "\n",
              "                2010  2009  2008  \n",
              "United States      1     1     1  \n",
              "India              0     0     0  \n",
              "United Kingdom     0     0     0  \n",
              "Canada             0     0     0  \n",
              "France             0     0     0  \n",
              "Spain              0     0     0  \n",
              "Germany            0     0     0  \n",
              "Hong Kong          0     0     0  \n",
              "China              0     0     0  \n",
              "Mexico             0     0     0  "
            ]
          },
          "metadata": {
            "tags": []
          },
          "execution_count": 116
        }
      ]
    },
    {
      "cell_type": "code",
      "metadata": {
        "ExecuteTime": {
          "end_time": "2020-11-10T07:49:34.342334Z",
          "start_time": "2020-11-10T07:49:33.709562Z"
        },
        "id": "lidNqjLN7-7y",
        "outputId": "10a42bde-634a-44f9-e880-3cae9aaf7bd8"
      },
      "source": [
        "fig, ax = plt.subplots(figsize=(10, 20))\n",
        "im = ax.imshow(df_year_per_country)\n",
        "\n",
        "ax.set_xticks(np.arange(len(df_year_per_country.columns)))\n",
        "ax.set_yticks(np.arange(len(df_year_per_country.index)))\n",
        "\n",
        "ax.set_xticklabels(df_year_per_country.columns, fontsize=12)\n",
        "ax.set_yticklabels(df_year_per_country.index, fontsize=12)\n",
        "\n",
        "# Loop over data dimensions and create text annotations.\n",
        "for i in range(len(df_year_per_country.index)):\n",
        "    for j in range(len(df_year_per_country.columns)):\n",
        "        text = ax.text(j, i, df_year_per_country.iloc[i, j], \n",
        "                       ha=\"center\", va=\"center\", color=\"w\", fontsize=12)\n",
        "        \n",
        "# ax.text(0, 1, 3)    \n",
        "\n",
        "plt.show()"
      ],
      "execution_count": null,
      "outputs": [
        {
          "output_type": "display_data",
          "data": {
            "image/png": "[encoded data removed]",
            "text/plain": [
              "<Figure size 720x1440 with 1 Axes>"
            ]
          },
          "metadata": {
            "tags": [],
            "needs_background": "light"
          }
        }
      ]
    },
    {
      "cell_type": "code",
      "metadata": {
        "ExecuteTime": {
          "end_time": "2020-11-10T06:56:27.401947Z",
          "start_time": "2020-11-10T06:56:27.370668Z"
        },
        "id": "dRf6ft527-8E"
      },
      "source": [
        "us_movie = df_movie_dateadded[df_movie_dateadded['country'].str.contains('United States')]\n",
        "india_movie = df_movie_dateadded[df_movie_dateadded['country'].str.contains('India')]\n",
        "uk_movie = df_movie_dateadded[df_movie_dateadded['country'].str.contains('United Kingdom')]\n",
        "canada_movie = df_movie_dateadded[df_movie_dateadded['country'].str.contains('Canada')]\n",
        "france_movie = df_movie_dateadded[df_movie_dateadded['country'].str.contains('France')]"
      ],
      "execution_count": null,
      "outputs": []
    },
    {
      "cell_type": "code",
      "metadata": {
        "ExecuteTime": {
          "end_time": "2020-11-10T06:57:30.277183Z",
          "start_time": "2020-11-10T06:57:30.267167Z"
        },
        "id": "7LwJg-f37-8N",
        "outputId": "ce6f8415-85e6-431a-ecbf-03ea89889356"
      },
      "source": [
        "us_movie['date_added_year'].value_counts()"
      ],
      "execution_count": null,
      "outputs": [
        {
          "output_type": "execute_result",
          "data": {
            "text/plain": [
              "2019    744\n",
              "2018    465\n",
              "2017    373\n",
              "2016    142\n",
              "2020    117\n",
              "2015     41\n",
              "2014     18\n",
              "2011     12\n",
              "2013      5\n",
              "2012      4\n",
              "2010      1\n",
              "2009      1\n",
              "2008      1\n",
              "Name: date_added_year, dtype: int64"
            ]
          },
          "metadata": {
            "tags": []
          },
          "execution_count": 72
        }
      ]
    },
    {
      "cell_type": "code",
      "metadata": {
        "id": "vEiL1JUm7-8Z"
      },
      "source": [
        "## One County\n",
        "fig, ax = plt.subplots(figsize=(10, 5))\n",
        "bars = ax.bar(np.arange(6), height=country_colab1[1].loc[:5])\n",
        "ax.set_xticks(np.arange(6))\n",
        "ax.set_xticklabels(country_colab1[0].loc[:5], fontsize=12, rotation=0, ha=\"center\")\n",
        "ax.set_ylim(0, 1700)\n",
        "ax.set_title(\"Negara Penghasil Film Netflix Terbanyak (Produksi di Satu Negara Saja)\")\n",
        "\n",
        "for bar in bars:\n",
        "    height = bar.get_height()\n",
        "    ax.text(bar.get_x() + bar.get_width()/2.0, height + 20, '{}'.format(int(height)), \n",
        "            ha='center', \n",
        "            va='bottom',\n",
        "            fontsize=12)\n",
        "\n",
        "plt.show()"
      ],
      "execution_count": null,
      "outputs": []
    },
    {
      "cell_type": "markdown",
      "metadata": {
        "id": "Y4oDQRP37-8k"
      },
      "source": [
        "### 7. Dari jumlah yang ditambahkan itu, dibuat semacam perbandingan mana yang terbanyak tiap tahun (visualisasinya gue ngide mirip yang di Data is Beautiful di YouTube)"
      ]
    },
    {
      "cell_type": "markdown",
      "metadata": {
        "id": "AoT_W3xvLbzj"
      },
      "source": [
        "### 8. Director dengan karya terbanyak"
      ]
    },
    {
      "cell_type": "code",
      "metadata": {
        "id": "vFtUqoKUNKlR",
        "outputId": "e6e24c68-6553-4526-ba23-91773c075ac6",
        "colab": {
          "base_uri": "https://localhost:8080/"
        }
      },
      "source": [
        "df.director.value_counts()"
      ],
      "execution_count": 10,
      "outputs": [
        {
          "output_type": "execute_result",
          "data": {
            "text/plain": [
              "UNKNOWN                           1969\n",
              "Raúl Campos, Jan Suter              18\n",
              "Marcus Raboy                        14\n",
              "Jay Karas                           13\n",
              "Jay Chapman                         12\n",
              "                                  ... \n",
              "Ahmed Al-Badry                       1\n",
              "Arun Vaidyanathan                    1\n",
              "Kief Davidson, Richard Ladkani       1\n",
              "Peter Farrelly, Bobby Farrelly       1\n",
              "Jennifer Kaytin Robinson             1\n",
              "Name: director, Length: 3302, dtype: int64"
            ]
          },
          "metadata": {
            "tags": []
          },
          "execution_count": 10
        }
      ]
    },
    {
      "cell_type": "markdown",
      "metadata": {
        "id": "y2GlDoWyNYX9"
      },
      "source": [
        "#### beserta negaranya"
      ]
    },
    {
      "cell_type": "code",
      "metadata": {
        "id": "zrqP5THKNXvE",
        "outputId": "e3ba87e0-ab85-4cb2-cdc7-64b8e9b90aa8",
        "colab": {
          "base_uri": "https://localhost:8080/",
          "height": 996
        }
      },
      "source": [
        "df[df['director'] == 'Raúl Campos, Jan Suter']"
      ],
      "execution_count": 69,
      "outputs": [
        {
          "output_type": "execute_result",
          "data": {
            "text/html": [
              "<div>\n",
              "<style scoped>\n",
              "    .dataframe tbody tr th:only-of-type {\n",
              "        vertical-align: middle;\n",
              "    }\n",
              "\n",
              "    .dataframe tbody tr th {\n",
              "        vertical-align: top;\n",
              "    }\n",
              "\n",
              "    .dataframe thead th {\n",
              "        text-align: right;\n",
              "    }\n",
              "</style>\n",
              "<table border=\"1\" class=\"dataframe\">\n",
              "  <thead>\n",
              "    <tr style=\"text-align: right;\">\n",
              "      <th></th>\n",
              "      <th>show_id</th>\n",
              "      <th>type</th>\n",
              "      <th>title</th>\n",
              "      <th>director</th>\n",
              "      <th>cast</th>\n",
              "      <th>country</th>\n",
              "      <th>date_added</th>\n",
              "      <th>release_year</th>\n",
              "      <th>rating</th>\n",
              "      <th>duration</th>\n",
              "      <th>listed_in</th>\n",
              "      <th>description</th>\n",
              "    </tr>\n",
              "  </thead>\n",
              "  <tbody>\n",
              "    <tr>\n",
              "      <th>1337</th>\n",
              "      <td>80183088</td>\n",
              "      <td>Movie</td>\n",
              "      <td>Mea Culpa</td>\n",
              "      <td>Raúl Campos, Jan Suter</td>\n",
              "      <td>Alexis de Anda</td>\n",
              "      <td>Mexico</td>\n",
              "      <td>November 10, 2017</td>\n",
              "      <td>2017</td>\n",
              "      <td>TV-MA</td>\n",
              "      <td>54 min</td>\n",
              "      <td>Stand-Up Comedy</td>\n",
              "      <td>Raw and outspoken, comedian Alexis de Anda bar...</td>\n",
              "    </tr>\n",
              "    <tr>\n",
              "      <th>1655</th>\n",
              "      <td>80192137</td>\n",
              "      <td>Movie</td>\n",
              "      <td>Fernando Sanjiao: Hombre</td>\n",
              "      <td>Raúl Campos, Jan Suter</td>\n",
              "      <td>Fernando Sanjiao</td>\n",
              "      <td>Argentina</td>\n",
              "      <td>May 25, 2018</td>\n",
              "      <td>2018</td>\n",
              "      <td>TV-MA</td>\n",
              "      <td>63 min</td>\n",
              "      <td>Stand-Up Comedy</td>\n",
              "      <td>Argentine actor and comedian Fernando Sanjiao ...</td>\n",
              "    </tr>\n",
              "    <tr>\n",
              "      <th>1794</th>\n",
              "      <td>80192065</td>\n",
              "      <td>Movie</td>\n",
              "      <td>Carlos Ballarta: Furia Ñera</td>\n",
              "      <td>Raúl Campos, Jan Suter</td>\n",
              "      <td>Carlos Ballarta</td>\n",
              "      <td>Mexico</td>\n",
              "      <td>May 11, 2018</td>\n",
              "      <td>2018</td>\n",
              "      <td>TV-MA</td>\n",
              "      <td>63 min</td>\n",
              "      <td>Stand-Up Comedy</td>\n",
              "      <td>Mexican comic Carlos Ballarta mocks himself an...</td>\n",
              "    </tr>\n",
              "    <tr>\n",
              "      <th>2035</th>\n",
              "      <td>80183197</td>\n",
              "      <td>Movie</td>\n",
              "      <td>Sofía Niño de Rivera: Selección Natural</td>\n",
              "      <td>Raúl Campos, Jan Suter</td>\n",
              "      <td>Sofía Niño de Rivera</td>\n",
              "      <td>Mexico</td>\n",
              "      <td>March 30, 2018</td>\n",
              "      <td>2018</td>\n",
              "      <td>TV-MA</td>\n",
              "      <td>62 min</td>\n",
              "      <td>Stand-Up Comedy</td>\n",
              "      <td>Mexico's Sofía Niño de Rivera brings her dark ...</td>\n",
              "    </tr>\n",
              "    <tr>\n",
              "      <th>2133</th>\n",
              "      <td>80192139</td>\n",
              "      <td>Movie</td>\n",
              "      <td>Malena Pichot: Estupidez compleja</td>\n",
              "      <td>Raúl Campos, Jan Suter</td>\n",
              "      <td>Malena Pichot</td>\n",
              "      <td>Argentina</td>\n",
              "      <td>March 2, 2018</td>\n",
              "      <td>2018</td>\n",
              "      <td>TV-MA</td>\n",
              "      <td>51 min</td>\n",
              "      <td>Stand-Up Comedy</td>\n",
              "      <td>An Argentine comedian espouses the values of f...</td>\n",
              "    </tr>\n",
              "    <tr>\n",
              "      <th>2134</th>\n",
              "      <td>80192063</td>\n",
              "      <td>Movie</td>\n",
              "      <td>Natalia Valdebenito: El especial</td>\n",
              "      <td>Raúl Campos, Jan Suter</td>\n",
              "      <td>Natalia Valdebenito</td>\n",
              "      <td>Chile</td>\n",
              "      <td>March 2, 2018</td>\n",
              "      <td>2018</td>\n",
              "      <td>TV-MA</td>\n",
              "      <td>69 min</td>\n",
              "      <td>Stand-Up Comedy</td>\n",
              "      <td>A Chilean comedian fuses activism with irrever...</td>\n",
              "    </tr>\n",
              "    <tr>\n",
              "      <th>2504</th>\n",
              "      <td>80191989</td>\n",
              "      <td>Movie</td>\n",
              "      <td>Jani Dueñas: Grandes fracasos de ayer y hoy</td>\n",
              "      <td>Raúl Campos, Jan Suter</td>\n",
              "      <td>Jani Dueñas</td>\n",
              "      <td>Chile</td>\n",
              "      <td>June 29, 2018</td>\n",
              "      <td>2018</td>\n",
              "      <td>TV-MA</td>\n",
              "      <td>77 min</td>\n",
              "      <td>Stand-Up Comedy</td>\n",
              "      <td>Chilean comedian and personality Jani Dueñas p...</td>\n",
              "    </tr>\n",
              "    <tr>\n",
              "      <th>2550</th>\n",
              "      <td>80097641</td>\n",
              "      <td>Movie</td>\n",
              "      <td>Sofía Niño de Rivera: Exposed</td>\n",
              "      <td>Raúl Campos, Jan Suter</td>\n",
              "      <td>Sofía Niño de Rivera</td>\n",
              "      <td>Mexico</td>\n",
              "      <td>June 24, 2016</td>\n",
              "      <td>2016</td>\n",
              "      <td>TV-MA</td>\n",
              "      <td>80 min</td>\n",
              "      <td>Stand-Up Comedy</td>\n",
              "      <td>Self-deprecating comic Sofía Niño de Rivera pu...</td>\n",
              "    </tr>\n",
              "    <tr>\n",
              "      <th>2783</th>\n",
              "      <td>80192064</td>\n",
              "      <td>Movie</td>\n",
              "      <td>Luciano Mellera: Infantiloide</td>\n",
              "      <td>Raúl Campos, Jan Suter</td>\n",
              "      <td>Luciano Mellera</td>\n",
              "      <td>Argentina</td>\n",
              "      <td>July 6, 2018</td>\n",
              "      <td>2018</td>\n",
              "      <td>TV-14</td>\n",
              "      <td>66 min</td>\n",
              "      <td>Stand-Up Comedy</td>\n",
              "      <td>Argentina's Luciano Mellera emphasizes the hum...</td>\n",
              "    </tr>\n",
              "    <tr>\n",
              "      <th>2834</th>\n",
              "      <td>80192135</td>\n",
              "      <td>Movie</td>\n",
              "      <td>Coco y Raulito: Carrusel de ternura</td>\n",
              "      <td>Raúl Campos, Jan Suter</td>\n",
              "      <td>Coco Celis, Raúl Meneses</td>\n",
              "      <td>Mexico</td>\n",
              "      <td>July 27, 2018</td>\n",
              "      <td>2018</td>\n",
              "      <td>TV-MA</td>\n",
              "      <td>57 min</td>\n",
              "      <td>Stand-Up Comedy</td>\n",
              "      <td>A study in contrasts, comedy partners and good...</td>\n",
              "    </tr>\n",
              "    <tr>\n",
              "      <th>3287</th>\n",
              "      <td>80192138</td>\n",
              "      <td>Movie</td>\n",
              "      <td>Sebastián Marcelo Wainraich</td>\n",
              "      <td>Raúl Campos, Jan Suter</td>\n",
              "      <td>Sebastián Marcelo Wainraich</td>\n",
              "      <td>Argentina</td>\n",
              "      <td>January 26, 2018</td>\n",
              "      <td>2018</td>\n",
              "      <td>TV-MA</td>\n",
              "      <td>49 min</td>\n",
              "      <td>Stand-Up Comedy</td>\n",
              "      <td>Argentine comedian Sebastián Wainraich highlig...</td>\n",
              "    </tr>\n",
              "    <tr>\n",
              "      <th>3303</th>\n",
              "      <td>80192062</td>\n",
              "      <td>Movie</td>\n",
              "      <td>Ricardo Quevedo: Hay gente así</td>\n",
              "      <td>Raúl Campos, Jan Suter</td>\n",
              "      <td>Ricardo Quevedo</td>\n",
              "      <td>Colombia</td>\n",
              "      <td>January 24, 2018</td>\n",
              "      <td>2018</td>\n",
              "      <td>TV-MA</td>\n",
              "      <td>59 min</td>\n",
              "      <td>Stand-Up Comedy</td>\n",
              "      <td>Droll comic Ricardo Quevedo hits Bogotá with a...</td>\n",
              "    </tr>\n",
              "    <tr>\n",
              "      <th>3318</th>\n",
              "      <td>80079427</td>\n",
              "      <td>Movie</td>\n",
              "      <td>Ricardo O'Farrill Abrazo Genial</td>\n",
              "      <td>Raúl Campos, Jan Suter</td>\n",
              "      <td>Ricardo O'Farrill</td>\n",
              "      <td>Mexico</td>\n",
              "      <td>January 22, 2016</td>\n",
              "      <td>2016</td>\n",
              "      <td>TV-MA</td>\n",
              "      <td>92 min</td>\n",
              "      <td>Stand-Up Comedy</td>\n",
              "      <td>Ricardo O'Farrill brings his sharp, observatio...</td>\n",
              "    </tr>\n",
              "    <tr>\n",
              "      <th>3355</th>\n",
              "      <td>80191988</td>\n",
              "      <td>Movie</td>\n",
              "      <td>Arango y Sanint: Ríase el show</td>\n",
              "      <td>Raúl Campos, Jan Suter</td>\n",
              "      <td>Julián Arango, Antonio Sanint</td>\n",
              "      <td>Colombia</td>\n",
              "      <td>January 17, 2018</td>\n",
              "      <td>2018</td>\n",
              "      <td>TV-MA</td>\n",
              "      <td>62 min</td>\n",
              "      <td>Stand-Up Comedy</td>\n",
              "      <td>Colombian stand-up comedians Antonio Sanint an...</td>\n",
              "    </tr>\n",
              "    <tr>\n",
              "      <th>3792</th>\n",
              "      <td>80124726</td>\n",
              "      <td>Movie</td>\n",
              "      <td>Daniel Sosa: Sosafado</td>\n",
              "      <td>Raúl Campos, Jan Suter</td>\n",
              "      <td>Daniel Sosa</td>\n",
              "      <td>Mexico</td>\n",
              "      <td>February 3, 2017</td>\n",
              "      <td>2017</td>\n",
              "      <td>TV-MA</td>\n",
              "      <td>78 min</td>\n",
              "      <td>Stand-Up Comedy</td>\n",
              "      <td>Comedian Daniel Sosa inhabits various characte...</td>\n",
              "    </tr>\n",
              "    <tr>\n",
              "      <th>4596</th>\n",
              "      <td>80124728</td>\n",
              "      <td>Movie</td>\n",
              "      <td>Ricardo O'Farrill: Abrazo navideño</td>\n",
              "      <td>Raúl Campos, Jan Suter</td>\n",
              "      <td>Ricardo O'Farrill, Carlos Ballarta, Sofía Niño...</td>\n",
              "      <td>Mexico</td>\n",
              "      <td>December 12, 2016</td>\n",
              "      <td>2016</td>\n",
              "      <td>TV-MA</td>\n",
              "      <td>31 min</td>\n",
              "      <td>Stand-Up Comedy</td>\n",
              "      <td>The expressive Ricardo O'Farrill uses his astu...</td>\n",
              "    </tr>\n",
              "    <tr>\n",
              "      <th>4785</th>\n",
              "      <td>80124724</td>\n",
              "      <td>Movie</td>\n",
              "      <td>Alan Saldaña: Mi vida de pobre</td>\n",
              "      <td>Raúl Campos, Jan Suter</td>\n",
              "      <td>Alan Saldaña</td>\n",
              "      <td>Mexico</td>\n",
              "      <td>August 4, 2017</td>\n",
              "      <td>2017</td>\n",
              "      <td>TV-MA</td>\n",
              "      <td>54 min</td>\n",
              "      <td>Stand-Up Comedy</td>\n",
              "      <td>Mexican comic Alan Saldaña has fun with everyt...</td>\n",
              "    </tr>\n",
              "    <tr>\n",
              "      <th>5204</th>\n",
              "      <td>80191990</td>\n",
              "      <td>Movie</td>\n",
              "      <td>Todo lo que sería Lucas Lauriente</td>\n",
              "      <td>Raúl Campos, Jan Suter</td>\n",
              "      <td>Lucas Lauriente</td>\n",
              "      <td>Argentina</td>\n",
              "      <td>April 6, 2018</td>\n",
              "      <td>2018</td>\n",
              "      <td>TV-MA</td>\n",
              "      <td>78 min</td>\n",
              "      <td>Stand-Up Comedy</td>\n",
              "      <td>In his stand-up set, Argentine comic Lucas Lau...</td>\n",
              "    </tr>\n",
              "  </tbody>\n",
              "</table>\n",
              "</div>"
            ],
            "text/plain": [
              "       show_id  ...                                        description\n",
              "1337  80183088  ...  Raw and outspoken, comedian Alexis de Anda bar...\n",
              "1655  80192137  ...  Argentine actor and comedian Fernando Sanjiao ...\n",
              "1794  80192065  ...  Mexican comic Carlos Ballarta mocks himself an...\n",
              "2035  80183197  ...  Mexico's Sofía Niño de Rivera brings her dark ...\n",
              "2133  80192139  ...  An Argentine comedian espouses the values of f...\n",
              "2134  80192063  ...  A Chilean comedian fuses activism with irrever...\n",
              "2504  80191989  ...  Chilean comedian and personality Jani Dueñas p...\n",
              "2550  80097641  ...  Self-deprecating comic Sofía Niño de Rivera pu...\n",
              "2783  80192064  ...  Argentina's Luciano Mellera emphasizes the hum...\n",
              "2834  80192135  ...  A study in contrasts, comedy partners and good...\n",
              "3287  80192138  ...  Argentine comedian Sebastián Wainraich highlig...\n",
              "3303  80192062  ...  Droll comic Ricardo Quevedo hits Bogotá with a...\n",
              "3318  80079427  ...  Ricardo O'Farrill brings his sharp, observatio...\n",
              "3355  80191988  ...  Colombian stand-up comedians Antonio Sanint an...\n",
              "3792  80124726  ...  Comedian Daniel Sosa inhabits various characte...\n",
              "4596  80124728  ...  The expressive Ricardo O'Farrill uses his astu...\n",
              "4785  80124724  ...  Mexican comic Alan Saldaña has fun with everyt...\n",
              "5204  80191990  ...  In his stand-up set, Argentine comic Lucas Lau...\n",
              "\n",
              "[18 rows x 12 columns]"
            ]
          },
          "metadata": {
            "tags": []
          },
          "execution_count": 69
        }
      ]
    },
    {
      "cell_type": "code",
      "metadata": {
        "id": "02xK9ZJOLa_A",
        "outputId": "98e5ad96-eafb-4bab-ffdc-7d733f378f64",
        "colab": {
          "base_uri": "https://localhost:8080/"
        }
      },
      "source": [
        "len(df['director'].unique())"
      ],
      "execution_count": 8,
      "outputs": [
        {
          "output_type": "execute_result",
          "data": {
            "text/plain": [
              "3302"
            ]
          },
          "metadata": {
            "tags": []
          },
          "execution_count": 8
        }
      ]
    },
    {
      "cell_type": "code",
      "metadata": {
        "id": "HIGBHqYfM7N0",
        "outputId": "23cd028d-e505-474e-efb8-21723fac4bb0",
        "colab": {
          "base_uri": "https://localhost:8080/"
        }
      },
      "source": [
        "directors_str = ', '.join(df['director'])\n",
        "directors = list(set(directors_str.split(', ')))\n",
        "len(directors)"
      ],
      "execution_count": 9,
      "outputs": [
        {
          "output_type": "execute_result",
          "data": {
            "text/plain": [
              "3656"
            ]
          },
          "metadata": {
            "tags": []
          },
          "execution_count": 9
        }
      ]
    },
    {
      "cell_type": "code",
      "metadata": {
        "id": "kl9FNh6tM82V"
      },
      "source": [
        ""
      ],
      "execution_count": null,
      "outputs": []
    },
    {
      "cell_type": "markdown",
      "metadata": {
        "id": "S1M4UIgLNzxC"
      },
      "source": [
        "### 10. rata2 durasi per rating (dibagi antara Movie dan TV Show"
      ]
    },
    {
      "cell_type": "markdown",
      "metadata": {
        "id": "SJZb_Tl18t4Z"
      },
      "source": [
        "#### Movie"
      ]
    },
    {
      "cell_type": "code",
      "metadata": {
        "id": "3DD76JOq8DHD",
        "outputId": "1a1bca54-c4fe-44b7-88ff-7969302f13e1",
        "colab": {
          "base_uri": "https://localhost:8080/",
          "height": 363
        }
      },
      "source": [
        "df_movie = df[df.type == 'Movie']\n",
        "df_movie.head()"
      ],
      "execution_count": 54,
      "outputs": [
        {
          "output_type": "execute_result",
          "data": {
            "text/html": [
              "<div>\n",
              "<style scoped>\n",
              "    .dataframe tbody tr th:only-of-type {\n",
              "        vertical-align: middle;\n",
              "    }\n",
              "\n",
              "    .dataframe tbody tr th {\n",
              "        vertical-align: top;\n",
              "    }\n",
              "\n",
              "    .dataframe thead th {\n",
              "        text-align: right;\n",
              "    }\n",
              "</style>\n",
              "<table border=\"1\" class=\"dataframe\">\n",
              "  <thead>\n",
              "    <tr style=\"text-align: right;\">\n",
              "      <th></th>\n",
              "      <th>show_id</th>\n",
              "      <th>type</th>\n",
              "      <th>title</th>\n",
              "      <th>director</th>\n",
              "      <th>cast</th>\n",
              "      <th>country</th>\n",
              "      <th>date_added</th>\n",
              "      <th>release_year</th>\n",
              "      <th>rating</th>\n",
              "      <th>duration</th>\n",
              "      <th>listed_in</th>\n",
              "      <th>description</th>\n",
              "    </tr>\n",
              "  </thead>\n",
              "  <tbody>\n",
              "    <tr>\n",
              "      <th>0</th>\n",
              "      <td>81145628</td>\n",
              "      <td>Movie</td>\n",
              "      <td>Norm of the North: King Sized Adventure</td>\n",
              "      <td>Richard Finn, Tim Maltby</td>\n",
              "      <td>Alan Marriott, Andrew Toth, Brian Dobson, Cole...</td>\n",
              "      <td>United States, India, South Korea, China</td>\n",
              "      <td>September 9, 2019</td>\n",
              "      <td>2019</td>\n",
              "      <td>TV-PG</td>\n",
              "      <td>90 min</td>\n",
              "      <td>Children &amp; Family Movies, Comedies</td>\n",
              "      <td>Before planning an awesome wedding for his gra...</td>\n",
              "    </tr>\n",
              "    <tr>\n",
              "      <th>1</th>\n",
              "      <td>80117401</td>\n",
              "      <td>Movie</td>\n",
              "      <td>Jandino: Whatever it Takes</td>\n",
              "      <td>UNKNOWN</td>\n",
              "      <td>Jandino Asporaat</td>\n",
              "      <td>United Kingdom</td>\n",
              "      <td>September 9, 2016</td>\n",
              "      <td>2016</td>\n",
              "      <td>TV-MA</td>\n",
              "      <td>94 min</td>\n",
              "      <td>Stand-Up Comedy</td>\n",
              "      <td>Jandino Asporaat riffs on the challenges of ra...</td>\n",
              "    </tr>\n",
              "    <tr>\n",
              "      <th>4</th>\n",
              "      <td>80125979</td>\n",
              "      <td>Movie</td>\n",
              "      <td>#realityhigh</td>\n",
              "      <td>Fernando Lebrija</td>\n",
              "      <td>Nesta Cooper, Kate Walsh, John Michael Higgins...</td>\n",
              "      <td>United States</td>\n",
              "      <td>September 8, 2017</td>\n",
              "      <td>2017</td>\n",
              "      <td>TV-14</td>\n",
              "      <td>99 min</td>\n",
              "      <td>Comedies</td>\n",
              "      <td>When nerdy high schooler Dani finally attracts...</td>\n",
              "    </tr>\n",
              "    <tr>\n",
              "      <th>6</th>\n",
              "      <td>70304989</td>\n",
              "      <td>Movie</td>\n",
              "      <td>Automata</td>\n",
              "      <td>Gabe Ibáñez</td>\n",
              "      <td>Antonio Banderas, Dylan McDermott, Melanie Gri...</td>\n",
              "      <td>Bulgaria, United States, Spain, Canada</td>\n",
              "      <td>September 8, 2017</td>\n",
              "      <td>2014</td>\n",
              "      <td>R</td>\n",
              "      <td>110 min</td>\n",
              "      <td>International Movies, Sci-Fi &amp; Fantasy, Thrillers</td>\n",
              "      <td>In a dystopian future, an insurance adjuster f...</td>\n",
              "    </tr>\n",
              "    <tr>\n",
              "      <th>7</th>\n",
              "      <td>80164077</td>\n",
              "      <td>Movie</td>\n",
              "      <td>Fabrizio Copano: Solo pienso en mi</td>\n",
              "      <td>Rodrigo Toro, Francisco Schultz</td>\n",
              "      <td>Fabrizio Copano</td>\n",
              "      <td>Chile</td>\n",
              "      <td>September 8, 2017</td>\n",
              "      <td>2017</td>\n",
              "      <td>TV-MA</td>\n",
              "      <td>60 min</td>\n",
              "      <td>Stand-Up Comedy</td>\n",
              "      <td>Fabrizio Copano takes audience participation t...</td>\n",
              "    </tr>\n",
              "  </tbody>\n",
              "</table>\n",
              "</div>"
            ],
            "text/plain": [
              "    show_id  ...                                        description\n",
              "0  81145628  ...  Before planning an awesome wedding for his gra...\n",
              "1  80117401  ...  Jandino Asporaat riffs on the challenges of ra...\n",
              "4  80125979  ...  When nerdy high schooler Dani finally attracts...\n",
              "6  70304989  ...  In a dystopian future, an insurance adjuster f...\n",
              "7  80164077  ...  Fabrizio Copano takes audience participation t...\n",
              "\n",
              "[5 rows x 12 columns]"
            ]
          },
          "metadata": {
            "tags": []
          },
          "execution_count": 54
        }
      ]
    },
    {
      "cell_type": "markdown",
      "metadata": {
        "id": "V4czkThq9Jyk"
      },
      "source": [
        "##### Change duration from string to number\n",
        "the unit of the duration is per minute"
      ]
    },
    {
      "cell_type": "code",
      "metadata": {
        "id": "F6CKNpiq-2Cf"
      },
      "source": [
        "def convert_duration_min(dur_str):\n",
        "    return int(dur_str[:-4])"
      ],
      "execution_count": 55,
      "outputs": []
    },
    {
      "cell_type": "code",
      "metadata": {
        "id": "GXs04btc9JOE",
        "outputId": "55a38490-18f6-4829-802e-6612bc91c171",
        "colab": {
          "base_uri": "https://localhost:8080/",
          "height": 0
        }
      },
      "source": [
        "df_movie['duration'] = df_movie['duration'].apply(convert_duration_min)\n",
        "df_movie.head()"
      ],
      "execution_count": 56,
      "outputs": [
        {
          "output_type": "stream",
          "text": [
            "/usr/local/lib/python3.6/dist-packages/ipykernel_launcher.py:1: SettingWithCopyWarning: \n",
            "A value is trying to be set on a copy of a slice from a DataFrame.\n",
            "Try using .loc[row_indexer,col_indexer] = value instead\n",
            "\n",
            "See the caveats in the documentation: https://pandas.pydata.org/pandas-docs/stable/user_guide/indexing.html#returning-a-view-versus-a-copy\n",
            "  \"\"\"Entry point for launching an IPython kernel.\n"
          ],
          "name": "stderr"
        },
        {
          "output_type": "execute_result",
          "data": {
            "text/html": [
              "<div>\n",
              "<style scoped>\n",
              "    .dataframe tbody tr th:only-of-type {\n",
              "        vertical-align: middle;\n",
              "    }\n",
              "\n",
              "    .dataframe tbody tr th {\n",
              "        vertical-align: top;\n",
              "    }\n",
              "\n",
              "    .dataframe thead th {\n",
              "        text-align: right;\n",
              "    }\n",
              "</style>\n",
              "<table border=\"1\" class=\"dataframe\">\n",
              "  <thead>\n",
              "    <tr style=\"text-align: right;\">\n",
              "      <th></th>\n",
              "      <th>show_id</th>\n",
              "      <th>type</th>\n",
              "      <th>title</th>\n",
              "      <th>director</th>\n",
              "      <th>cast</th>\n",
              "      <th>country</th>\n",
              "      <th>date_added</th>\n",
              "      <th>release_year</th>\n",
              "      <th>rating</th>\n",
              "      <th>duration</th>\n",
              "      <th>listed_in</th>\n",
              "      <th>description</th>\n",
              "    </tr>\n",
              "  </thead>\n",
              "  <tbody>\n",
              "    <tr>\n",
              "      <th>0</th>\n",
              "      <td>81145628</td>\n",
              "      <td>Movie</td>\n",
              "      <td>Norm of the North: King Sized Adventure</td>\n",
              "      <td>Richard Finn, Tim Maltby</td>\n",
              "      <td>Alan Marriott, Andrew Toth, Brian Dobson, Cole...</td>\n",
              "      <td>United States, India, South Korea, China</td>\n",
              "      <td>September 9, 2019</td>\n",
              "      <td>2019</td>\n",
              "      <td>TV-PG</td>\n",
              "      <td>90</td>\n",
              "      <td>Children &amp; Family Movies, Comedies</td>\n",
              "      <td>Before planning an awesome wedding for his gra...</td>\n",
              "    </tr>\n",
              "    <tr>\n",
              "      <th>1</th>\n",
              "      <td>80117401</td>\n",
              "      <td>Movie</td>\n",
              "      <td>Jandino: Whatever it Takes</td>\n",
              "      <td>UNKNOWN</td>\n",
              "      <td>Jandino Asporaat</td>\n",
              "      <td>United Kingdom</td>\n",
              "      <td>September 9, 2016</td>\n",
              "      <td>2016</td>\n",
              "      <td>TV-MA</td>\n",
              "      <td>94</td>\n",
              "      <td>Stand-Up Comedy</td>\n",
              "      <td>Jandino Asporaat riffs on the challenges of ra...</td>\n",
              "    </tr>\n",
              "    <tr>\n",
              "      <th>4</th>\n",
              "      <td>80125979</td>\n",
              "      <td>Movie</td>\n",
              "      <td>#realityhigh</td>\n",
              "      <td>Fernando Lebrija</td>\n",
              "      <td>Nesta Cooper, Kate Walsh, John Michael Higgins...</td>\n",
              "      <td>United States</td>\n",
              "      <td>September 8, 2017</td>\n",
              "      <td>2017</td>\n",
              "      <td>TV-14</td>\n",
              "      <td>99</td>\n",
              "      <td>Comedies</td>\n",
              "      <td>When nerdy high schooler Dani finally attracts...</td>\n",
              "    </tr>\n",
              "    <tr>\n",
              "      <th>6</th>\n",
              "      <td>70304989</td>\n",
              "      <td>Movie</td>\n",
              "      <td>Automata</td>\n",
              "      <td>Gabe Ibáñez</td>\n",
              "      <td>Antonio Banderas, Dylan McDermott, Melanie Gri...</td>\n",
              "      <td>Bulgaria, United States, Spain, Canada</td>\n",
              "      <td>September 8, 2017</td>\n",
              "      <td>2014</td>\n",
              "      <td>R</td>\n",
              "      <td>110</td>\n",
              "      <td>International Movies, Sci-Fi &amp; Fantasy, Thrillers</td>\n",
              "      <td>In a dystopian future, an insurance adjuster f...</td>\n",
              "    </tr>\n",
              "    <tr>\n",
              "      <th>7</th>\n",
              "      <td>80164077</td>\n",
              "      <td>Movie</td>\n",
              "      <td>Fabrizio Copano: Solo pienso en mi</td>\n",
              "      <td>Rodrigo Toro, Francisco Schultz</td>\n",
              "      <td>Fabrizio Copano</td>\n",
              "      <td>Chile</td>\n",
              "      <td>September 8, 2017</td>\n",
              "      <td>2017</td>\n",
              "      <td>TV-MA</td>\n",
              "      <td>60</td>\n",
              "      <td>Stand-Up Comedy</td>\n",
              "      <td>Fabrizio Copano takes audience participation t...</td>\n",
              "    </tr>\n",
              "  </tbody>\n",
              "</table>\n",
              "</div>"
            ],
            "text/plain": [
              "    show_id  ...                                        description\n",
              "0  81145628  ...  Before planning an awesome wedding for his gra...\n",
              "1  80117401  ...  Jandino Asporaat riffs on the challenges of ra...\n",
              "4  80125979  ...  When nerdy high schooler Dani finally attracts...\n",
              "6  70304989  ...  In a dystopian future, an insurance adjuster f...\n",
              "7  80164077  ...  Fabrizio Copano takes audience participation t...\n",
              "\n",
              "[5 rows x 12 columns]"
            ]
          },
          "metadata": {
            "tags": []
          },
          "execution_count": 56
        }
      ]
    },
    {
      "cell_type": "markdown",
      "metadata": {
        "id": "fGZaMUaPm0gI"
      },
      "source": [
        "after the duration is converted to integer, we can see the description below"
      ]
    },
    {
      "cell_type": "code",
      "metadata": {
        "id": "p86LDWnf8yNp",
        "outputId": "542b9ccf-f6d2-4ff9-f381-5adb39035f13",
        "colab": {
          "base_uri": "https://localhost:8080/",
          "height": 0
        }
      },
      "source": [
        "df_movie.describe()[['duration']]"
      ],
      "execution_count": 57,
      "outputs": [
        {
          "output_type": "execute_result",
          "data": {
            "text/html": [
              "<div>\n",
              "<style scoped>\n",
              "    .dataframe tbody tr th:only-of-type {\n",
              "        vertical-align: middle;\n",
              "    }\n",
              "\n",
              "    .dataframe tbody tr th {\n",
              "        vertical-align: top;\n",
              "    }\n",
              "\n",
              "    .dataframe thead th {\n",
              "        text-align: right;\n",
              "    }\n",
              "</style>\n",
              "<table border=\"1\" class=\"dataframe\">\n",
              "  <thead>\n",
              "    <tr style=\"text-align: right;\">\n",
              "      <th></th>\n",
              "      <th>duration</th>\n",
              "    </tr>\n",
              "  </thead>\n",
              "  <tbody>\n",
              "    <tr>\n",
              "      <th>count</th>\n",
              "      <td>4265.000000</td>\n",
              "    </tr>\n",
              "    <tr>\n",
              "      <th>mean</th>\n",
              "      <td>99.100821</td>\n",
              "    </tr>\n",
              "    <tr>\n",
              "      <th>std</th>\n",
              "      <td>28.074857</td>\n",
              "    </tr>\n",
              "    <tr>\n",
              "      <th>min</th>\n",
              "      <td>3.000000</td>\n",
              "    </tr>\n",
              "    <tr>\n",
              "      <th>25%</th>\n",
              "      <td>86.000000</td>\n",
              "    </tr>\n",
              "    <tr>\n",
              "      <th>50%</th>\n",
              "      <td>98.000000</td>\n",
              "    </tr>\n",
              "    <tr>\n",
              "      <th>75%</th>\n",
              "      <td>115.000000</td>\n",
              "    </tr>\n",
              "    <tr>\n",
              "      <th>max</th>\n",
              "      <td>312.000000</td>\n",
              "    </tr>\n",
              "  </tbody>\n",
              "</table>\n",
              "</div>"
            ],
            "text/plain": [
              "          duration\n",
              "count  4265.000000\n",
              "mean     99.100821\n",
              "std      28.074857\n",
              "min       3.000000\n",
              "25%      86.000000\n",
              "50%      98.000000\n",
              "75%     115.000000\n",
              "max     312.000000"
            ]
          },
          "metadata": {
            "tags": []
          },
          "execution_count": 57
        }
      ]
    },
    {
      "cell_type": "markdown",
      "metadata": {
        "id": "7ZqMbmyGovEM"
      },
      "source": [
        "##### Get Average Duration per rating"
      ]
    },
    {
      "cell_type": "code",
      "metadata": {
        "id": "hxF0ZOuRpmTP",
        "outputId": "c8472109-4554-4272-c446-6702bc9523b1",
        "colab": {
          "base_uri": "https://localhost:8080/",
          "height": 520
        }
      },
      "source": [
        "df_movie_rating_duration['avg_duration'] = df_movie.groupby('rating', as_index=False).mean()[['duration']]\n",
        "df_movie_rating_duration"
      ],
      "execution_count": 59,
      "outputs": [
        {
          "output_type": "execute_result",
          "data": {
            "text/html": [
              "<div>\n",
              "<style scoped>\n",
              "    .dataframe tbody tr th:only-of-type {\n",
              "        vertical-align: middle;\n",
              "    }\n",
              "\n",
              "    .dataframe tbody tr th {\n",
              "        vertical-align: top;\n",
              "    }\n",
              "\n",
              "    .dataframe thead th {\n",
              "        text-align: right;\n",
              "    }\n",
              "</style>\n",
              "<table border=\"1\" class=\"dataframe\">\n",
              "  <thead>\n",
              "    <tr style=\"text-align: right;\">\n",
              "      <th></th>\n",
              "      <th>0</th>\n",
              "      <th>avg_duration</th>\n",
              "    </tr>\n",
              "  </thead>\n",
              "  <tbody>\n",
              "    <tr>\n",
              "      <th>0</th>\n",
              "      <td>TV-PG</td>\n",
              "      <td>85.361111</td>\n",
              "    </tr>\n",
              "    <tr>\n",
              "      <th>1</th>\n",
              "      <td>TV-MA</td>\n",
              "      <td>131.500000</td>\n",
              "    </tr>\n",
              "    <tr>\n",
              "      <th>2</th>\n",
              "      <td>TV-Y7-FV</td>\n",
              "      <td>95.123762</td>\n",
              "    </tr>\n",
              "    <tr>\n",
              "      <th>3</th>\n",
              "      <td>TV-Y7</td>\n",
              "      <td>97.786885</td>\n",
              "    </tr>\n",
              "    <tr>\n",
              "      <th>4</th>\n",
              "      <td>TV-14</td>\n",
              "      <td>108.853147</td>\n",
              "    </tr>\n",
              "    <tr>\n",
              "      <th>5</th>\n",
              "      <td>R</td>\n",
              "      <td>106.158103</td>\n",
              "    </tr>\n",
              "    <tr>\n",
              "      <th>6</th>\n",
              "      <td>TV-Y</td>\n",
              "      <td>108.137765</td>\n",
              "    </tr>\n",
              "    <tr>\n",
              "      <th>7</th>\n",
              "      <td>NR</td>\n",
              "      <td>67.837500</td>\n",
              "    </tr>\n",
              "    <tr>\n",
              "      <th>8</th>\n",
              "      <td>PG-13</td>\n",
              "      <td>95.295252</td>\n",
              "    </tr>\n",
              "    <tr>\n",
              "      <th>9</th>\n",
              "      <td>TV-G</td>\n",
              "      <td>97.949074</td>\n",
              "    </tr>\n",
              "    <tr>\n",
              "      <th>10</th>\n",
              "      <td>PG</td>\n",
              "      <td>48.414634</td>\n",
              "    </tr>\n",
              "    <tr>\n",
              "      <th>11</th>\n",
              "      <td>G</td>\n",
              "      <td>59.753623</td>\n",
              "    </tr>\n",
              "    <tr>\n",
              "      <th>12</th>\n",
              "      <td>UNKNOWN</td>\n",
              "      <td>55.222222</td>\n",
              "    </tr>\n",
              "    <tr>\n",
              "      <th>13</th>\n",
              "      <td>UR</td>\n",
              "      <td>69.500000</td>\n",
              "    </tr>\n",
              "    <tr>\n",
              "      <th>14</th>\n",
              "      <td>NC-17</td>\n",
              "      <td>110.000000</td>\n",
              "    </tr>\n",
              "  </tbody>\n",
              "</table>\n",
              "</div>"
            ],
            "text/plain": [
              "           0  avg_duration\n",
              "0      TV-PG     85.361111\n",
              "1      TV-MA    131.500000\n",
              "2   TV-Y7-FV     95.123762\n",
              "3      TV-Y7     97.786885\n",
              "4      TV-14    108.853147\n",
              "5          R    106.158103\n",
              "6       TV-Y    108.137765\n",
              "7         NR     67.837500\n",
              "8      PG-13     95.295252\n",
              "9       TV-G     97.949074\n",
              "10        PG     48.414634\n",
              "11         G     59.753623\n",
              "12   UNKNOWN     55.222222\n",
              "13        UR     69.500000\n",
              "14     NC-17    110.000000"
            ]
          },
          "metadata": {
            "tags": []
          },
          "execution_count": 59
        }
      ]
    },
    {
      "cell_type": "code",
      "metadata": {
        "id": "crB-TB6A_A8q",
        "outputId": "0674e887-b4ef-41f7-eaa4-e626f0c04cb2",
        "colab": {
          "base_uri": "https://localhost:8080/",
          "height": 409
        }
      },
      "source": [
        "fig, ax = plt.subplots(figsize=(12, 6))\n",
        "bars = ax.bar(np.arange(len(df_movie_rating_duration)), height=df_movie_rating_duration['avg_duration'])\n",
        "ax.set_xticks(np.arange(len(df_movie_rating_duration)))\n",
        "ax.set_xticklabels(df_movie_rating_duration[0], rotation=45, ha=\"right\")\n",
        "    \n",
        "plt.show()"
      ],
      "execution_count": 45,
      "outputs": [
        {
          "output_type": "display_data",
          "data": {
            "image/png": "[encoded data removed]",
            "text/plain": [
              "<Figure size 864x432 with 1 Axes>"
            ]
          },
          "metadata": {
            "tags": [],
            "needs_background": "light"
          }
        }
      ]
    },
    {
      "cell_type": "markdown",
      "metadata": {
        "id": "nXL7k3h_nA0H"
      },
      "source": [
        "#### TV Show"
      ]
    },
    {
      "cell_type": "code",
      "metadata": {
        "id": "DtDomfJu8VUa",
        "outputId": "b598c228-077f-41c4-8197-352c681cc66b",
        "colab": {
          "base_uri": "https://localhost:8080/",
          "height": 345
        }
      },
      "source": [
        "df_tvshow = df[df.type == 'TV Show']\n",
        "df_tvshow.head()"
      ],
      "execution_count": 48,
      "outputs": [
        {
          "output_type": "execute_result",
          "data": {
            "text/html": [
              "<div>\n",
              "<style scoped>\n",
              "    .dataframe tbody tr th:only-of-type {\n",
              "        vertical-align: middle;\n",
              "    }\n",
              "\n",
              "    .dataframe tbody tr th {\n",
              "        vertical-align: top;\n",
              "    }\n",
              "\n",
              "    .dataframe thead th {\n",
              "        text-align: right;\n",
              "    }\n",
              "</style>\n",
              "<table border=\"1\" class=\"dataframe\">\n",
              "  <thead>\n",
              "    <tr style=\"text-align: right;\">\n",
              "      <th></th>\n",
              "      <th>show_id</th>\n",
              "      <th>type</th>\n",
              "      <th>title</th>\n",
              "      <th>director</th>\n",
              "      <th>cast</th>\n",
              "      <th>country</th>\n",
              "      <th>date_added</th>\n",
              "      <th>release_year</th>\n",
              "      <th>rating</th>\n",
              "      <th>duration</th>\n",
              "      <th>listed_in</th>\n",
              "      <th>description</th>\n",
              "    </tr>\n",
              "  </thead>\n",
              "  <tbody>\n",
              "    <tr>\n",
              "      <th>2</th>\n",
              "      <td>70234439</td>\n",
              "      <td>TV Show</td>\n",
              "      <td>Transformers Prime</td>\n",
              "      <td>UNKNOWN</td>\n",
              "      <td>Peter Cullen, Sumalee Montano, Frank Welker, J...</td>\n",
              "      <td>United States</td>\n",
              "      <td>September 8, 2018</td>\n",
              "      <td>2013</td>\n",
              "      <td>TV-Y7-FV</td>\n",
              "      <td>1 Season</td>\n",
              "      <td>Kids' TV</td>\n",
              "      <td>With the help of three human allies, the Autob...</td>\n",
              "    </tr>\n",
              "    <tr>\n",
              "      <th>3</th>\n",
              "      <td>80058654</td>\n",
              "      <td>TV Show</td>\n",
              "      <td>Transformers: Robots in Disguise</td>\n",
              "      <td>UNKNOWN</td>\n",
              "      <td>Will Friedle, Darren Criss, Constance Zimmer, ...</td>\n",
              "      <td>United States</td>\n",
              "      <td>September 8, 2018</td>\n",
              "      <td>2016</td>\n",
              "      <td>TV-Y7</td>\n",
              "      <td>1 Season</td>\n",
              "      <td>Kids' TV</td>\n",
              "      <td>When a prison ship crash unleashes hundreds of...</td>\n",
              "    </tr>\n",
              "    <tr>\n",
              "      <th>5</th>\n",
              "      <td>80163890</td>\n",
              "      <td>TV Show</td>\n",
              "      <td>Apaches</td>\n",
              "      <td>UNKNOWN</td>\n",
              "      <td>Alberto Ammann, Eloy Azorín, Verónica Echegui,...</td>\n",
              "      <td>Spain</td>\n",
              "      <td>September 8, 2017</td>\n",
              "      <td>2016</td>\n",
              "      <td>TV-MA</td>\n",
              "      <td>1 Season</td>\n",
              "      <td>Crime TV Shows, International TV Shows, Spanis...</td>\n",
              "      <td>A young journalist is forced into a life of cr...</td>\n",
              "    </tr>\n",
              "    <tr>\n",
              "      <th>8</th>\n",
              "      <td>80117902</td>\n",
              "      <td>TV Show</td>\n",
              "      <td>Fire Chasers</td>\n",
              "      <td>UNKNOWN</td>\n",
              "      <td>UNKNOWN</td>\n",
              "      <td>United States</td>\n",
              "      <td>September 8, 2017</td>\n",
              "      <td>2017</td>\n",
              "      <td>TV-MA</td>\n",
              "      <td>1 Season</td>\n",
              "      <td>Docuseries, Science &amp; Nature TV</td>\n",
              "      <td>As California's 2016 fire season rages, brave ...</td>\n",
              "    </tr>\n",
              "    <tr>\n",
              "      <th>26</th>\n",
              "      <td>80244601</td>\n",
              "      <td>TV Show</td>\n",
              "      <td>Castle of Stars</td>\n",
              "      <td>UNKNOWN</td>\n",
              "      <td>Chaiyapol Pupart, Jintanutda Lummakanon, Worra...</td>\n",
              "      <td>UNKNOWN</td>\n",
              "      <td>September 7, 2018</td>\n",
              "      <td>2015</td>\n",
              "      <td>TV-14</td>\n",
              "      <td>1 Season</td>\n",
              "      <td>International TV Shows, Romantic TV Shows, TV ...</td>\n",
              "      <td>As four couples with different lifestyles go t...</td>\n",
              "    </tr>\n",
              "  </tbody>\n",
              "</table>\n",
              "</div>"
            ],
            "text/plain": [
              "     show_id  ...                                        description\n",
              "2   70234439  ...  With the help of three human allies, the Autob...\n",
              "3   80058654  ...  When a prison ship crash unleashes hundreds of...\n",
              "5   80163890  ...  A young journalist is forced into a life of cr...\n",
              "8   80117902  ...  As California's 2016 fire season rages, brave ...\n",
              "26  80244601  ...  As four couples with different lifestyles go t...\n",
              "\n",
              "[5 rows x 12 columns]"
            ]
          },
          "metadata": {
            "tags": []
          },
          "execution_count": 48
        }
      ]
    },
    {
      "cell_type": "markdown",
      "metadata": {
        "id": "XRX2M9Fcnewg"
      },
      "source": [
        "##### Change duration from string to number\n",
        "the unit of the duration is per season"
      ]
    },
    {
      "cell_type": "code",
      "metadata": {
        "id": "hMbXEG7dnewm"
      },
      "source": [
        "def convert_duration_season(dur_str):\n",
        "    return int(dur_str[:-7])"
      ],
      "execution_count": 49,
      "outputs": []
    },
    {
      "cell_type": "code",
      "metadata": {
        "id": "Ihrl3IhLnew_",
        "outputId": "2788c727-70ee-42ec-bcc4-2fdca20edb74",
        "colab": {
          "base_uri": "https://localhost:8080/",
          "height": 0
        }
      },
      "source": [
        "df_tvshow['duration'] = df_tvshow['duration'].apply(convert_duration_season)\n",
        "df_tvshow.head()"
      ],
      "execution_count": 50,
      "outputs": [
        {
          "output_type": "stream",
          "text": [
            "/usr/local/lib/python3.6/dist-packages/ipykernel_launcher.py:1: SettingWithCopyWarning: \n",
            "A value is trying to be set on a copy of a slice from a DataFrame.\n",
            "Try using .loc[row_indexer,col_indexer] = value instead\n",
            "\n",
            "See the caveats in the documentation: https://pandas.pydata.org/pandas-docs/stable/user_guide/indexing.html#returning-a-view-versus-a-copy\n",
            "  \"\"\"Entry point for launching an IPython kernel.\n"
          ],
          "name": "stderr"
        },
        {
          "output_type": "execute_result",
          "data": {
            "text/html": [
              "<div>\n",
              "<style scoped>\n",
              "    .dataframe tbody tr th:only-of-type {\n",
              "        vertical-align: middle;\n",
              "    }\n",
              "\n",
              "    .dataframe tbody tr th {\n",
              "        vertical-align: top;\n",
              "    }\n",
              "\n",
              "    .dataframe thead th {\n",
              "        text-align: right;\n",
              "    }\n",
              "</style>\n",
              "<table border=\"1\" class=\"dataframe\">\n",
              "  <thead>\n",
              "    <tr style=\"text-align: right;\">\n",
              "      <th></th>\n",
              "      <th>show_id</th>\n",
              "      <th>type</th>\n",
              "      <th>title</th>\n",
              "      <th>director</th>\n",
              "      <th>cast</th>\n",
              "      <th>country</th>\n",
              "      <th>date_added</th>\n",
              "      <th>release_year</th>\n",
              "      <th>rating</th>\n",
              "      <th>duration</th>\n",
              "      <th>listed_in</th>\n",
              "      <th>description</th>\n",
              "    </tr>\n",
              "  </thead>\n",
              "  <tbody>\n",
              "    <tr>\n",
              "      <th>2</th>\n",
              "      <td>70234439</td>\n",
              "      <td>TV Show</td>\n",
              "      <td>Transformers Prime</td>\n",
              "      <td>UNKNOWN</td>\n",
              "      <td>Peter Cullen, Sumalee Montano, Frank Welker, J...</td>\n",
              "      <td>United States</td>\n",
              "      <td>September 8, 2018</td>\n",
              "      <td>2013</td>\n",
              "      <td>TV-Y7-FV</td>\n",
              "      <td>1</td>\n",
              "      <td>Kids' TV</td>\n",
              "      <td>With the help of three human allies, the Autob...</td>\n",
              "    </tr>\n",
              "    <tr>\n",
              "      <th>3</th>\n",
              "      <td>80058654</td>\n",
              "      <td>TV Show</td>\n",
              "      <td>Transformers: Robots in Disguise</td>\n",
              "      <td>UNKNOWN</td>\n",
              "      <td>Will Friedle, Darren Criss, Constance Zimmer, ...</td>\n",
              "      <td>United States</td>\n",
              "      <td>September 8, 2018</td>\n",
              "      <td>2016</td>\n",
              "      <td>TV-Y7</td>\n",
              "      <td>1</td>\n",
              "      <td>Kids' TV</td>\n",
              "      <td>When a prison ship crash unleashes hundreds of...</td>\n",
              "    </tr>\n",
              "    <tr>\n",
              "      <th>5</th>\n",
              "      <td>80163890</td>\n",
              "      <td>TV Show</td>\n",
              "      <td>Apaches</td>\n",
              "      <td>UNKNOWN</td>\n",
              "      <td>Alberto Ammann, Eloy Azorín, Verónica Echegui,...</td>\n",
              "      <td>Spain</td>\n",
              "      <td>September 8, 2017</td>\n",
              "      <td>2016</td>\n",
              "      <td>TV-MA</td>\n",
              "      <td>1</td>\n",
              "      <td>Crime TV Shows, International TV Shows, Spanis...</td>\n",
              "      <td>A young journalist is forced into a life of cr...</td>\n",
              "    </tr>\n",
              "    <tr>\n",
              "      <th>8</th>\n",
              "      <td>80117902</td>\n",
              "      <td>TV Show</td>\n",
              "      <td>Fire Chasers</td>\n",
              "      <td>UNKNOWN</td>\n",
              "      <td>UNKNOWN</td>\n",
              "      <td>United States</td>\n",
              "      <td>September 8, 2017</td>\n",
              "      <td>2017</td>\n",
              "      <td>TV-MA</td>\n",
              "      <td>1</td>\n",
              "      <td>Docuseries, Science &amp; Nature TV</td>\n",
              "      <td>As California's 2016 fire season rages, brave ...</td>\n",
              "    </tr>\n",
              "    <tr>\n",
              "      <th>26</th>\n",
              "      <td>80244601</td>\n",
              "      <td>TV Show</td>\n",
              "      <td>Castle of Stars</td>\n",
              "      <td>UNKNOWN</td>\n",
              "      <td>Chaiyapol Pupart, Jintanutda Lummakanon, Worra...</td>\n",
              "      <td>UNKNOWN</td>\n",
              "      <td>September 7, 2018</td>\n",
              "      <td>2015</td>\n",
              "      <td>TV-14</td>\n",
              "      <td>1</td>\n",
              "      <td>International TV Shows, Romantic TV Shows, TV ...</td>\n",
              "      <td>As four couples with different lifestyles go t...</td>\n",
              "    </tr>\n",
              "  </tbody>\n",
              "</table>\n",
              "</div>"
            ],
            "text/plain": [
              "     show_id  ...                                        description\n",
              "2   70234439  ...  With the help of three human allies, the Autob...\n",
              "3   80058654  ...  When a prison ship crash unleashes hundreds of...\n",
              "5   80163890  ...  A young journalist is forced into a life of cr...\n",
              "8   80117902  ...  As California's 2016 fire season rages, brave ...\n",
              "26  80244601  ...  As four couples with different lifestyles go t...\n",
              "\n",
              "[5 rows x 12 columns]"
            ]
          },
          "metadata": {
            "tags": []
          },
          "execution_count": 50
        }
      ]
    },
    {
      "cell_type": "markdown",
      "metadata": {
        "id": "0JPXBAOEnexj"
      },
      "source": [
        "after the duration is converted to integer, we can see the description below"
      ]
    },
    {
      "cell_type": "code",
      "metadata": {
        "id": "EWhk-Qxhnexo",
        "outputId": "2392e938-c0d0-4fb0-c2b2-563c34399c08",
        "colab": {
          "base_uri": "https://localhost:8080/",
          "height": 0
        }
      },
      "source": [
        "df_tvshow.describe()"
      ],
      "execution_count": 51,
      "outputs": [
        {
          "output_type": "execute_result",
          "data": {
            "text/html": [
              "<div>\n",
              "<style scoped>\n",
              "    .dataframe tbody tr th:only-of-type {\n",
              "        vertical-align: middle;\n",
              "    }\n",
              "\n",
              "    .dataframe tbody tr th {\n",
              "        vertical-align: top;\n",
              "    }\n",
              "\n",
              "    .dataframe thead th {\n",
              "        text-align: right;\n",
              "    }\n",
              "</style>\n",
              "<table border=\"1\" class=\"dataframe\">\n",
              "  <thead>\n",
              "    <tr style=\"text-align: right;\">\n",
              "      <th></th>\n",
              "      <th>show_id</th>\n",
              "      <th>release_year</th>\n",
              "      <th>duration</th>\n",
              "    </tr>\n",
              "  </thead>\n",
              "  <tbody>\n",
              "    <tr>\n",
              "      <th>count</th>\n",
              "      <td>1.969000e+03</td>\n",
              "      <td>1969.000000</td>\n",
              "      <td>1969.000000</td>\n",
              "    </tr>\n",
              "    <tr>\n",
              "      <th>mean</th>\n",
              "      <td>7.904892e+07</td>\n",
              "      <td>2015.536313</td>\n",
              "      <td>1.779584</td>\n",
              "    </tr>\n",
              "    <tr>\n",
              "      <th>std</th>\n",
              "      <td>3.462549e+06</td>\n",
              "      <td>5.799568</td>\n",
              "      <td>1.624936</td>\n",
              "    </tr>\n",
              "    <tr>\n",
              "      <th>min</th>\n",
              "      <td>6.003679e+07</td>\n",
              "      <td>1925.000000</td>\n",
              "      <td>1.000000</td>\n",
              "    </tr>\n",
              "    <tr>\n",
              "      <th>25%</th>\n",
              "      <td>8.009178e+07</td>\n",
              "      <td>2015.000000</td>\n",
              "      <td>1.000000</td>\n",
              "    </tr>\n",
              "    <tr>\n",
              "      <th>50%</th>\n",
              "      <td>8.017572e+07</td>\n",
              "      <td>2017.000000</td>\n",
              "      <td>1.000000</td>\n",
              "    </tr>\n",
              "    <tr>\n",
              "      <th>75%</th>\n",
              "      <td>8.023986e+07</td>\n",
              "      <td>2018.000000</td>\n",
              "      <td>2.000000</td>\n",
              "    </tr>\n",
              "    <tr>\n",
              "      <th>max</th>\n",
              "      <td>8.123560e+07</td>\n",
              "      <td>2020.000000</td>\n",
              "      <td>15.000000</td>\n",
              "    </tr>\n",
              "  </tbody>\n",
              "</table>\n",
              "</div>"
            ],
            "text/plain": [
              "            show_id  release_year     duration\n",
              "count  1.969000e+03   1969.000000  1969.000000\n",
              "mean   7.904892e+07   2015.536313     1.779584\n",
              "std    3.462549e+06      5.799568     1.624936\n",
              "min    6.003679e+07   1925.000000     1.000000\n",
              "25%    8.009178e+07   2015.000000     1.000000\n",
              "50%    8.017572e+07   2017.000000     1.000000\n",
              "75%    8.023986e+07   2018.000000     2.000000\n",
              "max    8.123560e+07   2020.000000    15.000000"
            ]
          },
          "metadata": {
            "tags": []
          },
          "execution_count": 51
        }
      ]
    },
    {
      "cell_type": "code",
      "metadata": {
        "id": "dbf6h6Hpn0Lz",
        "outputId": "6a1a7b89-7978-44c0-9a00-b0a4196ec09b",
        "colab": {
          "base_uri": "https://localhost:8080/",
          "height": 0
        }
      },
      "source": [
        "print(df_tvshow.duration.value_counts())\n",
        "df_tvshow.duration.value_counts().plot(kind=\"bar\")"
      ],
      "execution_count": 52,
      "outputs": [
        {
          "output_type": "stream",
          "text": [
            "1     1321\n",
            "2      304\n",
            "3      158\n",
            "4       61\n",
            "5       46\n",
            "6       22\n",
            "7       21\n",
            "8       16\n",
            "9        7\n",
            "11       3\n",
            "10       3\n",
            "15       2\n",
            "13       2\n",
            "12       2\n",
            "14       1\n",
            "Name: duration, dtype: int64\n"
          ],
          "name": "stdout"
        },
        {
          "output_type": "execute_result",
          "data": {
            "text/plain": [
              "<matplotlib.axes._subplots.AxesSubplot at 0x7f361ef7e8d0>"
            ]
          },
          "metadata": {
            "tags": []
          },
          "execution_count": 52
        },
        {
          "output_type": "display_data",
          "data": {
            "image/png": "[encoded data removed]",
            "text/plain": [
              "<Figure size 432x288 with 1 Axes>"
            ]
          },
          "metadata": {
            "tags": [],
            "needs_background": "light"
          }
        }
      ]
    },
    {
      "cell_type": "markdown",
      "metadata": {
        "id": "wQmvMDppruQF"
      },
      "source": [
        "##### Get Average Duration per rating"
      ]
    },
    {
      "cell_type": "code",
      "metadata": {
        "id": "fT6oW1WqruQK",
        "outputId": "60cd8f21-aee2-4fe6-d51f-c0f6f2221b63",
        "colab": {
          "base_uri": "https://localhost:8080/",
          "height": 426
        }
      },
      "source": [
        "df_tvshow_rating_duration = df_tvshow.groupby('rating', as_index=False).mean()[['rating', 'duration']]\n",
        "df_tvshow_rating_duration"
      ],
      "execution_count": 66,
      "outputs": [
        {
          "output_type": "execute_result",
          "data": {
            "text/html": [
              "<div>\n",
              "<style scoped>\n",
              "    .dataframe tbody tr th:only-of-type {\n",
              "        vertical-align: middle;\n",
              "    }\n",
              "\n",
              "    .dataframe tbody tr th {\n",
              "        vertical-align: top;\n",
              "    }\n",
              "\n",
              "    .dataframe thead th {\n",
              "        text-align: right;\n",
              "    }\n",
              "</style>\n",
              "<table border=\"1\" class=\"dataframe\">\n",
              "  <thead>\n",
              "    <tr style=\"text-align: right;\">\n",
              "      <th></th>\n",
              "      <th>rating</th>\n",
              "      <th>duration</th>\n",
              "    </tr>\n",
              "  </thead>\n",
              "  <tbody>\n",
              "    <tr>\n",
              "      <th>0</th>\n",
              "      <td>G</td>\n",
              "      <td>1.000000</td>\n",
              "    </tr>\n",
              "    <tr>\n",
              "      <th>1</th>\n",
              "      <td>NR</td>\n",
              "      <td>2.875000</td>\n",
              "    </tr>\n",
              "    <tr>\n",
              "      <th>2</th>\n",
              "      <td>PG</td>\n",
              "      <td>2.000000</td>\n",
              "    </tr>\n",
              "    <tr>\n",
              "      <th>3</th>\n",
              "      <td>R</td>\n",
              "      <td>1.000000</td>\n",
              "    </tr>\n",
              "    <tr>\n",
              "      <th>4</th>\n",
              "      <td>TV-14</td>\n",
              "      <td>1.830303</td>\n",
              "    </tr>\n",
              "    <tr>\n",
              "      <th>5</th>\n",
              "      <td>TV-G</td>\n",
              "      <td>2.043478</td>\n",
              "    </tr>\n",
              "    <tr>\n",
              "      <th>6</th>\n",
              "      <td>TV-MA</td>\n",
              "      <td>1.622975</td>\n",
              "    </tr>\n",
              "    <tr>\n",
              "      <th>7</th>\n",
              "      <td>TV-PG</td>\n",
              "      <td>1.784387</td>\n",
              "    </tr>\n",
              "    <tr>\n",
              "      <th>8</th>\n",
              "      <td>TV-Y</td>\n",
              "      <td>1.882353</td>\n",
              "    </tr>\n",
              "    <tr>\n",
              "      <th>9</th>\n",
              "      <td>TV-Y7</td>\n",
              "      <td>1.920000</td>\n",
              "    </tr>\n",
              "    <tr>\n",
              "      <th>10</th>\n",
              "      <td>TV-Y7-FV</td>\n",
              "      <td>2.000000</td>\n",
              "    </tr>\n",
              "    <tr>\n",
              "      <th>11</th>\n",
              "      <td>UNKNOWN</td>\n",
              "      <td>1.000000</td>\n",
              "    </tr>\n",
              "  </tbody>\n",
              "</table>\n",
              "</div>"
            ],
            "text/plain": [
              "      rating  duration\n",
              "0          G  1.000000\n",
              "1         NR  2.875000\n",
              "2         PG  2.000000\n",
              "3          R  1.000000\n",
              "4      TV-14  1.830303\n",
              "5       TV-G  2.043478\n",
              "6      TV-MA  1.622975\n",
              "7      TV-PG  1.784387\n",
              "8       TV-Y  1.882353\n",
              "9      TV-Y7  1.920000\n",
              "10  TV-Y7-FV  2.000000\n",
              "11   UNKNOWN  1.000000"
            ]
          },
          "metadata": {
            "tags": []
          },
          "execution_count": 66
        }
      ]
    },
    {
      "cell_type": "code",
      "metadata": {
        "id": "0p4CFt8dACsr",
        "outputId": "a6a0d749-748c-4ab8-c810-64f43b9da37a",
        "colab": {
          "base_uri": "https://localhost:8080/",
          "height": 411
        }
      },
      "source": [
        "fig, ax = plt.subplots(figsize=(12, 6))\n",
        "bars = ax.bar(np.arange(len(df_tvshow_rating_duration)), height=df_tvshow_rating_duration['duration'])\n",
        "ax.set_xticks(np.arange(len(df_tvshow_rating_duration)))\n",
        "ax.set_xticklabels(df_tvshow_rating_duration['rating'], rotation=45, ha=\"right\")\n",
        "    \n",
        "plt.show()"
      ],
      "execution_count": 67,
      "outputs": [
        {
          "output_type": "display_data",
          "data": {
            "image/png": "[encoded data removed]",
            "text/plain": [
              "<Figure size 864x432 with 1 Axes>"
            ]
          },
          "metadata": {
            "tags": [],
            "needs_background": "light"
          }
        }
      ]
    }
  ]
}