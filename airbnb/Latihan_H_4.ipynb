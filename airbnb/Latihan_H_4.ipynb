{
  "nbformat": 4,
  "nbformat_minor": 0,
  "metadata": {
    "colab": {
      "name": "Latihan H-4.ipynb",
      "provenance": [],
      "include_colab_link": true
    },
    "kernelspec": {
      "name": "python3",
      "display_name": "Python 3"
    }
  },
  "cells": [
    {
      "cell_type": "markdown",
      "metadata": {
        "id": "view-in-github",
        "colab_type": "text"
      },
      "source": [
        "<a href=\"https://colab.research.google.com/github/rindanh/Latihan-NDSC/blob/main/airbnb/Latihan_H_4.ipynb\" target=\"_parent\"><img src=\"https://colab.research.google.com/assets/colab-badge.svg\" alt=\"Open In Colab\"/></a>"
      ]
    },
    {
      "cell_type": "code",
      "metadata": {
        "id": "-jtpI20Ac_r1"
      },
      "source": [
        "import pandas as pd\n",
        "import numpy as np\n",
        "import matplotlib.pyplot as plt\n",
        "from collections import Counter\n",
        "import seaborn as sns\n",
        "import time\n",
        "from tqdm.notebook import tqdm\n",
        "from sklearn.model_selection import StratifiedKFold"
      ],
      "execution_count": 1,
      "outputs": []
    },
    {
      "cell_type": "markdown",
      "metadata": {
        "id": "KBH3fiuAqjsv"
      },
      "source": [
        "### **Bagi data train test (kalo belum ada pembagian)**"
      ]
    },
    {
      "cell_type": "code",
      "metadata": {
        "id": "0QRgxF5MqN0x",
        "colab": {
          "base_uri": "https://localhost:8080/"
        },
        "outputId": "c7d1da1a-58c7-4c30-fada-6fe24cc74145"
      },
      "source": [
        "url = 'https://raw.githubusercontent.com/rindanh/Latihan-NDSC/main/airbnb/'\n",
        "df = pd.read_csv(url + \"AB_US_2020.csv\")"
      ],
      "execution_count": 2,
      "outputs": [
        {
          "output_type": "stream",
          "text": [
            "/usr/local/lib/python3.6/dist-packages/IPython/core/interactiveshell.py:2718: DtypeWarning: Columns (4) have mixed types.Specify dtype option on import or set low_memory=False.\n",
            "  interactivity=interactivity, compiler=compiler, result=result)\n"
          ],
          "name": "stderr"
        }
      ]
    },
    {
      "cell_type": "code",
      "metadata": {
        "id": "ObU31c7TqWl2"
      },
      "source": [
        "from sklearn.model_selection import train_test_split\n",
        "\n",
        "X = df.drop(columns=['price'])\n",
        "Y = df.price\n",
        "\n",
        "X_train, X_test, Y_train, Y_test = train_test_split(X, Y, test_size=0.5, random_state=42)"
      ],
      "execution_count": 3,
      "outputs": []
    },
    {
      "cell_type": "code",
      "metadata": {
        "id": "9YWyzUcsTYgu"
      },
      "source": [
        "df_train = pd.concat([X_train, Y_train], axis=1)\n",
        "df_test = pd.concat([X_test, Y_test], axis=1)"
      ],
      "execution_count": 4,
      "outputs": []
    },
    {
      "cell_type": "markdown",
      "metadata": {
        "id": "YKFR4bNTiwjB"
      },
      "source": [
        "### **Siapin data train test (kalo udah ada pembagian)**"
      ]
    },
    {
      "cell_type": "code",
      "metadata": {
        "id": "6JyKzWyRiwjB"
      },
      "source": [
        "df_train = pd.read_csv(\"/content/drive/My Drive/LOMBA/NDSC/...\")\n",
        "df_test = pd.read_csv(\"/content/drive/My Drive/LOMBA/NDSC/...\")\n",
        "sample = pd.read_csv(\"/content/drive/My Drive/LOMBA/NDSC/...\")"
      ],
      "execution_count": null,
      "outputs": []
    },
    {
      "cell_type": "code",
      "metadata": {
        "id": "0sXD6qCqjB9t"
      },
      "source": [
        "X_train = df_train[:]\n",
        "Y_train = df_train['']\n",
        "\n",
        "X_test = df_test[:]\n",
        "Y_test = df_test['']"
      ],
      "execution_count": null,
      "outputs": []
    },
    {
      "cell_type": "markdown",
      "metadata": {
        "id": "tBYLcMfhrd0x"
      },
      "source": [
        "### **Analisis Awal**"
      ]
    },
    {
      "cell_type": "code",
      "metadata": {
        "colab": {
          "base_uri": "https://localhost:8080/",
          "height": 569
        },
        "id": "SQn4xGUbqXvO",
        "outputId": "5c05d88d-aba0-4442-a458-6a9f6e24d8b8"
      },
      "source": [
        "X_train.head().T"
      ],
      "execution_count": 5,
      "outputs": [
        {
          "output_type": "execute_result",
          "data": {
            "text/html": [
              "<div>\n",
              "<style scoped>\n",
              "    .dataframe tbody tr th:only-of-type {\n",
              "        vertical-align: middle;\n",
              "    }\n",
              "\n",
              "    .dataframe tbody tr th {\n",
              "        vertical-align: top;\n",
              "    }\n",
              "\n",
              "    .dataframe thead th {\n",
              "        text-align: right;\n",
              "    }\n",
              "</style>\n",
              "<table border=\"1\" class=\"dataframe\">\n",
              "  <thead>\n",
              "    <tr style=\"text-align: right;\">\n",
              "      <th></th>\n",
              "      <th>183806</th>\n",
              "      <th>22199</th>\n",
              "      <th>114665</th>\n",
              "      <th>179735</th>\n",
              "      <th>57719</th>\n",
              "    </tr>\n",
              "  </thead>\n",
              "  <tbody>\n",
              "    <tr>\n",
              "      <th>id</th>\n",
              "      <td>10922065</td>\n",
              "      <td>35027501</td>\n",
              "      <td>32067722</td>\n",
              "      <td>36174824</td>\n",
              "      <td>22707293</td>\n",
              "    </tr>\n",
              "    <tr>\n",
              "      <th>name</th>\n",
              "      <td>Large Double Queen Bedroom in Charming Beach Home</td>\n",
              "      <td>Cozy Spacious Modern Studio</td>\n",
              "      <td>Luxury Modern Condo in AWESOME location!!!!</td>\n",
              "      <td>Bed,Bath, Study,TV-picturesque views &amp; wildlif...</td>\n",
              "      <td>‚ù§Ô∏è RENOVATED!  AMAZING OCEAN VIEW! ‚ù§Ô∏è</td>\n",
              "    </tr>\n",
              "    <tr>\n",
              "      <th>host_id</th>\n",
              "      <td>3816836</td>\n",
              "      <td>48974322</td>\n",
              "      <td>112910785</td>\n",
              "      <td>270882987</td>\n",
              "      <td>15101308</td>\n",
              "    </tr>\n",
              "    <tr>\n",
              "      <th>host_name</th>\n",
              "      <td>Tom</td>\n",
              "      <td>Pamela</td>\n",
              "      <td>Marigny</td>\n",
              "      <td>Nitu</td>\n",
              "      <td>Jill</td>\n",
              "    </tr>\n",
              "    <tr>\n",
              "      <th>neighbourhood_group</th>\n",
              "      <td>NaN</td>\n",
              "      <td>NaN</td>\n",
              "      <td>NaN</td>\n",
              "      <td>NaN</td>\n",
              "      <td>Maui</td>\n",
              "    </tr>\n",
              "    <tr>\n",
              "      <th>neighbourhood</th>\n",
              "      <td>Pacific Beach</td>\n",
              "      <td>Pembroke Pines</td>\n",
              "      <td>Central Business District</td>\n",
              "      <td>San Jose</td>\n",
              "      <td>Lahaina</td>\n",
              "    </tr>\n",
              "    <tr>\n",
              "      <th>latitude</th>\n",
              "      <td>32.8097</td>\n",
              "      <td>26.0157</td>\n",
              "      <td>29.9514</td>\n",
              "      <td>37.3596</td>\n",
              "      <td>20.9504</td>\n",
              "    </tr>\n",
              "    <tr>\n",
              "      <th>longitude</th>\n",
              "      <td>-117.248</td>\n",
              "      <td>-80.2539</td>\n",
              "      <td>-90.0711</td>\n",
              "      <td>-121.801</td>\n",
              "      <td>-156.689</td>\n",
              "    </tr>\n",
              "    <tr>\n",
              "      <th>room_type</th>\n",
              "      <td>Private room</td>\n",
              "      <td>Entire home/apt</td>\n",
              "      <td>Entire home/apt</td>\n",
              "      <td>Private room</td>\n",
              "      <td>Entire home/apt</td>\n",
              "    </tr>\n",
              "    <tr>\n",
              "      <th>minimum_nights</th>\n",
              "      <td>3</td>\n",
              "      <td>2</td>\n",
              "      <td>2</td>\n",
              "      <td>1</td>\n",
              "      <td>3</td>\n",
              "    </tr>\n",
              "    <tr>\n",
              "      <th>number_of_reviews</th>\n",
              "      <td>0</td>\n",
              "      <td>37</td>\n",
              "      <td>23</td>\n",
              "      <td>8</td>\n",
              "      <td>16</td>\n",
              "    </tr>\n",
              "    <tr>\n",
              "      <th>last_review</th>\n",
              "      <td>NaN</td>\n",
              "      <td>15/03/20</td>\n",
              "      <td>01/03/20</td>\n",
              "      <td>24/01/20</td>\n",
              "      <td>22/02/20</td>\n",
              "    </tr>\n",
              "    <tr>\n",
              "      <th>reviews_per_month</th>\n",
              "      <td>NaN</td>\n",
              "      <td>2.86</td>\n",
              "      <td>1.27</td>\n",
              "      <td>0.69</td>\n",
              "      <td>0.62</td>\n",
              "    </tr>\n",
              "    <tr>\n",
              "      <th>calculated_host_listings_count</th>\n",
              "      <td>10</td>\n",
              "      <td>2</td>\n",
              "      <td>60</td>\n",
              "      <td>4</td>\n",
              "      <td>3</td>\n",
              "    </tr>\n",
              "    <tr>\n",
              "      <th>availability_365</th>\n",
              "      <td>32</td>\n",
              "      <td>109</td>\n",
              "      <td>347</td>\n",
              "      <td>284</td>\n",
              "      <td>330</td>\n",
              "    </tr>\n",
              "    <tr>\n",
              "      <th>city</th>\n",
              "      <td>San Diego</td>\n",
              "      <td>Broward County</td>\n",
              "      <td>New Orleans</td>\n",
              "      <td>San Clara Country</td>\n",
              "      <td>Hawaii</td>\n",
              "    </tr>\n",
              "  </tbody>\n",
              "</table>\n",
              "</div>"
            ],
            "text/plain": [
              "                                                                           183806  ...                                         57719 \n",
              "id                                                                       10922065  ...                                       22707293\n",
              "name                            Large Double Queen Bedroom in Charming Beach Home  ...  ‚ù§Ô∏è RENOVATED!  AMAZING OCEAN VIEW! ‚ù§Ô∏è\n",
              "host_id                                                                   3816836  ...                                       15101308\n",
              "host_name                                                                     Tom  ...                                           Jill\n",
              "neighbourhood_group                                                           NaN  ...                                           Maui\n",
              "neighbourhood                                                       Pacific Beach  ...                                        Lahaina\n",
              "latitude                                                                  32.8097  ...                                        20.9504\n",
              "longitude                                                                -117.248  ...                                       -156.689\n",
              "room_type                                                            Private room  ...                                Entire home/apt\n",
              "minimum_nights                                                                  3  ...                                              3\n",
              "number_of_reviews                                                               0  ...                                             16\n",
              "last_review                                                                   NaN  ...                                       22/02/20\n",
              "reviews_per_month                                                             NaN  ...                                           0.62\n",
              "calculated_host_listings_count                                                 10  ...                                              3\n",
              "availability_365                                                               32  ...                                            330\n",
              "city                                                                    San Diego  ...                                         Hawaii\n",
              "\n",
              "[16 rows x 5 columns]"
            ]
          },
          "metadata": {
            "tags": []
          },
          "execution_count": 5
        }
      ]
    },
    {
      "cell_type": "code",
      "metadata": {
        "colab": {
          "base_uri": "https://localhost:8080/",
          "height": 569
        },
        "id": "M-c-r9g1day4",
        "outputId": "c4aba90f-0af7-4afe-c65d-586ec2f45de1"
      },
      "source": [
        "X_test.head().T"
      ],
      "execution_count": 6,
      "outputs": [
        {
          "output_type": "execute_result",
          "data": {
            "text/html": [
              "<div>\n",
              "<style scoped>\n",
              "    .dataframe tbody tr th:only-of-type {\n",
              "        vertical-align: middle;\n",
              "    }\n",
              "\n",
              "    .dataframe tbody tr th {\n",
              "        vertical-align: top;\n",
              "    }\n",
              "\n",
              "    .dataframe thead th {\n",
              "        text-align: right;\n",
              "    }\n",
              "</style>\n",
              "<table border=\"1\" class=\"dataframe\">\n",
              "  <thead>\n",
              "    <tr style=\"text-align: right;\">\n",
              "      <th></th>\n",
              "      <th>182851</th>\n",
              "      <th>46603</th>\n",
              "      <th>18675</th>\n",
              "      <th>90901</th>\n",
              "      <th>25085</th>\n",
              "    </tr>\n",
              "  </thead>\n",
              "  <tbody>\n",
              "    <tr>\n",
              "      <th>id</th>\n",
              "      <td>6123863</td>\n",
              "      <td>33341740</td>\n",
              "      <td>21784725</td>\n",
              "      <td>30562982</td>\n",
              "      <td>41833198</td>\n",
              "    </tr>\n",
              "    <tr>\n",
              "      <th>name</th>\n",
              "      <td>Stylish Remodeled House with Deck, Steps to Di...</td>\n",
              "      <td>Lux420, Rftop deck, Hot tub, Elvtr in ‚ù§Ô∏è o...</td>\n",
              "      <td>LARGE POOL HOUSE IN HOLLYWOOD NEW POOL DECK</td>\n",
              "      <td>Modern 2 BR House in Hollywood, Keyless Entry!</td>\n",
              "      <td>New Renovated House - Hard Rock / Hollywood Beach</td>\n",
              "    </tr>\n",
              "    <tr>\n",
              "      <th>host_id</th>\n",
              "      <td>9072515</td>\n",
              "      <td>111000374</td>\n",
              "      <td>158736535</td>\n",
              "      <td>134940933</td>\n",
              "      <td>120149672</td>\n",
              "    </tr>\n",
              "    <tr>\n",
              "      <th>host_name</th>\n",
              "      <td>Jessica</td>\n",
              "      <td>Elma</td>\n",
              "      <td>Euseb</td>\n",
              "      <td>Jonathan</td>\n",
              "      <td>Yaseen</td>\n",
              "    </tr>\n",
              "    <tr>\n",
              "      <th>neighbourhood_group</th>\n",
              "      <td>NaN</td>\n",
              "      <td>NaN</td>\n",
              "      <td>NaN</td>\n",
              "      <td>City of Los Angeles</td>\n",
              "      <td>NaN</td>\n",
              "    </tr>\n",
              "    <tr>\n",
              "      <th>neighbourhood</th>\n",
              "      <td>West University Heights</td>\n",
              "      <td>Five Points</td>\n",
              "      <td>Hollywood</td>\n",
              "      <td>Hollywood Hills</td>\n",
              "      <td>Hollywood</td>\n",
              "    </tr>\n",
              "    <tr>\n",
              "      <th>latitude</th>\n",
              "      <td>32.7599</td>\n",
              "      <td>39.7544</td>\n",
              "      <td>26.016</td>\n",
              "      <td>34.1191</td>\n",
              "      <td>26.0159</td>\n",
              "    </tr>\n",
              "    <tr>\n",
              "      <th>longitude</th>\n",
              "      <td>-117.143</td>\n",
              "      <td>-104.985</td>\n",
              "      <td>-80.2309</td>\n",
              "      <td>-118.32</td>\n",
              "      <td>-80.2301</td>\n",
              "    </tr>\n",
              "    <tr>\n",
              "      <th>room_type</th>\n",
              "      <td>Entire home/apt</td>\n",
              "      <td>Entire home/apt</td>\n",
              "      <td>Entire home/apt</td>\n",
              "      <td>Entire home/apt</td>\n",
              "      <td>Entire home/apt</td>\n",
              "    </tr>\n",
              "    <tr>\n",
              "      <th>minimum_nights</th>\n",
              "      <td>2</td>\n",
              "      <td>30</td>\n",
              "      <td>2</td>\n",
              "      <td>30</td>\n",
              "      <td>2</td>\n",
              "    </tr>\n",
              "    <tr>\n",
              "      <th>number_of_reviews</th>\n",
              "      <td>28</td>\n",
              "      <td>35</td>\n",
              "      <td>10</td>\n",
              "      <td>0</td>\n",
              "      <td>10</td>\n",
              "    </tr>\n",
              "    <tr>\n",
              "      <th>last_review</th>\n",
              "      <td>12/07/20</td>\n",
              "      <td>29/12/19</td>\n",
              "      <td>17/02/20</td>\n",
              "      <td>NaN</td>\n",
              "      <td>28/04/20</td>\n",
              "    </tr>\n",
              "    <tr>\n",
              "      <th>reviews_per_month</th>\n",
              "      <td>0.44</td>\n",
              "      <td>2.42</td>\n",
              "      <td>0.36</td>\n",
              "      <td>NaN</td>\n",
              "      <td>2.16</td>\n",
              "    </tr>\n",
              "    <tr>\n",
              "      <th>calculated_host_listings_count</th>\n",
              "      <td>1</td>\n",
              "      <td>3</td>\n",
              "      <td>1</td>\n",
              "      <td>1</td>\n",
              "      <td>1</td>\n",
              "    </tr>\n",
              "    <tr>\n",
              "      <th>availability_365</th>\n",
              "      <td>300</td>\n",
              "      <td>362</td>\n",
              "      <td>331</td>\n",
              "      <td>0</td>\n",
              "      <td>15</td>\n",
              "    </tr>\n",
              "    <tr>\n",
              "      <th>city</th>\n",
              "      <td>San Diego</td>\n",
              "      <td>Denver</td>\n",
              "      <td>Broward County</td>\n",
              "      <td>Los Angeles</td>\n",
              "      <td>Broward County</td>\n",
              "    </tr>\n",
              "  </tbody>\n",
              "</table>\n",
              "</div>"
            ],
            "text/plain": [
              "                                                                           182851  ...                                             25085 \n",
              "id                                                                        6123863  ...                                           41833198\n",
              "name                            Stylish Remodeled House with Deck, Steps to Di...  ...  New Renovated House - Hard Rock / Hollywood Beach\n",
              "host_id                                                                   9072515  ...                                          120149672\n",
              "host_name                                                                 Jessica  ...                                             Yaseen\n",
              "neighbourhood_group                                                           NaN  ...                                                NaN\n",
              "neighbourhood                                             West University Heights  ...                                          Hollywood\n",
              "latitude                                                                  32.7599  ...                                            26.0159\n",
              "longitude                                                                -117.143  ...                                           -80.2301\n",
              "room_type                                                         Entire home/apt  ...                                    Entire home/apt\n",
              "minimum_nights                                                                  2  ...                                                  2\n",
              "number_of_reviews                                                              28  ...                                                 10\n",
              "last_review                                                              12/07/20  ...                                           28/04/20\n",
              "reviews_per_month                                                            0.44  ...                                               2.16\n",
              "calculated_host_listings_count                                                  1  ...                                                  1\n",
              "availability_365                                                              300  ...                                                 15\n",
              "city                                                                    San Diego  ...                                     Broward County\n",
              "\n",
              "[16 rows x 5 columns]"
            ]
          },
          "metadata": {
            "tags": []
          },
          "execution_count": 6
        }
      ]
    },
    {
      "cell_type": "code",
      "metadata": {
        "colab": {
          "base_uri": "https://localhost:8080/",
          "height": 332
        },
        "id": "5QIItoy6dr0i",
        "outputId": "6e91cce7-e271-4644-a032-9f72eb5211db"
      },
      "source": [
        "X_train.describe().T"
      ],
      "execution_count": 7,
      "outputs": [
        {
          "output_type": "execute_result",
          "data": {
            "text/html": [
              "<div>\n",
              "<style scoped>\n",
              "    .dataframe tbody tr th:only-of-type {\n",
              "        vertical-align: middle;\n",
              "    }\n",
              "\n",
              "    .dataframe tbody tr th {\n",
              "        vertical-align: top;\n",
              "    }\n",
              "\n",
              "    .dataframe thead th {\n",
              "        text-align: right;\n",
              "    }\n",
              "</style>\n",
              "<table border=\"1\" class=\"dataframe\">\n",
              "  <thead>\n",
              "    <tr style=\"text-align: right;\">\n",
              "      <th></th>\n",
              "      <th>count</th>\n",
              "      <th>mean</th>\n",
              "      <th>std</th>\n",
              "      <th>min</th>\n",
              "      <th>25%</th>\n",
              "      <th>50%</th>\n",
              "      <th>75%</th>\n",
              "      <th>max</th>\n",
              "    </tr>\n",
              "  </thead>\n",
              "  <tbody>\n",
              "    <tr>\n",
              "      <th>id</th>\n",
              "      <td>113015.0</td>\n",
              "      <td>2.547587e+07</td>\n",
              "      <td>1.316295e+07</td>\n",
              "      <td>109.00000</td>\n",
              "      <td>1.520671e+07</td>\n",
              "      <td>2.583618e+07</td>\n",
              "      <td>3.774686e+07</td>\n",
              "      <td>4.551439e+07</td>\n",
              "    </tr>\n",
              "    <tr>\n",
              "      <th>host_id</th>\n",
              "      <td>113015.0</td>\n",
              "      <td>9.374970e+07</td>\n",
              "      <td>9.815399e+07</td>\n",
              "      <td>23.00000</td>\n",
              "      <td>1.423898e+07</td>\n",
              "      <td>5.153162e+07</td>\n",
              "      <td>1.506332e+08</td>\n",
              "      <td>3.679176e+08</td>\n",
              "    </tr>\n",
              "    <tr>\n",
              "      <th>latitude</th>\n",
              "      <td>113015.0</td>\n",
              "      <td>3.563081e+01</td>\n",
              "      <td>6.869376e+00</td>\n",
              "      <td>18.92099</td>\n",
              "      <td>3.275422e+01</td>\n",
              "      <td>3.714373e+01</td>\n",
              "      <td>4.072340e+01</td>\n",
              "      <td>4.773462e+01</td>\n",
              "    </tr>\n",
              "    <tr>\n",
              "      <th>longitude</th>\n",
              "      <td>113015.0</td>\n",
              "      <td>-1.032532e+02</td>\n",
              "      <td>2.625080e+01</td>\n",
              "      <td>-159.71490</td>\n",
              "      <td>-1.186000e+02</td>\n",
              "      <td>-9.781701e+01</td>\n",
              "      <td>-7.692509e+01</td>\n",
              "      <td>-7.099595e+01</td>\n",
              "    </tr>\n",
              "    <tr>\n",
              "      <th>minimum_nights</th>\n",
              "      <td>113015.0</td>\n",
              "      <td>1.018321e+01</td>\n",
              "      <td>2.570696e+01</td>\n",
              "      <td>1.00000</td>\n",
              "      <td>1.000000e+00</td>\n",
              "      <td>2.000000e+00</td>\n",
              "      <td>7.000000e+00</td>\n",
              "      <td>1.250000e+03</td>\n",
              "    </tr>\n",
              "    <tr>\n",
              "      <th>number_of_reviews</th>\n",
              "      <td>113015.0</td>\n",
              "      <td>3.447616e+01</td>\n",
              "      <td>6.349722e+01</td>\n",
              "      <td>0.00000</td>\n",
              "      <td>1.000000e+00</td>\n",
              "      <td>8.000000e+00</td>\n",
              "      <td>3.900000e+01</td>\n",
              "      <td>9.530000e+02</td>\n",
              "    </tr>\n",
              "    <tr>\n",
              "      <th>reviews_per_month</th>\n",
              "      <td>88602.0</td>\n",
              "      <td>1.438040e+00</td>\n",
              "      <td>1.696134e+00</td>\n",
              "      <td>0.01000</td>\n",
              "      <td>2.300000e-01</td>\n",
              "      <td>8.200000e-01</td>\n",
              "      <td>2.070000e+00</td>\n",
              "      <td>4.406000e+01</td>\n",
              "    </tr>\n",
              "    <tr>\n",
              "      <th>calculated_host_listings_count</th>\n",
              "      <td>113015.0</td>\n",
              "      <td>1.662728e+01</td>\n",
              "      <td>5.114299e+01</td>\n",
              "      <td>1.00000</td>\n",
              "      <td>1.000000e+00</td>\n",
              "      <td>2.000000e+00</td>\n",
              "      <td>6.000000e+00</td>\n",
              "      <td>5.930000e+02</td>\n",
              "    </tr>\n",
              "    <tr>\n",
              "      <th>availability_365</th>\n",
              "      <td>113015.0</td>\n",
              "      <td>1.596366e+02</td>\n",
              "      <td>1.403102e+02</td>\n",
              "      <td>0.00000</td>\n",
              "      <td>0.000000e+00</td>\n",
              "      <td>1.410000e+02</td>\n",
              "      <td>3.120000e+02</td>\n",
              "      <td>3.650000e+02</td>\n",
              "    </tr>\n",
              "  </tbody>\n",
              "</table>\n",
              "</div>"
            ],
            "text/plain": [
              "                                   count  ...           max\n",
              "id                              113015.0  ...  4.551439e+07\n",
              "host_id                         113015.0  ...  3.679176e+08\n",
              "latitude                        113015.0  ...  4.773462e+01\n",
              "longitude                       113015.0  ... -7.099595e+01\n",
              "minimum_nights                  113015.0  ...  1.250000e+03\n",
              "number_of_reviews               113015.0  ...  9.530000e+02\n",
              "reviews_per_month                88602.0  ...  4.406000e+01\n",
              "calculated_host_listings_count  113015.0  ...  5.930000e+02\n",
              "availability_365                113015.0  ...  3.650000e+02\n",
              "\n",
              "[9 rows x 8 columns]"
            ]
          },
          "metadata": {
            "tags": []
          },
          "execution_count": 7
        }
      ]
    },
    {
      "cell_type": "code",
      "metadata": {
        "colab": {
          "base_uri": "https://localhost:8080/",
          "height": 332
        },
        "id": "aextISwqdr33",
        "outputId": "e5adb911-d432-4714-b0d1-73ce0542c29d"
      },
      "source": [
        "X_test.describe().T"
      ],
      "execution_count": 8,
      "outputs": [
        {
          "output_type": "execute_result",
          "data": {
            "text/html": [
              "<div>\n",
              "<style scoped>\n",
              "    .dataframe tbody tr th:only-of-type {\n",
              "        vertical-align: middle;\n",
              "    }\n",
              "\n",
              "    .dataframe tbody tr th {\n",
              "        vertical-align: top;\n",
              "    }\n",
              "\n",
              "    .dataframe thead th {\n",
              "        text-align: right;\n",
              "    }\n",
              "</style>\n",
              "<table border=\"1\" class=\"dataframe\">\n",
              "  <thead>\n",
              "    <tr style=\"text-align: right;\">\n",
              "      <th></th>\n",
              "      <th>count</th>\n",
              "      <th>mean</th>\n",
              "      <th>std</th>\n",
              "      <th>min</th>\n",
              "      <th>25%</th>\n",
              "      <th>50%</th>\n",
              "      <th>75%</th>\n",
              "      <th>max</th>\n",
              "    </tr>\n",
              "  </thead>\n",
              "  <tbody>\n",
              "    <tr>\n",
              "      <th>id</th>\n",
              "      <td>113015.0</td>\n",
              "      <td>2.546764e+07</td>\n",
              "      <td>1.319338e+07</td>\n",
              "      <td>344.00000</td>\n",
              "      <td>1.510990e+07</td>\n",
              "      <td>2.597801e+07</td>\n",
              "      <td>3.771301e+07</td>\n",
              "      <td>4.556085e+07</td>\n",
              "    </tr>\n",
              "    <tr>\n",
              "      <th>host_id</th>\n",
              "      <td>113015.0</td>\n",
              "      <td>9.329800e+07</td>\n",
              "      <td>9.839422e+07</td>\n",
              "      <td>23.00000</td>\n",
              "      <td>1.373679e+07</td>\n",
              "      <td>5.108071e+07</td>\n",
              "      <td>1.491236e+08</td>\n",
              "      <td>3.679071e+08</td>\n",
              "    </tr>\n",
              "    <tr>\n",
              "      <th>latitude</th>\n",
              "      <td>113015.0</td>\n",
              "      <td>3.569484e+01</td>\n",
              "      <td>6.830159e+00</td>\n",
              "      <td>18.98232</td>\n",
              "      <td>3.276887e+01</td>\n",
              "      <td>3.729647e+01</td>\n",
              "      <td>4.072478e+01</td>\n",
              "      <td>4.773395e+01</td>\n",
              "    </tr>\n",
              "    <tr>\n",
              "      <th>longitude</th>\n",
              "      <td>113015.0</td>\n",
              "      <td>-1.031881e+02</td>\n",
              "      <td>2.619343e+01</td>\n",
              "      <td>-159.71428</td>\n",
              "      <td>-1.185946e+02</td>\n",
              "      <td>-9.781725e+01</td>\n",
              "      <td>-7.418282e+01</td>\n",
              "      <td>-7.100200e+01</td>\n",
              "    </tr>\n",
              "    <tr>\n",
              "      <th>minimum_nights</th>\n",
              "      <td>113015.0</td>\n",
              "      <td>8.949147e+02</td>\n",
              "      <td>2.974623e+05</td>\n",
              "      <td>1.00000</td>\n",
              "      <td>1.000000e+00</td>\n",
              "      <td>2.000000e+00</td>\n",
              "      <td>7.000000e+00</td>\n",
              "      <td>1.000000e+08</td>\n",
              "    </tr>\n",
              "    <tr>\n",
              "      <th>number_of_reviews</th>\n",
              "      <td>113015.0</td>\n",
              "      <td>3.453690e+01</td>\n",
              "      <td>6.370870e+01</td>\n",
              "      <td>0.00000</td>\n",
              "      <td>1.000000e+00</td>\n",
              "      <td>8.000000e+00</td>\n",
              "      <td>3.900000e+01</td>\n",
              "      <td>9.660000e+02</td>\n",
              "    </tr>\n",
              "    <tr>\n",
              "      <th>reviews_per_month</th>\n",
              "      <td>88826.0</td>\n",
              "      <td>1.424877e+00</td>\n",
              "      <td>1.670202e+00</td>\n",
              "      <td>0.01000</td>\n",
              "      <td>2.300000e-01</td>\n",
              "      <td>8.000000e-01</td>\n",
              "      <td>2.060000e+00</td>\n",
              "      <td>3.243000e+01</td>\n",
              "    </tr>\n",
              "    <tr>\n",
              "      <th>calculated_host_listings_count</th>\n",
              "      <td>113015.0</td>\n",
              "      <td>1.676984e+01</td>\n",
              "      <td>5.099496e+01</td>\n",
              "      <td>1.00000</td>\n",
              "      <td>1.000000e+00</td>\n",
              "      <td>2.000000e+00</td>\n",
              "      <td>6.000000e+00</td>\n",
              "      <td>5.930000e+02</td>\n",
              "    </tr>\n",
              "    <tr>\n",
              "      <th>availability_365</th>\n",
              "      <td>113015.0</td>\n",
              "      <td>1.589931e+02</td>\n",
              "      <td>1.400488e+02</td>\n",
              "      <td>0.00000</td>\n",
              "      <td>0.000000e+00</td>\n",
              "      <td>1.390000e+02</td>\n",
              "      <td>3.110000e+02</td>\n",
              "      <td>3.650000e+02</td>\n",
              "    </tr>\n",
              "  </tbody>\n",
              "</table>\n",
              "</div>"
            ],
            "text/plain": [
              "                                   count  ...           max\n",
              "id                              113015.0  ...  4.556085e+07\n",
              "host_id                         113015.0  ...  3.679071e+08\n",
              "latitude                        113015.0  ...  4.773395e+01\n",
              "longitude                       113015.0  ... -7.100200e+01\n",
              "minimum_nights                  113015.0  ...  1.000000e+08\n",
              "number_of_reviews               113015.0  ...  9.660000e+02\n",
              "reviews_per_month                88826.0  ...  3.243000e+01\n",
              "calculated_host_listings_count  113015.0  ...  5.930000e+02\n",
              "availability_365                113015.0  ...  3.650000e+02\n",
              "\n",
              "[9 rows x 8 columns]"
            ]
          },
          "metadata": {
            "tags": []
          },
          "execution_count": 8
        }
      ]
    },
    {
      "cell_type": "code",
      "metadata": {
        "id": "yZJF5USpdusj"
      },
      "source": [
        "def dataset_summary(df) :\n",
        "\n",
        "    # Buat summary dataframe\n",
        "    summary_df = pd.DataFrame()\n",
        "\n",
        "    # Isi summary\n",
        "    summary_df['Var'] = df.columns\n",
        "    summary_df['Dtypes'] = df.dtypes.values\n",
        "    summary_df['Total Missing'] = df.isnull().sum().values\n",
        "    summary_df['Missing%'] = summary_df['Total Missing'] / len(df) * 100\n",
        "    summary_df['Total Unique'] = df.nunique().values\n",
        "    summary_df['Unique%'] = summary_df['Total Unique'] / len(df) * 100\n",
        "\n",
        "    # Ukuran dataset\n",
        "    print('Dataset dimension :',df.shape)\n",
        "\n",
        "    return summary_df"
      ],
      "execution_count": 9,
      "outputs": []
    },
    {
      "cell_type": "code",
      "metadata": {
        "colab": {
          "base_uri": "https://localhost:8080/",
          "height": 569
        },
        "id": "xRDqck3nduvB",
        "outputId": "3f2eb392-5f0f-470f-c9be-7152bc12ddea"
      },
      "source": [
        "dataset_summary(X_train)"
      ],
      "execution_count": 10,
      "outputs": [
        {
          "output_type": "stream",
          "text": [
            "Dataset dimension : (113015, 16)\n"
          ],
          "name": "stdout"
        },
        {
          "output_type": "execute_result",
          "data": {
            "text/html": [
              "<div>\n",
              "<style scoped>\n",
              "    .dataframe tbody tr th:only-of-type {\n",
              "        vertical-align: middle;\n",
              "    }\n",
              "\n",
              "    .dataframe tbody tr th {\n",
              "        vertical-align: top;\n",
              "    }\n",
              "\n",
              "    .dataframe thead th {\n",
              "        text-align: right;\n",
              "    }\n",
              "</style>\n",
              "<table border=\"1\" class=\"dataframe\">\n",
              "  <thead>\n",
              "    <tr style=\"text-align: right;\">\n",
              "      <th></th>\n",
              "      <th>Var</th>\n",
              "      <th>Dtypes</th>\n",
              "      <th>Total Missing</th>\n",
              "      <th>Missing%</th>\n",
              "      <th>Total Unique</th>\n",
              "      <th>Unique%</th>\n",
              "    </tr>\n",
              "  </thead>\n",
              "  <tbody>\n",
              "    <tr>\n",
              "      <th>0</th>\n",
              "      <td>id</td>\n",
              "      <td>int64</td>\n",
              "      <td>0</td>\n",
              "      <td>0.000000</td>\n",
              "      <td>113014</td>\n",
              "      <td>99.999115</td>\n",
              "    </tr>\n",
              "    <tr>\n",
              "      <th>1</th>\n",
              "      <td>name</td>\n",
              "      <td>object</td>\n",
              "      <td>15</td>\n",
              "      <td>0.013273</td>\n",
              "      <td>110279</td>\n",
              "      <td>97.579082</td>\n",
              "    </tr>\n",
              "    <tr>\n",
              "      <th>2</th>\n",
              "      <td>host_id</td>\n",
              "      <td>int64</td>\n",
              "      <td>0</td>\n",
              "      <td>0.000000</td>\n",
              "      <td>74333</td>\n",
              "      <td>65.772685</td>\n",
              "    </tr>\n",
              "    <tr>\n",
              "      <th>3</th>\n",
              "      <td>host_name</td>\n",
              "      <td>object</td>\n",
              "      <td>16</td>\n",
              "      <td>0.014157</td>\n",
              "      <td>20245</td>\n",
              "      <td>17.913551</td>\n",
              "    </tr>\n",
              "    <tr>\n",
              "      <th>4</th>\n",
              "      <td>neighbourhood_group</td>\n",
              "      <td>object</td>\n",
              "      <td>57683</td>\n",
              "      <td>51.040127</td>\n",
              "      <td>34</td>\n",
              "      <td>0.030085</td>\n",
              "    </tr>\n",
              "    <tr>\n",
              "      <th>5</th>\n",
              "      <td>neighbourhood</td>\n",
              "      <td>object</td>\n",
              "      <td>0</td>\n",
              "      <td>0.000000</td>\n",
              "      <td>1424</td>\n",
              "      <td>1.260010</td>\n",
              "    </tr>\n",
              "    <tr>\n",
              "      <th>6</th>\n",
              "      <td>latitude</td>\n",
              "      <td>float64</td>\n",
              "      <td>0</td>\n",
              "      <td>0.000000</td>\n",
              "      <td>86447</td>\n",
              "      <td>76.491616</td>\n",
              "    </tr>\n",
              "    <tr>\n",
              "      <th>7</th>\n",
              "      <td>longitude</td>\n",
              "      <td>float64</td>\n",
              "      <td>0</td>\n",
              "      <td>0.000000</td>\n",
              "      <td>85346</td>\n",
              "      <td>75.517409</td>\n",
              "    </tr>\n",
              "    <tr>\n",
              "      <th>8</th>\n",
              "      <td>room_type</td>\n",
              "      <td>object</td>\n",
              "      <td>0</td>\n",
              "      <td>0.000000</td>\n",
              "      <td>4</td>\n",
              "      <td>0.003539</td>\n",
              "    </tr>\n",
              "    <tr>\n",
              "      <th>9</th>\n",
              "      <td>minimum_nights</td>\n",
              "      <td>int64</td>\n",
              "      <td>0</td>\n",
              "      <td>0.000000</td>\n",
              "      <td>144</td>\n",
              "      <td>0.127417</td>\n",
              "    </tr>\n",
              "    <tr>\n",
              "      <th>10</th>\n",
              "      <td>number_of_reviews</td>\n",
              "      <td>int64</td>\n",
              "      <td>0</td>\n",
              "      <td>0.000000</td>\n",
              "      <td>599</td>\n",
              "      <td>0.530018</td>\n",
              "    </tr>\n",
              "    <tr>\n",
              "      <th>11</th>\n",
              "      <td>last_review</td>\n",
              "      <td>object</td>\n",
              "      <td>24413</td>\n",
              "      <td>21.601557</td>\n",
              "      <td>2205</td>\n",
              "      <td>1.951068</td>\n",
              "    </tr>\n",
              "    <tr>\n",
              "      <th>12</th>\n",
              "      <td>reviews_per_month</td>\n",
              "      <td>float64</td>\n",
              "      <td>24413</td>\n",
              "      <td>21.601557</td>\n",
              "      <td>1135</td>\n",
              "      <td>1.004291</td>\n",
              "    </tr>\n",
              "    <tr>\n",
              "      <th>13</th>\n",
              "      <td>calculated_host_listings_count</td>\n",
              "      <td>int64</td>\n",
              "      <td>0</td>\n",
              "      <td>0.000000</td>\n",
              "      <td>142</td>\n",
              "      <td>0.125647</td>\n",
              "    </tr>\n",
              "    <tr>\n",
              "      <th>14</th>\n",
              "      <td>availability_365</td>\n",
              "      <td>int64</td>\n",
              "      <td>0</td>\n",
              "      <td>0.000000</td>\n",
              "      <td>366</td>\n",
              "      <td>0.323851</td>\n",
              "    </tr>\n",
              "    <tr>\n",
              "      <th>15</th>\n",
              "      <td>city</td>\n",
              "      <td>object</td>\n",
              "      <td>0</td>\n",
              "      <td>0.000000</td>\n",
              "      <td>28</td>\n",
              "      <td>0.024775</td>\n",
              "    </tr>\n",
              "  </tbody>\n",
              "</table>\n",
              "</div>"
            ],
            "text/plain": [
              "                               Var   Dtypes  ...  Total Unique    Unique%\n",
              "0                               id    int64  ...        113014  99.999115\n",
              "1                             name   object  ...        110279  97.579082\n",
              "2                          host_id    int64  ...         74333  65.772685\n",
              "3                        host_name   object  ...         20245  17.913551\n",
              "4              neighbourhood_group   object  ...            34   0.030085\n",
              "5                    neighbourhood   object  ...          1424   1.260010\n",
              "6                         latitude  float64  ...         86447  76.491616\n",
              "7                        longitude  float64  ...         85346  75.517409\n",
              "8                        room_type   object  ...             4   0.003539\n",
              "9                   minimum_nights    int64  ...           144   0.127417\n",
              "10               number_of_reviews    int64  ...           599   0.530018\n",
              "11                     last_review   object  ...          2205   1.951068\n",
              "12               reviews_per_month  float64  ...          1135   1.004291\n",
              "13  calculated_host_listings_count    int64  ...           142   0.125647\n",
              "14                availability_365    int64  ...           366   0.323851\n",
              "15                            city   object  ...            28   0.024775\n",
              "\n",
              "[16 rows x 6 columns]"
            ]
          },
          "metadata": {
            "tags": []
          },
          "execution_count": 10
        }
      ]
    },
    {
      "cell_type": "code",
      "metadata": {
        "colab": {
          "base_uri": "https://localhost:8080/",
          "height": 525
        },
        "id": "XCEQhMRwduwz",
        "outputId": "aef7f7ff-57ea-4711-a3dd-8f2866f6e789"
      },
      "source": [
        "dataset_summary(X_test)"
      ],
      "execution_count": null,
      "outputs": [
        {
          "output_type": "stream",
          "text": [
            "Dataset dimension : (113015, 16)\n"
          ],
          "name": "stdout"
        },
        {
          "output_type": "execute_result",
          "data": {
            "text/html": [
              "<div>\n",
              "<style scoped>\n",
              "    .dataframe tbody tr th:only-of-type {\n",
              "        vertical-align: middle;\n",
              "    }\n",
              "\n",
              "    .dataframe tbody tr th {\n",
              "        vertical-align: top;\n",
              "    }\n",
              "\n",
              "    .dataframe thead th {\n",
              "        text-align: right;\n",
              "    }\n",
              "</style>\n",
              "<table border=\"1\" class=\"dataframe\">\n",
              "  <thead>\n",
              "    <tr style=\"text-align: right;\">\n",
              "      <th></th>\n",
              "      <th>Var</th>\n",
              "      <th>Dtypes</th>\n",
              "      <th>Total Missing</th>\n",
              "      <th>Missing%</th>\n",
              "      <th>Total Unique</th>\n",
              "      <th>Unique%</th>\n",
              "    </tr>\n",
              "  </thead>\n",
              "  <tbody>\n",
              "    <tr>\n",
              "      <th>0</th>\n",
              "      <td>id</td>\n",
              "      <td>int64</td>\n",
              "      <td>0</td>\n",
              "      <td>0.000000</td>\n",
              "      <td>113015</td>\n",
              "      <td>100.000000</td>\n",
              "    </tr>\n",
              "    <tr>\n",
              "      <th>1</th>\n",
              "      <td>name</td>\n",
              "      <td>object</td>\n",
              "      <td>13</td>\n",
              "      <td>0.011503</td>\n",
              "      <td>110278</td>\n",
              "      <td>97.578198</td>\n",
              "    </tr>\n",
              "    <tr>\n",
              "      <th>2</th>\n",
              "      <td>host_id</td>\n",
              "      <td>int64</td>\n",
              "      <td>0</td>\n",
              "      <td>0.000000</td>\n",
              "      <td>74006</td>\n",
              "      <td>65.483343</td>\n",
              "    </tr>\n",
              "    <tr>\n",
              "      <th>3</th>\n",
              "      <td>host_name</td>\n",
              "      <td>object</td>\n",
              "      <td>17</td>\n",
              "      <td>0.015042</td>\n",
              "      <td>20170</td>\n",
              "      <td>17.847188</td>\n",
              "    </tr>\n",
              "    <tr>\n",
              "      <th>4</th>\n",
              "      <td>neighbourhood_group</td>\n",
              "      <td>object</td>\n",
              "      <td>58162</td>\n",
              "      <td>51.463965</td>\n",
              "      <td>34</td>\n",
              "      <td>0.030085</td>\n",
              "    </tr>\n",
              "    <tr>\n",
              "      <th>5</th>\n",
              "      <td>neighbourhood</td>\n",
              "      <td>object</td>\n",
              "      <td>0</td>\n",
              "      <td>0.000000</td>\n",
              "      <td>1411</td>\n",
              "      <td>1.248507</td>\n",
              "    </tr>\n",
              "    <tr>\n",
              "      <th>6</th>\n",
              "      <td>latitude</td>\n",
              "      <td>float64</td>\n",
              "      <td>0</td>\n",
              "      <td>0.000000</td>\n",
              "      <td>86364</td>\n",
              "      <td>76.418175</td>\n",
              "    </tr>\n",
              "    <tr>\n",
              "      <th>7</th>\n",
              "      <td>longitude</td>\n",
              "      <td>float64</td>\n",
              "      <td>0</td>\n",
              "      <td>0.000000</td>\n",
              "      <td>85712</td>\n",
              "      <td>75.841260</td>\n",
              "    </tr>\n",
              "    <tr>\n",
              "      <th>8</th>\n",
              "      <td>room_type</td>\n",
              "      <td>object</td>\n",
              "      <td>0</td>\n",
              "      <td>0.000000</td>\n",
              "      <td>4</td>\n",
              "      <td>0.003539</td>\n",
              "    </tr>\n",
              "    <tr>\n",
              "      <th>9</th>\n",
              "      <td>minimum_nights</td>\n",
              "      <td>int64</td>\n",
              "      <td>0</td>\n",
              "      <td>0.000000</td>\n",
              "      <td>133</td>\n",
              "      <td>0.117683</td>\n",
              "    </tr>\n",
              "    <tr>\n",
              "      <th>10</th>\n",
              "      <td>number_of_reviews</td>\n",
              "      <td>int64</td>\n",
              "      <td>0</td>\n",
              "      <td>0.000000</td>\n",
              "      <td>597</td>\n",
              "      <td>0.528248</td>\n",
              "    </tr>\n",
              "    <tr>\n",
              "      <th>11</th>\n",
              "      <td>last_review</td>\n",
              "      <td>object</td>\n",
              "      <td>24189</td>\n",
              "      <td>21.403354</td>\n",
              "      <td>2200</td>\n",
              "      <td>1.946644</td>\n",
              "    </tr>\n",
              "    <tr>\n",
              "      <th>12</th>\n",
              "      <td>reviews_per_month</td>\n",
              "      <td>float64</td>\n",
              "      <td>24189</td>\n",
              "      <td>21.403354</td>\n",
              "      <td>1102</td>\n",
              "      <td>0.975092</td>\n",
              "    </tr>\n",
              "    <tr>\n",
              "      <th>13</th>\n",
              "      <td>calculated_host_listings_count</td>\n",
              "      <td>int64</td>\n",
              "      <td>0</td>\n",
              "      <td>0.000000</td>\n",
              "      <td>142</td>\n",
              "      <td>0.125647</td>\n",
              "    </tr>\n",
              "    <tr>\n",
              "      <th>14</th>\n",
              "      <td>availability_365</td>\n",
              "      <td>int64</td>\n",
              "      <td>0</td>\n",
              "      <td>0.000000</td>\n",
              "      <td>366</td>\n",
              "      <td>0.323851</td>\n",
              "    </tr>\n",
              "    <tr>\n",
              "      <th>15</th>\n",
              "      <td>city</td>\n",
              "      <td>object</td>\n",
              "      <td>0</td>\n",
              "      <td>0.000000</td>\n",
              "      <td>28</td>\n",
              "      <td>0.024775</td>\n",
              "    </tr>\n",
              "  </tbody>\n",
              "</table>\n",
              "</div>"
            ],
            "text/plain": [
              "                               Var   Dtypes  ...  Total Unique     Unique%\n",
              "0                               id    int64  ...        113015  100.000000\n",
              "1                             name   object  ...        110278   97.578198\n",
              "2                          host_id    int64  ...         74006   65.483343\n",
              "3                        host_name   object  ...         20170   17.847188\n",
              "4              neighbourhood_group   object  ...            34    0.030085\n",
              "5                    neighbourhood   object  ...          1411    1.248507\n",
              "6                         latitude  float64  ...         86364   76.418175\n",
              "7                        longitude  float64  ...         85712   75.841260\n",
              "8                        room_type   object  ...             4    0.003539\n",
              "9                   minimum_nights    int64  ...           133    0.117683\n",
              "10               number_of_reviews    int64  ...           597    0.528248\n",
              "11                     last_review   object  ...          2200    1.946644\n",
              "12               reviews_per_month  float64  ...          1102    0.975092\n",
              "13  calculated_host_listings_count    int64  ...           142    0.125647\n",
              "14                availability_365    int64  ...           366    0.323851\n",
              "15                            city   object  ...            28    0.024775\n",
              "\n",
              "[16 rows x 6 columns]"
            ]
          },
          "metadata": {
            "tags": []
          },
          "execution_count": 40
        }
      ]
    },
    {
      "cell_type": "code",
      "metadata": {
        "id": "ZmOj845PwEWg",
        "outputId": "237d7ac8-6e6a-4e02-8c61-e52cc74753b5",
        "colab": {
          "base_uri": "https://localhost:8080/",
          "height": 69
        }
      },
      "source": [
        "df[df.duplicated()]"
      ],
      "execution_count": 15,
      "outputs": [
        {
          "output_type": "execute_result",
          "data": {
            "text/html": [
              "<div>\n",
              "<style scoped>\n",
              "    .dataframe tbody tr th:only-of-type {\n",
              "        vertical-align: middle;\n",
              "    }\n",
              "\n",
              "    .dataframe tbody tr th {\n",
              "        vertical-align: top;\n",
              "    }\n",
              "\n",
              "    .dataframe thead th {\n",
              "        text-align: right;\n",
              "    }\n",
              "</style>\n",
              "<table border=\"1\" class=\"dataframe\">\n",
              "  <thead>\n",
              "    <tr style=\"text-align: right;\">\n",
              "      <th></th>\n",
              "      <th>id</th>\n",
              "      <th>name</th>\n",
              "      <th>host_id</th>\n",
              "      <th>host_name</th>\n",
              "      <th>neighbourhood_group</th>\n",
              "      <th>neighbourhood</th>\n",
              "      <th>latitude</th>\n",
              "      <th>longitude</th>\n",
              "      <th>room_type</th>\n",
              "      <th>price</th>\n",
              "      <th>minimum_nights</th>\n",
              "      <th>number_of_reviews</th>\n",
              "      <th>last_review</th>\n",
              "      <th>reviews_per_month</th>\n",
              "      <th>calculated_host_listings_count</th>\n",
              "      <th>availability_365</th>\n",
              "      <th>city</th>\n",
              "    </tr>\n",
              "  </thead>\n",
              "  <tbody>\n",
              "  </tbody>\n",
              "</table>\n",
              "</div>"
            ],
            "text/plain": [
              "Empty DataFrame\n",
              "Columns: [id, name, host_id, host_name, neighbourhood_group, neighbourhood, latitude, longitude, room_type, price, minimum_nights, number_of_reviews, last_review, reviews_per_month, calculated_host_listings_count, availability_365, city]\n",
              "Index: []"
            ]
          },
          "metadata": {
            "tags": []
          },
          "execution_count": 15
        }
      ]
    },
    {
      "cell_type": "markdown",
      "metadata": {
        "id": "Q7FoQDzGQziO"
      },
      "source": [
        "### **Bantu Analisis**"
      ]
    },
    {
      "cell_type": "markdown",
      "metadata": {
        "id": "TIY-7P5hfWI6"
      },
      "source": [
        "https://colab.research.google.com/drive/1p1T43pkgWwQb8S7SlKDapjAQ6G3a03UE?usp=sharing"
      ]
    },
    {
      "cell_type": "code",
      "metadata": {
        "id": "0X2SK1IywZFe"
      },
      "source": [
        "features = ['neighborhood', 'latitude', 'longitude', 'room_type', 'minimum_nights', 'number_of_reviews', 'last_review', 'reviews_per_month', 'calculated_host_listings_count', 'availability_365', 'city']"
      ],
      "execution_count": 16,
      "outputs": []
    },
    {
      "cell_type": "code",
      "metadata": {
        "colab": {
          "base_uri": "https://localhost:8080/"
        },
        "id": "lAQrc-RxWQsB",
        "outputId": "f75a112a-8b11-47e3-8bb9-b6d6d93f4bdb"
      },
      "source": [
        "for col in X_train.columns:\n",
        "    print('Column:', col)\n",
        "    print(X_train[col].value_counts(), '\\n\\n------\\n\\n')"
      ],
      "execution_count": 12,
      "outputs": [
        {
          "output_type": "stream",
          "text": [
            "Column: id\n",
            "43806155    2\n",
            "31531653    1\n",
            "10035471    1\n",
            "3068145     1\n",
            "32960757    1\n",
            "           ..\n",
            "11951134    1\n",
            "44278817    1\n",
            "16795643    1\n",
            "42972195    1\n",
            "9175040     1\n",
            "Name: id, Length: 113014, dtype: int64 \n",
            "\n",
            "------\n",
            "\n",
            "\n",
            "Column: name\n",
            "Home away from home                                  43\n",
            "A place of your own | 2BR in Las Vegas               32\n",
            "Stay in a place of your own | 1BR in Washington      23\n",
            "Cozy place to call home | 1BR in Los Angeles         23\n",
            "Stratford Hotel Room Queen                           21\n",
            "                                                     ..\n",
            "Real ocean view condo for rent! health safe place     1\n",
            "Comfy Place by Bronx Lebanon Hospital &  Stadium!     1\n",
            "Sonder | District 600 | Chic 1BR + Fitness Center     1\n",
            "Beautiful Maui 2Bd 2Ba Condo in South Maui            1\n",
            "The Cloud Canopy                                      1\n",
            "Name: name, Length: 110279, dtype: int64 \n",
            "\n",
            "------\n",
            "\n",
            "\n",
            "Column: host_id\n",
            "48005494     625\n",
            "107434423    547\n",
            "359036978    302\n",
            "8534462      295\n",
            "30283594     167\n",
            "            ... \n",
            "146871946      1\n",
            "15795848       1\n",
            "31618681       1\n",
            "38347589       1\n",
            "3022852        1\n",
            "Name: host_id, Length: 74333, dtype: int64 \n",
            "\n",
            "------\n",
            "\n",
            "\n",
            "Column: host_name\n",
            "Michael                     1023\n",
            "David                        836\n",
            "John                         666\n",
            "Zeus                         625\n",
            "Mike                         570\n",
            "                            ... \n",
            "Greer                          1\n",
            "Kirit Patel Hotel Strata       1\n",
            "HostWell Vegas                 1\n",
            "Nikolina                       1\n",
            "Monie                          1\n",
            "Name: host_name, Length: 20245, dtype: int64 \n",
            "\n",
            "------\n",
            "\n",
            "\n",
            "Column: neighbourhood_group\n",
            "Manhattan               10139\n",
            "Brooklyn                 9202\n",
            "City of Los Angeles      8815\n",
            "Other Cities             5743\n",
            "Maui                     3993\n",
            "Honolulu                 3196\n",
            "Queens                   2831\n",
            "Hawaii                   2516\n",
            "Kauai                    1594\n",
            "Unincorporated Areas     1271\n",
            "Newport                   684\n",
            "Other neighborhoods       650\n",
            "Bronx                     613\n",
            "Washington                599\n",
            "Downtown                  545\n",
            "Providence                531\n",
            "Capitol Hill              335\n",
            "Central Area              277\n",
            "Queen Anne                240\n",
            "Ballard                   192\n",
            "Rainier Valley            180\n",
            "Staten Island             177\n",
            "West Seattle              168\n",
            "Cascade                   138\n",
            "Beacon Hill               132\n",
            "University District       119\n",
            "Delridge                   98\n",
            "Northgate                  72\n",
            "Magnolia                   63\n",
            "Lake City                  59\n",
            "Bristol                    57\n",
            "Kent                       50\n",
            "Seward Park                34\n",
            "Interbay                   19\n",
            "Name: neighbourhood_group, dtype: int64 \n",
            "\n",
            "------\n",
            "\n",
            "\n",
            "Column: neighbourhood\n",
            "Unincorporated Areas     4032\n",
            "Hollywood                2197\n",
            "Primary Urban Center     2085\n",
            "Kihei-Makena             2003\n",
            "Hennepin                 1965\n",
            "                         ... \n",
            "Longwood Medical Area       1\n",
            "Lopez/Kagel Canyons         1\n",
            "Arden Heights               1\n",
            "Greenlawn/Frank Road        1\n",
            "Auraria                     1\n",
            "Name: neighbourhood, Length: 1424, dtype: int64 \n",
            "\n",
            "------\n",
            "\n",
            "\n",
            "Column: latitude\n",
            "34.04046    56\n",
            "35.95887    53\n",
            "42.35711    34\n",
            "30.28087    33\n",
            "25.98594    33\n",
            "            ..\n",
            "32.82866     1\n",
            "34.06402     1\n",
            "34.19093     1\n",
            "30.25481     1\n",
            "41.84346     1\n",
            "Name: latitude, Length: 86447, dtype: int64 \n",
            "\n",
            "------\n",
            "\n",
            "\n",
            "Column: longitude\n",
            "-118.26244    58\n",
            "-115.18399    53\n",
            "-71.14276     34\n",
            "-97.70993     32\n",
            "-77.01457     31\n",
            "              ..\n",
            "-82.50655      1\n",
            "-121.93312     1\n",
            "-74.00234      1\n",
            "-93.27323      1\n",
            "-122.37206     1\n",
            "Name: longitude, Length: 85346, dtype: int64 \n",
            "\n",
            "------\n",
            "\n",
            "\n",
            "Column: room_type\n",
            "Entire home/apt    76959\n",
            "Private room       33055\n",
            "Shared room         2048\n",
            "Hotel room           953\n",
            "Name: room_type, dtype: int64 \n",
            "\n",
            "------\n",
            "\n",
            "\n",
            "Column: minimum_nights\n",
            "1      30275\n",
            "2      27213\n",
            "30     16875\n",
            "3      15493\n",
            "4       4702\n",
            "       ...  \n",
            "38         1\n",
            "271        1\n",
            "168        1\n",
            "105        1\n",
            "320        1\n",
            "Name: minimum_nights, Length: 144, dtype: int64 \n",
            "\n",
            "------\n",
            "\n",
            "\n",
            "Column: number_of_reviews\n",
            "0      24413\n",
            "1       9741\n",
            "2       6043\n",
            "3       4453\n",
            "4       3533\n",
            "       ...  \n",
            "406        1\n",
            "558        1\n",
            "601        1\n",
            "431        1\n",
            "767        1\n",
            "Name: number_of_reviews, Length: 599, dtype: int64 \n",
            "\n",
            "------\n",
            "\n",
            "\n",
            "Column: last_review\n",
            "15/03/20    1451\n",
            "07/09/20    1033\n",
            "08/03/20     978\n",
            "16/03/20     959\n",
            "23/08/20     933\n",
            "            ... \n",
            "26/01/16       1\n",
            "01/11/12       1\n",
            "25/04/15       1\n",
            "26/12/14       1\n",
            "27/07/14       1\n",
            "Name: last_review, Length: 2205, dtype: int64 \n",
            "\n",
            "------\n",
            "\n",
            "\n",
            "Column: reviews_per_month\n",
            "0.03     1378\n",
            "0.02     1314\n",
            "0.08     1271\n",
            "0.05     1225\n",
            "0.06     1216\n",
            "         ... \n",
            "10.37       1\n",
            "17.73       1\n",
            "10.49       1\n",
            "11.39       1\n",
            "9.75        1\n",
            "Name: reviews_per_month, Length: 1135, dtype: int64 \n",
            "\n",
            "------\n",
            "\n",
            "\n",
            "Column: calculated_host_listings_count\n",
            "1     52532\n",
            "2     14875\n",
            "3      7530\n",
            "4      4786\n",
            "5      2979\n",
            "      ...  \n",
            "88       37\n",
            "70       37\n",
            "79       37\n",
            "68       34\n",
            "72       34\n",
            "Name: calculated_host_listings_count, Length: 142, dtype: int64 \n",
            "\n",
            "------\n",
            "\n",
            "\n",
            "Column: availability_365\n",
            "0      28683\n",
            "365     6515\n",
            "364     2531\n",
            "89      1990\n",
            "179     1815\n",
            "       ...  \n",
            "206       69\n",
            "197       64\n",
            "215       59\n",
            "199       59\n",
            "190       58\n",
            "Name: availability_365, Length: 366, dtype: int64 \n",
            "\n",
            "------\n",
            "\n",
            "\n",
            "Column: city\n",
            "New York City        22962\n",
            "Los Angeles          15829\n",
            "Hawaii               11299\n",
            "San Diego             6089\n",
            "Broward County        5546\n",
            "Austin                5325\n",
            "Clark County          4210\n",
            "Washington D.C.       3626\n",
            "San Clara Country     3528\n",
            "San Francisco         3500\n",
            "Seattle               3321\n",
            "Twin Cities MSA       3205\n",
            "New Orleans           3205\n",
            "Chicago               3089\n",
            "Nashville             3081\n",
            "Portland              2156\n",
            "Denver                2126\n",
            "Rhode Island          1921\n",
            "Boston                1644\n",
            "Oakland               1549\n",
            "San Mateo County      1413\n",
            "Jersey City           1200\n",
            "Asheville              999\n",
            "Santa Cruz County      797\n",
            "Columbus               700\n",
            "Cambridge              513\n",
            "Salem                   94\n",
            "Pacific Grove           88\n",
            "Name: city, dtype: int64 \n",
            "\n",
            "------\n",
            "\n",
            "\n"
          ],
          "name": "stdout"
        }
      ]
    },
    {
      "cell_type": "markdown",
      "metadata": {
        "id": "6DOT7jHifjo1"
      },
      "source": [
        "### **Label Encoding**"
      ]
    },
    {
      "cell_type": "code",
      "metadata": {
        "id": "6zGhzE99fjo1"
      },
      "source": [
        "df_train.reset_index(drop=True, inplace=True)\n",
        "df_test.reset_index(drop=True, inplace=True)\n",
        "\n",
        "X_train.reset_index(drop=True, inplace=True)\n",
        "Y_train.reset_index(drop=True, inplace=True)\n",
        "\n",
        "X_test.reset_index(drop=True, inplace=True)\n",
        "Y_test.reset_index(drop=True, inplace=True)"
      ],
      "execution_count": null,
      "outputs": []
    },
    {
      "cell_type": "code",
      "metadata": {
        "id": "Yn3hRZv5fjo1"
      },
      "source": [
        "# Difaktorisasi\n",
        "X_train_factorized = X_train.copy()\n",
        "X_test_factorized = X_test.copy()\n",
        "\n",
        "to_factorize_cols = ['hotel', 'meal', 'country', 'market_segment', 'distribution_channel', 'reserved_room_type', 'assigned_room_type', 'deposit_type', 'customer_type']\n",
        "for col in to_factorize_cols:\n",
        "    X_train_factorized[col] = pd.factorize(X_train[col], sort=True)[0]\n",
        "    X_test_factorized[col] = pd.factorize(X_test[col], sort=True)[0]"
      ],
      "execution_count": null,
      "outputs": []
    },
    {
      "cell_type": "code",
      "metadata": {
        "colab": {
          "base_uri": "https://localhost:8080/"
        },
        "id": "hG-5WfD-fjo1",
        "outputId": "371ce354-1f49-4b16-c65b-038fe13ed9e4"
      },
      "source": [
        "# Bulan jadi kategori numerik\n",
        "month_replace = {'January':1, \n",
        "                 'February':2, \n",
        "                 'March':3, \n",
        "                 'April':4,\n",
        "                 'May':5,\n",
        "                 'June':6,\n",
        "                 'July':7,\n",
        "                 'August':8,\n",
        "                 'September':9,\n",
        "                 'October':10,\n",
        "                 'November':11,\n",
        "                 'December':12}\n",
        "X_train_factorized['arrival_date_month'] = X_train_factorized['arrival_date_month'].replace(month_replace)\n",
        "X_test_factorized['arrival_date_month'] = X_test_factorized['arrival_date_month'].replace(month_replace)\n",
        "\n",
        "\n",
        "# Hapus kolom yg missing > 30%\n",
        "trainsumm = dataset_summary(X_train)\n",
        "to_delete = trainsumm[trainsumm['Missing%'] >= 30]['Var']\n",
        "X_train_factorized = X_train_factorized.drop(columns=to_delete)\n",
        "X_test_factorized = X_test_factorized.drop(columns=to_delete)\n",
        "\n",
        "\n",
        "# Hapus kolom object yg terlalu banyak unik\n",
        "X_train_factorized = X_train_factorized.drop(columns='reservation_status_date')\n",
        "X_test_factorized = X_test_factorized.drop(columns='reservation_status_date')"
      ],
      "execution_count": null,
      "outputs": [
        {
          "output_type": "stream",
          "text": [
            "Dataset dimension : (59695, 30)\n"
          ],
          "name": "stdout"
        }
      ]
    },
    {
      "cell_type": "markdown",
      "metadata": {
        "id": "FUpnVTdSbYHM"
      },
      "source": [
        "### **Mean Encoding (without Reguarization)**"
      ]
    },
    {
      "cell_type": "code",
      "metadata": {
        "id": "spMzOmBRks7b"
      },
      "source": [
        "df_train.reset_index(drop=True, inplace=True)\n",
        "df_test.reset_index(drop=True, inplace=True)\n",
        "\n",
        "X_train.reset_index(drop=True, inplace=True)\n",
        "Y_train.reset_index(drop=True, inplace=True)\n",
        "\n",
        "X_test.reset_index(drop=True, inplace=True)\n",
        "Y_test.reset_index(drop=True, inplace=True)"
      ],
      "execution_count": null,
      "outputs": []
    },
    {
      "cell_type": "code",
      "metadata": {
        "id": "MToSu_cMTAex"
      },
      "source": [
        "# Di mean encoding\n",
        "X_train_encoded = X_train.copy()\n",
        "X_test_encoded = X_test.copy()\n",
        "\n",
        "to_mean_encode = ['hotel', 'meal', 'country', 'market_segment', 'distribution_channel', 'reserved_room_type', 'assigned_room_type', 'deposit_type', 'customer_type']\n",
        "for col in to_mean_encode:\n",
        "    means = df_train.groupby(col)['is_canceled'].mean()\n",
        "    X_train_encoded[col] = X_train[col].map(means)\n",
        "    X_test_encoded[col] = X_test[col].map(means)\n",
        "\n",
        "X_train_encoded[to_mean_encode] = X_train_encoded[to_mean_encode].astype('float64')\n",
        "X_test_encoded[to_mean_encode] = X_test_encoded[to_mean_encode].astype('float64')"
      ],
      "execution_count": null,
      "outputs": []
    },
    {
      "cell_type": "code",
      "metadata": {
        "id": "arVBc0WqbYRh",
        "colab": {
          "base_uri": "https://localhost:8080/"
        },
        "outputId": "f45f6d41-0600-423c-e0c5-b1109c964072"
      },
      "source": [
        "# Bulan jadi kategori numerik\n",
        "month_replace = {'January':1, \n",
        "                 'February':2, \n",
        "                 'March':3, \n",
        "                 'April':4,\n",
        "                 'May':5,\n",
        "                 'June':6,\n",
        "                 'July':7,\n",
        "                 'August':8,\n",
        "                 'September':9,\n",
        "                 'October':10,\n",
        "                 'November':11,\n",
        "                 'December':12}\n",
        "X_train_encoded['arrival_date_month'] = X_train_encoded['arrival_date_month'].replace(month_replace)\n",
        "X_test_encoded['arrival_date_month'] = X_test_encoded['arrival_date_month'].replace(month_replace)\n",
        "\n",
        "\n",
        "# Hapus kolom yg missing > 30%\n",
        "trainsumm = dataset_summary(X_train)\n",
        "to_delete = trainsumm[trainsumm['Missing%'] >= 30]['Var']\n",
        "X_train_encoded = X_train_encoded.drop(columns=to_delete)\n",
        "X_test_encoded = X_test_encoded.drop(columns=to_delete)\n",
        "\n",
        "\n",
        "# Hapus kolom object yg terlalu banyak unik\n",
        "X_train_encoded = X_train_encoded.drop(columns='reservation_status_date')\n",
        "X_test_encoded = X_test_encoded.drop(columns='reservation_status_date')"
      ],
      "execution_count": null,
      "outputs": [
        {
          "output_type": "stream",
          "text": [
            "Dataset dimension : (59695, 30)\n"
          ],
          "name": "stdout"
        }
      ]
    },
    {
      "cell_type": "markdown",
      "metadata": {
        "id": "7A9er5zzh_E4"
      },
      "source": [
        "### **Mean Encoding (CV)**"
      ]
    },
    {
      "cell_type": "code",
      "metadata": {
        "id": "c7rYShVYkuk5"
      },
      "source": [
        "df_train.reset_index(drop=True, inplace=True)\n",
        "df_test.reset_index(drop=True, inplace=True)\n",
        "\n",
        "X_train.reset_index(drop=True, inplace=True)\n",
        "Y_train.reset_index(drop=True, inplace=True)\n",
        "\n",
        "X_test.reset_index(drop=True, inplace=True)\n",
        "Y_test.reset_index(drop=True, inplace=True)"
      ],
      "execution_count": null,
      "outputs": []
    },
    {
      "cell_type": "code",
      "metadata": {
        "colab": {
          "base_uri": "https://localhost:8080/"
        },
        "id": "eYSA0C9oiA-g",
        "outputId": "acb4a587-716b-483d-f359-c2f57f809556"
      },
      "source": [
        "# Di mean encoding\n",
        "X_train_encoded_cv = X_train.copy()\n",
        "X_test_encoded_cv = X_test.copy()\n",
        "to_mean_encode = ['hotel', 'meal', 'country', 'market_segment', 'distribution_channel', 'reserved_room_type', 'assigned_room_type', 'deposit_type', 'customer_type']\n",
        "\n",
        "skf = StratifiedKFold(n_splits=5, shuffle=True, random_state=28112020)\n",
        "for tr_set, val_set in skf.split(X_train, Y_train):\n",
        "    for col in to_mean_encode:\n",
        "        means = df_train.loc[tr_set].groupby(col)['is_canceled'].mean()\n",
        "        X_train_encoded_cv[col].loc[val_set] = X_train[col].loc[val_set].map(means)\n",
        "        X_test_encoded_cv[col].loc[val_set] = X_test[col].loc[val_set].map(means)\n",
        "\n",
        "X_train_encoded_cv[to_mean_encode] = X_train_encoded_cv[to_mean_encode].astype('float64')\n",
        "X_test_encoded_cv[to_mean_encode] = X_test_encoded_cv[to_mean_encode].astype('float64')"
      ],
      "execution_count": null,
      "outputs": [
        {
          "output_type": "stream",
          "text": [
            "/usr/local/lib/python3.6/dist-packages/pandas/core/indexing.py:670: SettingWithCopyWarning: \n",
            "A value is trying to be set on a copy of a slice from a DataFrame\n",
            "\n",
            "See the caveats in the documentation: https://pandas.pydata.org/pandas-docs/stable/user_guide/indexing.html#returning-a-view-versus-a-copy\n",
            "  iloc._setitem_with_indexer(indexer, value)\n"
          ],
          "name": "stderr"
        }
      ]
    },
    {
      "cell_type": "code",
      "metadata": {
        "colab": {
          "base_uri": "https://localhost:8080/"
        },
        "id": "y7VaJXuFl8ZO",
        "outputId": "3062825a-22c9-4aa8-d2de-bc2f67522a61"
      },
      "source": [
        "# Bulan jadi kategori numerik\n",
        "month_replace = {'January':1, \n",
        "                 'February':2, \n",
        "                 'March':3, \n",
        "                 'April':4,\n",
        "                 'May':5,\n",
        "                 'June':6,\n",
        "                 'July':7,\n",
        "                 'August':8,\n",
        "                 'September':9,\n",
        "                 'October':10,\n",
        "                 'November':11,\n",
        "                 'December':12}\n",
        "X_train_encoded_cv['arrival_date_month'] = X_train_encoded_cv['arrival_date_month'].replace(month_replace)\n",
        "X_test_encoded_cv['arrival_date_month'] = X_test_encoded_cv['arrival_date_month'].replace(month_replace)\n",
        "\n",
        "\n",
        "# Hapus kolom yg missing > 30%\n",
        "trainsumm = dataset_summary(X_train)\n",
        "to_delete = trainsumm[trainsumm['Missing%'] >= 30]['Var']\n",
        "X_train_encoded_cv = X_train_encoded_cv.drop(columns=to_delete)\n",
        "X_test_encoded_cv = X_test_encoded_cv.drop(columns=to_delete)\n",
        "\n",
        "\n",
        "# Hapus kolom object yg terlalu banyak unik\n",
        "X_train_encoded_cv = X_train_encoded_cv.drop(columns='reservation_status_date')\n",
        "X_test_encoded_cv = X_test_encoded_cv.drop(columns='reservation_status_date')"
      ],
      "execution_count": null,
      "outputs": [
        {
          "output_type": "stream",
          "text": [
            "Dataset dimension : (59695, 30)\n"
          ],
          "name": "stdout"
        }
      ]
    },
    {
      "cell_type": "markdown",
      "metadata": {
        "id": "lXRHvdE4zv_4"
      },
      "source": [
        "### Pre-processing"
      ]
    },
    {
      "cell_type": "code",
      "metadata": {
        "id": "2YyBkXlQ4zm0",
        "outputId": "e0c6c78a-ef47-48b5-c40e-965fd9a9bd87",
        "colab": {
          "base_uri": "https://localhost:8080/"
        }
      },
      "source": [
        "len(X_train['city'].unique())"
      ],
      "execution_count": 35,
      "outputs": [
        {
          "output_type": "execute_result",
          "data": {
            "text/plain": [
              "array(['San Diego', 'Broward County', 'New Orleans', 'San Clara Country',\n",
              "       'Hawaii', 'Los Angeles', 'Austin', 'Clark County', 'San Francisco',\n",
              "       'San Mateo County', 'New York City', 'Seattle', 'Asheville',\n",
              "       'Cambridge', 'Chicago', 'Washington D.C.', 'Twin Cities MSA',\n",
              "       'Nashville', 'Boston', 'Jersey City', 'Oakland', 'Rhode Island',\n",
              "       'Portland', 'Denver', 'Santa Cruz County', 'Columbus', 'Salem',\n",
              "       'Pacific Grove'], dtype=object)"
            ]
          },
          "metadata": {
            "tags": []
          },
          "execution_count": 35
        }
      ]
    },
    {
      "cell_type": "markdown",
      "metadata": {
        "id": "kb5mBwrEz65w"
      },
      "source": [
        "#### room type"
      ]
    },
    {
      "cell_type": "code",
      "metadata": {
        "id": "kja3U7X10gZh"
      },
      "source": [
        "X_roomtype = X_train[['room_type']]"
      ],
      "execution_count": 26,
      "outputs": []
    },
    {
      "cell_type": "code",
      "metadata": {
        "id": "DTIj6KS4zz7U",
        "outputId": "f936591c-c105-479b-be24-b905ab0e1776",
        "colab": {
          "base_uri": "https://localhost:8080/"
        }
      },
      "source": [
        "X_train['room_type'].value_counts()"
      ],
      "execution_count": 24,
      "outputs": [
        {
          "output_type": "execute_result",
          "data": {
            "text/plain": [
              "Entire home/apt    76959\n",
              "Private room       33055\n",
              "Shared room         2048\n",
              "Hotel room           953\n",
              "Name: room_type, dtype: int64"
            ]
          },
          "metadata": {
            "tags": []
          },
          "execution_count": 24
        }
      ]
    },
    {
      "cell_type": "code",
      "metadata": {
        "id": "b4Lfg65E0tbj",
        "outputId": "0f6d194d-9160-47ab-f4ea-48e36cd0c803",
        "colab": {
          "base_uri": "https://localhost:8080/",
          "height": 424
        }
      },
      "source": [
        "X_roomtype = pd.get_dummies(X_roomtype, prefix='', prefix_sep='')\n",
        "X_roomtype"
      ],
      "execution_count": 27,
      "outputs": [
        {
          "output_type": "execute_result",
          "data": {
            "text/html": [
              "<div>\n",
              "<style scoped>\n",
              "    .dataframe tbody tr th:only-of-type {\n",
              "        vertical-align: middle;\n",
              "    }\n",
              "\n",
              "    .dataframe tbody tr th {\n",
              "        vertical-align: top;\n",
              "    }\n",
              "\n",
              "    .dataframe thead th {\n",
              "        text-align: right;\n",
              "    }\n",
              "</style>\n",
              "<table border=\"1\" class=\"dataframe\">\n",
              "  <thead>\n",
              "    <tr style=\"text-align: right;\">\n",
              "      <th></th>\n",
              "      <th>Entire home/apt</th>\n",
              "      <th>Hotel room</th>\n",
              "      <th>Private room</th>\n",
              "      <th>Shared room</th>\n",
              "    </tr>\n",
              "  </thead>\n",
              "  <tbody>\n",
              "    <tr>\n",
              "      <th>183806</th>\n",
              "      <td>0</td>\n",
              "      <td>0</td>\n",
              "      <td>1</td>\n",
              "      <td>0</td>\n",
              "    </tr>\n",
              "    <tr>\n",
              "      <th>22199</th>\n",
              "      <td>1</td>\n",
              "      <td>0</td>\n",
              "      <td>0</td>\n",
              "      <td>0</td>\n",
              "    </tr>\n",
              "    <tr>\n",
              "      <th>114665</th>\n",
              "      <td>1</td>\n",
              "      <td>0</td>\n",
              "      <td>0</td>\n",
              "      <td>0</td>\n",
              "    </tr>\n",
              "    <tr>\n",
              "      <th>179735</th>\n",
              "      <td>0</td>\n",
              "      <td>0</td>\n",
              "      <td>1</td>\n",
              "      <td>0</td>\n",
              "    </tr>\n",
              "    <tr>\n",
              "      <th>57719</th>\n",
              "      <td>1</td>\n",
              "      <td>0</td>\n",
              "      <td>0</td>\n",
              "      <td>0</td>\n",
              "    </tr>\n",
              "    <tr>\n",
              "      <th>...</th>\n",
              "      <td>...</td>\n",
              "      <td>...</td>\n",
              "      <td>...</td>\n",
              "      <td>...</td>\n",
              "    </tr>\n",
              "    <tr>\n",
              "      <th>119879</th>\n",
              "      <td>1</td>\n",
              "      <td>0</td>\n",
              "      <td>0</td>\n",
              "      <td>0</td>\n",
              "    </tr>\n",
              "    <tr>\n",
              "      <th>103694</th>\n",
              "      <td>0</td>\n",
              "      <td>0</td>\n",
              "      <td>1</td>\n",
              "      <td>0</td>\n",
              "    </tr>\n",
              "    <tr>\n",
              "      <th>131932</th>\n",
              "      <td>1</td>\n",
              "      <td>0</td>\n",
              "      <td>0</td>\n",
              "      <td>0</td>\n",
              "    </tr>\n",
              "    <tr>\n",
              "      <th>146867</th>\n",
              "      <td>0</td>\n",
              "      <td>0</td>\n",
              "      <td>1</td>\n",
              "      <td>0</td>\n",
              "    </tr>\n",
              "    <tr>\n",
              "      <th>121958</th>\n",
              "      <td>0</td>\n",
              "      <td>0</td>\n",
              "      <td>1</td>\n",
              "      <td>0</td>\n",
              "    </tr>\n",
              "  </tbody>\n",
              "</table>\n",
              "<p>113015 rows × 4 columns</p>\n",
              "</div>"
            ],
            "text/plain": [
              "        Entire home/apt  Hotel room  Private room  Shared room\n",
              "183806                0           0             1            0\n",
              "22199                 1           0             0            0\n",
              "114665                1           0             0            0\n",
              "179735                0           0             1            0\n",
              "57719                 1           0             0            0\n",
              "...                 ...         ...           ...          ...\n",
              "119879                1           0             0            0\n",
              "103694                0           0             1            0\n",
              "131932                1           0             0            0\n",
              "146867                0           0             1            0\n",
              "121958                0           0             1            0\n",
              "\n",
              "[113015 rows x 4 columns]"
            ]
          },
          "metadata": {
            "tags": []
          },
          "execution_count": 27
        }
      ]
    },
    {
      "cell_type": "code",
      "metadata": {
        "id": "_o001fxx2ouO",
        "outputId": "34810f76-5188-4fe6-9eee-fa4841ef3b2d",
        "colab": {
          "base_uri": "https://localhost:8080/",
          "height": 374
        }
      },
      "source": [
        "sns.heatmap(df[['latitude', 'longitude','minimum_nights', 'reviews_per_month', 'price']].corr(), cmap='PiYG', annot=True, annot_kws={\"size\":12}, center=0)"
      ],
      "execution_count": 32,
      "outputs": [
        {
          "output_type": "execute_result",
          "data": {
            "text/plain": [
              "<matplotlib.axes._subplots.AxesSubplot at 0x7f617be05fd0>"
            ]
          },
          "metadata": {
            "tags": []
          },
          "execution_count": 32
        },
        {
          "output_type": "display_data",
          "data": {
            "image/png": "[encoded data removed]",
            "text/plain": [
              "<Figure size 432x288 with 2 Axes>"
            ]
          },
          "metadata": {
            "tags": [],
            "needs_background": "light"
          }
        }
      ]
    },
    {
      "cell_type": "markdown",
      "metadata": {
        "id": "FSmlnCCk6dvJ"
      },
      "source": [
        "#### Lat long normalize\n",
        "\n"
      ]
    },
    {
      "cell_type": "code",
      "metadata": {
        "id": "gHH01GY06isy"
      },
      "source": [
        "X_mean = X_train.mean()\n",
        "X_std = X_train.std()\n",
        "X_norm = (X_train[['latitude', 'longitude']] - X_mean[['latitude', 'longitude']])/X_std[['latitude', 'longitude']]"
      ],
      "execution_count": 39,
      "outputs": []
    },
    {
      "cell_type": "code",
      "metadata": {
        "id": "vJxwd5ia6yFS",
        "outputId": "663966bf-640b-4cec-9ca2-c7fb07994fd0",
        "colab": {
          "base_uri": "https://localhost:8080/",
          "height": 424
        }
      },
      "source": [
        "X_norm"
      ],
      "execution_count": 40,
      "outputs": [
        {
          "output_type": "execute_result",
          "data": {
            "text/html": [
              "<div>\n",
              "<style scoped>\n",
              "    .dataframe tbody tr th:only-of-type {\n",
              "        vertical-align: middle;\n",
              "    }\n",
              "\n",
              "    .dataframe tbody tr th {\n",
              "        vertical-align: top;\n",
              "    }\n",
              "\n",
              "    .dataframe thead th {\n",
              "        text-align: right;\n",
              "    }\n",
              "</style>\n",
              "<table border=\"1\" class=\"dataframe\">\n",
              "  <thead>\n",
              "    <tr style=\"text-align: right;\">\n",
              "      <th></th>\n",
              "      <th>latitude</th>\n",
              "      <th>longitude</th>\n",
              "    </tr>\n",
              "  </thead>\n",
              "  <tbody>\n",
              "    <tr>\n",
              "      <th>183806</th>\n",
              "      <td>-0.410674</td>\n",
              "      <td>-0.533122</td>\n",
              "    </tr>\n",
              "    <tr>\n",
              "      <th>22199</th>\n",
              "      <td>-1.399703</td>\n",
              "      <td>0.876137</td>\n",
              "    </tr>\n",
              "    <tr>\n",
              "      <th>114665</th>\n",
              "      <td>-0.826770</td>\n",
              "      <td>0.502161</td>\n",
              "    </tr>\n",
              "    <tr>\n",
              "      <th>179735</th>\n",
              "      <td>0.251661</td>\n",
              "      <td>-0.706578</td>\n",
              "    </tr>\n",
              "    <tr>\n",
              "      <th>57719</th>\n",
              "      <td>-2.137080</td>\n",
              "      <td>-2.035593</td>\n",
              "    </tr>\n",
              "    <tr>\n",
              "      <th>...</th>\n",
              "      <td>...</td>\n",
              "      <td>...</td>\n",
              "    </tr>\n",
              "    <tr>\n",
              "      <th>119879</th>\n",
              "      <td>0.741330</td>\n",
              "      <td>1.114447</td>\n",
              "    </tr>\n",
              "    <tr>\n",
              "      <th>103694</th>\n",
              "      <td>-0.230894</td>\n",
              "      <td>-0.571541</td>\n",
              "    </tr>\n",
              "    <tr>\n",
              "      <th>131932</th>\n",
              "      <td>0.736557</td>\n",
              "      <td>1.119856</td>\n",
              "    </tr>\n",
              "    <tr>\n",
              "      <th>146867</th>\n",
              "      <td>0.740784</td>\n",
              "      <td>1.116428</td>\n",
              "    </tr>\n",
              "    <tr>\n",
              "      <th>121958</th>\n",
              "      <td>0.741764</td>\n",
              "      <td>1.114788</td>\n",
              "    </tr>\n",
              "  </tbody>\n",
              "</table>\n",
              "<p>113015 rows × 2 columns</p>\n",
              "</div>"
            ],
            "text/plain": [
              "        latitude  longitude\n",
              "183806 -0.410674  -0.533122\n",
              "22199  -1.399703   0.876137\n",
              "114665 -0.826770   0.502161\n",
              "179735  0.251661  -0.706578\n",
              "57719  -2.137080  -2.035593\n",
              "...          ...        ...\n",
              "119879  0.741330   1.114447\n",
              "103694 -0.230894  -0.571541\n",
              "131932  0.736557   1.119856\n",
              "146867  0.740784   1.116428\n",
              "121958  0.741764   1.114788\n",
              "\n",
              "[113015 rows x 2 columns]"
            ]
          },
          "metadata": {
            "tags": []
          },
          "execution_count": 40
        }
      ]
    },
    {
      "cell_type": "code",
      "metadata": {
        "id": "yXAtyn8m8jE4",
        "outputId": "0e9cc949-5e31-4ca4-e7ca-d034cbaad489",
        "colab": {
          "base_uri": "https://localhost:8080/",
          "height": 424
        }
      },
      "source": [
        "X_to_train = pd.concat([X_roomtype, X_norm], axis=1)\n",
        "X_to_train"
      ],
      "execution_count": 41,
      "outputs": [
        {
          "output_type": "execute_result",
          "data": {
            "text/html": [
              "<div>\n",
              "<style scoped>\n",
              "    .dataframe tbody tr th:only-of-type {\n",
              "        vertical-align: middle;\n",
              "    }\n",
              "\n",
              "    .dataframe tbody tr th {\n",
              "        vertical-align: top;\n",
              "    }\n",
              "\n",
              "    .dataframe thead th {\n",
              "        text-align: right;\n",
              "    }\n",
              "</style>\n",
              "<table border=\"1\" class=\"dataframe\">\n",
              "  <thead>\n",
              "    <tr style=\"text-align: right;\">\n",
              "      <th></th>\n",
              "      <th>Entire home/apt</th>\n",
              "      <th>Hotel room</th>\n",
              "      <th>Private room</th>\n",
              "      <th>Shared room</th>\n",
              "      <th>latitude</th>\n",
              "      <th>longitude</th>\n",
              "    </tr>\n",
              "  </thead>\n",
              "  <tbody>\n",
              "    <tr>\n",
              "      <th>183806</th>\n",
              "      <td>0</td>\n",
              "      <td>0</td>\n",
              "      <td>1</td>\n",
              "      <td>0</td>\n",
              "      <td>-0.410674</td>\n",
              "      <td>-0.533122</td>\n",
              "    </tr>\n",
              "    <tr>\n",
              "      <th>22199</th>\n",
              "      <td>1</td>\n",
              "      <td>0</td>\n",
              "      <td>0</td>\n",
              "      <td>0</td>\n",
              "      <td>-1.399703</td>\n",
              "      <td>0.876137</td>\n",
              "    </tr>\n",
              "    <tr>\n",
              "      <th>114665</th>\n",
              "      <td>1</td>\n",
              "      <td>0</td>\n",
              "      <td>0</td>\n",
              "      <td>0</td>\n",
              "      <td>-0.826770</td>\n",
              "      <td>0.502161</td>\n",
              "    </tr>\n",
              "    <tr>\n",
              "      <th>179735</th>\n",
              "      <td>0</td>\n",
              "      <td>0</td>\n",
              "      <td>1</td>\n",
              "      <td>0</td>\n",
              "      <td>0.251661</td>\n",
              "      <td>-0.706578</td>\n",
              "    </tr>\n",
              "    <tr>\n",
              "      <th>57719</th>\n",
              "      <td>1</td>\n",
              "      <td>0</td>\n",
              "      <td>0</td>\n",
              "      <td>0</td>\n",
              "      <td>-2.137080</td>\n",
              "      <td>-2.035593</td>\n",
              "    </tr>\n",
              "    <tr>\n",
              "      <th>...</th>\n",
              "      <td>...</td>\n",
              "      <td>...</td>\n",
              "      <td>...</td>\n",
              "      <td>...</td>\n",
              "      <td>...</td>\n",
              "      <td>...</td>\n",
              "    </tr>\n",
              "    <tr>\n",
              "      <th>119879</th>\n",
              "      <td>1</td>\n",
              "      <td>0</td>\n",
              "      <td>0</td>\n",
              "      <td>0</td>\n",
              "      <td>0.741330</td>\n",
              "      <td>1.114447</td>\n",
              "    </tr>\n",
              "    <tr>\n",
              "      <th>103694</th>\n",
              "      <td>0</td>\n",
              "      <td>0</td>\n",
              "      <td>1</td>\n",
              "      <td>0</td>\n",
              "      <td>-0.230894</td>\n",
              "      <td>-0.571541</td>\n",
              "    </tr>\n",
              "    <tr>\n",
              "      <th>131932</th>\n",
              "      <td>1</td>\n",
              "      <td>0</td>\n",
              "      <td>0</td>\n",
              "      <td>0</td>\n",
              "      <td>0.736557</td>\n",
              "      <td>1.119856</td>\n",
              "    </tr>\n",
              "    <tr>\n",
              "      <th>146867</th>\n",
              "      <td>0</td>\n",
              "      <td>0</td>\n",
              "      <td>1</td>\n",
              "      <td>0</td>\n",
              "      <td>0.740784</td>\n",
              "      <td>1.116428</td>\n",
              "    </tr>\n",
              "    <tr>\n",
              "      <th>121958</th>\n",
              "      <td>0</td>\n",
              "      <td>0</td>\n",
              "      <td>1</td>\n",
              "      <td>0</td>\n",
              "      <td>0.741764</td>\n",
              "      <td>1.114788</td>\n",
              "    </tr>\n",
              "  </tbody>\n",
              "</table>\n",
              "<p>113015 rows × 6 columns</p>\n",
              "</div>"
            ],
            "text/plain": [
              "        Entire home/apt  Hotel room  ...  latitude  longitude\n",
              "183806                0           0  ... -0.410674  -0.533122\n",
              "22199                 1           0  ... -1.399703   0.876137\n",
              "114665                1           0  ... -0.826770   0.502161\n",
              "179735                0           0  ...  0.251661  -0.706578\n",
              "57719                 1           0  ... -2.137080  -2.035593\n",
              "...                 ...         ...  ...       ...        ...\n",
              "119879                1           0  ...  0.741330   1.114447\n",
              "103694                0           0  ... -0.230894  -0.571541\n",
              "131932                1           0  ...  0.736557   1.119856\n",
              "146867                0           0  ...  0.740784   1.116428\n",
              "121958                0           0  ...  0.741764   1.114788\n",
              "\n",
              "[113015 rows x 6 columns]"
            ]
          },
          "metadata": {
            "tags": []
          },
          "execution_count": 41
        }
      ]
    },
    {
      "cell_type": "markdown",
      "metadata": {
        "id": "x9OAR59uS-xO"
      },
      "source": [
        "### **XGBoost**"
      ]
    },
    {
      "cell_type": "code",
      "metadata": {
        "id": "w1HXIQm3TBC8"
      },
      "source": [
        "from xgboost import XGBClassifier\n",
        "from sklearn.model_selection import StratifiedKFold\n",
        "\n",
        "#Metrics\n",
        "from sklearn.metrics import matthews_corrcoef\n",
        "\n",
        "from sklearn.metrics import confusion_matrix\n",
        "from sklearn.metrics import ConfusionMatrixDisplay"
      ],
      "execution_count": null,
      "outputs": []
    },
    {
      "cell_type": "markdown",
      "metadata": {
        "id": "BcIVqZpAXw7N"
      },
      "source": [
        "**Validation (Baseline)**"
      ]
    },
    {
      "cell_type": "code",
      "metadata": {
        "colab": {
          "base_uri": "https://localhost:8080/"
        },
        "id": "wimkYBjgbYXL",
        "outputId": "c8206371-1af5-4c09-9fc6-b04362844260"
      },
      "source": [
        "X_train_factorized.reset_index(drop=True, inplace=True)\n",
        "Y_train.reset_index(drop=True, inplace=True)\n",
        "\n",
        "rand_states = [28112020]\n",
        "rand_scores_train = {}\n",
        "rand_scores_val = {}\n",
        "\n",
        "for r in rand_states:\n",
        "    scores_train = []\n",
        "    scores_val = []\n",
        "    skf = StratifiedKFold(n_splits=2, random_state=r, shuffle=True)\n",
        "\n",
        "    for train_index, test_index in skf.split(X_train_factorized, Y_train):\n",
        "        model = XGBClassifier(random_state=1234)\n",
        "        model.fit(X_train_factorized.loc[train_index], Y_train.loc[train_index])\n",
        "\n",
        "        # Scoring pake matthew coefficient\n",
        "        Y_predtrain = model.predict(X_train_factorized.loc[train_index])\n",
        "        Y_pred = model.predict(X_train_factorized.loc[test_index])\n",
        "        scores_train.append(matthews_corrcoef(Y_train.loc[train_index], Y_predtrain))\n",
        "        scores_val.append(matthews_corrcoef(Y_train.loc[test_index], Y_pred))\n",
        "\n",
        "    rand_scores_train[r] = scores_train\n",
        "    rand_scores_val[r] = scores_val\n",
        "\n",
        "    print(r, \"Train\", scores_train)\n",
        "    print(r, \"Test \", scores_val)\n",
        "    print('----Baseline----')\n",
        "\n",
        "print(\"Train: \", np.array(list(rand_scores_train.values())).mean())\n",
        "print(\"Test : \",np.array(list(rand_scores_val.values())).mean())"
      ],
      "execution_count": null,
      "outputs": [
        {
          "output_type": "stream",
          "text": [
            "28112020 Train [0.6655409433086, 0.6746301024506726]\n",
            "28112020 Test  [0.6561619025893173, 0.670366583951997]\n",
            "----Baseline----\n",
            "Train:  0.6700855228796363\n",
            "Test :  0.6632642432706571\n"
          ],
          "name": "stdout"
        }
      ]
    },
    {
      "cell_type": "markdown",
      "metadata": {
        "id": "URMZrFWEgmTa"
      },
      "source": [
        "**Validation (Mean Encoding)**"
      ]
    },
    {
      "cell_type": "code",
      "metadata": {
        "colab": {
          "base_uri": "https://localhost:8080/"
        },
        "id": "9cTg4dLV7m0I",
        "outputId": "103c3e52-cfb3-416d-d822-420c8ecd1f70"
      },
      "source": [
        "X_train_encoded.reset_index(drop=True, inplace=True)\n",
        "Y_train.reset_index(drop=True, inplace=True)\n",
        "\n",
        "rand_states = [28112020]\n",
        "rand_scores_train = {}\n",
        "rand_scores_val = {}\n",
        "\n",
        "for r in rand_states:\n",
        "    scores_train = []\n",
        "    scores_val = []\n",
        "    skf = StratifiedKFold(n_splits=2, random_state=r, shuffle=True)\n",
        "\n",
        "    for train_index, test_index in skf.split(X_train_encoded, Y_train):\n",
        "        model = XGBClassifier(random_state=1234)\n",
        "        model.fit(X_train_encoded.loc[train_index], Y_train.loc[train_index])\n",
        "\n",
        "        # Scoring pake matthew coefficient\n",
        "        Y_predtrain = model.predict(X_train_encoded.loc[train_index])\n",
        "        Y_pred = model.predict(X_train_encoded.loc[test_index])\n",
        "        scores_train.append(matthews_corrcoef(Y_train.loc[train_index], Y_predtrain))\n",
        "        scores_val.append(matthews_corrcoef(Y_train.loc[test_index], Y_pred))\n",
        "\n",
        "    rand_scores_train[r] = scores_train\n",
        "    rand_scores_val[r] = scores_val\n",
        "\n",
        "    print(r, \"Train\", scores_train)\n",
        "    print(r, \"Test \", scores_val)\n",
        "    print('----Mean Encoding----')\n",
        "\n",
        "print(\"Train: \", np.array(list(rand_scores_train.values())).mean())\n",
        "print(\"Test : \",np.array(list(rand_scores_val.values())).mean())"
      ],
      "execution_count": null,
      "outputs": [
        {
          "output_type": "stream",
          "text": [
            "28112020 Train [0.6841000106513192, 0.6835263309164379]\n",
            "28112020 Test  [0.6732011110350239, 0.6782857262355316]\n",
            "----Mean Encoding----\n",
            "Train:  0.6838131707838786\n",
            "Test :  0.6757434186352778\n"
          ],
          "name": "stdout"
        }
      ]
    },
    {
      "cell_type": "markdown",
      "metadata": {
        "id": "CY4DbJKngo9c"
      },
      "source": [
        "**Validation (Mean Encoding CV)**"
      ]
    },
    {
      "cell_type": "code",
      "metadata": {
        "colab": {
          "base_uri": "https://localhost:8080/"
        },
        "id": "eRkiKhYzgqNj",
        "outputId": "f6064aff-3dd0-488d-e836-e657e779db85"
      },
      "source": [
        "X_train_encoded_cv.reset_index(drop=True, inplace=True)\n",
        "Y_train.reset_index(drop=True, inplace=True)\n",
        "\n",
        "rand_states = [28112020]\n",
        "rand_scores_train = {}\n",
        "rand_scores_val = {}\n",
        "\n",
        "for r in rand_states:\n",
        "    scores_train = []\n",
        "    scores_val = []\n",
        "    skf = StratifiedKFold(n_splits=2, random_state=r, shuffle=True)\n",
        "\n",
        "    for train_index, test_index in skf.split(X_train_encoded_cv, Y_train):\n",
        "        model = XGBClassifier(random_state=1234)\n",
        "        model.fit(X_train_encoded_cv.loc[train_index], Y_train.loc[train_index])\n",
        "\n",
        "        # Scoring pake matthew coefficient\n",
        "        Y_predtrain = model.predict(X_train_encoded_cv.loc[train_index])\n",
        "        Y_pred = model.predict(X_train_encoded_cv.loc[test_index])\n",
        "        scores_train.append(matthews_corrcoef(Y_train.loc[train_index], Y_predtrain))\n",
        "        scores_val.append(matthews_corrcoef(Y_train.loc[test_index], Y_pred))\n",
        "\n",
        "    rand_scores_train[r] = scores_train\n",
        "    rand_scores_val[r] = scores_val\n",
        "\n",
        "    print(r, \"Train\", scores_train)\n",
        "    print(r, \"Test \", scores_val)\n",
        "    print('----Mean Encoding CV----')\n",
        "\n",
        "print(\"Train: \", np.array(list(rand_scores_train.values())).mean())\n",
        "print(\"Test : \",np.array(list(rand_scores_val.values())).mean())"
      ],
      "execution_count": null,
      "outputs": [
        {
          "output_type": "stream",
          "text": [
            "28112020 Train [0.6777670857409718, 0.6817401099138475]\n",
            "28112020 Test  [0.6714217109219112, 0.680522008888824]\n",
            "----Mean Encoding CV----\n",
            "Train:  0.6797535978274096\n",
            "Test :  0.6759718599053676\n"
          ],
          "name": "stdout"
        }
      ]
    },
    {
      "cell_type": "markdown",
      "metadata": {
        "id": "__95VU8sj7zF"
      },
      "source": [
        "**Submit**"
      ]
    },
    {
      "cell_type": "code",
      "metadata": {
        "colab": {
          "base_uri": "https://localhost:8080/"
        },
        "id": "T5pdlXNUj7zF",
        "outputId": "85f05d72-13c4-4898-95e2-c9d3efb082bf"
      },
      "source": [
        "X_train_factorized.reset_index(drop=True, inplace=True)\n",
        "Y_train.reset_index(drop=True, inplace=True)\n",
        "\n",
        "model = XGBClassifier(random_state=1234)\n",
        "model.fit(X_train_factorized, Y_train)\n",
        "\n",
        "# Scoring pake matthew coefficient\n",
        "Y_pred = model.predict(X_test_factorized)\n",
        "Y_pred.to_csv('')"
      ],
      "execution_count": null,
      "outputs": [
        {
          "output_type": "stream",
          "text": [
            "Baseline: 0.6645578040144313\n",
            "Mean Encoding: 0.6747142800755542\n",
            "Mean Encoding CV: 0.6768000304800589\n"
          ],
          "name": "stdout"
        }
      ]
    },
    {
      "cell_type": "code",
      "metadata": {
        "id": "-tAVIXOnkGNj"
      },
      "source": [
        "X_train_encoded.reset_index(drop=True, inplace=True)\n",
        "Y_train.reset_index(drop=True, inplace=True)\n",
        "\n",
        "model = XGBClassifier(random_state=1234)\n",
        "model.fit(X_train_encoded, Y_train)\n",
        "\n",
        "# Scoring pake matthew coefficient\n",
        "Y_pred = model.predict(X_test_encoded)\n",
        "Y_pred.to_csv('')"
      ],
      "execution_count": null,
      "outputs": []
    },
    {
      "cell_type": "code",
      "metadata": {
        "id": "VU3op_y7kHI3"
      },
      "source": [
        "X_train_encoded_cv.reset_index(drop=True, inplace=True)\n",
        "Y_train.reset_index(drop=True, inplace=True)\n",
        "\n",
        "model = XGBClassifier(random_state=1234)\n",
        "model.fit(X_train_encoded_cv, Y_train)\n",
        "\n",
        "# Scoring pake matthew coefficient\n",
        "Y_pred = model.predict(X_test_encoded_cv)\n",
        "Y_pred.to_csv('')"
      ],
      "execution_count": null,
      "outputs": []
    },
    {
      "cell_type": "markdown",
      "metadata": {
        "id": "TgQAtQOvX0yz"
      },
      "source": [
        "**Test**"
      ]
    },
    {
      "cell_type": "code",
      "metadata": {
        "colab": {
          "base_uri": "https://localhost:8080/"
        },
        "id": "J5ZpiviWX0Fv",
        "outputId": "85f05d72-13c4-4898-95e2-c9d3efb082bf"
      },
      "source": [
        "X_train_factorized.reset_index(drop=True, inplace=True)\n",
        "Y_train.reset_index(drop=True, inplace=True)\n",
        "\n",
        "model = XGBClassifier(random_state=1234)\n",
        "model.fit(X_train_factorized, Y_train)\n",
        "\n",
        "# Scoring pake matthew coefficient\n",
        "Y_pred = model.predict(X_test_factorized)\n",
        "print(\"Baseline:\", matthews_corrcoef(Y_test, Y_pred))\n",
        "\n",
        "\n",
        "\n",
        "X_train_encoded.reset_index(drop=True, inplace=True)\n",
        "Y_train.reset_index(drop=True, inplace=True)\n",
        "\n",
        "model = XGBClassifier(random_state=1234)\n",
        "model.fit(X_train_encoded, Y_train)\n",
        "\n",
        "# Scoring pake matthew coefficient\n",
        "Y_pred = model.predict(X_test_encoded)\n",
        "print(\"Mean Encoding:\", matthews_corrcoef(Y_test, Y_pred))\n",
        "\n",
        "\n",
        "\n",
        "X_train_encoded_cv.reset_index(drop=True, inplace=True)\n",
        "Y_train.reset_index(drop=True, inplace=True)\n",
        "\n",
        "model = XGBClassifier(random_state=1234)\n",
        "model.fit(X_train_encoded_cv, Y_train)\n",
        "\n",
        "# Scoring pake matthew coefficient\n",
        "Y_pred = model.predict(X_test_encoded_cv)\n",
        "print(\"Mean Encoding CV:\", matthews_corrcoef(Y_test, Y_pred))"
      ],
      "execution_count": null,
      "outputs": [
        {
          "output_type": "stream",
          "text": [
            "Baseline: 0.6645578040144313\n",
            "Mean Encoding: 0.6747142800755542\n",
            "Mean Encoding CV: 0.6768000304800589\n"
          ],
          "name": "stdout"
        }
      ]
    },
    {
      "cell_type": "code",
      "metadata": {
        "id": "rzh4-MsOh19z"
      },
      "source": [
        ""
      ],
      "execution_count": null,
      "outputs": []
    },
    {
      "cell_type": "markdown",
      "metadata": {
        "id": "hoFWIpNIx-aG"
      },
      "source": [
        "### **NN**"
      ]
    },
    {
      "cell_type": "code",
      "metadata": {
        "id": "-tIvhygCx9Ng"
      },
      "source": [
        "import tensorflow as tf\n",
        "from tensorflow import keras"
      ],
      "execution_count": 17,
      "outputs": []
    },
    {
      "cell_type": "code",
      "metadata": {
        "id": "V5i25mPdySuK"
      },
      "source": [
        ""
      ],
      "execution_count": null,
      "outputs": []
    }
  ]
}