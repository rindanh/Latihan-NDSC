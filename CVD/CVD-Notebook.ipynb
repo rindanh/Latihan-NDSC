{
  "nbformat": 4,
  "nbformat_minor": 0,
  "metadata": {
    "colab": {
      "name": "Template Klasifikasi.ipynb",
      "provenance": [],
      "collapsed_sections": [
        "7A9er5zzh_E4",
        "x9OAR59uS-xO"
      ],
      "toc_visible": true,
      "include_colab_link": true
    },
    "kernelspec": {
      "name": "python3",
      "display_name": "Python 3"
    }
  },
  "cells": [
    {
      "cell_type": "markdown",
      "metadata": {
        "id": "view-in-github",
        "colab_type": "text"
      },
      "source": [
        "<a href=\"https://colab.research.google.com/github/rindanh/Latihan-NDSC/blob/main/CVD/CVD-Notebook.ipynb\" target=\"_parent\"><img src=\"https://colab.research.google.com/assets/colab-badge.svg\" alt=\"Open In Colab\"/></a>"
      ]
    },
    {
      "cell_type": "code",
      "metadata": {
        "colab": {
          "base_uri": "https://localhost:8080/"
        },
        "id": "z3JipR0VT2Do",
        "outputId": "453680f6-b5c9-4bdc-daee-dbe638721c8c"
      },
      "source": [
        "from google.colab import drive\n",
        "drive.mount('/content/drive')"
      ],
      "execution_count": null,
      "outputs": [
        {
          "output_type": "stream",
          "text": [
            "Drive already mounted at /content/drive; to attempt to forcibly remount, call drive.mount(\"/content/drive\", force_remount=True).\n"
          ],
          "name": "stdout"
        }
      ]
    },
    {
      "cell_type": "code",
      "metadata": {
        "id": "-jtpI20Ac_r1"
      },
      "source": [
        "import pandas as pd\n",
        "import numpy as np\n",
        "import matplotlib as mpl\n",
        "import matplotlib.pyplot as plt\n",
        "import seaborn as sns\n",
        "\n",
        "from collections import Counter\n",
        "import time\n",
        "from tqdm.notebook import tqdm\n",
        "from sklearn.model_selection import StratifiedKFold"
      ],
      "execution_count": null,
      "outputs": []
    },
    {
      "cell_type": "markdown",
      "metadata": {
        "id": "KBH3fiuAqjsv"
      },
      "source": [
        "### **Bagi data train test (kalo belum ada pembagian)**"
      ]
    },
    {
      "cell_type": "code",
      "metadata": {
        "id": "0QRgxF5MqN0x"
      },
      "source": [
        "df = pd.read_csv(\"/content/drive/MyDrive/LOMBA/NDSC/cardio_train.csv\", sep=';')"
      ],
      "execution_count": null,
      "outputs": []
    },
    {
      "cell_type": "code",
      "metadata": {
        "colab": {
          "base_uri": "https://localhost:8080/",
          "height": 391
        },
        "id": "jOA5Yb-I2etm",
        "outputId": "83e937e8-fd1f-4716-c56a-c16c14acb0a2"
      },
      "source": [
        "df"
      ],
      "execution_count": null,
      "outputs": [
        {
          "output_type": "execute_result",
          "data": {
            "text/html": [
              "<div>\n",
              "<style scoped>\n",
              "    .dataframe tbody tr th:only-of-type {\n",
              "        vertical-align: middle;\n",
              "    }\n",
              "\n",
              "    .dataframe tbody tr th {\n",
              "        vertical-align: top;\n",
              "    }\n",
              "\n",
              "    .dataframe thead th {\n",
              "        text-align: right;\n",
              "    }\n",
              "</style>\n",
              "<table border=\"1\" class=\"dataframe\">\n",
              "  <thead>\n",
              "    <tr style=\"text-align: right;\">\n",
              "      <th></th>\n",
              "      <th>id</th>\n",
              "      <th>age</th>\n",
              "      <th>gender</th>\n",
              "      <th>height</th>\n",
              "      <th>weight</th>\n",
              "      <th>ap_hi</th>\n",
              "      <th>ap_lo</th>\n",
              "      <th>cholesterol</th>\n",
              "      <th>gluc</th>\n",
              "      <th>smoke</th>\n",
              "      <th>alco</th>\n",
              "      <th>active</th>\n",
              "      <th>cardio</th>\n",
              "    </tr>\n",
              "  </thead>\n",
              "  <tbody>\n",
              "    <tr>\n",
              "      <th>0</th>\n",
              "      <td>0</td>\n",
              "      <td>18393</td>\n",
              "      <td>2</td>\n",
              "      <td>168</td>\n",
              "      <td>62.0</td>\n",
              "      <td>110</td>\n",
              "      <td>80</td>\n",
              "      <td>1</td>\n",
              "      <td>1</td>\n",
              "      <td>0</td>\n",
              "      <td>0</td>\n",
              "      <td>1</td>\n",
              "      <td>0</td>\n",
              "    </tr>\n",
              "    <tr>\n",
              "      <th>1</th>\n",
              "      <td>1</td>\n",
              "      <td>20228</td>\n",
              "      <td>1</td>\n",
              "      <td>156</td>\n",
              "      <td>85.0</td>\n",
              "      <td>140</td>\n",
              "      <td>90</td>\n",
              "      <td>3</td>\n",
              "      <td>1</td>\n",
              "      <td>0</td>\n",
              "      <td>0</td>\n",
              "      <td>1</td>\n",
              "      <td>1</td>\n",
              "    </tr>\n",
              "    <tr>\n",
              "      <th>2</th>\n",
              "      <td>2</td>\n",
              "      <td>18857</td>\n",
              "      <td>1</td>\n",
              "      <td>165</td>\n",
              "      <td>64.0</td>\n",
              "      <td>130</td>\n",
              "      <td>70</td>\n",
              "      <td>3</td>\n",
              "      <td>1</td>\n",
              "      <td>0</td>\n",
              "      <td>0</td>\n",
              "      <td>0</td>\n",
              "      <td>1</td>\n",
              "    </tr>\n",
              "    <tr>\n",
              "      <th>3</th>\n",
              "      <td>3</td>\n",
              "      <td>17623</td>\n",
              "      <td>2</td>\n",
              "      <td>169</td>\n",
              "      <td>82.0</td>\n",
              "      <td>150</td>\n",
              "      <td>100</td>\n",
              "      <td>1</td>\n",
              "      <td>1</td>\n",
              "      <td>0</td>\n",
              "      <td>0</td>\n",
              "      <td>1</td>\n",
              "      <td>1</td>\n",
              "    </tr>\n",
              "    <tr>\n",
              "      <th>4</th>\n",
              "      <td>4</td>\n",
              "      <td>17474</td>\n",
              "      <td>1</td>\n",
              "      <td>156</td>\n",
              "      <td>56.0</td>\n",
              "      <td>100</td>\n",
              "      <td>60</td>\n",
              "      <td>1</td>\n",
              "      <td>1</td>\n",
              "      <td>0</td>\n",
              "      <td>0</td>\n",
              "      <td>0</td>\n",
              "      <td>0</td>\n",
              "    </tr>\n",
              "    <tr>\n",
              "      <th>...</th>\n",
              "      <td>...</td>\n",
              "      <td>...</td>\n",
              "      <td>...</td>\n",
              "      <td>...</td>\n",
              "      <td>...</td>\n",
              "      <td>...</td>\n",
              "      <td>...</td>\n",
              "      <td>...</td>\n",
              "      <td>...</td>\n",
              "      <td>...</td>\n",
              "      <td>...</td>\n",
              "      <td>...</td>\n",
              "      <td>...</td>\n",
              "    </tr>\n",
              "    <tr>\n",
              "      <th>69995</th>\n",
              "      <td>99993</td>\n",
              "      <td>19240</td>\n",
              "      <td>2</td>\n",
              "      <td>168</td>\n",
              "      <td>76.0</td>\n",
              "      <td>120</td>\n",
              "      <td>80</td>\n",
              "      <td>1</td>\n",
              "      <td>1</td>\n",
              "      <td>1</td>\n",
              "      <td>0</td>\n",
              "      <td>1</td>\n",
              "      <td>0</td>\n",
              "    </tr>\n",
              "    <tr>\n",
              "      <th>69996</th>\n",
              "      <td>99995</td>\n",
              "      <td>22601</td>\n",
              "      <td>1</td>\n",
              "      <td>158</td>\n",
              "      <td>126.0</td>\n",
              "      <td>140</td>\n",
              "      <td>90</td>\n",
              "      <td>2</td>\n",
              "      <td>2</td>\n",
              "      <td>0</td>\n",
              "      <td>0</td>\n",
              "      <td>1</td>\n",
              "      <td>1</td>\n",
              "    </tr>\n",
              "    <tr>\n",
              "      <th>69997</th>\n",
              "      <td>99996</td>\n",
              "      <td>19066</td>\n",
              "      <td>2</td>\n",
              "      <td>183</td>\n",
              "      <td>105.0</td>\n",
              "      <td>180</td>\n",
              "      <td>90</td>\n",
              "      <td>3</td>\n",
              "      <td>1</td>\n",
              "      <td>0</td>\n",
              "      <td>1</td>\n",
              "      <td>0</td>\n",
              "      <td>1</td>\n",
              "    </tr>\n",
              "    <tr>\n",
              "      <th>69998</th>\n",
              "      <td>99998</td>\n",
              "      <td>22431</td>\n",
              "      <td>1</td>\n",
              "      <td>163</td>\n",
              "      <td>72.0</td>\n",
              "      <td>135</td>\n",
              "      <td>80</td>\n",
              "      <td>1</td>\n",
              "      <td>2</td>\n",
              "      <td>0</td>\n",
              "      <td>0</td>\n",
              "      <td>0</td>\n",
              "      <td>1</td>\n",
              "    </tr>\n",
              "    <tr>\n",
              "      <th>69999</th>\n",
              "      <td>99999</td>\n",
              "      <td>20540</td>\n",
              "      <td>1</td>\n",
              "      <td>170</td>\n",
              "      <td>72.0</td>\n",
              "      <td>120</td>\n",
              "      <td>80</td>\n",
              "      <td>2</td>\n",
              "      <td>1</td>\n",
              "      <td>0</td>\n",
              "      <td>0</td>\n",
              "      <td>1</td>\n",
              "      <td>0</td>\n",
              "    </tr>\n",
              "  </tbody>\n",
              "</table>\n",
              "<p>70000 rows × 13 columns</p>\n",
              "</div>"
            ],
            "text/plain": [
              "          id    age  gender  height  weight  ...  gluc  smoke  alco  active  cardio\n",
              "0          0  18393       2     168    62.0  ...     1      0     0       1       0\n",
              "1          1  20228       1     156    85.0  ...     1      0     0       1       1\n",
              "2          2  18857       1     165    64.0  ...     1      0     0       0       1\n",
              "3          3  17623       2     169    82.0  ...     1      0     0       1       1\n",
              "4          4  17474       1     156    56.0  ...     1      0     0       0       0\n",
              "...      ...    ...     ...     ...     ...  ...   ...    ...   ...     ...     ...\n",
              "69995  99993  19240       2     168    76.0  ...     1      1     0       1       0\n",
              "69996  99995  22601       1     158   126.0  ...     2      0     0       1       1\n",
              "69997  99996  19066       2     183   105.0  ...     1      0     1       0       1\n",
              "69998  99998  22431       1     163    72.0  ...     2      0     0       0       1\n",
              "69999  99999  20540       1     170    72.0  ...     1      0     0       1       0\n",
              "\n",
              "[70000 rows x 13 columns]"
            ]
          },
          "metadata": {
            "tags": []
          },
          "execution_count": 86
        }
      ]
    },
    {
      "cell_type": "code",
      "metadata": {
        "id": "ObU31c7TqWl2"
      },
      "source": [
        "from sklearn.model_selection import train_test_split\n",
        "\n",
        "X = df.drop(columns=['cardio'])\n",
        "Y = df['cardio']\n",
        "\n",
        "X_train, X_test, Y_train, Y_test = train_test_split(X, Y, test_size=0.5, random_state=42)\n",
        "\n",
        "X_train.reset_index(drop=True, inplace=True)\n",
        "X_test.reset_index(drop=True, inplace=True)\n",
        "Y_train.reset_index(drop=True, inplace=True)\n",
        "Y_test.reset_index(drop=True, inplace=True)"
      ],
      "execution_count": null,
      "outputs": []
    },
    {
      "cell_type": "code",
      "metadata": {
        "id": "9YWyzUcsTYgu"
      },
      "source": [
        "df_train = pd.concat([X_train, Y_train], axis=1)\n",
        "df_test = pd.concat([X_test, Y_test], axis=1)"
      ],
      "execution_count": null,
      "outputs": []
    },
    {
      "cell_type": "markdown",
      "metadata": {
        "id": "YKFR4bNTiwjB"
      },
      "source": [
        "### **Siapin data train test (kalo udah ada pembagian)**"
      ]
    },
    {
      "cell_type": "code",
      "metadata": {
        "id": "6JyKzWyRiwjB"
      },
      "source": [
        "df_train = pd.read_csv(\"/content/drive/MyDrive/LOMBA/NDSC/vehicleinsurance/train.csv\")\n",
        "df_test = pd.read_csv(\"/content/drive/MyDrive/LOMBA/NDSC/vehicleinsurance/test.csv\")\n",
        "sample = pd.read_csv(\"/content/drive/MyDrive/LOMBA/NDSC/vehicleinsurance/sample_submission.csv\")"
      ],
      "execution_count": null,
      "outputs": []
    },
    {
      "cell_type": "code",
      "metadata": {
        "id": "V3eWbTOWqeFv"
      },
      "source": [
        "df_train = pd.read_csv(\"/content/drive/MyDrive/LOMBA/NDSC/archive_9/summer-products-with-rating-and-performance_2020-08.csv\")\n",
        "df_test = pd.read_csv(\"/content/drive/MyDrive/LOMBA/NDSC/vehicleinsurance/test.csv\")\n",
        "sample = pd.read_csv(\"/content/drive/MyDrive/LOMBA/NDSC/vehicleinsurance/sample_submission.csv\")"
      ],
      "execution_count": null,
      "outputs": []
    },
    {
      "cell_type": "code",
      "metadata": {
        "id": "0sXD6qCqjB9t"
      },
      "source": [
        "X_train = df_train.drop(columns='Response')\n",
        "Y_train = df_train.Response\n",
        "\n",
        "X_test = df_test.copy()"
      ],
      "execution_count": null,
      "outputs": []
    },
    {
      "cell_type": "markdown",
      "metadata": {
        "id": "tBYLcMfhrd0x"
      },
      "source": [
        "### **Analisis Awal**"
      ]
    },
    {
      "cell_type": "code",
      "metadata": {
        "colab": {
          "base_uri": "https://localhost:8080/",
          "height": 392
        },
        "id": "SQn4xGUbqXvO",
        "outputId": "a9193f44-d89d-4935-bbbb-474e86f538af"
      },
      "source": [
        "X_train.head().T"
      ],
      "execution_count": null,
      "outputs": [
        {
          "output_type": "execute_result",
          "data": {
            "text/html": [
              "<div>\n",
              "<style scoped>\n",
              "    .dataframe tbody tr th:only-of-type {\n",
              "        vertical-align: middle;\n",
              "    }\n",
              "\n",
              "    .dataframe tbody tr th {\n",
              "        vertical-align: top;\n",
              "    }\n",
              "\n",
              "    .dataframe thead th {\n",
              "        text-align: right;\n",
              "    }\n",
              "</style>\n",
              "<table border=\"1\" class=\"dataframe\">\n",
              "  <thead>\n",
              "    <tr style=\"text-align: right;\">\n",
              "      <th></th>\n",
              "      <th>0</th>\n",
              "      <th>1</th>\n",
              "      <th>2</th>\n",
              "      <th>3</th>\n",
              "      <th>4</th>\n",
              "    </tr>\n",
              "  </thead>\n",
              "  <tbody>\n",
              "    <tr>\n",
              "      <th>id</th>\n",
              "      <td>85273.0</td>\n",
              "      <td>14546.0</td>\n",
              "      <td>72084.0</td>\n",
              "      <td>27302.0</td>\n",
              "      <td>47475.0</td>\n",
              "    </tr>\n",
              "    <tr>\n",
              "      <th>age</th>\n",
              "      <td>15976.0</td>\n",
              "      <td>18251.0</td>\n",
              "      <td>19692.0</td>\n",
              "      <td>22322.0</td>\n",
              "      <td>15095.0</td>\n",
              "    </tr>\n",
              "    <tr>\n",
              "      <th>gender</th>\n",
              "      <td>1.0</td>\n",
              "      <td>2.0</td>\n",
              "      <td>2.0</td>\n",
              "      <td>1.0</td>\n",
              "      <td>1.0</td>\n",
              "    </tr>\n",
              "    <tr>\n",
              "      <th>height</th>\n",
              "      <td>150.0</td>\n",
              "      <td>156.0</td>\n",
              "      <td>180.0</td>\n",
              "      <td>168.0</td>\n",
              "      <td>164.0</td>\n",
              "    </tr>\n",
              "    <tr>\n",
              "      <th>weight</th>\n",
              "      <td>54.0</td>\n",
              "      <td>70.0</td>\n",
              "      <td>81.0</td>\n",
              "      <td>90.0</td>\n",
              "      <td>93.0</td>\n",
              "    </tr>\n",
              "    <tr>\n",
              "      <th>ap_hi</th>\n",
              "      <td>90.0</td>\n",
              "      <td>130.0</td>\n",
              "      <td>120.0</td>\n",
              "      <td>120.0</td>\n",
              "      <td>120.0</td>\n",
              "    </tr>\n",
              "    <tr>\n",
              "      <th>ap_lo</th>\n",
              "      <td>60.0</td>\n",
              "      <td>80.0</td>\n",
              "      <td>80.0</td>\n",
              "      <td>80.0</td>\n",
              "      <td>80.0</td>\n",
              "    </tr>\n",
              "    <tr>\n",
              "      <th>cholesterol</th>\n",
              "      <td>1.0</td>\n",
              "      <td>1.0</td>\n",
              "      <td>2.0</td>\n",
              "      <td>1.0</td>\n",
              "      <td>1.0</td>\n",
              "    </tr>\n",
              "    <tr>\n",
              "      <th>gluc</th>\n",
              "      <td>1.0</td>\n",
              "      <td>1.0</td>\n",
              "      <td>1.0</td>\n",
              "      <td>1.0</td>\n",
              "      <td>1.0</td>\n",
              "    </tr>\n",
              "    <tr>\n",
              "      <th>smoke</th>\n",
              "      <td>0.0</td>\n",
              "      <td>0.0</td>\n",
              "      <td>0.0</td>\n",
              "      <td>0.0</td>\n",
              "      <td>0.0</td>\n",
              "    </tr>\n",
              "    <tr>\n",
              "      <th>alco</th>\n",
              "      <td>0.0</td>\n",
              "      <td>0.0</td>\n",
              "      <td>0.0</td>\n",
              "      <td>0.0</td>\n",
              "      <td>0.0</td>\n",
              "    </tr>\n",
              "    <tr>\n",
              "      <th>active</th>\n",
              "      <td>1.0</td>\n",
              "      <td>0.0</td>\n",
              "      <td>1.0</td>\n",
              "      <td>0.0</td>\n",
              "      <td>1.0</td>\n",
              "    </tr>\n",
              "  </tbody>\n",
              "</table>\n",
              "</div>"
            ],
            "text/plain": [
              "                   0        1        2        3        4\n",
              "id           85273.0  14546.0  72084.0  27302.0  47475.0\n",
              "age          15976.0  18251.0  19692.0  22322.0  15095.0\n",
              "gender           1.0      2.0      2.0      1.0      1.0\n",
              "height         150.0    156.0    180.0    168.0    164.0\n",
              "weight          54.0     70.0     81.0     90.0     93.0\n",
              "ap_hi           90.0    130.0    120.0    120.0    120.0\n",
              "ap_lo           60.0     80.0     80.0     80.0     80.0\n",
              "cholesterol      1.0      1.0      2.0      1.0      1.0\n",
              "gluc             1.0      1.0      1.0      1.0      1.0\n",
              "smoke            0.0      0.0      0.0      0.0      0.0\n",
              "alco             0.0      0.0      0.0      0.0      0.0\n",
              "active           1.0      0.0      1.0      0.0      1.0"
            ]
          },
          "metadata": {
            "tags": []
          },
          "execution_count": 90
        }
      ]
    },
    {
      "cell_type": "code",
      "metadata": {
        "colab": {
          "base_uri": "https://localhost:8080/",
          "height": 392
        },
        "id": "M-c-r9g1day4",
        "outputId": "de4b4938-0ea9-46c5-8806-c8a3a3b16fee"
      },
      "source": [
        "X_test.head().T"
      ],
      "execution_count": null,
      "outputs": [
        {
          "output_type": "execute_result",
          "data": {
            "text/html": [
              "<div>\n",
              "<style scoped>\n",
              "    .dataframe tbody tr th:only-of-type {\n",
              "        vertical-align: middle;\n",
              "    }\n",
              "\n",
              "    .dataframe tbody tr th {\n",
              "        vertical-align: top;\n",
              "    }\n",
              "\n",
              "    .dataframe thead th {\n",
              "        text-align: right;\n",
              "    }\n",
              "</style>\n",
              "<table border=\"1\" class=\"dataframe\">\n",
              "  <thead>\n",
              "    <tr style=\"text-align: right;\">\n",
              "      <th></th>\n",
              "      <th>0</th>\n",
              "      <th>1</th>\n",
              "      <th>2</th>\n",
              "      <th>3</th>\n",
              "      <th>4</th>\n",
              "    </tr>\n",
              "  </thead>\n",
              "  <tbody>\n",
              "    <tr>\n",
              "      <th>id</th>\n",
              "      <td>66728.0</td>\n",
              "      <td>69098.0</td>\n",
              "      <td>59185.0</td>\n",
              "      <td>49288.0</td>\n",
              "      <td>62481.0</td>\n",
              "    </tr>\n",
              "    <tr>\n",
              "      <th>age</th>\n",
              "      <td>21770.0</td>\n",
              "      <td>21876.0</td>\n",
              "      <td>23270.0</td>\n",
              "      <td>19741.0</td>\n",
              "      <td>18395.0</td>\n",
              "    </tr>\n",
              "    <tr>\n",
              "      <th>gender</th>\n",
              "      <td>1.0</td>\n",
              "      <td>1.0</td>\n",
              "      <td>1.0</td>\n",
              "      <td>1.0</td>\n",
              "      <td>1.0</td>\n",
              "    </tr>\n",
              "    <tr>\n",
              "      <th>height</th>\n",
              "      <td>156.0</td>\n",
              "      <td>170.0</td>\n",
              "      <td>151.0</td>\n",
              "      <td>159.0</td>\n",
              "      <td>164.0</td>\n",
              "    </tr>\n",
              "    <tr>\n",
              "      <th>weight</th>\n",
              "      <td>64.0</td>\n",
              "      <td>85.0</td>\n",
              "      <td>90.0</td>\n",
              "      <td>97.0</td>\n",
              "      <td>68.0</td>\n",
              "    </tr>\n",
              "    <tr>\n",
              "      <th>ap_hi</th>\n",
              "      <td>140.0</td>\n",
              "      <td>160.0</td>\n",
              "      <td>130.0</td>\n",
              "      <td>120.0</td>\n",
              "      <td>120.0</td>\n",
              "    </tr>\n",
              "    <tr>\n",
              "      <th>ap_lo</th>\n",
              "      <td>80.0</td>\n",
              "      <td>90.0</td>\n",
              "      <td>80.0</td>\n",
              "      <td>80.0</td>\n",
              "      <td>80.0</td>\n",
              "    </tr>\n",
              "    <tr>\n",
              "      <th>cholesterol</th>\n",
              "      <td>2.0</td>\n",
              "      <td>1.0</td>\n",
              "      <td>1.0</td>\n",
              "      <td>1.0</td>\n",
              "      <td>1.0</td>\n",
              "    </tr>\n",
              "    <tr>\n",
              "      <th>gluc</th>\n",
              "      <td>1.0</td>\n",
              "      <td>1.0</td>\n",
              "      <td>1.0</td>\n",
              "      <td>1.0</td>\n",
              "      <td>1.0</td>\n",
              "    </tr>\n",
              "    <tr>\n",
              "      <th>smoke</th>\n",
              "      <td>0.0</td>\n",
              "      <td>0.0</td>\n",
              "      <td>0.0</td>\n",
              "      <td>0.0</td>\n",
              "      <td>0.0</td>\n",
              "    </tr>\n",
              "    <tr>\n",
              "      <th>alco</th>\n",
              "      <td>0.0</td>\n",
              "      <td>0.0</td>\n",
              "      <td>0.0</td>\n",
              "      <td>0.0</td>\n",
              "      <td>0.0</td>\n",
              "    </tr>\n",
              "    <tr>\n",
              "      <th>active</th>\n",
              "      <td>1.0</td>\n",
              "      <td>1.0</td>\n",
              "      <td>1.0</td>\n",
              "      <td>1.0</td>\n",
              "      <td>1.0</td>\n",
              "    </tr>\n",
              "  </tbody>\n",
              "</table>\n",
              "</div>"
            ],
            "text/plain": [
              "                   0        1        2        3        4\n",
              "id           66728.0  69098.0  59185.0  49288.0  62481.0\n",
              "age          21770.0  21876.0  23270.0  19741.0  18395.0\n",
              "gender           1.0      1.0      1.0      1.0      1.0\n",
              "height         156.0    170.0    151.0    159.0    164.0\n",
              "weight          64.0     85.0     90.0     97.0     68.0\n",
              "ap_hi          140.0    160.0    130.0    120.0    120.0\n",
              "ap_lo           80.0     90.0     80.0     80.0     80.0\n",
              "cholesterol      2.0      1.0      1.0      1.0      1.0\n",
              "gluc             1.0      1.0      1.0      1.0      1.0\n",
              "smoke            0.0      0.0      0.0      0.0      0.0\n",
              "alco             0.0      0.0      0.0      0.0      0.0\n",
              "active           1.0      1.0      1.0      1.0      1.0"
            ]
          },
          "metadata": {
            "tags": []
          },
          "execution_count": 91
        }
      ]
    },
    {
      "cell_type": "code",
      "metadata": {
        "colab": {
          "base_uri": "https://localhost:8080/",
          "height": 392
        },
        "id": "5QIItoy6dr0i",
        "outputId": "83c34270-0e2b-4a44-9e6c-37d3bd9a89f1"
      },
      "source": [
        "desctrain = X_train.describe().T\n",
        "desctrain"
      ],
      "execution_count": null,
      "outputs": [
        {
          "output_type": "execute_result",
          "data": {
            "text/html": [
              "<div>\n",
              "<style scoped>\n",
              "    .dataframe tbody tr th:only-of-type {\n",
              "        vertical-align: middle;\n",
              "    }\n",
              "\n",
              "    .dataframe tbody tr th {\n",
              "        vertical-align: top;\n",
              "    }\n",
              "\n",
              "    .dataframe thead th {\n",
              "        text-align: right;\n",
              "    }\n",
              "</style>\n",
              "<table border=\"1\" class=\"dataframe\">\n",
              "  <thead>\n",
              "    <tr style=\"text-align: right;\">\n",
              "      <th></th>\n",
              "      <th>count</th>\n",
              "      <th>mean</th>\n",
              "      <th>std</th>\n",
              "      <th>min</th>\n",
              "      <th>25%</th>\n",
              "      <th>50%</th>\n",
              "      <th>75%</th>\n",
              "      <th>max</th>\n",
              "    </tr>\n",
              "  </thead>\n",
              "  <tbody>\n",
              "    <tr>\n",
              "      <th>id</th>\n",
              "      <td>35000.0</td>\n",
              "      <td>49961.782829</td>\n",
              "      <td>28908.131765</td>\n",
              "      <td>2.0</td>\n",
              "      <td>24910.25</td>\n",
              "      <td>50023.5</td>\n",
              "      <td>74988.00</td>\n",
              "      <td>99999.0</td>\n",
              "    </tr>\n",
              "    <tr>\n",
              "      <th>age</th>\n",
              "      <td>35000.0</td>\n",
              "      <td>19444.664429</td>\n",
              "      <td>2472.808909</td>\n",
              "      <td>10798.0</td>\n",
              "      <td>17636.75</td>\n",
              "      <td>19690.0</td>\n",
              "      <td>21312.25</td>\n",
              "      <td>23701.0</td>\n",
              "    </tr>\n",
              "    <tr>\n",
              "      <th>gender</th>\n",
              "      <td>35000.0</td>\n",
              "      <td>1.349971</td>\n",
              "      <td>0.476967</td>\n",
              "      <td>1.0</td>\n",
              "      <td>1.00</td>\n",
              "      <td>1.0</td>\n",
              "      <td>2.00</td>\n",
              "      <td>2.0</td>\n",
              "    </tr>\n",
              "    <tr>\n",
              "      <th>height</th>\n",
              "      <td>35000.0</td>\n",
              "      <td>164.355971</td>\n",
              "      <td>8.238502</td>\n",
              "      <td>60.0</td>\n",
              "      <td>159.00</td>\n",
              "      <td>165.0</td>\n",
              "      <td>170.00</td>\n",
              "      <td>250.0</td>\n",
              "    </tr>\n",
              "    <tr>\n",
              "      <th>weight</th>\n",
              "      <td>35000.0</td>\n",
              "      <td>74.155287</td>\n",
              "      <td>14.328055</td>\n",
              "      <td>22.0</td>\n",
              "      <td>65.00</td>\n",
              "      <td>72.0</td>\n",
              "      <td>82.00</td>\n",
              "      <td>200.0</td>\n",
              "    </tr>\n",
              "    <tr>\n",
              "      <th>ap_hi</th>\n",
              "      <td>35000.0</td>\n",
              "      <td>129.338314</td>\n",
              "      <td>177.043422</td>\n",
              "      <td>-120.0</td>\n",
              "      <td>120.00</td>\n",
              "      <td>120.0</td>\n",
              "      <td>140.00</td>\n",
              "      <td>14020.0</td>\n",
              "    </tr>\n",
              "    <tr>\n",
              "      <th>ap_lo</th>\n",
              "      <td>35000.0</td>\n",
              "      <td>96.900086</td>\n",
              "      <td>199.812157</td>\n",
              "      <td>0.0</td>\n",
              "      <td>80.00</td>\n",
              "      <td>80.0</td>\n",
              "      <td>90.00</td>\n",
              "      <td>11000.0</td>\n",
              "    </tr>\n",
              "    <tr>\n",
              "      <th>cholesterol</th>\n",
              "      <td>35000.0</td>\n",
              "      <td>1.365029</td>\n",
              "      <td>0.677745</td>\n",
              "      <td>1.0</td>\n",
              "      <td>1.00</td>\n",
              "      <td>1.0</td>\n",
              "      <td>2.00</td>\n",
              "      <td>3.0</td>\n",
              "    </tr>\n",
              "    <tr>\n",
              "      <th>gluc</th>\n",
              "      <td>35000.0</td>\n",
              "      <td>1.223029</td>\n",
              "      <td>0.568089</td>\n",
              "      <td>1.0</td>\n",
              "      <td>1.00</td>\n",
              "      <td>1.0</td>\n",
              "      <td>1.00</td>\n",
              "      <td>3.0</td>\n",
              "    </tr>\n",
              "    <tr>\n",
              "      <th>smoke</th>\n",
              "      <td>35000.0</td>\n",
              "      <td>0.089657</td>\n",
              "      <td>0.285694</td>\n",
              "      <td>0.0</td>\n",
              "      <td>0.00</td>\n",
              "      <td>0.0</td>\n",
              "      <td>0.00</td>\n",
              "      <td>1.0</td>\n",
              "    </tr>\n",
              "    <tr>\n",
              "      <th>alco</th>\n",
              "      <td>35000.0</td>\n",
              "      <td>0.054943</td>\n",
              "      <td>0.227872</td>\n",
              "      <td>0.0</td>\n",
              "      <td>0.00</td>\n",
              "      <td>0.0</td>\n",
              "      <td>0.00</td>\n",
              "      <td>1.0</td>\n",
              "    </tr>\n",
              "    <tr>\n",
              "      <th>active</th>\n",
              "      <td>35000.0</td>\n",
              "      <td>0.801571</td>\n",
              "      <td>0.398822</td>\n",
              "      <td>0.0</td>\n",
              "      <td>1.00</td>\n",
              "      <td>1.0</td>\n",
              "      <td>1.00</td>\n",
              "      <td>1.0</td>\n",
              "    </tr>\n",
              "  </tbody>\n",
              "</table>\n",
              "</div>"
            ],
            "text/plain": [
              "               count          mean           std  ...      50%       75%      max\n",
              "id           35000.0  49961.782829  28908.131765  ...  50023.5  74988.00  99999.0\n",
              "age          35000.0  19444.664429   2472.808909  ...  19690.0  21312.25  23701.0\n",
              "gender       35000.0      1.349971      0.476967  ...      1.0      2.00      2.0\n",
              "height       35000.0    164.355971      8.238502  ...    165.0    170.00    250.0\n",
              "weight       35000.0     74.155287     14.328055  ...     72.0     82.00    200.0\n",
              "ap_hi        35000.0    129.338314    177.043422  ...    120.0    140.00  14020.0\n",
              "ap_lo        35000.0     96.900086    199.812157  ...     80.0     90.00  11000.0\n",
              "cholesterol  35000.0      1.365029      0.677745  ...      1.0      2.00      3.0\n",
              "gluc         35000.0      1.223029      0.568089  ...      1.0      1.00      3.0\n",
              "smoke        35000.0      0.089657      0.285694  ...      0.0      0.00      1.0\n",
              "alco         35000.0      0.054943      0.227872  ...      0.0      0.00      1.0\n",
              "active       35000.0      0.801571      0.398822  ...      1.0      1.00      1.0\n",
              "\n",
              "[12 rows x 8 columns]"
            ]
          },
          "metadata": {
            "tags": []
          },
          "execution_count": 92
        }
      ]
    },
    {
      "cell_type": "code",
      "metadata": {
        "colab": {
          "base_uri": "https://localhost:8080/",
          "height": 392
        },
        "id": "aextISwqdr33",
        "outputId": "ae29be35-9a1a-46d7-8b03-2cbcf955decd"
      },
      "source": [
        "desctest = X_test.describe().T\n",
        "desctest"
      ],
      "execution_count": null,
      "outputs": [
        {
          "output_type": "execute_result",
          "data": {
            "text/html": [
              "<div>\n",
              "<style scoped>\n",
              "    .dataframe tbody tr th:only-of-type {\n",
              "        vertical-align: middle;\n",
              "    }\n",
              "\n",
              "    .dataframe tbody tr th {\n",
              "        vertical-align: top;\n",
              "    }\n",
              "\n",
              "    .dataframe thead th {\n",
              "        text-align: right;\n",
              "    }\n",
              "</style>\n",
              "<table border=\"1\" class=\"dataframe\">\n",
              "  <thead>\n",
              "    <tr style=\"text-align: right;\">\n",
              "      <th></th>\n",
              "      <th>count</th>\n",
              "      <th>mean</th>\n",
              "      <th>std</th>\n",
              "      <th>min</th>\n",
              "      <th>25%</th>\n",
              "      <th>50%</th>\n",
              "      <th>75%</th>\n",
              "      <th>max</th>\n",
              "    </tr>\n",
              "  </thead>\n",
              "  <tbody>\n",
              "    <tr>\n",
              "      <th>id</th>\n",
              "      <td>35000.0</td>\n",
              "      <td>49983.056971</td>\n",
              "      <td>28794.769777</td>\n",
              "      <td>0.0</td>\n",
              "      <td>25085.50</td>\n",
              "      <td>49980.5</td>\n",
              "      <td>74797.75</td>\n",
              "      <td>99993.0</td>\n",
              "    </tr>\n",
              "    <tr>\n",
              "      <th>age</th>\n",
              "      <td>35000.0</td>\n",
              "      <td>19493.067200</td>\n",
              "      <td>2461.479262</td>\n",
              "      <td>14275.0</td>\n",
              "      <td>17699.25</td>\n",
              "      <td>19716.0</td>\n",
              "      <td>21343.00</td>\n",
              "      <td>23713.0</td>\n",
              "    </tr>\n",
              "    <tr>\n",
              "      <th>gender</th>\n",
              "      <td>35000.0</td>\n",
              "      <td>1.349171</td>\n",
              "      <td>0.476715</td>\n",
              "      <td>1.0</td>\n",
              "      <td>1.00</td>\n",
              "      <td>1.0</td>\n",
              "      <td>2.00</td>\n",
              "      <td>2.0</td>\n",
              "    </tr>\n",
              "    <tr>\n",
              "      <th>height</th>\n",
              "      <td>35000.0</td>\n",
              "      <td>164.362486</td>\n",
              "      <td>8.181769</td>\n",
              "      <td>55.0</td>\n",
              "      <td>159.00</td>\n",
              "      <td>165.0</td>\n",
              "      <td>170.00</td>\n",
              "      <td>207.0</td>\n",
              "    </tr>\n",
              "    <tr>\n",
              "      <th>weight</th>\n",
              "      <td>35000.0</td>\n",
              "      <td>74.256093</td>\n",
              "      <td>14.463170</td>\n",
              "      <td>10.0</td>\n",
              "      <td>65.00</td>\n",
              "      <td>72.0</td>\n",
              "      <td>82.00</td>\n",
              "      <td>183.0</td>\n",
              "    </tr>\n",
              "    <tr>\n",
              "      <th>ap_hi</th>\n",
              "      <td>35000.0</td>\n",
              "      <td>128.296257</td>\n",
              "      <td>126.865268</td>\n",
              "      <td>-150.0</td>\n",
              "      <td>120.00</td>\n",
              "      <td>120.0</td>\n",
              "      <td>140.00</td>\n",
              "      <td>16020.0</td>\n",
              "    </tr>\n",
              "    <tr>\n",
              "      <th>ap_lo</th>\n",
              "      <td>35000.0</td>\n",
              "      <td>96.360743</td>\n",
              "      <td>176.407939</td>\n",
              "      <td>-70.0</td>\n",
              "      <td>80.00</td>\n",
              "      <td>80.0</td>\n",
              "      <td>90.00</td>\n",
              "      <td>10000.0</td>\n",
              "    </tr>\n",
              "    <tr>\n",
              "      <th>cholesterol</th>\n",
              "      <td>35000.0</td>\n",
              "      <td>1.368714</td>\n",
              "      <td>0.682751</td>\n",
              "      <td>1.0</td>\n",
              "      <td>1.00</td>\n",
              "      <td>1.0</td>\n",
              "      <td>2.00</td>\n",
              "      <td>3.0</td>\n",
              "    </tr>\n",
              "    <tr>\n",
              "      <th>gluc</th>\n",
              "      <td>35000.0</td>\n",
              "      <td>1.229886</td>\n",
              "      <td>0.576409</td>\n",
              "      <td>1.0</td>\n",
              "      <td>1.00</td>\n",
              "      <td>1.0</td>\n",
              "      <td>1.00</td>\n",
              "      <td>3.0</td>\n",
              "    </tr>\n",
              "    <tr>\n",
              "      <th>smoke</th>\n",
              "      <td>35000.0</td>\n",
              "      <td>0.086600</td>\n",
              "      <td>0.281252</td>\n",
              "      <td>0.0</td>\n",
              "      <td>0.00</td>\n",
              "      <td>0.0</td>\n",
              "      <td>0.00</td>\n",
              "      <td>1.0</td>\n",
              "    </tr>\n",
              "    <tr>\n",
              "      <th>alco</th>\n",
              "      <td>35000.0</td>\n",
              "      <td>0.052600</td>\n",
              "      <td>0.223237</td>\n",
              "      <td>0.0</td>\n",
              "      <td>0.00</td>\n",
              "      <td>0.0</td>\n",
              "      <td>0.00</td>\n",
              "      <td>1.0</td>\n",
              "    </tr>\n",
              "    <tr>\n",
              "      <th>active</th>\n",
              "      <td>35000.0</td>\n",
              "      <td>0.805886</td>\n",
              "      <td>0.395523</td>\n",
              "      <td>0.0</td>\n",
              "      <td>1.00</td>\n",
              "      <td>1.0</td>\n",
              "      <td>1.00</td>\n",
              "      <td>1.0</td>\n",
              "    </tr>\n",
              "  </tbody>\n",
              "</table>\n",
              "</div>"
            ],
            "text/plain": [
              "               count          mean           std  ...      50%       75%      max\n",
              "id           35000.0  49983.056971  28794.769777  ...  49980.5  74797.75  99993.0\n",
              "age          35000.0  19493.067200   2461.479262  ...  19716.0  21343.00  23713.0\n",
              "gender       35000.0      1.349171      0.476715  ...      1.0      2.00      2.0\n",
              "height       35000.0    164.362486      8.181769  ...    165.0    170.00    207.0\n",
              "weight       35000.0     74.256093     14.463170  ...     72.0     82.00    183.0\n",
              "ap_hi        35000.0    128.296257    126.865268  ...    120.0    140.00  16020.0\n",
              "ap_lo        35000.0     96.360743    176.407939  ...     80.0     90.00  10000.0\n",
              "cholesterol  35000.0      1.368714      0.682751  ...      1.0      2.00      3.0\n",
              "gluc         35000.0      1.229886      0.576409  ...      1.0      1.00      3.0\n",
              "smoke        35000.0      0.086600      0.281252  ...      0.0      0.00      1.0\n",
              "alco         35000.0      0.052600      0.223237  ...      0.0      0.00      1.0\n",
              "active       35000.0      0.805886      0.395523  ...      1.0      1.00      1.0\n",
              "\n",
              "[12 rows x 8 columns]"
            ]
          },
          "metadata": {
            "tags": []
          },
          "execution_count": 93
        }
      ]
    },
    {
      "cell_type": "code",
      "metadata": {
        "colab": {
          "base_uri": "https://localhost:8080/",
          "height": 392
        },
        "id": "tcW4BiEgPS35",
        "outputId": "65489c15-f703-487f-e538-7df686295cd9"
      },
      "source": [
        "(desctrain - desctest).astype(int)"
      ],
      "execution_count": null,
      "outputs": [
        {
          "output_type": "execute_result",
          "data": {
            "text/html": [
              "<div>\n",
              "<style scoped>\n",
              "    .dataframe tbody tr th:only-of-type {\n",
              "        vertical-align: middle;\n",
              "    }\n",
              "\n",
              "    .dataframe tbody tr th {\n",
              "        vertical-align: top;\n",
              "    }\n",
              "\n",
              "    .dataframe thead th {\n",
              "        text-align: right;\n",
              "    }\n",
              "</style>\n",
              "<table border=\"1\" class=\"dataframe\">\n",
              "  <thead>\n",
              "    <tr style=\"text-align: right;\">\n",
              "      <th></th>\n",
              "      <th>count</th>\n",
              "      <th>mean</th>\n",
              "      <th>std</th>\n",
              "      <th>min</th>\n",
              "      <th>25%</th>\n",
              "      <th>50%</th>\n",
              "      <th>75%</th>\n",
              "      <th>max</th>\n",
              "    </tr>\n",
              "  </thead>\n",
              "  <tbody>\n",
              "    <tr>\n",
              "      <th>id</th>\n",
              "      <td>0</td>\n",
              "      <td>-21</td>\n",
              "      <td>113</td>\n",
              "      <td>2</td>\n",
              "      <td>-175</td>\n",
              "      <td>43</td>\n",
              "      <td>190</td>\n",
              "      <td>6</td>\n",
              "    </tr>\n",
              "    <tr>\n",
              "      <th>age</th>\n",
              "      <td>0</td>\n",
              "      <td>-48</td>\n",
              "      <td>11</td>\n",
              "      <td>-3477</td>\n",
              "      <td>-62</td>\n",
              "      <td>-26</td>\n",
              "      <td>-30</td>\n",
              "      <td>-12</td>\n",
              "    </tr>\n",
              "    <tr>\n",
              "      <th>gender</th>\n",
              "      <td>0</td>\n",
              "      <td>0</td>\n",
              "      <td>0</td>\n",
              "      <td>0</td>\n",
              "      <td>0</td>\n",
              "      <td>0</td>\n",
              "      <td>0</td>\n",
              "      <td>0</td>\n",
              "    </tr>\n",
              "    <tr>\n",
              "      <th>height</th>\n",
              "      <td>0</td>\n",
              "      <td>0</td>\n",
              "      <td>0</td>\n",
              "      <td>5</td>\n",
              "      <td>0</td>\n",
              "      <td>0</td>\n",
              "      <td>0</td>\n",
              "      <td>43</td>\n",
              "    </tr>\n",
              "    <tr>\n",
              "      <th>weight</th>\n",
              "      <td>0</td>\n",
              "      <td>0</td>\n",
              "      <td>0</td>\n",
              "      <td>12</td>\n",
              "      <td>0</td>\n",
              "      <td>0</td>\n",
              "      <td>0</td>\n",
              "      <td>17</td>\n",
              "    </tr>\n",
              "    <tr>\n",
              "      <th>ap_hi</th>\n",
              "      <td>0</td>\n",
              "      <td>1</td>\n",
              "      <td>50</td>\n",
              "      <td>30</td>\n",
              "      <td>0</td>\n",
              "      <td>0</td>\n",
              "      <td>0</td>\n",
              "      <td>-2000</td>\n",
              "    </tr>\n",
              "    <tr>\n",
              "      <th>ap_lo</th>\n",
              "      <td>0</td>\n",
              "      <td>0</td>\n",
              "      <td>23</td>\n",
              "      <td>70</td>\n",
              "      <td>0</td>\n",
              "      <td>0</td>\n",
              "      <td>0</td>\n",
              "      <td>1000</td>\n",
              "    </tr>\n",
              "    <tr>\n",
              "      <th>cholesterol</th>\n",
              "      <td>0</td>\n",
              "      <td>0</td>\n",
              "      <td>0</td>\n",
              "      <td>0</td>\n",
              "      <td>0</td>\n",
              "      <td>0</td>\n",
              "      <td>0</td>\n",
              "      <td>0</td>\n",
              "    </tr>\n",
              "    <tr>\n",
              "      <th>gluc</th>\n",
              "      <td>0</td>\n",
              "      <td>0</td>\n",
              "      <td>0</td>\n",
              "      <td>0</td>\n",
              "      <td>0</td>\n",
              "      <td>0</td>\n",
              "      <td>0</td>\n",
              "      <td>0</td>\n",
              "    </tr>\n",
              "    <tr>\n",
              "      <th>smoke</th>\n",
              "      <td>0</td>\n",
              "      <td>0</td>\n",
              "      <td>0</td>\n",
              "      <td>0</td>\n",
              "      <td>0</td>\n",
              "      <td>0</td>\n",
              "      <td>0</td>\n",
              "      <td>0</td>\n",
              "    </tr>\n",
              "    <tr>\n",
              "      <th>alco</th>\n",
              "      <td>0</td>\n",
              "      <td>0</td>\n",
              "      <td>0</td>\n",
              "      <td>0</td>\n",
              "      <td>0</td>\n",
              "      <td>0</td>\n",
              "      <td>0</td>\n",
              "      <td>0</td>\n",
              "    </tr>\n",
              "    <tr>\n",
              "      <th>active</th>\n",
              "      <td>0</td>\n",
              "      <td>0</td>\n",
              "      <td>0</td>\n",
              "      <td>0</td>\n",
              "      <td>0</td>\n",
              "      <td>0</td>\n",
              "      <td>0</td>\n",
              "      <td>0</td>\n",
              "    </tr>\n",
              "  </tbody>\n",
              "</table>\n",
              "</div>"
            ],
            "text/plain": [
              "             count  mean  std   min  25%  50%  75%   max\n",
              "id               0   -21  113     2 -175   43  190     6\n",
              "age              0   -48   11 -3477  -62  -26  -30   -12\n",
              "gender           0     0    0     0    0    0    0     0\n",
              "height           0     0    0     5    0    0    0    43\n",
              "weight           0     0    0    12    0    0    0    17\n",
              "ap_hi            0     1   50    30    0    0    0 -2000\n",
              "ap_lo            0     0   23    70    0    0    0  1000\n",
              "cholesterol      0     0    0     0    0    0    0     0\n",
              "gluc             0     0    0     0    0    0    0     0\n",
              "smoke            0     0    0     0    0    0    0     0\n",
              "alco             0     0    0     0    0    0    0     0\n",
              "active           0     0    0     0    0    0    0     0"
            ]
          },
          "metadata": {
            "tags": []
          },
          "execution_count": 94
        }
      ]
    },
    {
      "cell_type": "code",
      "metadata": {
        "id": "yZJF5USpdusj"
      },
      "source": [
        "def dataset_summary(df) :\n",
        "\n",
        "    # Buat summary dataframe\n",
        "    summary_df = pd.DataFrame()\n",
        "\n",
        "    # Isi summary\n",
        "    summary_df['Var'] = df.columns\n",
        "    summary_df['Dtypes'] = df.dtypes.values\n",
        "    summary_df['Total Missing'] = df.isnull().sum().values\n",
        "    summary_df['Missing%'] = summary_df['Total Missing'] / len(df) * 100\n",
        "    summary_df['Total Unique'] = df.nunique().values\n",
        "    summary_df['Unique%'] = summary_df['Total Unique'] / len(df) * 100\n",
        "\n",
        "    # Ukuran dataset\n",
        "    print('Dataset dimension :',df.shape)\n",
        "\n",
        "    return summary_df"
      ],
      "execution_count": null,
      "outputs": []
    },
    {
      "cell_type": "code",
      "metadata": {
        "colab": {
          "base_uri": "https://localhost:8080/",
          "height": 410
        },
        "id": "xRDqck3nduvB",
        "outputId": "cd376307-f787-453a-863b-9b7ca58fdfbd"
      },
      "source": [
        "trainsumm = dataset_summary(X_train)\n",
        "trainsumm.sort_values(by='Total Unique', ascending=False)"
      ],
      "execution_count": null,
      "outputs": [
        {
          "output_type": "stream",
          "text": [
            "Dataset dimension : (35000, 12)\n"
          ],
          "name": "stdout"
        },
        {
          "output_type": "execute_result",
          "data": {
            "text/html": [
              "<div>\n",
              "<style scoped>\n",
              "    .dataframe tbody tr th:only-of-type {\n",
              "        vertical-align: middle;\n",
              "    }\n",
              "\n",
              "    .dataframe tbody tr th {\n",
              "        vertical-align: top;\n",
              "    }\n",
              "\n",
              "    .dataframe thead th {\n",
              "        text-align: right;\n",
              "    }\n",
              "</style>\n",
              "<table border=\"1\" class=\"dataframe\">\n",
              "  <thead>\n",
              "    <tr style=\"text-align: right;\">\n",
              "      <th></th>\n",
              "      <th>Var</th>\n",
              "      <th>Dtypes</th>\n",
              "      <th>Total Missing</th>\n",
              "      <th>Missing%</th>\n",
              "      <th>Total Unique</th>\n",
              "      <th>Unique%</th>\n",
              "    </tr>\n",
              "  </thead>\n",
              "  <tbody>\n",
              "    <tr>\n",
              "      <th>0</th>\n",
              "      <td>id</td>\n",
              "      <td>int64</td>\n",
              "      <td>0</td>\n",
              "      <td>0.0</td>\n",
              "      <td>35000</td>\n",
              "      <td>100.000000</td>\n",
              "    </tr>\n",
              "    <tr>\n",
              "      <th>1</th>\n",
              "      <td>age</td>\n",
              "      <td>int64</td>\n",
              "      <td>0</td>\n",
              "      <td>0.0</td>\n",
              "      <td>7451</td>\n",
              "      <td>21.288571</td>\n",
              "    </tr>\n",
              "    <tr>\n",
              "      <th>4</th>\n",
              "      <td>weight</td>\n",
              "      <td>float64</td>\n",
              "      <td>0</td>\n",
              "      <td>0.0</td>\n",
              "      <td>221</td>\n",
              "      <td>0.631429</td>\n",
              "    </tr>\n",
              "    <tr>\n",
              "      <th>5</th>\n",
              "      <td>ap_hi</td>\n",
              "      <td>int64</td>\n",
              "      <td>0</td>\n",
              "      <td>0.0</td>\n",
              "      <td>132</td>\n",
              "      <td>0.377143</td>\n",
              "    </tr>\n",
              "    <tr>\n",
              "      <th>6</th>\n",
              "      <td>ap_lo</td>\n",
              "      <td>int64</td>\n",
              "      <td>0</td>\n",
              "      <td>0.0</td>\n",
              "      <td>130</td>\n",
              "      <td>0.371429</td>\n",
              "    </tr>\n",
              "    <tr>\n",
              "      <th>3</th>\n",
              "      <td>height</td>\n",
              "      <td>int64</td>\n",
              "      <td>0</td>\n",
              "      <td>0.0</td>\n",
              "      <td>92</td>\n",
              "      <td>0.262857</td>\n",
              "    </tr>\n",
              "    <tr>\n",
              "      <th>7</th>\n",
              "      <td>cholesterol</td>\n",
              "      <td>int64</td>\n",
              "      <td>0</td>\n",
              "      <td>0.0</td>\n",
              "      <td>3</td>\n",
              "      <td>0.008571</td>\n",
              "    </tr>\n",
              "    <tr>\n",
              "      <th>8</th>\n",
              "      <td>gluc</td>\n",
              "      <td>int64</td>\n",
              "      <td>0</td>\n",
              "      <td>0.0</td>\n",
              "      <td>3</td>\n",
              "      <td>0.008571</td>\n",
              "    </tr>\n",
              "    <tr>\n",
              "      <th>2</th>\n",
              "      <td>gender</td>\n",
              "      <td>int64</td>\n",
              "      <td>0</td>\n",
              "      <td>0.0</td>\n",
              "      <td>2</td>\n",
              "      <td>0.005714</td>\n",
              "    </tr>\n",
              "    <tr>\n",
              "      <th>9</th>\n",
              "      <td>smoke</td>\n",
              "      <td>int64</td>\n",
              "      <td>0</td>\n",
              "      <td>0.0</td>\n",
              "      <td>2</td>\n",
              "      <td>0.005714</td>\n",
              "    </tr>\n",
              "    <tr>\n",
              "      <th>10</th>\n",
              "      <td>alco</td>\n",
              "      <td>int64</td>\n",
              "      <td>0</td>\n",
              "      <td>0.0</td>\n",
              "      <td>2</td>\n",
              "      <td>0.005714</td>\n",
              "    </tr>\n",
              "    <tr>\n",
              "      <th>11</th>\n",
              "      <td>active</td>\n",
              "      <td>int64</td>\n",
              "      <td>0</td>\n",
              "      <td>0.0</td>\n",
              "      <td>2</td>\n",
              "      <td>0.005714</td>\n",
              "    </tr>\n",
              "  </tbody>\n",
              "</table>\n",
              "</div>"
            ],
            "text/plain": [
              "            Var   Dtypes  Total Missing  Missing%  Total Unique     Unique%\n",
              "0            id    int64              0       0.0         35000  100.000000\n",
              "1           age    int64              0       0.0          7451   21.288571\n",
              "4        weight  float64              0       0.0           221    0.631429\n",
              "5         ap_hi    int64              0       0.0           132    0.377143\n",
              "6         ap_lo    int64              0       0.0           130    0.371429\n",
              "3        height    int64              0       0.0            92    0.262857\n",
              "7   cholesterol    int64              0       0.0             3    0.008571\n",
              "8          gluc    int64              0       0.0             3    0.008571\n",
              "2        gender    int64              0       0.0             2    0.005714\n",
              "9         smoke    int64              0       0.0             2    0.005714\n",
              "10         alco    int64              0       0.0             2    0.005714\n",
              "11       active    int64              0       0.0             2    0.005714"
            ]
          },
          "metadata": {
            "tags": []
          },
          "execution_count": 96
        }
      ]
    },
    {
      "cell_type": "code",
      "metadata": {
        "colab": {
          "base_uri": "https://localhost:8080/",
          "height": 410
        },
        "id": "XCEQhMRwduwz",
        "outputId": "0ed3e914-ab68-41bb-8852-5f13fed21dbe"
      },
      "source": [
        "testsumm = dataset_summary(X_test)\n",
        "testsumm.sort_values(by='Total Unique', ascending=False)"
      ],
      "execution_count": null,
      "outputs": [
        {
          "output_type": "stream",
          "text": [
            "Dataset dimension : (35000, 12)\n"
          ],
          "name": "stdout"
        },
        {
          "output_type": "execute_result",
          "data": {
            "text/html": [
              "<div>\n",
              "<style scoped>\n",
              "    .dataframe tbody tr th:only-of-type {\n",
              "        vertical-align: middle;\n",
              "    }\n",
              "\n",
              "    .dataframe tbody tr th {\n",
              "        vertical-align: top;\n",
              "    }\n",
              "\n",
              "    .dataframe thead th {\n",
              "        text-align: right;\n",
              "    }\n",
              "</style>\n",
              "<table border=\"1\" class=\"dataframe\">\n",
              "  <thead>\n",
              "    <tr style=\"text-align: right;\">\n",
              "      <th></th>\n",
              "      <th>Var</th>\n",
              "      <th>Dtypes</th>\n",
              "      <th>Total Missing</th>\n",
              "      <th>Missing%</th>\n",
              "      <th>Total Unique</th>\n",
              "      <th>Unique%</th>\n",
              "    </tr>\n",
              "  </thead>\n",
              "  <tbody>\n",
              "    <tr>\n",
              "      <th>0</th>\n",
              "      <td>id</td>\n",
              "      <td>int64</td>\n",
              "      <td>0</td>\n",
              "      <td>0.0</td>\n",
              "      <td>35000</td>\n",
              "      <td>100.000000</td>\n",
              "    </tr>\n",
              "    <tr>\n",
              "      <th>1</th>\n",
              "      <td>age</td>\n",
              "      <td>int64</td>\n",
              "      <td>0</td>\n",
              "      <td>0.0</td>\n",
              "      <td>7431</td>\n",
              "      <td>21.231429</td>\n",
              "    </tr>\n",
              "    <tr>\n",
              "      <th>4</th>\n",
              "      <td>weight</td>\n",
              "      <td>float64</td>\n",
              "      <td>0</td>\n",
              "      <td>0.0</td>\n",
              "      <td>210</td>\n",
              "      <td>0.600000</td>\n",
              "    </tr>\n",
              "    <tr>\n",
              "      <th>5</th>\n",
              "      <td>ap_hi</td>\n",
              "      <td>int64</td>\n",
              "      <td>0</td>\n",
              "      <td>0.0</td>\n",
              "      <td>130</td>\n",
              "      <td>0.371429</td>\n",
              "    </tr>\n",
              "    <tr>\n",
              "      <th>6</th>\n",
              "      <td>ap_lo</td>\n",
              "      <td>int64</td>\n",
              "      <td>0</td>\n",
              "      <td>0.0</td>\n",
              "      <td>119</td>\n",
              "      <td>0.340000</td>\n",
              "    </tr>\n",
              "    <tr>\n",
              "      <th>3</th>\n",
              "      <td>height</td>\n",
              "      <td>int64</td>\n",
              "      <td>0</td>\n",
              "      <td>0.0</td>\n",
              "      <td>90</td>\n",
              "      <td>0.257143</td>\n",
              "    </tr>\n",
              "    <tr>\n",
              "      <th>7</th>\n",
              "      <td>cholesterol</td>\n",
              "      <td>int64</td>\n",
              "      <td>0</td>\n",
              "      <td>0.0</td>\n",
              "      <td>3</td>\n",
              "      <td>0.008571</td>\n",
              "    </tr>\n",
              "    <tr>\n",
              "      <th>8</th>\n",
              "      <td>gluc</td>\n",
              "      <td>int64</td>\n",
              "      <td>0</td>\n",
              "      <td>0.0</td>\n",
              "      <td>3</td>\n",
              "      <td>0.008571</td>\n",
              "    </tr>\n",
              "    <tr>\n",
              "      <th>2</th>\n",
              "      <td>gender</td>\n",
              "      <td>int64</td>\n",
              "      <td>0</td>\n",
              "      <td>0.0</td>\n",
              "      <td>2</td>\n",
              "      <td>0.005714</td>\n",
              "    </tr>\n",
              "    <tr>\n",
              "      <th>9</th>\n",
              "      <td>smoke</td>\n",
              "      <td>int64</td>\n",
              "      <td>0</td>\n",
              "      <td>0.0</td>\n",
              "      <td>2</td>\n",
              "      <td>0.005714</td>\n",
              "    </tr>\n",
              "    <tr>\n",
              "      <th>10</th>\n",
              "      <td>alco</td>\n",
              "      <td>int64</td>\n",
              "      <td>0</td>\n",
              "      <td>0.0</td>\n",
              "      <td>2</td>\n",
              "      <td>0.005714</td>\n",
              "    </tr>\n",
              "    <tr>\n",
              "      <th>11</th>\n",
              "      <td>active</td>\n",
              "      <td>int64</td>\n",
              "      <td>0</td>\n",
              "      <td>0.0</td>\n",
              "      <td>2</td>\n",
              "      <td>0.005714</td>\n",
              "    </tr>\n",
              "  </tbody>\n",
              "</table>\n",
              "</div>"
            ],
            "text/plain": [
              "            Var   Dtypes  Total Missing  Missing%  Total Unique     Unique%\n",
              "0            id    int64              0       0.0         35000  100.000000\n",
              "1           age    int64              0       0.0          7431   21.231429\n",
              "4        weight  float64              0       0.0           210    0.600000\n",
              "5         ap_hi    int64              0       0.0           130    0.371429\n",
              "6         ap_lo    int64              0       0.0           119    0.340000\n",
              "3        height    int64              0       0.0            90    0.257143\n",
              "7   cholesterol    int64              0       0.0             3    0.008571\n",
              "8          gluc    int64              0       0.0             3    0.008571\n",
              "2        gender    int64              0       0.0             2    0.005714\n",
              "9         smoke    int64              0       0.0             2    0.005714\n",
              "10         alco    int64              0       0.0             2    0.005714\n",
              "11       active    int64              0       0.0             2    0.005714"
            ]
          },
          "metadata": {
            "tags": []
          },
          "execution_count": 97
        }
      ]
    },
    {
      "cell_type": "markdown",
      "metadata": {
        "id": "0NkskfjMTI20"
      },
      "source": [
        "### **Cek Distribusi Tiap Kolom**\n",
        "Fungsi: \n",
        "- Nentuin kolom mana yg mau di-encoding\n",
        "- Bantu analisis anomali"
      ]
    },
    {
      "cell_type": "code",
      "metadata": {
        "id": "hJ21kizpUSvX"
      },
      "source": [
        "uniquesumm = trainsumm.sort_values(by='Total Unique', ascending=False)\n",
        "safe_var = uniquesumm[uniquesumm['Total Unique'] <= 300]['Var']"
      ],
      "execution_count": null,
      "outputs": []
    },
    {
      "cell_type": "code",
      "metadata": {
        "colab": {
          "base_uri": "https://localhost:8080/",
          "height": 878
        },
        "id": "iYc-twxQTJvB",
        "outputId": "66733ca6-de7f-41f5-bd08-9de2b2d1b17b"
      },
      "source": [
        "# Cek distribusi tiap variabel\n",
        "mpl.rcParams['figure.figsize'] = [15,15]\n",
        "# plt.style.use('fivethirtyeight') \n",
        "# sns.set_style('whitegrid')\n",
        "grid = mpl.gridspec.GridSpec(4, 3)\n",
        "\n",
        "var_to_plot = safe_var\n",
        "\n",
        "for i, var in enumerate(var_to_plot) :\n",
        "    ax = plt.subplot(grid[i])\n",
        "    z = df[var].value_counts()\n",
        "    ax.bar(z.index, z.values)\n",
        "    ax.set_xlabel(var)"
      ],
      "execution_count": null,
      "outputs": [
        {
          "output_type": "display_data",
          "data": {
            "image/png": "[encoded data removed]",
            "text/plain": [
              "<Figure size 1080x1080 with 10 Axes>"
            ]
          },
          "metadata": {
            "tags": [],
            "needs_background": "light"
          }
        }
      ]
    },
    {
      "cell_type": "markdown",
      "metadata": {
        "id": "0qLTyQB_WuPr"
      },
      "source": [
        "**Predictive Power EDA**"
      ]
    },
    {
      "cell_type": "code",
      "metadata": {
        "colab": {
          "base_uri": "https://localhost:8080/",
          "height": 306
        },
        "id": "R8Jrmb5cfNzc",
        "outputId": "5246dbf2-ff62-43f0-94c3-8565ff2dc199"
      },
      "source": [
        "target_variance = pd.DataFrame([[sv, np.std(df_train.groupby(sv)['Response'].mean().sort_values(ascending=False))] for sv in safe_var])\n",
        "target_variance.sort_values(by=1, ascending=False)"
      ],
      "execution_count": null,
      "outputs": [
        {
          "output_type": "execute_result",
          "data": {
            "text/html": [
              "<div>\n",
              "<style scoped>\n",
              "    .dataframe tbody tr th:only-of-type {\n",
              "        vertical-align: middle;\n",
              "    }\n",
              "\n",
              "    .dataframe tbody tr th {\n",
              "        vertical-align: top;\n",
              "    }\n",
              "\n",
              "    .dataframe thead th {\n",
              "        text-align: right;\n",
              "    }\n",
              "</style>\n",
              "<table border=\"1\" class=\"dataframe\">\n",
              "  <thead>\n",
              "    <tr style=\"text-align: right;\">\n",
              "      <th></th>\n",
              "      <th>0</th>\n",
              "      <th>1</th>\n",
              "    </tr>\n",
              "  </thead>\n",
              "  <tbody>\n",
              "    <tr>\n",
              "      <th>1</th>\n",
              "      <td>Policy_Sales_Channel</td>\n",
              "      <td>0.139553</td>\n",
              "    </tr>\n",
              "    <tr>\n",
              "      <th>8</th>\n",
              "      <td>Vehicle_Damage</td>\n",
              "      <td>0.115254</td>\n",
              "    </tr>\n",
              "    <tr>\n",
              "      <th>7</th>\n",
              "      <td>Previously_Insured</td>\n",
              "      <td>0.111531</td>\n",
              "    </tr>\n",
              "    <tr>\n",
              "      <th>4</th>\n",
              "      <td>Vehicle_Age</td>\n",
              "      <td>0.102106</td>\n",
              "    </tr>\n",
              "    <tr>\n",
              "      <th>2</th>\n",
              "      <td>Age</td>\n",
              "      <td>0.069055</td>\n",
              "    </tr>\n",
              "    <tr>\n",
              "      <th>6</th>\n",
              "      <td>Driving_License</td>\n",
              "      <td>0.043918</td>\n",
              "    </tr>\n",
              "    <tr>\n",
              "      <th>3</th>\n",
              "      <td>Region_Code</td>\n",
              "      <td>0.034292</td>\n",
              "    </tr>\n",
              "    <tr>\n",
              "      <th>5</th>\n",
              "      <td>Gender</td>\n",
              "      <td>0.017073</td>\n",
              "    </tr>\n",
              "    <tr>\n",
              "      <th>0</th>\n",
              "      <td>Vintage</td>\n",
              "      <td>0.012746</td>\n",
              "    </tr>\n",
              "  </tbody>\n",
              "</table>\n",
              "</div>"
            ],
            "text/plain": [
              "                      0         1\n",
              "1  Policy_Sales_Channel  0.139553\n",
              "8        Vehicle_Damage  0.115254\n",
              "7    Previously_Insured  0.111531\n",
              "4           Vehicle_Age  0.102106\n",
              "2                   Age  0.069055\n",
              "6       Driving_License  0.043918\n",
              "3           Region_Code  0.034292\n",
              "5                Gender  0.017073\n",
              "0               Vintage  0.012746"
            ]
          },
          "metadata": {
            "tags": []
          },
          "execution_count": 23
        }
      ]
    },
    {
      "cell_type": "code",
      "metadata": {
        "colab": {
          "base_uri": "https://localhost:8080/"
        },
        "id": "lfNwOtb9VdRj",
        "outputId": "34ccc426-f197-465d-f1c0-2aa57bab961b"
      },
      "source": [
        "df_train['Policy_Sales_Channel'].value_counts().head()"
      ],
      "execution_count": null,
      "outputs": [
        {
          "output_type": "execute_result",
          "data": {
            "text/plain": [
              "152.0    67126\n",
              "26.0     39992\n",
              "124.0    37055\n",
              "160.0    10890\n",
              "156.0     5209\n",
              "Name: Policy_Sales_Channel, dtype: int64"
            ]
          },
          "metadata": {
            "tags": []
          },
          "execution_count": 53
        }
      ]
    },
    {
      "cell_type": "code",
      "metadata": {
        "colab": {
          "base_uri": "https://localhost:8080/"
        },
        "id": "zu59JT7SVo4B",
        "outputId": "e02d516f-343c-467d-f2eb-d35d44cf1ca9"
      },
      "source": [
        "df_train.groupby('Policy_Sales_Channel')['Response'].mean().sort_values(ascending=False)"
      ],
      "execution_count": null,
      "outputs": [
        {
          "output_type": "execute_result",
          "data": {
            "text/plain": [
              "Policy_Sales_Channel\n",
              "123.0    1.000000\n",
              "101.0    1.000000\n",
              "121.0    0.350000\n",
              "62.0     0.333333\n",
              "3.0      0.303846\n",
              "           ...   \n",
              "79.0     0.000000\n",
              "27.0     0.000000\n",
              "82.0     0.000000\n",
              "83.0     0.000000\n",
              "76.0     0.000000\n",
              "Name: Response, Length: 146, dtype: float64"
            ]
          },
          "metadata": {
            "tags": []
          },
          "execution_count": 56
        }
      ]
    },
    {
      "cell_type": "code",
      "metadata": {
        "colab": {
          "base_uri": "https://localhost:8080/"
        },
        "id": "nSXpyKXxi0ma",
        "outputId": "70a019f5-bdc2-4293-a359-65df312f913c"
      },
      "source": [
        "Y_train.mean()"
      ],
      "execution_count": null,
      "outputs": [
        {
          "output_type": "execute_result",
          "data": {
            "text/plain": [
              "0.12146163292295098"
            ]
          },
          "metadata": {
            "tags": []
          },
          "execution_count": 61
        }
      ]
    },
    {
      "cell_type": "code",
      "metadata": {
        "colab": {
          "base_uri": "https://localhost:8080/"
        },
        "id": "FdliXiMxiHfJ",
        "outputId": "2f0fdbb1-b8e6-42ba-d641-8c1d65996cd7"
      },
      "source": [
        "yyy = df_train['Policy_Sales_Channel'].value_counts().head()\n",
        "zzz = df_train.groupby('Policy_Sales_Channel')['Response'].mean().sort_values(ascending=False)\n",
        "[[yy, zzz[yy]] for yy in yyy.index]"
      ],
      "execution_count": null,
      "outputs": [
        {
          "output_type": "execute_result",
          "data": {
            "text/plain": [
              "[[152.0, 0.02829008133957036],\n",
              " [26.0, 0.1959391878375675],\n",
              " [124.0, 0.18704628255296182],\n",
              " [160.0, 0.020110192837465565],\n",
              " [156.0, 0.22614705317719333]]"
            ]
          },
          "metadata": {
            "tags": []
          },
          "execution_count": 70
        }
      ]
    },
    {
      "cell_type": "markdown",
      "metadata": {
        "id": "Q7FoQDzGQziO"
      },
      "source": [
        "### **Bantu Analisis**"
      ]
    },
    {
      "cell_type": "markdown",
      "metadata": {
        "id": "TIY-7P5hfWI6"
      },
      "source": [
        "https://colab.research.google.com/drive/1p1T43pkgWwQb8S7SlKDapjAQ6G3a03UE?usp=sharing"
      ]
    },
    {
      "cell_type": "code",
      "metadata": {
        "colab": {
          "base_uri": "https://localhost:8080/"
        },
        "id": "lAQrc-RxWQsB",
        "outputId": "469ca2a0-d091-40a1-d0ac-bb8f866339d1"
      },
      "source": [
        "for col in X_train.columns:\n",
        "    print(X_train[col].value_counts(), '\\n------------------\\n\\n')"
      ],
      "execution_count": null,
      "outputs": [
        {
          "output_type": "stream",
          "text": [
            "2047     1\n",
            "64981    1\n",
            "19939    1\n",
            "17890    1\n",
            "12074    1\n",
            "        ..\n",
            "97178    1\n",
            "95131    1\n",
            "19356    1\n",
            "82845    1\n",
            "71683    1\n",
            "Name: id, Length: 35000, dtype: int64 \n",
            "------------------\n",
            "\n",
            "\n",
            "20457    22\n",
            "18940    19\n",
            "20347    19\n",
            "21927    18\n",
            "20367    18\n",
            "         ..\n",
            "14857     1\n",
            "16934     1\n",
            "14889     1\n",
            "23141     1\n",
            "14343     1\n",
            "Name: age, Length: 7451, dtype: int64 \n",
            "------------------\n",
            "\n",
            "\n",
            "1    22751\n",
            "2    12249\n",
            "Name: gender, dtype: int64 \n",
            "------------------\n",
            "\n",
            "\n",
            "165    2921\n",
            "160    2571\n",
            "170    2278\n",
            "168    2210\n",
            "164    1691\n",
            "       ... \n",
            "135       1\n",
            "75        1\n",
            "72        1\n",
            "74        1\n",
            "64        1\n",
            "Name: height, Length: 92, dtype: int64 \n",
            "------------------\n",
            "\n",
            "\n",
            "65.0    1921\n",
            "70.0    1899\n",
            "68.0    1431\n",
            "60.0    1389\n",
            "80.0    1335\n",
            "        ... \n",
            "23.0       1\n",
            "82.5       1\n",
            "60.6       1\n",
            "65.3       1\n",
            "66.5       1\n",
            "Name: weight, Length: 221, dtype: int64 \n",
            "------------------\n",
            "\n",
            "\n",
            " 120     13944\n",
            " 140      4696\n",
            " 130      4435\n",
            " 110      4294\n",
            " 150      2188\n",
            "         ...  \n",
            " 907         1\n",
            " 1130        1\n",
            " 202         1\n",
            "-120         1\n",
            " 191         1\n",
            "Name: ap_hi, Length: 132, dtype: int64 \n",
            "------------------\n",
            "\n",
            "\n",
            "80      17467\n",
            "90       7076\n",
            "70       5128\n",
            "100      2019\n",
            "60       1385\n",
            "        ...  \n",
            "700         1\n",
            "119         1\n",
            "8200        1\n",
            "107         1\n",
            "7100        1\n",
            "Name: ap_lo, Length: 130, dtype: int64 \n",
            "------------------\n",
            "\n",
            "\n",
            "1    26206\n",
            "2     4812\n",
            "3     3982\n",
            "Name: cholesterol, dtype: int64 \n",
            "------------------\n",
            "\n",
            "\n",
            "1    29809\n",
            "3     2615\n",
            "2     2576\n",
            "Name: gluc, dtype: int64 \n",
            "------------------\n",
            "\n",
            "\n",
            "0    31862\n",
            "1     3138\n",
            "Name: smoke, dtype: int64 \n",
            "------------------\n",
            "\n",
            "\n",
            "0    33077\n",
            "1     1923\n",
            "Name: alco, dtype: int64 \n",
            "------------------\n",
            "\n",
            "\n",
            "1    28055\n",
            "0     6945\n",
            "Name: active, dtype: int64 \n",
            "------------------\n",
            "\n",
            "\n"
          ],
          "name": "stdout"
        }
      ]
    },
    {
      "cell_type": "markdown",
      "metadata": {
        "id": "anYEEqIgbRTY"
      },
      "source": [
        "### **Bagi Train-Val**"
      ]
    },
    {
      "cell_type": "code",
      "metadata": {
        "id": "H5AIdi8sbVUd"
      },
      "source": [
        "X_tr, X_te, Y_tr, Y_te = train_test_split(X_train, Y_train, test_size=0.5, random_state=42)"
      ],
      "execution_count": null,
      "outputs": []
    },
    {
      "cell_type": "markdown",
      "metadata": {
        "id": "6DOT7jHifjo1"
      },
      "source": [
        "### **Label Encoding**"
      ]
    },
    {
      "cell_type": "code",
      "metadata": {
        "id": "6zGhzE99fjo1"
      },
      "source": [
        "df_train.reset_index(drop=True, inplace=True)\n",
        "df_test.reset_index(drop=True, inplace=True)\n",
        "\n",
        "X_tr.reset_index(drop=True, inplace=True)\n",
        "Y_tr.reset_index(drop=True, inplace=True)\n",
        "\n",
        "X_te.reset_index(drop=True, inplace=True)\n",
        "Y_te.reset_index(drop=True, inplace=True)"
      ],
      "execution_count": null,
      "outputs": []
    },
    {
      "cell_type": "code",
      "metadata": {
        "id": "PdaoDLh7riUP"
      },
      "source": [
        "# Praproses (jika ada)\n",
        "X_tr_factorized = X_tr.copy()\n",
        "X_te_factorized = X_te.copy()\n",
        "\n",
        "# Buat df untuk akses ke 'Response'\n",
        "df_tr_factorized = pd.concat([X_tr_factorized, Y_tr], axis=1)\n",
        "df_te_factorized = pd.concat([X_te_factorized, Y_te], axis=1)"
      ],
      "execution_count": null,
      "outputs": []
    },
    {
      "cell_type": "code",
      "metadata": {
        "id": "Yn3hRZv5fjo1"
      },
      "source": [
        "# Difaktorisasi\n",
        "to_factorize_cols = ['Gender', 'Vehicle_Damage']\n",
        "for col in to_factorize_cols:\n",
        "    X_tr_factorized[col] = pd.factorize(X_tr[col], sort=True)[0]\n",
        "    X_te_factorized[col] = pd.factorize(X_te[col], sort=True)[0]\n",
        "\n",
        "# Post-proses\n",
        "X_tr_factorized['Vehicle_Age'] = X_tr_factorized['Vehicle_Age'].replace({'< 1 Year':0,\n",
        "                                                                         '1-2 Year':1,\n",
        "                                                                         '> 2 Years':2})\n",
        "X_te_factorized['Vehicle_Age'] = X_te_factorized['Vehicle_Age'].replace({'< 1 Year':0,\n",
        "                                                                         '1-2 Year':1,\n",
        "                                                                         '> 2 Years':2})"
      ],
      "execution_count": null,
      "outputs": []
    },
    {
      "cell_type": "code",
      "metadata": {
        "colab": {
          "base_uri": "https://localhost:8080/"
        },
        "id": "hG-5WfD-fjo1",
        "outputId": "c0aca94f-c614-41f4-9855-c57538d5e14a"
      },
      "source": [
        "# # Bulan jadi kategori numerik\n",
        "# month_replace = {'January':1, \n",
        "#                  'February':2, \n",
        "#                  'March':3, \n",
        "#                  'April':4,\n",
        "#                  'May':5,\n",
        "#                  'June':6,\n",
        "#                  'July':7,\n",
        "#                  'August':8,\n",
        "#                  'September':9,\n",
        "#                  'October':10,\n",
        "#                  'November':11,\n",
        "#                  'December':12}\n",
        "# X_tr_factorized['arrival_date_month'] = X_tr_factorized['arrival_date_month'].replace(month_replace)\n",
        "# X_te_factorized['arrival_date_month'] = X_te_factorized['arrival_date_month'].replace(month_replace)\n",
        "\n",
        "\n",
        "# Hapus kolom yg missing > 30%\n",
        "trainsumm = dataset_summary(X_tr)\n",
        "to_delete = trainsumm[trainsumm['Missing%'] >= 30]['Var']\n",
        "X_tr_factorized = X_tr_factorized.drop(columns=to_delete)\n",
        "X_te_factorized = X_te_factorized.drop(columns=to_delete)\n",
        "\n",
        "\n",
        "# Hapus kolom yg terlalu banyak unik tapi tidak numerik\n",
        "to_delete_unique = ['id', 'Policy_Sales_Channel', 'Region_Code']\n",
        "X_tr_factorized = X_tr_factorized.drop(columns=to_delete_unique)\n",
        "X_te_factorized = X_te_factorized.drop(columns=to_delete_unique)"
      ],
      "execution_count": null,
      "outputs": [
        {
          "output_type": "stream",
          "text": [
            "Dataset dimension : (95277, 11)\n"
          ],
          "name": "stdout"
        }
      ]
    },
    {
      "cell_type": "markdown",
      "metadata": {
        "id": "FUpnVTdSbYHM"
      },
      "source": [
        "### **Mean Encoding (alpha)**"
      ]
    },
    {
      "cell_type": "code",
      "metadata": {
        "id": "spMzOmBRks7b"
      },
      "source": [
        "df_train.reset_index(drop=True, inplace=True)\n",
        "df_test.reset_index(drop=True, inplace=True)\n",
        "\n",
        "X_tr.reset_index(drop=True, inplace=True)\n",
        "Y_tr.reset_index(drop=True, inplace=True)\n",
        "\n",
        "X_te.reset_index(drop=True, inplace=True)\n",
        "Y_te.reset_index(drop=True, inplace=True)"
      ],
      "execution_count": null,
      "outputs": []
    },
    {
      "cell_type": "code",
      "metadata": {
        "id": "EKrNnIRnsgMe"
      },
      "source": [
        "# Praproses (jika ada)\n",
        "X_tr_encoded = X_tr.copy()\n",
        "X_te_encoded = X_te.copy()\n",
        "\n",
        "X_tr_encoded[~X_tr_encoded['Policy_Sales_Channel'].isin([152.0, 26.0, 124.0, 160.0])] = 999.0\n",
        "X_te_encoded[~X_te_encoded['Policy_Sales_Channel'].isin([152.0, 26.0, 124.0, 160.0])] = 999.0\n",
        "\n",
        "# Buat df untuk akses ke 'Response'\n",
        "df_tr_encoded = pd.concat([X_tr_encoded, Y_tr], axis=1)\n",
        "df_te_encoded = pd.concat([X_te_encoded, Y_te], axis=1)"
      ],
      "execution_count": null,
      "outputs": []
    },
    {
      "cell_type": "code",
      "metadata": {
        "id": "MToSu_cMTAex"
      },
      "source": [
        "# Di mean encoding\n",
        "to_mean_encode = ['Policy_Sales_Channel', 'Gender', 'Vehicle_Age', 'Vehicle_Damage']\n",
        "for col in to_mean_encode:\n",
        "\n",
        "    alpha = 10\n",
        "    means_global = df_tr_encoded['Response'].mean()\n",
        "    nrows_cat = df_tr_encoded.groupby(col)['Response'].count()\n",
        "    means_cat = df_tr_encoded.groupby(col)['Response'].mean()\n",
        "    means_cats_adj = (means_cat*nrows_cat + means_global*alpha) / (nrows_cat+alpha)\n",
        "\n",
        "    X_tr_encoded[col] = X_tr_encoded[col].map(means_cats_adj)\n",
        "    X_te_encoded[col] = X_te_encoded[col].map(means_cats_adj)\n",
        "\n",
        "X_tr_encoded[to_mean_encode] = X_tr_encoded[to_mean_encode].astype('float64')\n",
        "X_te_encoded[to_mean_encode] = X_te_encoded[to_mean_encode].astype('float64')"
      ],
      "execution_count": null,
      "outputs": []
    },
    {
      "cell_type": "code",
      "metadata": {
        "id": "arVBc0WqbYRh"
      },
      "source": [
        "# # Bulan jadi kategori numerik\n",
        "# month_replace = {'January':1, \n",
        "#                  'February':2, \n",
        "#                  'March':3, \n",
        "#                  'April':4,\n",
        "#                  'May':5,\n",
        "#                  'June':6,\n",
        "#                  'July':7,\n",
        "#                  'August':8,\n",
        "#                  'September':9,\n",
        "#                  'October':10,\n",
        "#                  'November':11,\n",
        "#                  'December':12}\n",
        "# X_tr_encoded['arrival_date_month'] = X_tr_encoded['arrival_date_month'].replace(month_replace)\n",
        "# X_te_encoded['arrival_date_month'] = X_te_encoded['arrival_date_month'].replace(month_replace)\n",
        "\n",
        "\n",
        "# Hapus kolom yg missing > 30%\n",
        "to_delete = trainsumm[trainsumm['Missing%'] >= 30]['Var']\n",
        "X_tr_encoded = X_tr_encoded.drop(columns=to_delete)\n",
        "X_te_encoded = X_te_encoded.drop(columns=to_delete)\n",
        "\n",
        "\n",
        "# Hapus kolom yg terlalu banyak unik tapi tidak numerik\n",
        "to_delete_unique = ['id', 'Region_Code']\n",
        "X_tr_encoded = X_tr_encoded.drop(columns=to_delete_unique)\n",
        "X_te_encoded = X_te_encoded.drop(columns=to_delete_unique)"
      ],
      "execution_count": null,
      "outputs": []
    },
    {
      "cell_type": "markdown",
      "metadata": {
        "id": "7A9er5zzh_E4"
      },
      "source": [
        "### **Mean Encoding (alpha + CV)**"
      ]
    },
    {
      "cell_type": "code",
      "metadata": {
        "id": "c7rYShVYkuk5"
      },
      "source": [
        "df_train.reset_index(drop=True, inplace=True)\n",
        "df_test.reset_index(drop=True, inplace=True)\n",
        "\n",
        "X_tr.reset_index(drop=True, inplace=True)\n",
        "Y_tr.reset_index(drop=True, inplace=True)\n",
        "\n",
        "X_te.reset_index(drop=True, inplace=True)\n",
        "Y_te.reset_index(drop=True, inplace=True)"
      ],
      "execution_count": null,
      "outputs": []
    },
    {
      "cell_type": "code",
      "metadata": {
        "id": "w9W1_tUDc5HJ"
      },
      "source": [
        "# Praproses (jika ada)\n",
        "X_tr_encoded_cv = X_tr.copy()\n",
        "X_te_encoded_cv = X_te.copy()\n",
        "\n",
        "X_tr_encoded_cv[~X_tr_encoded_cv['Policy_Sales_Channel'].isin([152.0, 26.0, 124.0, 160.0])] = 999.0\n",
        "X_te_encoded_cv[~X_te_encoded_cv['Policy_Sales_Channel'].isin([152.0, 26.0, 124.0, 160.0])] = 999.0\n",
        "\n",
        "# Buat df untuk akses ke 'Response'\n",
        "df_tr_encoded_cv = pd.concat([X_tr_encoded_cv, Y_tr], axis=1)\n",
        "df_te_encoded_cv = pd.concat([X_te_encoded_cv, Y_te], axis=1)"
      ],
      "execution_count": null,
      "outputs": []
    },
    {
      "cell_type": "code",
      "metadata": {
        "colab": {
          "base_uri": "https://localhost:8080/"
        },
        "id": "1bhoKGT8CNxl",
        "outputId": "5e581354-59b1-4749-8a9c-df5c64202a21"
      },
      "source": [
        "# Di mean encoding CV\n",
        "to_mean_encode_cv = ['Policy_Sales_Channel', 'Gender', 'Vehicle_Age', 'Vehicle_Damage']\n",
        "for col in to_mean_encode_cv:\n",
        "\n",
        "    alpha = 10\n",
        "    means_global = df_tr_encoded_cv['Response'].mean()\n",
        "    nrows_cat = df_tr_encoded_cv.groupby(col)['Response'].count()\n",
        "    means_cat = df_tr_encoded_cv.groupby(col)['Response'].mean()\n",
        "    means_cats_adj = (means_cat*nrows_cat + means_global*alpha) / (nrows_cat+alpha)\n",
        "\n",
        "    X_te_encoded_cv[col] = X_te_encoded_cv[col].map(means_cats_adj) # Test pake target global aja\n",
        "\n",
        "\n",
        "    skf = StratifiedKFold(n_splits=5, shuffle=True, random_state=28112020)     \n",
        "    for tr_ind, val_ind in skf.split(X_tr_encoded_cv, Y_tr):\n",
        "\n",
        "        # divide data\n",
        "        df_for_estimation, df_estimated = df_tr_encoded_cv.loc[tr_ind], df_tr_encoded_cv.iloc[val_ind]\n",
        "\n",
        "        # getting means on data for estimation (all folds except estimated)\n",
        "        nrows_cat = df_for_estimation.groupby(col)['Response'].count()\n",
        "        means_cat = df_for_estimation.groupby(col)['Response'].mean()\n",
        "        means_cats_adj = (means_cat*nrows_cat + means_global*alpha) / (nrows_cat+alpha)\n",
        "\n",
        "        # Mapping means to estimated fold\n",
        "        X_tr_encoded_cv[col].loc[val_ind] = df_estimated[col].map(means_cats_adj)\n",
        "\n",
        "\n",
        "X_tr_encoded_cv[to_mean_encode_cv] = X_tr_encoded_cv[to_mean_encode_cv].astype('float64')\n",
        "X_te_encoded_cv[to_mean_encode_cv] = X_te_encoded_cv[to_mean_encode_cv].astype('float64')"
      ],
      "execution_count": null,
      "outputs": [
        {
          "output_type": "stream",
          "text": [
            "/usr/local/lib/python3.6/dist-packages/pandas/core/indexing.py:670: SettingWithCopyWarning: \n",
            "A value is trying to be set on a copy of a slice from a DataFrame\n",
            "\n",
            "See the caveats in the documentation: https://pandas.pydata.org/pandas-docs/stable/user_guide/indexing.html#returning-a-view-versus-a-copy\n",
            "  iloc._setitem_with_indexer(indexer, value)\n",
            "/usr/local/lib/python3.6/dist-packages/pandas/core/indexing.py:670: SettingWithCopyWarning: \n",
            "A value is trying to be set on a copy of a slice from a DataFrame\n",
            "\n",
            "See the caveats in the documentation: https://pandas.pydata.org/pandas-docs/stable/user_guide/indexing.html#returning-a-view-versus-a-copy\n",
            "  iloc._setitem_with_indexer(indexer, value)\n",
            "/usr/local/lib/python3.6/dist-packages/pandas/core/indexing.py:670: SettingWithCopyWarning: \n",
            "A value is trying to be set on a copy of a slice from a DataFrame\n",
            "\n",
            "See the caveats in the documentation: https://pandas.pydata.org/pandas-docs/stable/user_guide/indexing.html#returning-a-view-versus-a-copy\n",
            "  iloc._setitem_with_indexer(indexer, value)\n",
            "/usr/local/lib/python3.6/dist-packages/pandas/core/indexing.py:670: SettingWithCopyWarning: \n",
            "A value is trying to be set on a copy of a slice from a DataFrame\n",
            "\n",
            "See the caveats in the documentation: https://pandas.pydata.org/pandas-docs/stable/user_guide/indexing.html#returning-a-view-versus-a-copy\n",
            "  iloc._setitem_with_indexer(indexer, value)\n"
          ],
          "name": "stderr"
        }
      ]
    },
    {
      "cell_type": "code",
      "metadata": {
        "id": "y7VaJXuFl8ZO"
      },
      "source": [
        "# # Bulan jadi kategori numerik\n",
        "# month_replace = {'January':1, \n",
        "#                  'February':2, \n",
        "#                  'March':3, \n",
        "#                  'April':4,\n",
        "#                  'May':5,\n",
        "#                  'June':6,\n",
        "#                  'July':7,\n",
        "#                  'August':8,\n",
        "#                  'September':9,\n",
        "#                  'October':10,\n",
        "#                  'November':11,\n",
        "#                  'December':12}\n",
        "# X_tr_encoded_cv['arrival_date_month'] = X_tr_encoded_cv['arrival_date_month'].replace(month_replace)\n",
        "# X_te_encoded_cv['arrival_date_month'] = X_te_encoded_cv['arrival_date_month'].replace(month_replace)\n",
        "\n",
        "\n",
        "# Hapus kolom yg missing > 30%\n",
        "to_delete = trainsumm[trainsumm['Missing%'] >= 30]['Var']\n",
        "X_tr_encoded_cv = X_tr_encoded_cv.drop(columns=to_delete)\n",
        "X_te_encoded_cv = X_te_encoded_cv.drop(columns=to_delete)\n",
        "\n",
        "\n",
        "# Hapus kolom yg terlalu banyak unik tapi tidak numerik\n",
        "to_delete_unique = ['id', 'Region_Code']\n",
        "X_tr_encoded_cv = X_tr_encoded_cv.drop(columns=to_delete_unique)\n",
        "X_te_encoded_cv = X_te_encoded_cv.drop(columns=to_delete_unique)"
      ],
      "execution_count": null,
      "outputs": []
    },
    {
      "cell_type": "markdown",
      "metadata": {
        "id": "x9OAR59uS-xO"
      },
      "source": [
        "### **XGBoost**"
      ]
    },
    {
      "cell_type": "code",
      "metadata": {
        "id": "w1HXIQm3TBC8"
      },
      "source": [
        "from xgboost import XGBClassifier\n",
        "from xgboost import XGBRegressor\n",
        "\n",
        "from sklearn.model_selection import StratifiedKFold # Classifier\n",
        "from sklearn.model_selection import KFold # Regressor\n",
        "\n",
        "#Metrics\n",
        "from sklearn.metrics import matthews_corrcoef # Classifier\n",
        "from sklearn.metrics import mean_squared_error # Regressor\n",
        "\n",
        "from sklearn.metrics import confusion_matrix\n",
        "from sklearn.metrics import ConfusionMatrixDisplay"
      ],
      "execution_count": null,
      "outputs": []
    },
    {
      "cell_type": "markdown",
      "metadata": {
        "id": "OTjgVO5XXSEm"
      },
      "source": [
        "### **Validation**"
      ]
    },
    {
      "cell_type": "markdown",
      "metadata": {
        "id": "BcIVqZpAXw7N"
      },
      "source": [
        "**Validation (Label Encoding)**"
      ]
    },
    {
      "cell_type": "code",
      "metadata": {
        "id": "wimkYBjgbYXL",
        "cellView": "form"
      },
      "source": [
        "#@title\n",
        "X_tr_factorized.reset_index(drop=True, inplace=True)\n",
        "Y_tr.reset_index(drop=True, inplace=True)\n",
        "\n",
        "rand_states = [28112020]\n",
        "rand_scores_tr = {}\n",
        "rand_scores_val = {}\n",
        "\n",
        "for r in rand_states:\n",
        "    scores_tr = []\n",
        "    scores_val = []\n",
        "\n",
        "    skf = StratifiedKFold(n_splits=2, random_state=r, shuffle=True) # Classification\n",
        "    # kf = KFold(n_splits=2) # Regression\n",
        "\n",
        "    for train_index, val_index in skf.split(X_tr_factorized, Y_tr): # Classification\n",
        "    # for train_index, val_index in kf.split(X_tr_factorized): # Regression\n",
        "        model = XGBClassifier(random_state=1234) # Classification\n",
        "        # model = XGBRegressor(random_state=1234) # Regression\n",
        "        model.fit(X_tr_factorized.loc[train_index], Y_tr.loc[train_index])\n",
        "\n",
        "        # Scoring pake matthew coefficient\n",
        "        Y_predtrain = model.predict(X_tr_factorized.loc[train_index])\n",
        "        Y_pred = model.predict(X_tr_factorized.loc[val_index])\n",
        "        scores_tr.append(mean_squared_error(Y_tr.loc[train_index], Y_predtrain, squared=False))\n",
        "        scores_val.append(mean_squared_error(Y_tr.loc[val_index], Y_pred, squared=False))\n",
        "\n",
        "    rand_scores_tr[r] = scores_tr\n",
        "    rand_scores_val[r] = scores_val\n",
        "\n",
        "    print(r, \"Train\", scores_tr)\n",
        "    print(r, \"Val  \", scores_val)\n",
        "    print('----Baseline----')\n",
        "\n",
        "print(\"Train: \", np.array(list(rand_scores_tr.values())).mean())\n",
        "print(\"Val  : \",np.array(list(rand_scores_val.values())).mean())"
      ],
      "execution_count": null,
      "outputs": []
    },
    {
      "cell_type": "code",
      "metadata": {
        "colab": {
          "base_uri": "https://localhost:8080/"
        },
        "id": "01isLKUXRqSJ",
        "outputId": "cbd729db-9de6-429e-d671-68f0fdbf626b"
      },
      "source": [
        "model = XGBClassifier(random_state=1234) # Classification\n",
        "model.fit(X_tr_factorized, Y_tr)\n",
        "\n",
        "Y_predtrain = model.predict(X_tr_factorized)\n",
        "Y_pred = model.predict(X_te_factorized)\n",
        "\n",
        "scores_tr = matthews_corrcoef(Y_tr, Y_predtrain)\n",
        "scores_val = matthews_corrcoef(Y_te, Y_pred)\n",
        "\n",
        "print('----Baseline----')\n",
        "\n",
        "print(\"Train: \", scores_tr)\n",
        "print(\"Val  : \", scores_val)"
      ],
      "execution_count": null,
      "outputs": [
        {
          "output_type": "stream",
          "text": [
            "----Baseline----\n",
            "Train:  0.019440807344107542\n",
            "Val  :  -0.002081903506589686\n"
          ],
          "name": "stdout"
        }
      ]
    },
    {
      "cell_type": "markdown",
      "metadata": {
        "id": "URMZrFWEgmTa"
      },
      "source": [
        "**Validation (Mean Encoding + alpha)**"
      ]
    },
    {
      "cell_type": "code",
      "metadata": {
        "id": "9cTg4dLV7m0I",
        "cellView": "form"
      },
      "source": [
        "#@title\n",
        "X_train_encoded.reset_index(drop=True, inplace=True)\n",
        "Y_train.reset_index(drop=True, inplace=True)\n",
        "\n",
        "rand_states = [28112020]\n",
        "rand_scores_train = {}\n",
        "rand_scores_val = {}\n",
        "\n",
        "for r in rand_states:\n",
        "    scores_train = []\n",
        "    scores_val = []\n",
        "\n",
        "    # skf = StratifiedKFold(n_splits=2, random_state=r, shuffle=True) # Classification\n",
        "    skf = StratifiedKFold(n_splits=2, random_state=r, shuffle=True) # Regression\n",
        "    kf = KFold(n_splits=2)\n",
        "\n",
        "    # for train_index, test_index in skf.split(X_train_encoded, Y_train):\n",
        "    for train_index, test_index in kf.split(X_train_encoded):\n",
        "        model = XGBRegressor(random_state=1234)\n",
        "        model.fit(X_train_encoded.loc[train_index], Y_train.loc[train_index])\n",
        "\n",
        "        # Scoring pake matthew coefficient\n",
        "        Y_predtrain = model.predict(X_train_encoded.loc[train_index])\n",
        "        Y_pred = model.predict(X_train_encoded.loc[test_index])\n",
        "        scores_train.append(mean_squared_error(Y_train.loc[train_index], Y_predtrain, squared=False))\n",
        "        scores_val.append(mean_squared_error(Y_train.loc[test_index], Y_pred, squared=False))\n",
        "\n",
        "    rand_scores_train[r] = scores_train\n",
        "    rand_scores_val[r] = scores_val\n",
        "\n",
        "    print(r, \"Train\", scores_train)\n",
        "    print(r, \"Test \", scores_val)\n",
        "    print('----Baseline----')\n",
        "\n",
        "print(\"Train: \", np.array(list(rand_scores_train.values())).mean())\n",
        "print(\"Test : \",np.array(list(rand_scores_val.values())).mean())"
      ],
      "execution_count": null,
      "outputs": []
    },
    {
      "cell_type": "code",
      "metadata": {
        "colab": {
          "base_uri": "https://localhost:8080/"
        },
        "id": "-xPlV_3wVQhu",
        "outputId": "f720bc3f-8b9a-480f-fe1f-b234ba2e776d"
      },
      "source": [
        "model = XGBClassifier(random_state=1234) # Classification\n",
        "model.fit(X_tr_encoded, Y_tr)\n",
        "\n",
        "Y_predtrain = model.predict(X_tr_encoded)\n",
        "Y_pred = model.predict(X_te_encoded)\n",
        "\n",
        "scores_tr = matthews_corrcoef(Y_tr, Y_predtrain)\n",
        "scores_val = matthews_corrcoef(Y_te, Y_pred)\n",
        "\n",
        "print('----Mean Encoding + Alpha----')\n",
        "\n",
        "print(\"Train: \", scores_tr)\n",
        "print(\"Val  : \", scores_val)"
      ],
      "execution_count": null,
      "outputs": [
        {
          "output_type": "stream",
          "text": [
            "----Mean Encoding + Alpha----\n",
            "Train:  0.01725417135141857\n",
            "Val  :  0.0053246641737706045\n"
          ],
          "name": "stdout"
        }
      ]
    },
    {
      "cell_type": "markdown",
      "metadata": {
        "id": "CY4DbJKngo9c"
      },
      "source": [
        "**Validation (Mean Encoding CV + alpha)**"
      ]
    },
    {
      "cell_type": "code",
      "metadata": {
        "id": "eRkiKhYzgqNj",
        "cellView": "form"
      },
      "source": [
        "#@title\n",
        "X_train_encoded_cv.reset_index(drop=True, inplace=True)\n",
        "Y_train.reset_index(drop=True, inplace=True)\n",
        "\n",
        "rand_states = [28112020]\n",
        "rand_scores_train = {}\n",
        "rand_scores_val = {}\n",
        "\n",
        "for r in rand_states:\n",
        "    scores_train = []\n",
        "    scores_val = []\n",
        "\n",
        "    # skf = StratifiedKFold(n_splits=2, random_state=r, shuffle=True) # Classification\n",
        "    skf = StratifiedKFold(n_splits=2, random_state=r, shuffle=True) # Regression\n",
        "    kf = KFold(n_splits=2)\n",
        "\n",
        "    # for train_index, test_index in skf.split(X_train_encoded_cv, Y_train):\n",
        "    for train_index, test_index in kf.split(X_train_encoded_cv):\n",
        "        model = XGBRegressor(random_state=1234)\n",
        "        model.fit(X_train_encoded_cv.loc[train_index], Y_train.loc[train_index])\n",
        "\n",
        "        # Scoring pake matthew coefficient\n",
        "        Y_predtrain = model.predict(X_train_encoded_cv.loc[train_index])\n",
        "        Y_pred = model.predict(X_train_encoded_cv.loc[test_index])\n",
        "        scores_train.append(mean_squared_error(Y_train.loc[train_index], Y_predtrain, squared=False))\n",
        "        scores_val.append(mean_squared_error(Y_train.loc[test_index], Y_pred, squared=False))\n",
        "\n",
        "    rand_scores_train[r] = scores_train\n",
        "    rand_scores_val[r] = scores_val\n",
        "\n",
        "    print(r, \"Train\", scores_train)\n",
        "    print(r, \"Test \", scores_val)\n",
        "    print('----Baseline----')\n",
        "\n",
        "print(\"Train: \", np.array(list(rand_scores_train.values())).mean())\n",
        "print(\"Test : \",np.array(list(rand_scores_val.values())).mean())"
      ],
      "execution_count": null,
      "outputs": []
    },
    {
      "cell_type": "code",
      "metadata": {
        "colab": {
          "base_uri": "https://localhost:8080/"
        },
        "id": "eAWd76wEVfod",
        "outputId": "5f60c7c1-62b4-40f6-dccf-aed4865f2430"
      },
      "source": [
        "model = XGBClassifier(random_state=1234) # Classification\n",
        "model.fit(X_tr_encoded_cv, Y_tr)\n",
        "\n",
        "Y_predtrain = model.predict(X_tr_encoded_cv)\n",
        "Y_pred = model.predict(X_te_encoded_cv)\n",
        "\n",
        "scores_tr = matthews_corrcoef(Y_tr, Y_predtrain)\n",
        "scores_val = matthews_corrcoef(Y_te, Y_pred)\n",
        "\n",
        "print('----Mean Encoding + CV + Alpha----')\n",
        "\n",
        "print(\"Train: \", scores_tr)\n",
        "print(\"Val  : \", scores_val)"
      ],
      "execution_count": null,
      "outputs": [
        {
          "output_type": "stream",
          "text": [
            "----Mean Encoding + CV + Alpha----\n",
            "Train:  0.019879790066312127\n",
            "Val  :  0.0053246641737706045\n"
          ],
          "name": "stdout"
        }
      ]
    },
    {
      "cell_type": "markdown",
      "metadata": {
        "id": "__95VU8sj7zF"
      },
      "source": [
        "### **Submit**"
      ]
    },
    {
      "cell_type": "code",
      "metadata": {
        "colab": {
          "base_uri": "https://localhost:8080/"
        },
        "id": "T5pdlXNUj7zF",
        "outputId": "85f05d72-13c4-4898-95e2-c9d3efb082bf"
      },
      "source": [
        "X_train_factorized.reset_index(drop=True, inplace=True)\n",
        "Y_train.reset_index(drop=True, inplace=True)\n",
        "\n",
        "model = XGBClassifier(random_state=1234)\n",
        "model.fit(X_train_factorized, Y_train)\n",
        "\n",
        "# Scoring pake matthew coefficient\n",
        "Y_pred = model.predict(X_test_factorized)\n",
        "Y_pred.to_csv('')"
      ],
      "execution_count": null,
      "outputs": [
        {
          "output_type": "stream",
          "text": [
            "Baseline: 0.6645578040144313\n",
            "Mean Encoding: 0.6747142800755542\n",
            "Mean Encoding CV: 0.6768000304800589\n"
          ],
          "name": "stdout"
        }
      ]
    },
    {
      "cell_type": "code",
      "metadata": {
        "id": "-tAVIXOnkGNj"
      },
      "source": [
        "X_train_encoded.reset_index(drop=True, inplace=True)\n",
        "Y_train.reset_index(drop=True, inplace=True)\n",
        "\n",
        "model = XGBClassifier(random_state=1234)\n",
        "model.fit(X_train_encoded, Y_train)\n",
        "\n",
        "# Scoring pake matthew coefficient\n",
        "Y_pred = model.predict(X_test_encoded)\n",
        "Y_pred.to_csv('')"
      ],
      "execution_count": null,
      "outputs": []
    },
    {
      "cell_type": "code",
      "metadata": {
        "id": "VU3op_y7kHI3"
      },
      "source": [
        "X_train_encoded_cv.reset_index(drop=True, inplace=True)\n",
        "Y_train.reset_index(drop=True, inplace=True)\n",
        "\n",
        "model = XGBClassifier(random_state=1234)\n",
        "model.fit(X_train_encoded_cv, Y_train)\n",
        "\n",
        "# Scoring pake matthew coefficient\n",
        "Y_pred = model.predict(X_test_encoded_cv)\n",
        "Y_pred.to_csv('')"
      ],
      "execution_count": null,
      "outputs": []
    },
    {
      "cell_type": "markdown",
      "metadata": {
        "id": "MoNPrQygY8F2"
      },
      "source": [
        "### **Test**"
      ]
    },
    {
      "cell_type": "markdown",
      "metadata": {
        "id": "TgQAtQOvX0yz"
      },
      "source": [
        "**Test (Label Encoding)**"
      ]
    },
    {
      "cell_type": "code",
      "metadata": {
        "colab": {
          "base_uri": "https://localhost:8080/"
        },
        "id": "sbEetSCsWJ38",
        "outputId": "1aa1b3fd-e359-48b5-b31e-a567c5af4b66"
      },
      "source": [
        "# Praproses (jika ada)\n",
        "X_train_factorized = X_train.copy()\n",
        "X_test_factorized = X_test.copy()\n",
        "\n",
        "# Buat df untuk akses ke 'Response'\n",
        "df_train_factorized = pd.concat([X_train_factorized, Y_train], axis=1)\n",
        "df_test_factorized = pd.concat([X_test_factorized, Y_test], axis=1)\n",
        "\n",
        "\n",
        "# Difaktorisasi\n",
        "to_factorize_cols = ['Gender', 'Vehicle_Damage']\n",
        "for col in to_factorize_cols:\n",
        "    X_train_factorized[col] = pd.factorize(X_train[col], sort=True)[0]\n",
        "    X_test_factorized[col] = pd.factorize(X_test[col], sort=True)[0]\n",
        "\n",
        "# Post-proses\n",
        "X_train_factorized['Vehicle_Age'] = X_train_factorized['Vehicle_Age'].replace({'< 1 Year':0,\n",
        "                                                                         '1-2 Year':1,\n",
        "                                                                         '> 2 Years':2})\n",
        "X_test_factorized['Vehicle_Age'] = X_test_factorized['Vehicle_Age'].replace({'< 1 Year':0,\n",
        "                                                                         '1-2 Year':1,\n",
        "                                                                         '> 2 Years':2})\n",
        "\n",
        "\n",
        "# Hapus kolom yg missing > 30%\n",
        "trainsumm = dataset_summary(X_train)\n",
        "to_delete = trainsumm[trainsumm['Missing%'] >= 30]['Var']\n",
        "X_train_factorized = X_train_factorized.drop(columns=to_delete)\n",
        "X_test_factorized = X_test_factorized.drop(columns=to_delete)\n",
        "\n",
        "# Hapus kolom yg terlalu banyak unik tapi tidak numerik\n",
        "to_delete_unique = ['id', 'Policy_Sales_Channel', 'Region_Code']\n",
        "X_train_factorized = X_train_factorized.drop(columns=to_delete_unique)\n",
        "X_test_factorized = X_test_factorized.drop(columns=to_delete_unique)"
      ],
      "execution_count": null,
      "outputs": [
        {
          "output_type": "stream",
          "text": [
            "Dataset dimension : (190554, 11)\n"
          ],
          "name": "stdout"
        }
      ]
    },
    {
      "cell_type": "code",
      "metadata": {
        "colab": {
          "base_uri": "https://localhost:8080/"
        },
        "id": "R-2nfCP1WJ38",
        "outputId": "afa7530b-ff36-40ab-a97f-153ed2861894"
      },
      "source": [
        "model = XGBClassifier(random_state=1234) # Classification\n",
        "model.fit(X_train_factorized, Y_train)\n",
        "\n",
        "Y_predtrain = model.predict(X_train_factorized)\n",
        "Y_pred = model.predict(X_test_factorized)\n",
        "\n",
        "scores_train = matthews_corrcoef(Y_train, Y_predtrain)\n",
        "scores_val = matthews_corrcoef(Y_test, Y_pred)\n",
        "\n",
        "print('----Label Encoding----')\n",
        "\n",
        "print(\"Train: \", scores_train)\n",
        "print(\"Val  : \", scores_val)"
      ],
      "execution_count": null,
      "outputs": [
        {
          "output_type": "stream",
          "text": [
            "----Mean Encoding + CV + Alpha----\n",
            "Train:  0.0\n",
            "Val  :  0.0\n"
          ],
          "name": "stdout"
        },
        {
          "output_type": "stream",
          "text": [
            "/usr/local/lib/python3.6/dist-packages/sklearn/metrics/_classification.py:900: RuntimeWarning: invalid value encountered in double_scalars\n",
            "  mcc = cov_ytyp / np.sqrt(cov_ytyt * cov_ypyp)\n"
          ],
          "name": "stderr"
        }
      ]
    },
    {
      "cell_type": "markdown",
      "metadata": {
        "id": "hUCaOcKMXFj7"
      },
      "source": [
        "**Test (Mean Encode + Alpha)**"
      ]
    },
    {
      "cell_type": "code",
      "metadata": {
        "id": "XhXABOqwXTPV"
      },
      "source": [
        "# Praproses (jika ada)\n",
        "X_train_encoded = X_train.copy()\n",
        "X_test_encoded = X_test.copy()\n",
        "\n",
        "X_train_encoded[~X_train_encoded['Policy_Sales_Channel'].isin([152.0, 26.0, 124.0, 160.0])] = 999.0\n",
        "X_test_encoded[~X_test_encoded['Policy_Sales_Channel'].isin([152.0, 26.0, 124.0, 160.0])] = 999.0\n",
        "\n",
        "# Buat df untuk akses ke 'Response'\n",
        "df_train_encoded = pd.concat([X_train_encoded, Y_train], axis=1)\n",
        "df_test_encoded = pd.concat([X_test_encoded, Y_test], axis=1)\n",
        "\n",
        "\n",
        "# Di mean encoding\n",
        "to_mean_encode = ['Policy_Sales_Channel', 'Gender', 'Vehicle_Age', 'Vehicle_Damage']\n",
        "for col in to_mean_encode:\n",
        "\n",
        "    alpha = 10\n",
        "    means_global = df_train_encoded['Response'].mean()\n",
        "    nrows_cat = df_train_encoded.groupby(col)['Response'].count()\n",
        "    means_cat = df_train_encoded.groupby(col)['Response'].mean()\n",
        "    means_cats_adj = (means_cat*nrows_cat + means_global*alpha) / (nrows_cat+alpha)\n",
        "\n",
        "    X_train_encoded[col] = X_train_encoded[col].map(means_cats_adj)\n",
        "    X_test_encoded[col] = X_test_encoded[col].map(means_cats_adj)\n",
        "\n",
        "X_train_encoded[to_mean_encode] = X_train_encoded[to_mean_encode].astype('float64')\n",
        "X_test_encoded[to_mean_encode] = X_test_encoded[to_mean_encode].astype('float64')\n",
        "\n",
        "\n",
        "# Hapus kolom yg missing > 30%\n",
        "to_delete = trainsumm[trainsumm['Missing%'] >= 30]['Var']\n",
        "X_train_encoded = X_train_encoded.drop(columns=to_delete)\n",
        "X_test_encoded = X_test_encoded.drop(columns=to_delete)\n",
        "\n",
        "# Hapus kolom yg terlalu banyak unik tapi tidak numerik\n",
        "to_delete_unique = ['id', 'Region_Code']\n",
        "X_train_encoded = X_train_encoded.drop(columns=to_delete_unique)\n",
        "X_test_encoded = X_test_encoded.drop(columns=to_delete_unique)"
      ],
      "execution_count": null,
      "outputs": []
    },
    {
      "cell_type": "code",
      "metadata": {
        "colab": {
          "base_uri": "https://localhost:8080/"
        },
        "id": "pDwjO5bXXTPV",
        "outputId": "a8d4642e-1bf6-423a-8814-d3874d3caee3"
      },
      "source": [
        "model = XGBClassifier(random_state=1234) # Classification\n",
        "model.fit(X_train_encoded, Y_train)\n",
        "\n",
        "Y_predtrain = model.predict(X_train_encoded)\n",
        "Y_pred = model.predict(X_test_encoded)\n",
        "\n",
        "scores_train = matthews_corrcoef(Y_train, Y_predtrain)\n",
        "scores_val = matthews_corrcoef(Y_test, Y_pred)\n",
        "\n",
        "print('----Mean Encoding + Alpha----')\n",
        "\n",
        "print(\"Train: \", scores_train)\n",
        "print(\"Val  : \", scores_val)"
      ],
      "execution_count": null,
      "outputs": [
        {
          "output_type": "stream",
          "text": [
            "----Mean Encoding + CV + Alpha----\n",
            "Train:  0.010544196449169799\n",
            "Val  :  0.017107671153308964\n"
          ],
          "name": "stdout"
        }
      ]
    },
    {
      "cell_type": "markdown",
      "metadata": {
        "id": "syrUsDRTX4qf"
      },
      "source": [
        "**Test (Mean Encode + Alpha + CV)**"
      ]
    },
    {
      "cell_type": "code",
      "metadata": {
        "colab": {
          "base_uri": "https://localhost:8080/"
        },
        "id": "1Y0wpaF-YGXv",
        "outputId": "d7da5d8c-d683-4bc2-b0af-e89fad43e3de"
      },
      "source": [
        "# Praproses (jika ada)\n",
        "X_train_encoded_cv = X_train.copy()\n",
        "X_test_encoded_cv = X_test.copy()\n",
        "\n",
        "X_train_encoded_cv[~X_train_encoded_cv['Policy_Sales_Channel'].isin([152.0, 26.0, 124.0, 160.0])] = 999.0\n",
        "X_test_encoded_cv[~X_test_encoded_cv['Policy_Sales_Channel'].isin([152.0, 26.0, 124.0, 160.0])] = 999.0\n",
        "\n",
        "# Buat df untuk akses ke 'Response'\n",
        "df_train_encoded_cv = pd.concat([X_train_encoded_cv, Y_train], axis=1)\n",
        "df_test_encoded_cv = pd.concat([X_test_encoded_cv, Y_test], axis=1)\n",
        "\n",
        "\n",
        "# Di mean encoding CV\n",
        "to_mean_encode_cv = ['Policy_Sales_Channel', 'Gender', 'Vehicle_Age', 'Vehicle_Damage']\n",
        "for col in to_mean_encode_cv:\n",
        "\n",
        "    alpha = 10\n",
        "    means_global = df_train_encoded_cv['Response'].mean()\n",
        "    nrows_cat = df_train_encoded_cv.groupby(col)['Response'].count()\n",
        "    means_cat = df_train_encoded_cv.groupby(col)['Response'].mean()\n",
        "    means_cats_adj = (means_cat*nrows_cat + means_global*alpha) / (nrows_cat+alpha)\n",
        "\n",
        "    X_test_encoded_cv[col] = X_test_encoded_cv[col].map(means_cats_adj) # Test pake target global aja\n",
        "\n",
        "\n",
        "    skf = StratifiedKFold(n_splits=5, shuffle=True, random_state=28112020)     \n",
        "    for tr_ind, val_ind in skf.split(X_train_encoded_cv, Y_train):\n",
        "\n",
        "        # divide data\n",
        "        df_for_estimation, df_estimated = df_train_encoded_cv.loc[tr_ind], df_train_encoded_cv.iloc[val_ind]\n",
        "\n",
        "        # getting means on data for estimation (all folds except estimated)\n",
        "        nrows_cat = df_for_estimation.groupby(col)['Response'].count()\n",
        "        means_cat = df_for_estimation.groupby(col)['Response'].mean()\n",
        "        means_cats_adj = (means_cat*nrows_cat + means_global*alpha) / (nrows_cat+alpha)\n",
        "\n",
        "        # Mapping means to estimated fold\n",
        "        X_train_encoded_cv[col].loc[val_ind] = df_estimated[col].map(means_cats_adj)\n",
        "\n",
        "\n",
        "X_train_encoded_cv[to_mean_encode_cv] = X_train_encoded_cv[to_mean_encode_cv].astype('float64')\n",
        "X_test_encoded_cv[to_mean_encode_cv] = X_test_encoded_cv[to_mean_encode_cv].astype('float64')\n",
        "\n",
        "\n",
        "# Hapus kolom yg missing > 30%\n",
        "to_delete = trainsumm[trainsumm['Missing%'] >= 30]['Var']\n",
        "X_train_encoded_cv = X_train_encoded_cv.drop(columns=to_delete)\n",
        "X_test_encoded_cv = X_test_encoded_cv.drop(columns=to_delete)\n",
        "\n",
        "\n",
        "# Hapus kolom yg terlalu banyak unik tapi tidak numerik\n",
        "to_delete_unique = ['id', 'Region_Code']\n",
        "X_train_encoded_cv = X_train_encoded_cv.drop(columns=to_delete_unique)\n",
        "X_test_encoded_cv = X_test_encoded_cv.drop(columns=to_delete_unique)"
      ],
      "execution_count": null,
      "outputs": [
        {
          "output_type": "stream",
          "text": [
            "/usr/local/lib/python3.6/dist-packages/pandas/core/indexing.py:670: SettingWithCopyWarning: \n",
            "A value is trying to be set on a copy of a slice from a DataFrame\n",
            "\n",
            "See the caveats in the documentation: https://pandas.pydata.org/pandas-docs/stable/user_guide/indexing.html#returning-a-view-versus-a-copy\n",
            "  iloc._setitem_with_indexer(indexer, value)\n",
            "/usr/local/lib/python3.6/dist-packages/pandas/core/indexing.py:670: SettingWithCopyWarning: \n",
            "A value is trying to be set on a copy of a slice from a DataFrame\n",
            "\n",
            "See the caveats in the documentation: https://pandas.pydata.org/pandas-docs/stable/user_guide/indexing.html#returning-a-view-versus-a-copy\n",
            "  iloc._setitem_with_indexer(indexer, value)\n",
            "/usr/local/lib/python3.6/dist-packages/pandas/core/indexing.py:670: SettingWithCopyWarning: \n",
            "A value is trying to be set on a copy of a slice from a DataFrame\n",
            "\n",
            "See the caveats in the documentation: https://pandas.pydata.org/pandas-docs/stable/user_guide/indexing.html#returning-a-view-versus-a-copy\n",
            "  iloc._setitem_with_indexer(indexer, value)\n",
            "/usr/local/lib/python3.6/dist-packages/pandas/core/indexing.py:670: SettingWithCopyWarning: \n",
            "A value is trying to be set on a copy of a slice from a DataFrame\n",
            "\n",
            "See the caveats in the documentation: https://pandas.pydata.org/pandas-docs/stable/user_guide/indexing.html#returning-a-view-versus-a-copy\n",
            "  iloc._setitem_with_indexer(indexer, value)\n"
          ],
          "name": "stderr"
        }
      ]
    },
    {
      "cell_type": "code",
      "metadata": {
        "colab": {
          "base_uri": "https://localhost:8080/"
        },
        "id": "8-xJ5-FuYSSK",
        "outputId": "aecf2007-8a8d-40d6-f8a1-afdd9d9f32bd"
      },
      "source": [
        "model = XGBClassifier(random_state=1234) # Classification\n",
        "model.fit(X_train_encoded_cv, Y_train)\n",
        "\n",
        "Y_predtrain = model.predict(X_train_encoded_cv)\n",
        "Y_pred = model.predict(X_test_encoded_cv)\n",
        "\n",
        "scores_train = matthews_corrcoef(Y_train, Y_predtrain)\n",
        "scores_val = matthews_corrcoef(Y_test, Y_pred)\n",
        "\n",
        "print('----Mean Encoding + Alpha----')\n",
        "\n",
        "print(\"Train: \", scores_train)\n",
        "print(\"Val  : \", scores_val)"
      ],
      "execution_count": null,
      "outputs": [
        {
          "output_type": "stream",
          "text": [
            "----Mean Encoding + Alpha----\n",
            "Train:  0.006795195606424971\n",
            "Val  :  0.0037035909231529517\n"
          ],
          "name": "stdout"
        }
      ]
    },
    {
      "cell_type": "code",
      "metadata": {
        "id": "YF__1N-kYSYm"
      },
      "source": [
        ""
      ],
      "execution_count": null,
      "outputs": []
    },
    {
      "cell_type": "code",
      "metadata": {
        "id": "GcC0tH7lYSXF"
      },
      "source": [
        ""
      ],
      "execution_count": null,
      "outputs": []
    },
    {
      "cell_type": "code",
      "metadata": {
        "id": "GWSMECxuYSVO"
      },
      "source": [
        ""
      ],
      "execution_count": null,
      "outputs": []
    },
    {
      "cell_type": "code",
      "metadata": {
        "id": "JMm7PG-1YdPB"
      },
      "source": [
        ""
      ],
      "execution_count": null,
      "outputs": []
    },
    {
      "cell_type": "code",
      "metadata": {
        "id": "tnNp1WdxYdNE"
      },
      "source": [
        ""
      ],
      "execution_count": null,
      "outputs": []
    },
    {
      "cell_type": "code",
      "metadata": {
        "id": "1SCWEkI3YdK1"
      },
      "source": [
        ""
      ],
      "execution_count": null,
      "outputs": []
    },
    {
      "cell_type": "code",
      "metadata": {
        "id": "x39J6oU8YdIs"
      },
      "source": [
        ""
      ],
      "execution_count": null,
      "outputs": []
    },
    {
      "cell_type": "code",
      "metadata": {
        "id": "fVFQotuHYdGp"
      },
      "source": [
        ""
      ],
      "execution_count": null,
      "outputs": []
    },
    {
      "cell_type": "code",
      "metadata": {
        "id": "mrIG_CHfYSQP"
      },
      "source": [
        ""
      ],
      "execution_count": null,
      "outputs": []
    },
    {
      "cell_type": "code",
      "metadata": {
        "colab": {
          "base_uri": "https://localhost:8080/"
        },
        "id": "J5ZpiviWX0Fv",
        "outputId": "ba15ab9c-e5e8-47d9-b042-d9c8c8da0a81"
      },
      "source": [
        "X_train_factorized.reset_index(drop=True, inplace=True)\n",
        "Y_train.reset_index(drop=True, inplace=True)\n",
        "\n",
        "model = XGBRegressor(random_state=1234)\n",
        "model.fit(X_train_factorized, Y_train)\n",
        "\n",
        "# Scoring pake matthew coefficient\n",
        "Y_pred = model.predict(X_test_factorized)\n",
        "print(\"Baseline:\", mean_squared_error(Y_test, Y_pred, squared=False))\n",
        "\n",
        "\n",
        "\n",
        "X_train_encoded.reset_index(drop=True, inplace=True)\n",
        "Y_train.reset_index(drop=True, inplace=True)\n",
        "\n",
        "model = XGBRegressor(random_state=1234)\n",
        "model.fit(X_train_encoded, Y_train)\n",
        "\n",
        "# Scoring pake matthew coefficient\n",
        "Y_pred = model.predict(X_test_encoded)\n",
        "print(\"Mean Encoding:\", mean_squared_error(Y_test, Y_pred, squared=False))\n",
        "\n",
        "\n",
        "\n",
        "X_train_encoded_cv.reset_index(drop=True, inplace=True)\n",
        "Y_train.reset_index(drop=True, inplace=True)\n",
        "\n",
        "model = XGBRegressor(random_state=1234)\n",
        "model.fit(X_train_encoded_cv, Y_train)\n",
        "\n",
        "# Scoring pake matthew coefficient\n",
        "Y_pred = model.predict(X_test_encoded_cv)\n",
        "print(\"Mean Encoding CV:\", mean_squared_error(Y_test, Y_pred, squared=False))"
      ],
      "execution_count": null,
      "outputs": [
        {
          "output_type": "stream",
          "text": [
            "[15:23:32] WARNING: /workspace/src/objective/regression_obj.cu:152: reg:linear is now deprecated in favor of reg:squarederror.\n",
            "Baseline: 517.1187877608266\n",
            "[15:23:41] WARNING: /workspace/src/objective/regression_obj.cu:152: reg:linear is now deprecated in favor of reg:squarederror.\n",
            "Mean Encoding: 502.62569150384604\n",
            "[15:23:50] WARNING: /workspace/src/objective/regression_obj.cu:152: reg:linear is now deprecated in favor of reg:squarederror.\n",
            "Mean Encoding CV: 500.7945022102557\n"
          ],
          "name": "stdout"
        }
      ]
    }
  ]
}